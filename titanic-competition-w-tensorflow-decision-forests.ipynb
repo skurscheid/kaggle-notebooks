{
 "cells": [
  {
   "cell_type": "markdown",
   "id": "d5ad1e49",
   "metadata": {
    "papermill": {
     "duration": 0.00991,
     "end_time": "2024-02-14T10:46:16.537767",
     "exception": false,
     "start_time": "2024-02-14T10:46:16.527857",
     "status": "completed"
    },
    "tags": []
   },
   "source": [
    "# Titanic competition with TensorFlow Decision Forests\n",
    "\n",
    "This notebook will take you through the steps needed to train a baseline Gradient Boosted Trees Model using TensorFlow Decision Forests and creating a submission on the Titanic competition. \n",
    "\n",
    "This notebook shows:\n",
    "\n",
    "1. How to do some basic pre-processing. For example, the passenger names will be tokenized, and ticket names will be splitted in parts.\n",
    "1. How to train a Gradient Boosted Trees (GBT) with default parameters\n",
    "1. How to train a GBT with improved default parameters\n",
    "1. How to tune the parameters of a GBTs\n",
    "1. How to train and ensemble many GBTs"
   ]
  },
  {
   "cell_type": "markdown",
   "id": "1b5b8eb7",
   "metadata": {
    "papermill": {
     "duration": 0.008253,
     "end_time": "2024-02-14T10:46:16.554807",
     "exception": false,
     "start_time": "2024-02-14T10:46:16.546554",
     "status": "completed"
    },
    "tags": []
   },
   "source": [
    "# Imports dependencies"
   ]
  },
  {
   "cell_type": "code",
   "execution_count": 1,
   "id": "1f1eec03",
   "metadata": {
    "execution": {
     "iopub.execute_input": "2024-02-14T10:46:16.575604Z",
     "iopub.status.busy": "2024-02-14T10:46:16.574705Z",
     "iopub.status.idle": "2024-02-14T10:46:27.794640Z",
     "shell.execute_reply": "2024-02-14T10:46:27.793454Z"
    },
    "papermill": {
     "duration": 11.234152,
     "end_time": "2024-02-14T10:46:27.798757",
     "exception": false,
     "start_time": "2024-02-14T10:46:16.564605",
     "status": "completed"
    },
    "tags": []
   },
   "outputs": [
    {
     "name": "stdout",
     "output_type": "stream",
     "text": [
      "Found TF-DF 1.2.0\n"
     ]
    }
   ],
   "source": [
    "import numpy as np\n",
    "import pandas as pd\n",
    "import os\n",
    "\n",
    "import tensorflow as tf\n",
    "import tensorflow_decision_forests as tfdf\n",
    "\n",
    "print(f\"Found TF-DF {tfdf.__version__}\")"
   ]
  },
  {
   "cell_type": "markdown",
   "id": "b02e37bd",
   "metadata": {
    "papermill": {
     "duration": 0.008278,
     "end_time": "2024-02-14T10:46:27.815863",
     "exception": false,
     "start_time": "2024-02-14T10:46:27.807585",
     "status": "completed"
    },
    "tags": []
   },
   "source": [
    "# Load dataset"
   ]
  },
  {
   "cell_type": "code",
   "execution_count": 2,
   "id": "4d169f26",
   "metadata": {
    "execution": {
     "iopub.execute_input": "2024-02-14T10:46:27.837182Z",
     "iopub.status.busy": "2024-02-14T10:46:27.835236Z",
     "iopub.status.idle": "2024-02-14T10:46:27.908168Z",
     "shell.execute_reply": "2024-02-14T10:46:27.906691Z"
    },
    "papermill": {
     "duration": 0.086835,
     "end_time": "2024-02-14T10:46:27.911465",
     "exception": false,
     "start_time": "2024-02-14T10:46:27.824630",
     "status": "completed"
    },
    "tags": []
   },
   "outputs": [
    {
     "data": {
      "text/html": [
       "<div>\n",
       "<style scoped>\n",
       "    .dataframe tbody tr th:only-of-type {\n",
       "        vertical-align: middle;\n",
       "    }\n",
       "\n",
       "    .dataframe tbody tr th {\n",
       "        vertical-align: top;\n",
       "    }\n",
       "\n",
       "    .dataframe thead th {\n",
       "        text-align: right;\n",
       "    }\n",
       "</style>\n",
       "<table border=\"1\" class=\"dataframe\">\n",
       "  <thead>\n",
       "    <tr style=\"text-align: right;\">\n",
       "      <th></th>\n",
       "      <th>PassengerId</th>\n",
       "      <th>Survived</th>\n",
       "      <th>Pclass</th>\n",
       "      <th>Name</th>\n",
       "      <th>Sex</th>\n",
       "      <th>Age</th>\n",
       "      <th>SibSp</th>\n",
       "      <th>Parch</th>\n",
       "      <th>Ticket</th>\n",
       "      <th>Fare</th>\n",
       "      <th>Cabin</th>\n",
       "      <th>Embarked</th>\n",
       "    </tr>\n",
       "  </thead>\n",
       "  <tbody>\n",
       "    <tr>\n",
       "      <th>0</th>\n",
       "      <td>1</td>\n",
       "      <td>0</td>\n",
       "      <td>3</td>\n",
       "      <td>Braund, Mr. Owen Harris</td>\n",
       "      <td>male</td>\n",
       "      <td>22.0</td>\n",
       "      <td>1</td>\n",
       "      <td>0</td>\n",
       "      <td>A/5 21171</td>\n",
       "      <td>7.2500</td>\n",
       "      <td>NaN</td>\n",
       "      <td>S</td>\n",
       "    </tr>\n",
       "    <tr>\n",
       "      <th>1</th>\n",
       "      <td>2</td>\n",
       "      <td>1</td>\n",
       "      <td>1</td>\n",
       "      <td>Cumings, Mrs. John Bradley (Florence Briggs Th...</td>\n",
       "      <td>female</td>\n",
       "      <td>38.0</td>\n",
       "      <td>1</td>\n",
       "      <td>0</td>\n",
       "      <td>PC 17599</td>\n",
       "      <td>71.2833</td>\n",
       "      <td>C85</td>\n",
       "      <td>C</td>\n",
       "    </tr>\n",
       "    <tr>\n",
       "      <th>2</th>\n",
       "      <td>3</td>\n",
       "      <td>1</td>\n",
       "      <td>3</td>\n",
       "      <td>Heikkinen, Miss. Laina</td>\n",
       "      <td>female</td>\n",
       "      <td>26.0</td>\n",
       "      <td>0</td>\n",
       "      <td>0</td>\n",
       "      <td>STON/O2. 3101282</td>\n",
       "      <td>7.9250</td>\n",
       "      <td>NaN</td>\n",
       "      <td>S</td>\n",
       "    </tr>\n",
       "    <tr>\n",
       "      <th>3</th>\n",
       "      <td>4</td>\n",
       "      <td>1</td>\n",
       "      <td>1</td>\n",
       "      <td>Futrelle, Mrs. Jacques Heath (Lily May Peel)</td>\n",
       "      <td>female</td>\n",
       "      <td>35.0</td>\n",
       "      <td>1</td>\n",
       "      <td>0</td>\n",
       "      <td>113803</td>\n",
       "      <td>53.1000</td>\n",
       "      <td>C123</td>\n",
       "      <td>S</td>\n",
       "    </tr>\n",
       "    <tr>\n",
       "      <th>4</th>\n",
       "      <td>5</td>\n",
       "      <td>0</td>\n",
       "      <td>3</td>\n",
       "      <td>Allen, Mr. William Henry</td>\n",
       "      <td>male</td>\n",
       "      <td>35.0</td>\n",
       "      <td>0</td>\n",
       "      <td>0</td>\n",
       "      <td>373450</td>\n",
       "      <td>8.0500</td>\n",
       "      <td>NaN</td>\n",
       "      <td>S</td>\n",
       "    </tr>\n",
       "    <tr>\n",
       "      <th>5</th>\n",
       "      <td>6</td>\n",
       "      <td>0</td>\n",
       "      <td>3</td>\n",
       "      <td>Moran, Mr. James</td>\n",
       "      <td>male</td>\n",
       "      <td>NaN</td>\n",
       "      <td>0</td>\n",
       "      <td>0</td>\n",
       "      <td>330877</td>\n",
       "      <td>8.4583</td>\n",
       "      <td>NaN</td>\n",
       "      <td>Q</td>\n",
       "    </tr>\n",
       "    <tr>\n",
       "      <th>6</th>\n",
       "      <td>7</td>\n",
       "      <td>0</td>\n",
       "      <td>1</td>\n",
       "      <td>McCarthy, Mr. Timothy J</td>\n",
       "      <td>male</td>\n",
       "      <td>54.0</td>\n",
       "      <td>0</td>\n",
       "      <td>0</td>\n",
       "      <td>17463</td>\n",
       "      <td>51.8625</td>\n",
       "      <td>E46</td>\n",
       "      <td>S</td>\n",
       "    </tr>\n",
       "    <tr>\n",
       "      <th>7</th>\n",
       "      <td>8</td>\n",
       "      <td>0</td>\n",
       "      <td>3</td>\n",
       "      <td>Palsson, Master. Gosta Leonard</td>\n",
       "      <td>male</td>\n",
       "      <td>2.0</td>\n",
       "      <td>3</td>\n",
       "      <td>1</td>\n",
       "      <td>349909</td>\n",
       "      <td>21.0750</td>\n",
       "      <td>NaN</td>\n",
       "      <td>S</td>\n",
       "    </tr>\n",
       "    <tr>\n",
       "      <th>8</th>\n",
       "      <td>9</td>\n",
       "      <td>1</td>\n",
       "      <td>3</td>\n",
       "      <td>Johnson, Mrs. Oscar W (Elisabeth Vilhelmina Berg)</td>\n",
       "      <td>female</td>\n",
       "      <td>27.0</td>\n",
       "      <td>0</td>\n",
       "      <td>2</td>\n",
       "      <td>347742</td>\n",
       "      <td>11.1333</td>\n",
       "      <td>NaN</td>\n",
       "      <td>S</td>\n",
       "    </tr>\n",
       "    <tr>\n",
       "      <th>9</th>\n",
       "      <td>10</td>\n",
       "      <td>1</td>\n",
       "      <td>2</td>\n",
       "      <td>Nasser, Mrs. Nicholas (Adele Achem)</td>\n",
       "      <td>female</td>\n",
       "      <td>14.0</td>\n",
       "      <td>1</td>\n",
       "      <td>0</td>\n",
       "      <td>237736</td>\n",
       "      <td>30.0708</td>\n",
       "      <td>NaN</td>\n",
       "      <td>C</td>\n",
       "    </tr>\n",
       "  </tbody>\n",
       "</table>\n",
       "</div>"
      ],
      "text/plain": [
       "   PassengerId  Survived  Pclass  \\\n",
       "0            1         0       3   \n",
       "1            2         1       1   \n",
       "2            3         1       3   \n",
       "3            4         1       1   \n",
       "4            5         0       3   \n",
       "5            6         0       3   \n",
       "6            7         0       1   \n",
       "7            8         0       3   \n",
       "8            9         1       3   \n",
       "9           10         1       2   \n",
       "\n",
       "                                                Name     Sex   Age  SibSp  \\\n",
       "0                            Braund, Mr. Owen Harris    male  22.0      1   \n",
       "1  Cumings, Mrs. John Bradley (Florence Briggs Th...  female  38.0      1   \n",
       "2                             Heikkinen, Miss. Laina  female  26.0      0   \n",
       "3       Futrelle, Mrs. Jacques Heath (Lily May Peel)  female  35.0      1   \n",
       "4                           Allen, Mr. William Henry    male  35.0      0   \n",
       "5                                   Moran, Mr. James    male   NaN      0   \n",
       "6                            McCarthy, Mr. Timothy J    male  54.0      0   \n",
       "7                     Palsson, Master. Gosta Leonard    male   2.0      3   \n",
       "8  Johnson, Mrs. Oscar W (Elisabeth Vilhelmina Berg)  female  27.0      0   \n",
       "9                Nasser, Mrs. Nicholas (Adele Achem)  female  14.0      1   \n",
       "\n",
       "   Parch            Ticket     Fare Cabin Embarked  \n",
       "0      0         A/5 21171   7.2500   NaN        S  \n",
       "1      0          PC 17599  71.2833   C85        C  \n",
       "2      0  STON/O2. 3101282   7.9250   NaN        S  \n",
       "3      0            113803  53.1000  C123        S  \n",
       "4      0            373450   8.0500   NaN        S  \n",
       "5      0            330877   8.4583   NaN        Q  \n",
       "6      0             17463  51.8625   E46        S  \n",
       "7      1            349909  21.0750   NaN        S  \n",
       "8      2            347742  11.1333   NaN        S  \n",
       "9      0            237736  30.0708   NaN        C  "
      ]
     },
     "execution_count": 2,
     "metadata": {},
     "output_type": "execute_result"
    }
   ],
   "source": [
    "train_df = pd.read_csv(\"/kaggle/input/titanic/train.csv\")\n",
    "serving_df = pd.read_csv(\"/kaggle/input/titanic/test.csv\")\n",
    "\n",
    "train_df.head(10)"
   ]
  },
  {
   "cell_type": "markdown",
   "id": "7f693993",
   "metadata": {
    "papermill": {
     "duration": 0.008403,
     "end_time": "2024-02-14T10:46:27.928749",
     "exception": false,
     "start_time": "2024-02-14T10:46:27.920346",
     "status": "completed"
    },
    "tags": []
   },
   "source": [
    "# Prepare dataset\n",
    "\n",
    "We will apply the following transformations on the dataset.\n",
    "\n",
    "1. Tokenize the names. For example, \"Braund, Mr. Owen Harris\" will become [\"Braund\", \"Mr.\", \"Owen\", \"Harris\"].\n",
    "2. Extract any prefix in the ticket. For example ticket \"STON/O2. 3101282\" will become \"STON/O2.\" and 3101282."
   ]
  },
  {
   "cell_type": "code",
   "execution_count": 3,
   "id": "d37e3699",
   "metadata": {
    "execution": {
     "iopub.execute_input": "2024-02-14T10:46:27.949211Z",
     "iopub.status.busy": "2024-02-14T10:46:27.948390Z",
     "iopub.status.idle": "2024-02-14T10:46:27.992699Z",
     "shell.execute_reply": "2024-02-14T10:46:27.990979Z"
    },
    "papermill": {
     "duration": 0.058153,
     "end_time": "2024-02-14T10:46:27.995672",
     "exception": false,
     "start_time": "2024-02-14T10:46:27.937519",
     "status": "completed"
    },
    "tags": []
   },
   "outputs": [
    {
     "data": {
      "text/html": [
       "<div>\n",
       "<style scoped>\n",
       "    .dataframe tbody tr th:only-of-type {\n",
       "        vertical-align: middle;\n",
       "    }\n",
       "\n",
       "    .dataframe tbody tr th {\n",
       "        vertical-align: top;\n",
       "    }\n",
       "\n",
       "    .dataframe thead th {\n",
       "        text-align: right;\n",
       "    }\n",
       "</style>\n",
       "<table border=\"1\" class=\"dataframe\">\n",
       "  <thead>\n",
       "    <tr style=\"text-align: right;\">\n",
       "      <th></th>\n",
       "      <th>PassengerId</th>\n",
       "      <th>Survived</th>\n",
       "      <th>Pclass</th>\n",
       "      <th>Name</th>\n",
       "      <th>Sex</th>\n",
       "      <th>Age</th>\n",
       "      <th>SibSp</th>\n",
       "      <th>Parch</th>\n",
       "      <th>Ticket</th>\n",
       "      <th>Fare</th>\n",
       "      <th>Cabin</th>\n",
       "      <th>Embarked</th>\n",
       "      <th>Ticket_number</th>\n",
       "      <th>Ticket_item</th>\n",
       "    </tr>\n",
       "  </thead>\n",
       "  <tbody>\n",
       "    <tr>\n",
       "      <th>0</th>\n",
       "      <td>1</td>\n",
       "      <td>0</td>\n",
       "      <td>3</td>\n",
       "      <td>Braund Mr Owen Harris</td>\n",
       "      <td>male</td>\n",
       "      <td>22.0</td>\n",
       "      <td>1</td>\n",
       "      <td>0</td>\n",
       "      <td>A/5 21171</td>\n",
       "      <td>7.2500</td>\n",
       "      <td>NaN</td>\n",
       "      <td>S</td>\n",
       "      <td>21171</td>\n",
       "      <td>A/5</td>\n",
       "    </tr>\n",
       "    <tr>\n",
       "      <th>1</th>\n",
       "      <td>2</td>\n",
       "      <td>1</td>\n",
       "      <td>1</td>\n",
       "      <td>Cumings Mrs John Bradley Florence Briggs Thayer</td>\n",
       "      <td>female</td>\n",
       "      <td>38.0</td>\n",
       "      <td>1</td>\n",
       "      <td>0</td>\n",
       "      <td>PC 17599</td>\n",
       "      <td>71.2833</td>\n",
       "      <td>C85</td>\n",
       "      <td>C</td>\n",
       "      <td>17599</td>\n",
       "      <td>PC</td>\n",
       "    </tr>\n",
       "    <tr>\n",
       "      <th>2</th>\n",
       "      <td>3</td>\n",
       "      <td>1</td>\n",
       "      <td>3</td>\n",
       "      <td>Heikkinen Miss Laina</td>\n",
       "      <td>female</td>\n",
       "      <td>26.0</td>\n",
       "      <td>0</td>\n",
       "      <td>0</td>\n",
       "      <td>STON/O2. 3101282</td>\n",
       "      <td>7.9250</td>\n",
       "      <td>NaN</td>\n",
       "      <td>S</td>\n",
       "      <td>3101282</td>\n",
       "      <td>STON/O2.</td>\n",
       "    </tr>\n",
       "    <tr>\n",
       "      <th>3</th>\n",
       "      <td>4</td>\n",
       "      <td>1</td>\n",
       "      <td>1</td>\n",
       "      <td>Futrelle Mrs Jacques Heath Lily May Peel</td>\n",
       "      <td>female</td>\n",
       "      <td>35.0</td>\n",
       "      <td>1</td>\n",
       "      <td>0</td>\n",
       "      <td>113803</td>\n",
       "      <td>53.1000</td>\n",
       "      <td>C123</td>\n",
       "      <td>S</td>\n",
       "      <td>113803</td>\n",
       "      <td>NONE</td>\n",
       "    </tr>\n",
       "    <tr>\n",
       "      <th>4</th>\n",
       "      <td>5</td>\n",
       "      <td>0</td>\n",
       "      <td>3</td>\n",
       "      <td>Allen Mr William Henry</td>\n",
       "      <td>male</td>\n",
       "      <td>35.0</td>\n",
       "      <td>0</td>\n",
       "      <td>0</td>\n",
       "      <td>373450</td>\n",
       "      <td>8.0500</td>\n",
       "      <td>NaN</td>\n",
       "      <td>S</td>\n",
       "      <td>373450</td>\n",
       "      <td>NONE</td>\n",
       "    </tr>\n",
       "  </tbody>\n",
       "</table>\n",
       "</div>"
      ],
      "text/plain": [
       "   PassengerId  Survived  Pclass  \\\n",
       "0            1         0       3   \n",
       "1            2         1       1   \n",
       "2            3         1       3   \n",
       "3            4         1       1   \n",
       "4            5         0       3   \n",
       "\n",
       "                                              Name     Sex   Age  SibSp  \\\n",
       "0                            Braund Mr Owen Harris    male  22.0      1   \n",
       "1  Cumings Mrs John Bradley Florence Briggs Thayer  female  38.0      1   \n",
       "2                             Heikkinen Miss Laina  female  26.0      0   \n",
       "3         Futrelle Mrs Jacques Heath Lily May Peel  female  35.0      1   \n",
       "4                           Allen Mr William Henry    male  35.0      0   \n",
       "\n",
       "   Parch            Ticket     Fare Cabin Embarked Ticket_number Ticket_item  \n",
       "0      0         A/5 21171   7.2500   NaN        S         21171         A/5  \n",
       "1      0          PC 17599  71.2833   C85        C         17599          PC  \n",
       "2      0  STON/O2. 3101282   7.9250   NaN        S       3101282    STON/O2.  \n",
       "3      0            113803  53.1000  C123        S        113803        NONE  \n",
       "4      0            373450   8.0500   NaN        S        373450        NONE  "
      ]
     },
     "execution_count": 3,
     "metadata": {},
     "output_type": "execute_result"
    }
   ],
   "source": [
    "def preprocess(df):\n",
    "    df = df.copy()\n",
    "    \n",
    "    def normalize_name(x):\n",
    "        return \" \".join([v.strip(\",()[].\\\"'\") for v in x.split(\" \")])\n",
    "    \n",
    "    # takes the last item of the ticket array; should always give an integer\n",
    "    def ticket_number(x):\n",
    "        return x.split(\" \")[-1]\n",
    "    \n",
    "    # creates a new string from the remaining ticket array\n",
    "    # concatenates if necessary\n",
    "    # make sure to not return empty strings, but rather NONE\n",
    "    def ticket_item(x):\n",
    "        items = x.split(\" \")\n",
    "        if len(items) == 1:\n",
    "            return \"NONE\"\n",
    "        return \"_\".join(items[0:-1])\n",
    "    \n",
    "    df[\"Name\"] = df[\"Name\"].apply(normalize_name)\n",
    "    df[\"Ticket_number\"] = df[\"Ticket\"].apply(ticket_number)\n",
    "    df[\"Ticket_item\"] = df[\"Ticket\"].apply(ticket_item)                     \n",
    "    return df\n",
    "    \n",
    "preprocessed_train_df = preprocess(train_df)\n",
    "preprocessed_serving_df = preprocess(serving_df)\n",
    "\n",
    "preprocessed_train_df.head(5)"
   ]
  },
  {
   "cell_type": "markdown",
   "id": "b6e3470d",
   "metadata": {
    "papermill": {
     "duration": 0.008891,
     "end_time": "2024-02-14T10:46:28.016221",
     "exception": false,
     "start_time": "2024-02-14T10:46:28.007330",
     "status": "completed"
    },
    "tags": []
   },
   "source": [
    "Let's keep the list of the input features of the model. Notably, we don't want to train our model on the \"PassengerId\" and \"Ticket\" features."
   ]
  },
  {
   "cell_type": "code",
   "execution_count": 4,
   "id": "08075c31",
   "metadata": {
    "execution": {
     "iopub.execute_input": "2024-02-14T10:46:28.037157Z",
     "iopub.status.busy": "2024-02-14T10:46:28.036644Z",
     "iopub.status.idle": "2024-02-14T10:46:28.045705Z",
     "shell.execute_reply": "2024-02-14T10:46:28.043707Z"
    },
    "papermill": {
     "duration": 0.023281,
     "end_time": "2024-02-14T10:46:28.048837",
     "exception": false,
     "start_time": "2024-02-14T10:46:28.025556",
     "status": "completed"
    },
    "tags": []
   },
   "outputs": [
    {
     "name": "stdout",
     "output_type": "stream",
     "text": [
      "Input features: ['Pclass', 'Name', 'Sex', 'Age', 'SibSp', 'Parch', 'Fare', 'Cabin', 'Embarked', 'Ticket_number', 'Ticket_item']\n"
     ]
    }
   ],
   "source": [
    "input_features = list(preprocessed_train_df.columns)\n",
    "input_features.remove(\"Ticket\")\n",
    "input_features.remove(\"PassengerId\")\n",
    "input_features.remove(\"Survived\") # this is the outcome\n",
    "#input_features.remove(\"Ticket_number\")\n",
    "\n",
    "print(f\"Input features: {input_features}\")"
   ]
  },
  {
   "cell_type": "markdown",
   "id": "2e620e8e",
   "metadata": {
    "papermill": {
     "duration": 0.008953,
     "end_time": "2024-02-14T10:46:28.066943",
     "exception": false,
     "start_time": "2024-02-14T10:46:28.057990",
     "status": "completed"
    },
    "tags": []
   },
   "source": [
    "# Convert Pandas dataset to TensorFlow Dataset"
   ]
  },
  {
   "cell_type": "code",
   "execution_count": 5,
   "id": "7da773f5",
   "metadata": {
    "execution": {
     "iopub.execute_input": "2024-02-14T10:46:28.089802Z",
     "iopub.status.busy": "2024-02-14T10:46:28.089295Z",
     "iopub.status.idle": "2024-02-14T10:46:28.481928Z",
     "shell.execute_reply": "2024-02-14T10:46:28.480119Z"
    },
    "papermill": {
     "duration": 0.409072,
     "end_time": "2024-02-14T10:46:28.485441",
     "exception": false,
     "start_time": "2024-02-14T10:46:28.076369",
     "status": "completed"
    },
    "tags": []
   },
   "outputs": [],
   "source": [
    "def tokenize_names(features, labels=None):\n",
    "    \"\"\"Divide the names into tokens. TF-DF can consume text tokens natively.\"\"\"\n",
    "    features[\"Name\"] =  tf.strings.split(features[\"Name\"])\n",
    "    return features, labels\n",
    "\n",
    "train_ds = tfdf.keras.pd_dataframe_to_tf_dataset(preprocessed_train_df,label=\"Survived\").map(tokenize_names)\n",
    "serving_ds = tfdf.keras.pd_dataframe_to_tf_dataset(preprocessed_serving_df).map(tokenize_names)"
   ]
  },
  {
   "cell_type": "markdown",
   "id": "ebe31ef3",
   "metadata": {
    "papermill": {
     "duration": 0.008682,
     "end_time": "2024-02-14T10:46:28.503297",
     "exception": false,
     "start_time": "2024-02-14T10:46:28.494615",
     "status": "completed"
    },
    "tags": []
   },
   "source": [
    "# Train model with default parameters\n",
    "\n",
    "### Train model\n",
    "\n",
    "First, we are training a GradientBoostedTreesModel model with the default parameters."
   ]
  },
  {
   "cell_type": "code",
   "execution_count": 6,
   "id": "a7964849",
   "metadata": {
    "execution": {
     "iopub.execute_input": "2024-02-14T10:46:28.524310Z",
     "iopub.status.busy": "2024-02-14T10:46:28.523817Z",
     "iopub.status.idle": "2024-02-14T10:46:41.875796Z",
     "shell.execute_reply": "2024-02-14T10:46:41.874218Z"
    },
    "papermill": {
     "duration": 13.366527,
     "end_time": "2024-02-14T10:46:41.878867",
     "exception": false,
     "start_time": "2024-02-14T10:46:28.512340",
     "status": "completed"
    },
    "tags": []
   },
   "outputs": [
    {
     "name": "stdout",
     "output_type": "stream",
     "text": [
      "Use 4 thread(s) for training\n",
      "Use /tmp/tmpqeqds8rs as temporary training directory\n",
      "Reading training dataset...\n",
      "Training tensor examples:\n",
      "Features: {'PassengerId': <tf.Tensor 'data_7:0' shape=(None,) dtype=int64>, 'Pclass': <tf.Tensor 'data_8:0' shape=(None,) dtype=int64>, 'Name': tf.RaggedTensor(values=Tensor(\"data_4:0\", shape=(None,), dtype=string), row_splits=Tensor(\"data_5:0\", shape=(None,), dtype=int64)), 'Sex': <tf.Tensor 'data_9:0' shape=(None,) dtype=string>, 'Age': <tf.Tensor 'data:0' shape=(None,) dtype=float64>, 'SibSp': <tf.Tensor 'data_10:0' shape=(None,) dtype=int64>, 'Parch': <tf.Tensor 'data_6:0' shape=(None,) dtype=int64>, 'Ticket': <tf.Tensor 'data_11:0' shape=(None,) dtype=string>, 'Fare': <tf.Tensor 'data_3:0' shape=(None,) dtype=float64>, 'Cabin': <tf.Tensor 'data_1:0' shape=(None,) dtype=string>, 'Embarked': <tf.Tensor 'data_2:0' shape=(None,) dtype=string>, 'Ticket_number': <tf.Tensor 'data_13:0' shape=(None,) dtype=string>, 'Ticket_item': <tf.Tensor 'data_12:0' shape=(None,) dtype=string>}\n",
      "Label: Tensor(\"data_14:0\", shape=(None,), dtype=int64)\n",
      "Weights: None\n",
      "Normalized tensor features:\n",
      " {'Pclass': SemanticTensor(semantic=<Semantic.NUMERICAL: 1>, tensor=<tf.Tensor 'Cast:0' shape=(None,) dtype=float32>), 'Name': SemanticTensor(semantic=<Semantic.CATEGORICAL_SET: 4>, tensor=tf.RaggedTensor(values=Tensor(\"data_4:0\", shape=(None,), dtype=string), row_splits=Tensor(\"data_5:0\", shape=(None,), dtype=int64))), 'Sex': SemanticTensor(semantic=<Semantic.CATEGORICAL: 2>, tensor=<tf.Tensor 'data_9:0' shape=(None,) dtype=string>), 'Age': SemanticTensor(semantic=<Semantic.NUMERICAL: 1>, tensor=<tf.Tensor 'Cast_1:0' shape=(None,) dtype=float32>), 'SibSp': SemanticTensor(semantic=<Semantic.NUMERICAL: 1>, tensor=<tf.Tensor 'Cast_2:0' shape=(None,) dtype=float32>), 'Parch': SemanticTensor(semantic=<Semantic.NUMERICAL: 1>, tensor=<tf.Tensor 'Cast_3:0' shape=(None,) dtype=float32>), 'Fare': SemanticTensor(semantic=<Semantic.NUMERICAL: 1>, tensor=<tf.Tensor 'Cast_4:0' shape=(None,) dtype=float32>), 'Cabin': SemanticTensor(semantic=<Semantic.CATEGORICAL: 2>, tensor=<tf.Tensor 'data_1:0' shape=(None,) dtype=string>), 'Embarked': SemanticTensor(semantic=<Semantic.CATEGORICAL: 2>, tensor=<tf.Tensor 'data_2:0' shape=(None,) dtype=string>), 'Ticket_number': SemanticTensor(semantic=<Semantic.CATEGORICAL: 2>, tensor=<tf.Tensor 'data_13:0' shape=(None,) dtype=string>), 'Ticket_item': SemanticTensor(semantic=<Semantic.CATEGORICAL: 2>, tensor=<tf.Tensor 'data_12:0' shape=(None,) dtype=string>)}\n",
      "Training dataset read in 0:00:08.832365. Found 891 examples.\n",
      "Training model...\n",
      "Standard output detected as not visible to the user e.g. running in a notebook. Creating a training log redirection. If training gets stuck, try calling tfdf.keras.set_training_logs_redirection(False).\n"
     ]
    },
    {
     "name": "stderr",
     "output_type": "stream",
     "text": [
      "[INFO 2024-02-14T10:46:37.464692016+00:00 kernel.cc:756] Start Yggdrasil model training\n",
      "[INFO 2024-02-14T10:46:37.465588576+00:00 kernel.cc:757] Collect training examples\n",
      "[INFO 2024-02-14T10:46:37.469170289+00:00 kernel.cc:388] Number of batches: 1\n",
      "[INFO 2024-02-14T10:46:37.469210085+00:00 kernel.cc:389] Number of examples: 891\n",
      "[INFO 2024-02-14T10:46:37.470837976+00:00 data_spec_inference.cc:303] 147 item(s) have been pruned (i.e. they are considered out of dictionary) for the column Cabin (0 item(s) left) because min_value_count=5 and max_number_of_unique_values=2000\n",
      "[INFO 2024-02-14T10:46:37.471540291+00:00 data_spec_inference.cc:303] 1441 item(s) have been pruned (i.e. they are considered out of dictionary) for the column Name (85 item(s) left) because min_value_count=5 and max_number_of_unique_values=2000\n",
      "[INFO 2024-02-14T10:46:37.472002595+00:00 data_spec_inference.cc:303] 28 item(s) have been pruned (i.e. they are considered out of dictionary) for the column Ticket_item (16 item(s) left) because min_value_count=5 and max_number_of_unique_values=2000\n",
      "[INFO 2024-02-14T10:46:37.472403216+00:00 data_spec_inference.cc:303] 671 item(s) have been pruned (i.e. they are considered out of dictionary) for the column Ticket_number (8 item(s) left) because min_value_count=5 and max_number_of_unique_values=2000\n",
      "[INFO 2024-02-14T10:46:37.473165553+00:00 kernel.cc:774] Training dataset:\n",
      "Number of records: 891\n",
      "Number of columns: 12\n",
      "\n",
      "Number of columns by type:\n",
      "\tCATEGORICAL: 6 (50%)\n",
      "\tNUMERICAL: 5 (41.6667%)\n",
      "\tCATEGORICAL_SET: 1 (8.33333%)\n",
      "\n",
      "Columns:\n",
      "\n",
      "CATEGORICAL: 6 (50%)\n",
      "\t1: \"Cabin\" CATEGORICAL num-nas:687 (77.1044%) has-dict vocab-size:1 num-oods:147 (72.0588%)\n",
      "\t2: \"Embarked\" CATEGORICAL num-nas:2 (0.224467%) has-dict vocab-size:4 zero-ood-items most-frequent:\"S\" 644 (72.4409%)\n",
      "\t7: \"Sex\" CATEGORICAL has-dict vocab-size:3 zero-ood-items most-frequent:\"male\" 577 (64.7587%)\n",
      "\t9: \"Ticket_item\" CATEGORICAL has-dict vocab-size:17 num-oods:28 (3.14254%) most-frequent:\"NONE\" 665 (74.6352%)\n",
      "\t10: \"Ticket_number\" CATEGORICAL has-dict vocab-size:9 num-oods:671 (75.3086%) most-frequent:\"<OOD>\" 671 (75.3086%)\n",
      "\t11: \"__LABEL\" CATEGORICAL integerized vocab-size:3 no-ood-item\n",
      "\n",
      "NUMERICAL: 5 (41.6667%)\n",
      "\t0: \"Age\" NUMERICAL num-nas:177 (19.8653%) mean:29.6991 min:0.42 max:80 sd:14.5163\n",
      "\t3: \"Fare\" NUMERICAL mean:32.2042 min:0 max:512.329 sd:49.6655\n",
      "\t5: \"Parch\" NUMERICAL mean:0.381594 min:0 max:6 sd:0.805605\n",
      "\t6: \"Pclass\" NUMERICAL mean:2.30864 min:1 max:3 sd:0.835602\n",
      "\t8: \"SibSp\" NUMERICAL mean:0.523008 min:0 max:8 sd:1.10212\n",
      "\n",
      "CATEGORICAL_SET: 1 (8.33333%)\n",
      "\t4: \"Name\" CATEGORICAL_SET has-dict vocab-size:86 num-oods:1441 (161.728%) most-frequent:\"<OOD>\" 1441 (161.728%)\n",
      "\n",
      "Terminology:\n",
      "\tnas: Number of non-available (i.e. missing) values.\n",
      "\tood: Out of dictionary.\n",
      "\tmanually-defined: Attribute which type is manually defined by the user i.e. the type was not automatically inferred.\n",
      "\ttokenized: The attribute value is obtained through tokenization.\n",
      "\thas-dict: The attribute is attached to a string dictionary e.g. a categorical attribute stored as a string.\n",
      "\tvocab-size: Number of unique values.\n",
      "\n",
      "[INFO 2024-02-14T10:46:37.476891236+00:00 kernel.cc:790] Configure learner\n",
      "[INFO 2024-02-14T10:46:37.480067647+00:00 kernel.cc:804] Training config:\n",
      "learner: \"GRADIENT_BOOSTED_TREES\"\n",
      "features: \"^Age$\"\n",
      "features: \"^Cabin$\"\n",
      "features: \"^Embarked$\"\n",
      "features: \"^Fare$\"\n",
      "features: \"^Name$\"\n",
      "features: \"^Parch$\"\n",
      "features: \"^Pclass$\"\n",
      "features: \"^Sex$\"\n",
      "features: \"^SibSp$\"\n",
      "features: \"^Ticket_item$\"\n",
      "features: \"^Ticket_number$\"\n",
      "label: \"^__LABEL$\"\n",
      "task: CLASSIFICATION\n",
      "random_seed: 1234\n",
      "metadata {\n",
      "  framework: \"TF Keras\"\n",
      "}\n",
      "pure_serving_model: false\n",
      "[yggdrasil_decision_forests.model.gradient_boosted_trees.proto.gradient_boosted_trees_config] {\n",
      "  num_trees: 300\n",
      "  decision_tree {\n",
      "    max_depth: 6\n",
      "    min_examples: 5\n",
      "    in_split_min_examples_check: true\n",
      "    keep_non_leaf_label_distribution: true\n",
      "    num_candidate_attributes: -1\n",
      "    missing_value_policy: GLOBAL_IMPUTATION\n",
      "    allow_na_conditions: false\n",
      "    categorical_set_greedy_forward {\n",
      "      sampling: 0.1\n",
      "      max_num_items: -1\n",
      "      min_item_frequency: 1\n",
      "    }\n",
      "    growing_strategy_local {\n",
      "    }\n",
      "    categorical {\n",
      "      cart {\n",
      "      }\n",
      "    }\n",
      "    axis_aligned_split {\n",
      "    }\n",
      "    internal {\n",
      "      sorting_strategy: PRESORTED\n",
      "    }\n",
      "    uplift {\n",
      "      min_examples_in_treatment: 5\n",
      "      split_score: KULLBACK_LEIBLER\n",
      "    }\n",
      "  }\n",
      "  shrinkage: 0.1\n",
      "  loss: DEFAULT\n",
      "  validation_set_ratio: 0.1\n",
      "  validation_interval_in_trees: 1\n",
      "  early_stopping: VALIDATION_LOSS_INCREASE\n",
      "  early_stopping_num_trees_look_ahead: 30\n",
      "  l2_regularization: 0\n",
      "  lambda_loss: 1\n",
      "  mart {\n",
      "  }\n",
      "  adapt_subsample_for_maximum_training_duration: false\n",
      "  l1_regularization: 0\n",
      "  use_hessian_gain: false\n",
      "  l2_regularization_categorical: 1\n",
      "  stochastic_gradient_boosting {\n",
      "    ratio: 1\n",
      "  }\n",
      "  apply_link_function: true\n",
      "  compute_permutation_variable_importance: false\n",
      "  binary_focal_loss_options {\n",
      "    misprediction_exponent: 2\n",
      "    positive_sample_coefficient: 0.5\n",
      "  }\n",
      "  early_stopping_initial_iteration: 10\n",
      "}\n",
      "\n",
      "[INFO 2024-02-14T10:46:37.482156522+00:00 kernel.cc:807] Deployment config:\n",
      "cache_path: \"/tmp/tmpqeqds8rs/working_cache\"\n",
      "num_threads: 4\n",
      "try_resume_training: true\n",
      "\n",
      "[INFO 2024-02-14T10:46:37.482520566+00:00 kernel.cc:868] Train model\n",
      "[INFO 2024-02-14T10:46:37.866754619+00:00 early_stopping.cc:53] Early stop of the training because the validation loss does not decrease anymore. Best valid-loss: 0.860894\n",
      "[INFO 2024-02-14T10:46:37.874563692+00:00 kernel.cc:905] Export model in log directory: /tmp/tmpqeqds8rs with prefix 4d0a7f1113ce4ee3\n",
      "[INFO 2024-02-14T10:46:37.876682686+00:00 kernel.cc:923] Save model in resources\n",
      "[INFO 2024-02-14T10:46:37.884770747+00:00 abstract_model.cc:849] Model self evaluation:\n",
      "Task: CLASSIFICATION\n",
      "Label: __LABEL\n",
      "Loss (BINOMIAL_LOG_LIKELIHOOD): 0.860894\n",
      "\n",
      "Accuracy: 0.826087  CI95[W][0 1]\n",
      "ErrorRate: : 0.173913\n",
      "\n",
      "\n",
      "Confusion Table:\n",
      "truth\\prediction\n",
      "   0   1   2\n",
      "0  0   0   0\n",
      "1  0  47   3\n",
      "2  0  13  29\n",
      "Total: 92\n",
      "\n",
      "One vs other classes:\n",
      "\n",
      "[INFO 2024-02-14T10:46:37.918710041+00:00 kernel.cc:1214] Loading model from path /tmp/tmpqeqds8rs/model/ with prefix 4d0a7f1113ce4ee3\n",
      "[INFO 2024-02-14T10:46:37.92990072+00:00 abstract_model.cc:1311] Engine \"GradientBoostedTreesQuickScorerExtended\" built\n",
      "[INFO 2024-02-14T10:46:37.930029152+00:00 kernel.cc:1046] Use fast generic engine\n"
     ]
    },
    {
     "name": "stdout",
     "output_type": "stream",
     "text": [
      "Model trained in 0:00:00.490057\n",
      "Compiling model...\n",
      "WARNING: AutoGraph could not transform <function simple_ml_inference_op_with_handle at 0x7816eadc34d0> and will run it as-is.\n",
      "Please report this to the TensorFlow team. When filing the bug, set the verbosity to 10 (on Linux, `export AUTOGRAPH_VERBOSITY=10`) and attach the full output.\n",
      "Cause: could not get source code\n",
      "To silence this warning, decorate the function with @tf.autograph.experimental.do_not_convert\n",
      "Model compiled.\n",
      "Accuracy: 0.8260869383811951 Loss:0.8608942627906799\n"
     ]
    }
   ],
   "source": [
    "model = tfdf.keras.GradientBoostedTreesModel(\n",
    "    # let's increase verbosity to get some insights\n",
    "    verbose=5, # increased to 5\n",
    "    features=[tfdf.keras.FeatureUsage(name=n) for n in input_features],\n",
    "    exclude_non_specified_features=True, # Only use the features in \"features\"\n",
    "    random_seed=1234,\n",
    ")\n",
    "model.fit(train_ds)\n",
    "\n",
    "self_evaluation = model.make_inspector().evaluation()\n",
    "print(f\"Accuracy: {self_evaluation.accuracy} Loss:{self_evaluation.loss}\")"
   ]
  },
  {
   "cell_type": "markdown",
   "id": "1634f864",
   "metadata": {
    "papermill": {
     "duration": 0.011531,
     "end_time": "2024-02-14T10:46:41.902513",
     "exception": false,
     "start_time": "2024-02-14T10:46:41.890982",
     "status": "completed"
    },
    "tags": []
   },
   "source": [
    "# Train model with improved default parameters\n",
    "\n",
    "Now you'll use some specific parameters when creating the GBT model"
   ]
  },
  {
   "cell_type": "code",
   "execution_count": 7,
   "id": "67efa3a7",
   "metadata": {
    "execution": {
     "iopub.execute_input": "2024-02-14T10:46:41.929048Z",
     "iopub.status.busy": "2024-02-14T10:46:41.928507Z",
     "iopub.status.idle": "2024-02-14T10:46:43.271646Z",
     "shell.execute_reply": "2024-02-14T10:46:43.270609Z"
    },
    "papermill": {
     "duration": 1.360376,
     "end_time": "2024-02-14T10:46:43.275156",
     "exception": false,
     "start_time": "2024-02-14T10:46:41.914780",
     "status": "completed"
    },
    "tags": []
   },
   "outputs": [
    {
     "name": "stdout",
     "output_type": "stream",
     "text": [
      "Resolve hyper-parameter template \"benchmark_rank1@v1\" to \"benchmark_rank1@v1\" -> {'growing_strategy': 'BEST_FIRST_GLOBAL', 'categorical_algorithm': 'RANDOM', 'split_axis': 'SPARSE_OBLIQUE', 'sparse_oblique_normalization': 'MIN_MAX', 'sparse_oblique_num_projections_exponent': 1.0}.\n",
      "Use /tmp/tmpzavw_3gy as temporary training directory\n",
      "Reading training dataset...\n",
      "Training dataset read in 0:00:00.359094. Found 891 examples.\n",
      "Training model...\n",
      "Model trained in 0:00:00.558048\n",
      "Compiling model...\n"
     ]
    },
    {
     "name": "stderr",
     "output_type": "stream",
     "text": [
      "[INFO 2024-02-14T10:46:42.835835526+00:00 decision_forest.cc:661] Model loaded with 30 root(s), 814 node(s), and 10 input feature(s).\n",
      "[INFO 2024-02-14T10:46:42.839863987+00:00 decision_forest.cc:661] Model loaded with 30 root(s), 814 node(s), and 10 input feature(s).\n",
      "[INFO 2024-02-14T10:46:42.840129879+00:00 decision_forest.cc:661] Model loaded with 30 root(s), 814 node(s), and 10 input feature(s).\n",
      "[INFO 2024-02-14T10:46:42.840210903+00:00 decision_forest.cc:661] Model loaded with 30 root(s), 814 node(s), and 10 input feature(s).\n",
      "[INFO 2024-02-14T10:46:42.841026508+00:00 decision_forest.cc:661] Model loaded with 30 root(s), 814 node(s), and 10 input feature(s).\n",
      "[INFO 2024-02-14T10:46:42.841903877+00:00 decision_forest.cc:661] Model loaded with 30 root(s), 814 node(s), and 10 input feature(s).\n",
      "[INFO 2024-02-14T10:46:42.842956065+00:00 decision_forest.cc:661] Model loaded with 30 root(s), 814 node(s), and 10 input feature(s).\n",
      "[INFO 2024-02-14T10:46:42.843408942+00:00 decision_forest.cc:661] Model loaded with 30 root(s), 814 node(s), and 10 input feature(s).\n",
      "[INFO 2024-02-14T10:46:42.843888696+00:00 decision_forest.cc:661] Model loaded with 30 root(s), 814 node(s), and 10 input feature(s).\n",
      "[INFO 2024-02-14T10:46:42.844658454+00:00 decision_forest.cc:661] Model loaded with 30 root(s), 814 node(s), and 10 input feature(s).\n",
      "[INFO 2024-02-14T10:46:42.844712678+00:00 decision_forest.cc:661] Model loaded with 30 root(s), 814 node(s), and 10 input feature(s).\n",
      "[INFO 2024-02-14T10:46:42.844941087+00:00 decision_forest.cc:661] Model loaded with 30 root(s), 814 node(s), and 10 input feature(s).\n",
      "[INFO 2024-02-14T10:46:42.871483452+00:00 kernel.cc:1214] Loading model from path /tmp/tmpzavw_3gy/model/ with prefix 7be77608b9f94874\n",
      "[INFO 2024-02-14T10:46:42.876079884+00:00 decision_forest.cc:661] Model loaded with 30 root(s), 814 node(s), and 10 input feature(s).\n",
      "[INFO 2024-02-14T10:46:42.876237727+00:00 kernel.cc:1046] Use fast generic engine\n"
     ]
    },
    {
     "name": "stdout",
     "output_type": "stream",
     "text": [
      "Model compiled.\n",
      "Accuracy: 0.782608687877655 Loss:0.9572800397872925\n"
     ]
    }
   ],
   "source": [
    "model = tfdf.keras.GradientBoostedTreesModel(\n",
    "    verbose=1, # Very few logs\n",
    "    features=[tfdf.keras.FeatureUsage(name=n) for n in input_features],\n",
    "    exclude_non_specified_features=True, # Only use the features in \"features\"\n",
    "    \n",
    "    #num_trees=2000,\n",
    "    \n",
    "    # Only for GBT.\n",
    "    # A bit slower, but great to understand the model.\n",
    "    compute_permutation_variable_importance=True,\n",
    "    \n",
    "    # Change the default hyper-parameters\n",
    "    hyperparameter_template=\"benchmark_rank1@v1\",\n",
    "    \n",
    "    #num_trees=1000,\n",
    "    #tuner=tuner,\n",
    "    \n",
    "    min_examples=1,\n",
    "    categorical_algorithm=\"RANDOM\",\n",
    "    max_depth=4, #original disabled\n",
    "    shrinkage=0.2, #from 0.05)\n",
    "    #num_candidate_attributes_ratio=0.2,\n",
    "    split_axis=\"SPARSE_OBLIQUE\",\n",
    "    sparse_oblique_normalization=\"MIN_MAX\",\n",
    "    sparse_oblique_num_projections_exponent=2.0,\n",
    "    num_trees=1400, # increase to 4000 from 2000 -> worse accuracy\n",
    "    #validation_ratio=0.0,\n",
    "    random_seed=1234,\n",
    "    \n",
    ")\n",
    "model.fit(train_ds)\n",
    "\n",
    "self_evaluation = model.make_inspector().evaluation()\n",
    "print(f\"Accuracy: {self_evaluation.accuracy} Loss:{self_evaluation.loss}\")"
   ]
  },
  {
   "cell_type": "markdown",
   "id": "090614be",
   "metadata": {
    "papermill": {
     "duration": 0.017571,
     "end_time": "2024-02-14T10:46:43.310839",
     "exception": false,
     "start_time": "2024-02-14T10:46:43.293268",
     "status": "completed"
    },
    "tags": []
   },
   "source": [
    "Let's look at the model and you can also notice the information about variable importance that the model figured out"
   ]
  },
  {
   "cell_type": "code",
   "execution_count": 8,
   "id": "d497683e",
   "metadata": {
    "execution": {
     "iopub.execute_input": "2024-02-14T10:46:43.339774Z",
     "iopub.status.busy": "2024-02-14T10:46:43.339295Z",
     "iopub.status.idle": "2024-02-14T10:46:43.360224Z",
     "shell.execute_reply": "2024-02-14T10:46:43.358671Z"
    },
    "papermill": {
     "duration": 0.040363,
     "end_time": "2024-02-14T10:46:43.364896",
     "exception": false,
     "start_time": "2024-02-14T10:46:43.324533",
     "status": "completed"
    },
    "tags": []
   },
   "outputs": [
    {
     "name": "stdout",
     "output_type": "stream",
     "text": [
      "Model: \"gradient_boosted_trees_model_1\"\n",
      "_________________________________________________________________\n",
      " Layer (type)                Output Shape              Param #   \n",
      "=================================================================\n",
      "=================================================================\n",
      "Total params: 1\n",
      "Trainable params: 0\n",
      "Non-trainable params: 1\n",
      "_________________________________________________________________\n",
      "Type: \"GRADIENT_BOOSTED_TREES\"\n",
      "Task: CLASSIFICATION\n",
      "Label: \"__LABEL\"\n",
      "\n",
      "Input Features (11):\n",
      "\tAge\n",
      "\tCabin\n",
      "\tEmbarked\n",
      "\tFare\n",
      "\tName\n",
      "\tParch\n",
      "\tPclass\n",
      "\tSex\n",
      "\tSibSp\n",
      "\tTicket_item\n",
      "\tTicket_number\n",
      "\n",
      "No weights\n",
      "\n",
      "Variable Importance: INV_MEAN_MIN_DEPTH:\n",
      "    1.           \"Age\"  0.379466 ################\n",
      "    2.          \"Fare\"  0.332388 ###########\n",
      "    3.           \"Sex\"  0.290728 #######\n",
      "    4.          \"Name\"  0.269327 #####\n",
      "    5. \"Ticket_number\"  0.222775 #\n",
      "    6.   \"Ticket_item\"  0.217417 #\n",
      "    7.      \"Embarked\"  0.210814 \n",
      "    8.         \"Parch\"  0.207758 \n",
      "    9.        \"Pclass\"  0.207093 \n",
      "   10.         \"SibSp\"  0.205656 \n",
      "\n",
      "Variable Importance: MEAN_DECREASE_IN_ACCURACY:\n",
      "    1.           \"Sex\"  0.173913 ################\n",
      "    2.          \"Fare\"  0.076087 ########\n",
      "    3.        \"Pclass\"  0.054348 ######\n",
      "    4.          \"Name\"  0.010870 ###\n",
      "    5.   \"Ticket_item\"  0.010870 ###\n",
      "    6. \"Ticket_number\"  0.010870 ###\n",
      "    7.         \"Cabin\"  0.000000 ##\n",
      "    8.         \"Parch\"  0.000000 ##\n",
      "    9.           \"Age\" -0.010870 #\n",
      "   10.      \"Embarked\" -0.010870 #\n",
      "   11.         \"SibSp\" -0.032609 \n",
      "\n",
      "Variable Importance: MEAN_DECREASE_IN_AP_2_VS_OTHERS:\n",
      "    1.           \"Sex\"  0.278734 ################\n",
      "    2.        \"Pclass\"  0.125749 #######\n",
      "    3.          \"Fare\"  0.102465 ######\n",
      "    4.          \"Name\"  0.011701 #\n",
      "    5. \"Ticket_number\"  0.005240 #\n",
      "    6.   \"Ticket_item\"  0.004756 #\n",
      "    7.           \"Age\"  0.001229 #\n",
      "    8.         \"Cabin\"  0.000000 #\n",
      "    9.      \"Embarked\" -0.003775 #\n",
      "   10.         \"Parch\" -0.015034 \n",
      "   11.         \"SibSp\" -0.022977 \n",
      "\n",
      "Variable Importance: MEAN_DECREASE_IN_AUC_2_VS_OTHERS:\n",
      "    1.           \"Sex\"  0.170000 ################\n",
      "    2.          \"Fare\"  0.092381 #########\n",
      "    3.        \"Pclass\"  0.043810 #####\n",
      "    4.           \"Age\"  0.010238 ##\n",
      "    5.          \"Name\"  0.008333 ##\n",
      "    6. \"Ticket_number\"  0.006190 ##\n",
      "    7.   \"Ticket_item\"  0.001905 ##\n",
      "    8.         \"Cabin\"  0.000000 ##\n",
      "    9.      \"Embarked\" -0.006667 #\n",
      "   10.         \"Parch\" -0.012857 \n",
      "   11.         \"SibSp\" -0.024762 \n",
      "\n",
      "Variable Importance: MEAN_DECREASE_IN_PRAUC_2_VS_OTHERS:\n",
      "    1.           \"Sex\"  0.269632 ################\n",
      "    2.        \"Pclass\"  0.113781 #######\n",
      "    3.          \"Fare\"  0.100828 ######\n",
      "    4.          \"Name\"  0.011844 #\n",
      "    5. \"Ticket_number\"  0.005180 #\n",
      "    6.   \"Ticket_item\"  0.004654 #\n",
      "    7.           \"Age\"  0.001681 #\n",
      "    8.         \"Cabin\"  0.000000 #\n",
      "    9.      \"Embarked\" -0.003725 #\n",
      "   10.         \"Parch\" -0.014802 \n",
      "   11.         \"SibSp\" -0.022761 \n",
      "\n",
      "Variable Importance: NUM_AS_ROOT:\n",
      "    1.           \"Sex\" 10.000000 ################\n",
      "    2.          \"Name\"  7.000000 ##########\n",
      "    3.           \"Age\"  6.000000 ########\n",
      "    4.          \"Fare\"  5.000000 ######\n",
      "    5. \"Ticket_number\"  2.000000 \n",
      "\n",
      "Variable Importance: NUM_NODES:\n",
      "    1.           \"Age\" 172.000000 ################\n",
      "    2.          \"Fare\" 107.000000 #########\n",
      "    3.          \"Name\" 37.000000 ###\n",
      "    4.   \"Ticket_item\" 23.000000 #\n",
      "    5.           \"Sex\" 22.000000 #\n",
      "    6. \"Ticket_number\" 10.000000 \n",
      "    7.      \"Embarked\"  9.000000 \n",
      "    8.         \"Parch\"  7.000000 \n",
      "    9.        \"Pclass\"  3.000000 \n",
      "   10.         \"SibSp\"  2.000000 \n",
      "\n",
      "Variable Importance: SUM_SCORE:\n",
      "    1.           \"Sex\" 138.909273 ################\n",
      "    2.           \"Age\" 112.007829 ############\n",
      "    3.          \"Fare\" 107.100076 ############\n",
      "    4.          \"Name\" 34.753497 ###\n",
      "    5.   \"Ticket_item\"  9.386492 #\n",
      "    6. \"Ticket_number\"  6.225976 \n",
      "    7.      \"Embarked\"  3.430244 \n",
      "    8.         \"Parch\"  1.424500 \n",
      "    9.        \"Pclass\"  0.483946 \n",
      "   10.         \"SibSp\"  0.108580 \n",
      "\n",
      "\n",
      "\n",
      "Loss: BINOMIAL_LOG_LIKELIHOOD\n",
      "Validation loss value: 0.95728\n",
      "Number of trees per iteration: 1\n",
      "Node format: NOT_SET\n",
      "Number of trees: 30\n",
      "Total number of nodes: 814\n",
      "\n",
      "Number of nodes by tree:\n",
      "Count: 30 Average: 27.1333 StdDev: 2.72927\n",
      "Min: 21 Max: 31 Ignored: 0\n",
      "----------------------------------------------\n",
      "[ 21, 22) 2   6.67%   6.67% ###\n",
      "[ 22, 23) 0   0.00%   6.67%\n",
      "[ 23, 24) 1   3.33%  10.00% #\n",
      "[ 24, 25) 0   0.00%  10.00%\n",
      "[ 25, 26) 7  23.33%  33.33% #########\n",
      "[ 26, 27) 0   0.00%  33.33%\n",
      "[ 27, 28) 8  26.67%  60.00% ##########\n",
      "[ 28, 29) 0   0.00%  60.00%\n",
      "[ 29, 30) 7  23.33%  83.33% #########\n",
      "[ 30, 31) 0   0.00%  83.33%\n",
      "[ 31, 31] 5  16.67% 100.00% ######\n",
      "\n",
      "Depth by leafs:\n",
      "Count: 422 Average: 3.88152 StdDev: 0.377306\n",
      "Min: 2 Max: 4 Ignored: 0\n",
      "----------------------------------------------\n",
      "[ 2, 3)   8   1.90%   1.90%\n",
      "[ 3, 4)  34   8.06%   9.95% #\n",
      "[ 4, 4] 380  90.05% 100.00% ##########\n",
      "\n",
      "Number of training obs by leaf:\n",
      "Count: 422 Average: 0 StdDev: 0\n",
      "Min: 0 Max: 0 Ignored: 0\n",
      "----------------------------------------------\n",
      "[ 0, 0] 422 100.00% 100.00% ##########\n",
      "\n",
      "Attribute in nodes:\n",
      "\t172 : Age [NUMERICAL]\n",
      "\t107 : Fare [NUMERICAL]\n",
      "\t37 : Name [CATEGORICAL_SET]\n",
      "\t23 : Ticket_item [CATEGORICAL]\n",
      "\t22 : Sex [CATEGORICAL]\n",
      "\t10 : Ticket_number [CATEGORICAL]\n",
      "\t9 : Embarked [CATEGORICAL]\n",
      "\t7 : Parch [NUMERICAL]\n",
      "\t3 : Pclass [NUMERICAL]\n",
      "\t2 : SibSp [NUMERICAL]\n",
      "\n",
      "Attribute in nodes with depth <= 0:\n",
      "\t10 : Sex [CATEGORICAL]\n",
      "\t7 : Name [CATEGORICAL_SET]\n",
      "\t6 : Age [NUMERICAL]\n",
      "\t5 : Fare [NUMERICAL]\n",
      "\t2 : Ticket_number [CATEGORICAL]\n",
      "\n",
      "Attribute in nodes with depth <= 1:\n",
      "\t32 : Fare [NUMERICAL]\n",
      "\t30 : Age [NUMERICAL]\n",
      "\t13 : Name [CATEGORICAL_SET]\n",
      "\t10 : Sex [CATEGORICAL]\n",
      "\t3 : Ticket_number [CATEGORICAL]\n",
      "\t2 : Ticket_item [CATEGORICAL]\n",
      "\n",
      "Attribute in nodes with depth <= 2:\n",
      "\t80 : Age [NUMERICAL]\n",
      "\t57 : Fare [NUMERICAL]\n",
      "\t21 : Name [CATEGORICAL_SET]\n",
      "\t16 : Sex [CATEGORICAL]\n",
      "\t10 : Ticket_item [CATEGORICAL]\n",
      "\t7 : Ticket_number [CATEGORICAL]\n",
      "\t6 : Embarked [CATEGORICAL]\n",
      "\t2 : Pclass [NUMERICAL]\n",
      "\t2 : Parch [NUMERICAL]\n",
      "\t1 : SibSp [NUMERICAL]\n",
      "\n",
      "Attribute in nodes with depth <= 3:\n",
      "\t172 : Age [NUMERICAL]\n",
      "\t107 : Fare [NUMERICAL]\n",
      "\t37 : Name [CATEGORICAL_SET]\n",
      "\t23 : Ticket_item [CATEGORICAL]\n",
      "\t22 : Sex [CATEGORICAL]\n",
      "\t10 : Ticket_number [CATEGORICAL]\n",
      "\t9 : Embarked [CATEGORICAL]\n",
      "\t7 : Parch [NUMERICAL]\n",
      "\t3 : Pclass [NUMERICAL]\n",
      "\t2 : SibSp [NUMERICAL]\n",
      "\n",
      "Attribute in nodes with depth <= 5:\n",
      "\t172 : Age [NUMERICAL]\n",
      "\t107 : Fare [NUMERICAL]\n",
      "\t37 : Name [CATEGORICAL_SET]\n",
      "\t23 : Ticket_item [CATEGORICAL]\n",
      "\t22 : Sex [CATEGORICAL]\n",
      "\t10 : Ticket_number [CATEGORICAL]\n",
      "\t9 : Embarked [CATEGORICAL]\n",
      "\t7 : Parch [NUMERICAL]\n",
      "\t3 : Pclass [NUMERICAL]\n",
      "\t2 : SibSp [NUMERICAL]\n",
      "\n",
      "Condition type in nodes:\n",
      "\t291 : ObliqueCondition\n",
      "\t83 : ContainsBitmapCondition\n",
      "\t18 : ContainsCondition\n",
      "Condition type in nodes with depth <= 0:\n",
      "\t19 : ContainsBitmapCondition\n",
      "\t11 : ObliqueCondition\n",
      "Condition type in nodes with depth <= 1:\n",
      "\t62 : ObliqueCondition\n",
      "\t25 : ContainsBitmapCondition\n",
      "\t3 : ContainsCondition\n",
      "Condition type in nodes with depth <= 2:\n",
      "\t142 : ObliqueCondition\n",
      "\t53 : ContainsBitmapCondition\n",
      "\t7 : ContainsCondition\n",
      "Condition type in nodes with depth <= 3:\n",
      "\t291 : ObliqueCondition\n",
      "\t83 : ContainsBitmapCondition\n",
      "\t18 : ContainsCondition\n",
      "Condition type in nodes with depth <= 5:\n",
      "\t291 : ObliqueCondition\n",
      "\t83 : ContainsBitmapCondition\n",
      "\t18 : ContainsCondition\n",
      "\n",
      "Training logs:\n",
      "Number of iteration to final model: 30\n",
      "\tIter:1 train-loss:1.122923 valid-loss:1.254906  train-accuracy:0.653317 valid-accuracy:0.532609\n",
      "\tIter:2 train-loss:0.993969 valid-loss:1.171701  train-accuracy:0.861076 valid-accuracy:0.739130\n",
      "\tIter:3 train-loss:0.896382 valid-loss:1.104123  train-accuracy:0.872340 valid-accuracy:0.782609\n",
      "\tIter:4 train-loss:0.820562 valid-loss:1.063245  train-accuracy:0.886108 valid-accuracy:0.750000\n",
      "\tIter:5 train-loss:0.767644 valid-loss:1.044063  train-accuracy:0.896120 valid-accuracy:0.728261\n",
      "\tIter:6 train-loss:0.720419 valid-loss:1.035923  train-accuracy:0.896120 valid-accuracy:0.750000\n",
      "\tIter:16 train-loss:0.518611 valid-loss:0.973114  train-accuracy:0.914894 valid-accuracy:0.804348\n",
      "\tIter:26 train-loss:0.421938 valid-loss:0.978962  train-accuracy:0.937422 valid-accuracy:0.782609\n",
      "\tIter:36 train-loss:0.360274 valid-loss:0.992287  train-accuracy:0.959950 valid-accuracy:0.782609\n",
      "\tIter:46 train-loss:0.297485 valid-loss:1.022856  train-accuracy:0.974969 valid-accuracy:0.782609\n",
      "\tIter:56 train-loss:0.252854 valid-loss:1.043790  train-accuracy:0.977472 valid-accuracy:0.782609\n",
      "\n"
     ]
    }
   ],
   "source": [
    "model.summary()"
   ]
  },
  {
   "cell_type": "markdown",
   "id": "3bf008de",
   "metadata": {
    "papermill": {
     "duration": 0.014,
     "end_time": "2024-02-14T10:46:43.393234",
     "exception": false,
     "start_time": "2024-02-14T10:46:43.379234",
     "status": "completed"
    },
    "tags": []
   },
   "source": [
    "# Make predictions"
   ]
  },
  {
   "cell_type": "code",
   "execution_count": 9,
   "id": "f8e92795",
   "metadata": {
    "execution": {
     "iopub.execute_input": "2024-02-14T10:46:43.423799Z",
     "iopub.status.busy": "2024-02-14T10:46:43.423270Z",
     "iopub.status.idle": "2024-02-14T10:46:44.723887Z",
     "shell.execute_reply": "2024-02-14T10:46:44.722688Z"
    },
    "papermill": {
     "duration": 1.319891,
     "end_time": "2024-02-14T10:46:44.727479",
     "exception": false,
     "start_time": "2024-02-14T10:46:43.407588",
     "status": "completed"
    },
    "tags": []
   },
   "outputs": [
    {
     "name": "stdout",
     "output_type": "stream",
     "text": [
      "Submission exported to /kaggle/working/submission.csv\n",
      "PassengerId,Survived\r\n",
      "892,0\r\n",
      "893,0\r\n",
      "894,0\r\n",
      "895,0\r\n",
      "896,0\r\n",
      "897,0\r\n",
      "898,0\r\n",
      "899,0\r\n",
      "900,1\r\n"
     ]
    }
   ],
   "source": [
    "def prediction_to_kaggle_format(model, threshold=0.5):\n",
    "    proba_survive = model.predict(serving_ds, verbose=0)[:,0]\n",
    "    return pd.DataFrame({\n",
    "        \"PassengerId\": serving_df[\"PassengerId\"],\n",
    "        \"Survived\": (proba_survive >= threshold).astype(int)\n",
    "    })\n",
    "\n",
    "def make_submission(kaggle_predictions):\n",
    "    path=\"/kaggle/working/submission.csv\"\n",
    "    kaggle_predictions.to_csv(path, index=False)\n",
    "    print(f\"Submission exported to {path}\")\n",
    "    \n",
    "kaggle_predictions = prediction_to_kaggle_format(model)\n",
    "make_submission(kaggle_predictions)\n",
    "!head /kaggle/working/submission.csv"
   ]
  },
  {
   "cell_type": "markdown",
   "id": "9ca18a1e",
   "metadata": {
    "papermill": {
     "duration": 0.014037,
     "end_time": "2024-02-14T10:46:44.756312",
     "exception": false,
     "start_time": "2024-02-14T10:46:44.742275",
     "status": "completed"
    },
    "tags": []
   },
   "source": [
    "# Training a model with hyperparameter tunning\n",
    "\n",
    "Hyper-parameter tuning is enabled by specifying the tuner constructor argument of the model. The tuner object contains all the configuration of the tuner (search space, optimizer, trial and objective).\n"
   ]
  },
  {
   "cell_type": "code",
   "execution_count": 10,
   "id": "19409ab9",
   "metadata": {
    "execution": {
     "iopub.execute_input": "2024-02-14T10:46:44.788401Z",
     "iopub.status.busy": "2024-02-14T10:46:44.787945Z",
     "iopub.status.idle": "2024-02-14T10:49:07.152059Z",
     "shell.execute_reply": "2024-02-14T10:49:07.150652Z"
    },
    "papermill": {
     "duration": 142.384772,
     "end_time": "2024-02-14T10:49:07.155753",
     "exception": false,
     "start_time": "2024-02-14T10:46:44.770981",
     "status": "completed"
    },
    "tags": []
   },
   "outputs": [
    {
     "name": "stdout",
     "output_type": "stream",
     "text": [
      "Use /tmp/tmpmxbwp8z7 as temporary training directory\n",
      "Reading training dataset...\n",
      "Training dataset read in 0:00:00.393755. Found 891 examples.\n",
      "Training model...\n",
      "Model trained in 0:01:54.825378\n",
      "Compiling model...\n"
     ]
    },
    {
     "name": "stderr",
     "output_type": "stream",
     "text": [
      "[INFO 2024-02-14T10:48:40.036149306+00:00 kernel.cc:1214] Loading model from path /tmp/tmpmxbwp8z7/model/ with prefix 7fbaca2e1e024f37\n",
      "[INFO 2024-02-14T10:48:40.051621636+00:00 decision_forest.cc:661] Model loaded with 16 root(s), 452 node(s), and 12 input feature(s).\n",
      "[INFO 2024-02-14T10:48:40.051732961+00:00 abstract_model.cc:1311] Engine \"GradientBoostedTreesGeneric\" built\n",
      "[INFO 2024-02-14T10:48:40.05176395+00:00 kernel.cc:1046] Use fast generic engine\n"
     ]
    },
    {
     "name": "stdout",
     "output_type": "stream",
     "text": [
      "Model compiled.\n",
      "Accuracy: 0.8767123222351074 Loss:0.6485145092010498\n"
     ]
    }
   ],
   "source": [
    "tuner = tfdf.tuner.RandomSearch(num_trials=1000)\n",
    "tuner.choice(\"min_examples\", [2, 5, 7, 10])\n",
    "tuner.choice(\"categorical_algorithm\", [\"CART\", \"RANDOM\"])\n",
    "\n",
    "local_search_space = tuner.choice(\"growing_strategy\", [\"LOCAL\"])\n",
    "local_search_space.choice(\"max_depth\", [3, 4, 5, 6, 8])\n",
    "\n",
    "global_search_space = tuner.choice(\"growing_strategy\", [\"BEST_FIRST_GLOBAL\"], merge=True)\n",
    "global_search_space.choice(\"max_num_nodes\", [16, 32, 64, 128, 256])\n",
    "\n",
    "#tuner.choice(\"use_hessian_gain\", [True, False])\n",
    "tuner.choice(\"shrinkage\", [0.02, 0.05, 0.10, 0.15, 0.2])\n",
    "tuner.choice(\"num_candidate_attributes_ratio\", [0.2, 0.5, 0.9, 1.0])\n",
    "\n",
    "\n",
    "tuner.choice(\"split_axis\", [\"AXIS_ALIGNED\"])\n",
    "oblique_space = tuner.choice(\"split_axis\", [\"SPARSE_OBLIQUE\"], merge=True)\n",
    "oblique_space.choice(\"sparse_oblique_normalization\",\n",
    "                     [\"NONE\", \"STANDARD_DEVIATION\", \"MIN_MAX\"])\n",
    "oblique_space.choice(\"sparse_oblique_weights\", [\"BINARY\", \"CONTINUOUS\"])\n",
    "oblique_space.choice(\"sparse_oblique_num_projections_exponent\", [1.0, 1.5])\n",
    "\n",
    "# Tune the model. Notice the `tuner=tuner`.\n",
    "tuned_model = tfdf.keras.GradientBoostedTreesModel(tuner=tuner)\n",
    "tuned_model.fit(train_ds, verbose=1)\n",
    "\n",
    "tuned_self_evaluation = tuned_model.make_inspector().evaluation()\n",
    "print(f\"Accuracy: {tuned_self_evaluation.accuracy} Loss:{tuned_self_evaluation.loss}\")"
   ]
  },
  {
   "cell_type": "markdown",
   "id": "4026c672",
   "metadata": {
    "papermill": {
     "duration": 0.014995,
     "end_time": "2024-02-14T10:49:07.186042",
     "exception": false,
     "start_time": "2024-02-14T10:49:07.171047",
     "status": "completed"
    },
    "tags": []
   },
   "source": [
    "In the last line in the cell above, you can see the accuracy is higher than previously with default parameters and parameters set by hand.\n",
    "\n",
    "This is the main idea behing hyperparameter tuning.\n",
    "\n",
    "For more information you can follow this tutorial: [Automated hyper-parameter tuning](https://www.tensorflow.org/decision_forests/tutorials/automatic_tuning_colab)"
   ]
  },
  {
   "cell_type": "markdown",
   "id": "45e36d2f",
   "metadata": {
    "papermill": {
     "duration": 0.014844,
     "end_time": "2024-02-14T10:49:07.216929",
     "exception": false,
     "start_time": "2024-02-14T10:49:07.202085",
     "status": "completed"
    },
    "tags": []
   },
   "source": [
    "# Making an ensemble\n",
    "\n",
    "Here you'll create 100 models with different seeds and combine their results\n",
    "\n",
    "This approach removes a little bit the random aspects related to creating ML models\n",
    "\n",
    "In the GBT creation is used the `honest` parameter. It will use different training examples to infer the structure and the leaf values. This regularization technique trades examples for bias estimates."
   ]
  },
  {
   "cell_type": "code",
   "execution_count": 11,
   "id": "eebfb02a",
   "metadata": {
    "execution": {
     "iopub.execute_input": "2024-02-14T10:49:07.249843Z",
     "iopub.status.busy": "2024-02-14T10:49:07.249355Z",
     "iopub.status.idle": "2024-02-14T10:51:40.556802Z",
     "shell.execute_reply": "2024-02-14T10:51:40.555015Z"
    },
    "papermill": {
     "duration": 153.327755,
     "end_time": "2024-02-14T10:51:40.560086",
     "exception": false,
     "start_time": "2024-02-14T10:49:07.232331",
     "status": "completed"
    },
    "tags": []
   },
   "outputs": [
    {
     "name": "stdout",
     "output_type": "stream",
     "text": [
      "i:0\n"
     ]
    },
    {
     "name": "stderr",
     "output_type": "stream",
     "text": [
      "[INFO 2024-02-14T10:49:07.938555019+00:00 kernel.cc:1214] Loading model from path /tmp/tmpc4mmcr60/model/ with prefix 096d64a479984bcf\n",
      "[INFO 2024-02-14T10:49:07.943470817+00:00 abstract_model.cc:1311] Engine \"GradientBoostedTreesQuickScorerExtended\" built\n",
      "[INFO 2024-02-14T10:49:07.943520764+00:00 kernel.cc:1046] Use fast generic engine\n"
     ]
    },
    {
     "name": "stdout",
     "output_type": "stream",
     "text": [
      "i:1\n"
     ]
    },
    {
     "name": "stderr",
     "output_type": "stream",
     "text": [
      "[INFO 2024-02-14T10:49:09.601650928+00:00 kernel.cc:1214] Loading model from path /tmp/tmp8i77uytp/model/ with prefix 28ad314ae127499c\n",
      "[INFO 2024-02-14T10:49:09.622595799+00:00 kernel.cc:1046] Use fast generic engine\n"
     ]
    },
    {
     "name": "stdout",
     "output_type": "stream",
     "text": [
      "i:2\n"
     ]
    },
    {
     "name": "stderr",
     "output_type": "stream",
     "text": [
      "[INFO 2024-02-14T10:49:10.803440645+00:00 kernel.cc:1214] Loading model from path /tmp/tmpttqp0q7q/model/ with prefix 9612a5b3c73a4441\n",
      "[INFO 2024-02-14T10:49:10.808947255+00:00 kernel.cc:1046] Use fast generic engine\n"
     ]
    },
    {
     "name": "stdout",
     "output_type": "stream",
     "text": [
      "i:3\n"
     ]
    },
    {
     "name": "stderr",
     "output_type": "stream",
     "text": [
      "[INFO 2024-02-14T10:49:12.733302909+00:00 kernel.cc:1214] Loading model from path /tmp/tmp9hekdf2g/model/ with prefix 2ac8b5a1f12c4761\n",
      "[INFO 2024-02-14T10:49:12.761388117+00:00 kernel.cc:1046] Use fast generic engine\n"
     ]
    },
    {
     "name": "stdout",
     "output_type": "stream",
     "text": [
      "i:4\n"
     ]
    },
    {
     "name": "stderr",
     "output_type": "stream",
     "text": [
      "[INFO 2024-02-14T10:49:13.962639747+00:00 kernel.cc:1214] Loading model from path /tmp/tmpm6cqa_h3/model/ with prefix 208da44e12c448c7\n",
      "[INFO 2024-02-14T10:49:13.968837715+00:00 kernel.cc:1046] Use fast generic engine\n"
     ]
    },
    {
     "name": "stdout",
     "output_type": "stream",
     "text": [
      "i:5\n"
     ]
    },
    {
     "name": "stderr",
     "output_type": "stream",
     "text": [
      "[INFO 2024-02-14T10:49:15.11784376+00:00 kernel.cc:1214] Loading model from path /tmp/tmposnp_xq1/model/ with prefix f7aa373248464a75\n",
      "[INFO 2024-02-14T10:49:15.121246864+00:00 kernel.cc:1046] Use fast generic engine\n"
     ]
    },
    {
     "name": "stdout",
     "output_type": "stream",
     "text": [
      "i:6\n"
     ]
    },
    {
     "name": "stderr",
     "output_type": "stream",
     "text": [
      "[INFO 2024-02-14T10:49:17.028889951+00:00 kernel.cc:1214] Loading model from path /tmp/tmp3zvniji1/model/ with prefix 36c9fcfddc104c46\n",
      "[INFO 2024-02-14T10:49:17.037367954+00:00 kernel.cc:1046] Use fast generic engine\n"
     ]
    },
    {
     "name": "stdout",
     "output_type": "stream",
     "text": [
      "i:7\n"
     ]
    },
    {
     "name": "stderr",
     "output_type": "stream",
     "text": [
      "[INFO 2024-02-14T10:49:18.775647652+00:00 kernel.cc:1214] Loading model from path /tmp/tmpxz1zd_3_/model/ with prefix d62073c6447e49cb\n",
      "[INFO 2024-02-14T10:49:18.798473582+00:00 abstract_model.cc:1311] Engine \"GradientBoostedTreesQuickScorerExtended\" built\n",
      "[INFO 2024-02-14T10:49:18.798553066+00:00 kernel.cc:1046] Use fast generic engine\n"
     ]
    },
    {
     "name": "stdout",
     "output_type": "stream",
     "text": [
      "i:8\n"
     ]
    },
    {
     "name": "stderr",
     "output_type": "stream",
     "text": [
      "[INFO 2024-02-14T10:49:20.139101518+00:00 kernel.cc:1214] Loading model from path /tmp/tmpooh3wt3y/model/ with prefix 9b503492cb554b92\n",
      "[INFO 2024-02-14T10:49:20.150332702+00:00 kernel.cc:1046] Use fast generic engine\n"
     ]
    },
    {
     "name": "stdout",
     "output_type": "stream",
     "text": [
      "i:9\n"
     ]
    },
    {
     "name": "stderr",
     "output_type": "stream",
     "text": [
      "[INFO 2024-02-14T10:49:21.721851247+00:00 kernel.cc:1214] Loading model from path /tmp/tmpg0fomtno/model/ with prefix 7424ff73ccc845e4\n",
      "[INFO 2024-02-14T10:49:21.738755967+00:00 kernel.cc:1046] Use fast generic engine\n"
     ]
    },
    {
     "name": "stdout",
     "output_type": "stream",
     "text": [
      "i:10\n"
     ]
    },
    {
     "name": "stderr",
     "output_type": "stream",
     "text": [
      "[INFO 2024-02-14T10:49:23.009669453+00:00 kernel.cc:1214] Loading model from path /tmp/tmpnh27iffk/model/ with prefix 208af203998841a2\n",
      "[INFO 2024-02-14T10:49:23.016105337+00:00 kernel.cc:1046] Use fast generic engine\n"
     ]
    },
    {
     "name": "stdout",
     "output_type": "stream",
     "text": [
      "i:11\n"
     ]
    },
    {
     "name": "stderr",
     "output_type": "stream",
     "text": [
      "[INFO 2024-02-14T10:49:25.115024403+00:00 kernel.cc:1214] Loading model from path /tmp/tmpuzjkerww/model/ with prefix 31e4ca6c66364c1a\n",
      "[INFO 2024-02-14T10:49:25.132783353+00:00 kernel.cc:1046] Use fast generic engine\n"
     ]
    },
    {
     "name": "stdout",
     "output_type": "stream",
     "text": [
      "i:12\n"
     ]
    },
    {
     "name": "stderr",
     "output_type": "stream",
     "text": [
      "[INFO 2024-02-14T10:49:26.428047436+00:00 kernel.cc:1214] Loading model from path /tmp/tmpdmb38uez/model/ with prefix 002d0ec2e13d4e7d\n",
      "[INFO 2024-02-14T10:49:26.434946789+00:00 kernel.cc:1046] Use fast generic engine\n"
     ]
    },
    {
     "name": "stdout",
     "output_type": "stream",
     "text": [
      "i:13\n"
     ]
    },
    {
     "name": "stderr",
     "output_type": "stream",
     "text": [
      "[INFO 2024-02-14T10:49:28.37220697+00:00 kernel.cc:1214] Loading model from path /tmp/tmpqrghzswn/model/ with prefix 332e3c06a3e9477c\n",
      "[INFO 2024-02-14T10:49:28.385018374+00:00 kernel.cc:1046] Use fast generic engine\n"
     ]
    },
    {
     "name": "stdout",
     "output_type": "stream",
     "text": [
      "i:14\n"
     ]
    },
    {
     "name": "stderr",
     "output_type": "stream",
     "text": [
      "[INFO 2024-02-14T10:49:29.968870782+00:00 kernel.cc:1214] Loading model from path /tmp/tmpexbtiplf/model/ with prefix 869065ac4d3c41e5\n",
      "[INFO 2024-02-14T10:49:29.975708689+00:00 abstract_model.cc:1311] Engine \"GradientBoostedTreesQuickScorerExtended\" built\n",
      "[INFO 2024-02-14T10:49:29.975771371+00:00 kernel.cc:1046] Use fast generic engine\n"
     ]
    },
    {
     "name": "stdout",
     "output_type": "stream",
     "text": [
      "i:15\n"
     ]
    },
    {
     "name": "stderr",
     "output_type": "stream",
     "text": [
      "[INFO 2024-02-14T10:49:31.152391133+00:00 kernel.cc:1214] Loading model from path /tmp/tmp85n6lxbh/model/ with prefix aca7608179804d48\n",
      "[INFO 2024-02-14T10:49:31.160806166+00:00 kernel.cc:1046] Use fast generic engine\n"
     ]
    },
    {
     "name": "stdout",
     "output_type": "stream",
     "text": [
      "i:16\n"
     ]
    },
    {
     "name": "stderr",
     "output_type": "stream",
     "text": [
      "[INFO 2024-02-14T10:49:32.596252045+00:00 kernel.cc:1214] Loading model from path /tmp/tmpub_ww2va/model/ with prefix 58312ee09b6e410c\n",
      "[INFO 2024-02-14T10:49:32.610373817+00:00 kernel.cc:1046] Use fast generic engine\n"
     ]
    },
    {
     "name": "stdout",
     "output_type": "stream",
     "text": [
      "i:17\n"
     ]
    },
    {
     "name": "stderr",
     "output_type": "stream",
     "text": [
      "[INFO 2024-02-14T10:49:34.081755154+00:00 kernel.cc:1214] Loading model from path /tmp/tmp4o6c5c_b/model/ with prefix 89e6da8accee401d\n",
      "[INFO 2024-02-14T10:49:34.09638926+00:00 kernel.cc:1046] Use fast generic engine\n"
     ]
    },
    {
     "name": "stdout",
     "output_type": "stream",
     "text": [
      "i:18\n"
     ]
    },
    {
     "name": "stderr",
     "output_type": "stream",
     "text": [
      "[INFO 2024-02-14T10:49:35.800713878+00:00 kernel.cc:1214] Loading model from path /tmp/tmpkqc0tp02/model/ with prefix 8ecfc5f3b5384580\n",
      "[INFO 2024-02-14T10:49:35.814126489+00:00 kernel.cc:1046] Use fast generic engine\n"
     ]
    },
    {
     "name": "stdout",
     "output_type": "stream",
     "text": [
      "i:19\n"
     ]
    },
    {
     "name": "stderr",
     "output_type": "stream",
     "text": [
      "[INFO 2024-02-14T10:49:37.409489841+00:00 kernel.cc:1214] Loading model from path /tmp/tmpwlfqjk05/model/ with prefix 1ac5061befa94d1f\n",
      "[INFO 2024-02-14T10:49:37.429102657+00:00 kernel.cc:1046] Use fast generic engine\n"
     ]
    },
    {
     "name": "stdout",
     "output_type": "stream",
     "text": [
      "i:20\n"
     ]
    },
    {
     "name": "stderr",
     "output_type": "stream",
     "text": [
      "[INFO 2024-02-14T10:49:38.99295475+00:00 kernel.cc:1214] Loading model from path /tmp/tmp5pall50c/model/ with prefix b0c8d9fd463443c3\n",
      "[INFO 2024-02-14T10:49:39.009182533+00:00 kernel.cc:1046] Use fast generic engine\n"
     ]
    },
    {
     "name": "stdout",
     "output_type": "stream",
     "text": [
      "i:21\n"
     ]
    },
    {
     "name": "stderr",
     "output_type": "stream",
     "text": [
      "[INFO 2024-02-14T10:49:40.384457453+00:00 kernel.cc:1214] Loading model from path /tmp/tmp0prps_36/model/ with prefix 4037b0f1ae704009\n",
      "[INFO 2024-02-14T10:49:40.39045055+00:00 abstract_model.cc:1311] Engine \"GradientBoostedTreesQuickScorerExtended\" built\n",
      "[INFO 2024-02-14T10:49:40.390511262+00:00 kernel.cc:1046] Use fast generic engine\n"
     ]
    },
    {
     "name": "stdout",
     "output_type": "stream",
     "text": [
      "i:22\n"
     ]
    },
    {
     "name": "stderr",
     "output_type": "stream",
     "text": [
      "[INFO 2024-02-14T10:49:41.606209669+00:00 kernel.cc:1214] Loading model from path /tmp/tmpyk_5h3r6/model/ with prefix ecca414b12c04946\n",
      "[INFO 2024-02-14T10:49:41.612697862+00:00 kernel.cc:1046] Use fast generic engine\n"
     ]
    },
    {
     "name": "stdout",
     "output_type": "stream",
     "text": [
      "i:23\n"
     ]
    },
    {
     "name": "stderr",
     "output_type": "stream",
     "text": [
      "[INFO 2024-02-14T10:49:42.943783469+00:00 kernel.cc:1214] Loading model from path /tmp/tmplwwftkdr/model/ with prefix 32d7e721d4e34d9c\n",
      "[INFO 2024-02-14T10:49:42.953613926+00:00 kernel.cc:1046] Use fast generic engine\n"
     ]
    },
    {
     "name": "stdout",
     "output_type": "stream",
     "text": [
      "i:24\n"
     ]
    },
    {
     "name": "stderr",
     "output_type": "stream",
     "text": [
      "[INFO 2024-02-14T10:49:44.62557247+00:00 kernel.cc:1214] Loading model from path /tmp/tmprjr5uzd_/model/ with prefix abf94304709d4476\n",
      "[INFO 2024-02-14T10:49:44.632294553+00:00 kernel.cc:1046] Use fast generic engine\n"
     ]
    },
    {
     "name": "stdout",
     "output_type": "stream",
     "text": [
      "i:25\n"
     ]
    },
    {
     "name": "stderr",
     "output_type": "stream",
     "text": [
      "[INFO 2024-02-14T10:49:46.581837181+00:00 kernel.cc:1214] Loading model from path /tmp/tmpc2wl6jzp/model/ with prefix ab5cd8f3395c4806\n",
      "[INFO 2024-02-14T10:49:46.594848294+00:00 kernel.cc:1046] Use fast generic engine\n"
     ]
    },
    {
     "name": "stdout",
     "output_type": "stream",
     "text": [
      "i:26\n"
     ]
    },
    {
     "name": "stderr",
     "output_type": "stream",
     "text": [
      "[INFO 2024-02-14T10:49:47.9497464+00:00 kernel.cc:1214] Loading model from path /tmp/tmpqkb8xatr/model/ with prefix 77acb7f5682445ae\n",
      "[INFO 2024-02-14T10:49:47.960956663+00:00 kernel.cc:1046] Use fast generic engine\n"
     ]
    },
    {
     "name": "stdout",
     "output_type": "stream",
     "text": [
      "i:27\n"
     ]
    },
    {
     "name": "stderr",
     "output_type": "stream",
     "text": [
      "[INFO 2024-02-14T10:49:49.272775593+00:00 kernel.cc:1214] Loading model from path /tmp/tmpa2jg7kw2/model/ with prefix 156bec6ed2c0483a\n",
      "[INFO 2024-02-14T10:49:49.280326651+00:00 kernel.cc:1046] Use fast generic engine\n"
     ]
    },
    {
     "name": "stdout",
     "output_type": "stream",
     "text": [
      "i:28\n"
     ]
    },
    {
     "name": "stderr",
     "output_type": "stream",
     "text": [
      "[INFO 2024-02-14T10:49:51.019196985+00:00 kernel.cc:1214] Loading model from path /tmp/tmplvt3kh6y/model/ with prefix d5e71e9a92fc48e2\n",
      "[INFO 2024-02-14T10:49:51.025109965+00:00 abstract_model.cc:1311] Engine \"GradientBoostedTreesQuickScorerExtended\" built\n",
      "[INFO 2024-02-14T10:49:51.02515997+00:00 kernel.cc:1046] Use fast generic engine\n"
     ]
    },
    {
     "name": "stdout",
     "output_type": "stream",
     "text": [
      "i:29\n"
     ]
    },
    {
     "name": "stderr",
     "output_type": "stream",
     "text": [
      "[INFO 2024-02-14T10:49:52.543625245+00:00 kernel.cc:1214] Loading model from path /tmp/tmps47g7h99/model/ with prefix da67d546597b4545\n",
      "[INFO 2024-02-14T10:49:52.558828889+00:00 kernel.cc:1046] Use fast generic engine\n"
     ]
    },
    {
     "name": "stdout",
     "output_type": "stream",
     "text": [
      "i:30\n"
     ]
    },
    {
     "name": "stderr",
     "output_type": "stream",
     "text": [
      "[INFO 2024-02-14T10:49:54.570671478+00:00 kernel.cc:1214] Loading model from path /tmp/tmpvsl4395t/model/ with prefix 40934d89e8714de0\n",
      "[INFO 2024-02-14T10:49:54.601973421+00:00 kernel.cc:1046] Use fast generic engine\n"
     ]
    },
    {
     "name": "stdout",
     "output_type": "stream",
     "text": [
      "i:31\n"
     ]
    },
    {
     "name": "stderr",
     "output_type": "stream",
     "text": [
      "[INFO 2024-02-14T10:49:55.911391052+00:00 kernel.cc:1214] Loading model from path /tmp/tmpevzevgo6/model/ with prefix 6290749a7e3347d8\n",
      "[INFO 2024-02-14T10:49:55.922010396+00:00 kernel.cc:1046] Use fast generic engine\n"
     ]
    },
    {
     "name": "stdout",
     "output_type": "stream",
     "text": [
      "i:32\n"
     ]
    },
    {
     "name": "stderr",
     "output_type": "stream",
     "text": [
      "[INFO 2024-02-14T10:49:57.159814809+00:00 kernel.cc:1214] Loading model from path /tmp/tmpcut5qu7u/model/ with prefix 2e5363410f504d81\n",
      "[INFO 2024-02-14T10:49:57.166628907+00:00 kernel.cc:1046] Use fast generic engine\n"
     ]
    },
    {
     "name": "stdout",
     "output_type": "stream",
     "text": [
      "i:33\n"
     ]
    },
    {
     "name": "stderr",
     "output_type": "stream",
     "text": [
      "[INFO 2024-02-14T10:49:58.67453852+00:00 kernel.cc:1214] Loading model from path /tmp/tmp75bllsag/model/ with prefix f55550ec71404c6b\n",
      "[INFO 2024-02-14T10:49:58.689048149+00:00 kernel.cc:1046] Use fast generic engine\n"
     ]
    },
    {
     "name": "stdout",
     "output_type": "stream",
     "text": [
      "i:34\n"
     ]
    },
    {
     "name": "stderr",
     "output_type": "stream",
     "text": [
      "[INFO 2024-02-14T10:50:00.721814516+00:00 kernel.cc:1214] Loading model from path /tmp/tmpi0lgsu7f/model/ with prefix 0b28fda2bf88484b\n",
      "[INFO 2024-02-14T10:50:00.73288533+00:00 kernel.cc:1046] Use fast generic engine\n"
     ]
    },
    {
     "name": "stdout",
     "output_type": "stream",
     "text": [
      "i:35\n"
     ]
    },
    {
     "name": "stderr",
     "output_type": "stream",
     "text": [
      "[INFO 2024-02-14T10:50:02.130558966+00:00 kernel.cc:1214] Loading model from path /tmp/tmpe9xl34hm/model/ with prefix f43fde560f174ba0\n",
      "[INFO 2024-02-14T10:50:02.140096605+00:00 abstract_model.cc:1311] Engine \"GradientBoostedTreesQuickScorerExtended\" built\n",
      "[INFO 2024-02-14T10:50:02.140166991+00:00 kernel.cc:1046] Use fast generic engine\n"
     ]
    },
    {
     "name": "stdout",
     "output_type": "stream",
     "text": [
      "i:36\n"
     ]
    },
    {
     "name": "stderr",
     "output_type": "stream",
     "text": [
      "[INFO 2024-02-14T10:50:03.71787584+00:00 kernel.cc:1214] Loading model from path /tmp/tmpxufc1dz3/model/ with prefix 4330ba0e66fb4e23\n",
      "[INFO 2024-02-14T10:50:03.734356399+00:00 kernel.cc:1046] Use fast generic engine\n"
     ]
    },
    {
     "name": "stdout",
     "output_type": "stream",
     "text": [
      "i:37\n"
     ]
    },
    {
     "name": "stderr",
     "output_type": "stream",
     "text": [
      "[INFO 2024-02-14T10:50:05.005999376+00:00 kernel.cc:1214] Loading model from path /tmp/tmp6wjlb394/model/ with prefix caa153a936744701\n",
      "[INFO 2024-02-14T10:50:05.0158797+00:00 kernel.cc:1046] Use fast generic engine\n"
     ]
    },
    {
     "name": "stdout",
     "output_type": "stream",
     "text": [
      "i:38\n"
     ]
    },
    {
     "name": "stderr",
     "output_type": "stream",
     "text": [
      "[INFO 2024-02-14T10:50:06.553291316+00:00 kernel.cc:1214] Loading model from path /tmp/tmpjldnhn6k/model/ with prefix c4935b0039d8459f\n",
      "[INFO 2024-02-14T10:50:06.568504425+00:00 kernel.cc:1046] Use fast generic engine\n"
     ]
    },
    {
     "name": "stdout",
     "output_type": "stream",
     "text": [
      "i:39\n"
     ]
    },
    {
     "name": "stderr",
     "output_type": "stream",
     "text": [
      "[INFO 2024-02-14T10:50:08.238957434+00:00 kernel.cc:1214] Loading model from path /tmp/tmpbadl91ky/model/ with prefix 78b48918e8a84b77\n",
      "[INFO 2024-02-14T10:50:08.253145591+00:00 kernel.cc:1046] Use fast generic engine\n"
     ]
    },
    {
     "name": "stdout",
     "output_type": "stream",
     "text": [
      "i:40\n"
     ]
    },
    {
     "name": "stderr",
     "output_type": "stream",
     "text": [
      "[INFO 2024-02-14T10:50:09.76181312+00:00 kernel.cc:1214] Loading model from path /tmp/tmpjurt9lhu/model/ with prefix 65cb92088e104a56\n",
      "[INFO 2024-02-14T10:50:09.766814208+00:00 kernel.cc:1046] Use fast generic engine\n"
     ]
    },
    {
     "name": "stdout",
     "output_type": "stream",
     "text": [
      "i:41\n"
     ]
    },
    {
     "name": "stderr",
     "output_type": "stream",
     "text": [
      "[INFO 2024-02-14T10:50:11.27908999+00:00 kernel.cc:1214] Loading model from path /tmp/tmpn2m_bvzq/model/ with prefix bfe603ed473146c2\n",
      "[INFO 2024-02-14T10:50:11.295910359+00:00 kernel.cc:1046] Use fast generic engine\n"
     ]
    },
    {
     "name": "stdout",
     "output_type": "stream",
     "text": [
      "i:42\n"
     ]
    },
    {
     "name": "stderr",
     "output_type": "stream",
     "text": [
      "[INFO 2024-02-14T10:50:12.668230223+00:00 kernel.cc:1214] Loading model from path /tmp/tmphmd333il/model/ with prefix 352be5232ead4bd3\n",
      "[INFO 2024-02-14T10:50:12.678507976+00:00 abstract_model.cc:1311] Engine \"GradientBoostedTreesQuickScorerExtended\" built\n",
      "[INFO 2024-02-14T10:50:12.678557508+00:00 kernel.cc:1046] Use fast generic engine\n"
     ]
    },
    {
     "name": "stdout",
     "output_type": "stream",
     "text": [
      "i:43\n"
     ]
    },
    {
     "name": "stderr",
     "output_type": "stream",
     "text": [
      "[INFO 2024-02-14T10:50:14.317819879+00:00 kernel.cc:1214] Loading model from path /tmp/tmpqfg6xske/model/ with prefix e1ef0b7781944f28\n",
      "[INFO 2024-02-14T10:50:14.337947828+00:00 kernel.cc:1046] Use fast generic engine\n"
     ]
    },
    {
     "name": "stdout",
     "output_type": "stream",
     "text": [
      "i:44\n"
     ]
    },
    {
     "name": "stderr",
     "output_type": "stream",
     "text": [
      "[INFO 2024-02-14T10:50:15.776568718+00:00 kernel.cc:1214] Loading model from path /tmp/tmpemqky6dt/model/ with prefix 5ececbad37174cfd\n",
      "[INFO 2024-02-14T10:50:15.787352608+00:00 kernel.cc:1046] Use fast generic engine\n"
     ]
    },
    {
     "name": "stdout",
     "output_type": "stream",
     "text": [
      "i:45\n"
     ]
    },
    {
     "name": "stderr",
     "output_type": "stream",
     "text": [
      "[INFO 2024-02-14T10:50:16.977229313+00:00 kernel.cc:1214] Loading model from path /tmp/tmp3txssm70/model/ with prefix 27ac753102524964\n",
      "[INFO 2024-02-14T10:50:16.981167871+00:00 kernel.cc:1046] Use fast generic engine\n"
     ]
    },
    {
     "name": "stdout",
     "output_type": "stream",
     "text": [
      "i:46\n"
     ]
    },
    {
     "name": "stderr",
     "output_type": "stream",
     "text": [
      "[INFO 2024-02-14T10:50:18.549359798+00:00 kernel.cc:1214] Loading model from path /tmp/tmp0zl9cqh0/model/ with prefix 7005c8fd19da4cc7\n",
      "[INFO 2024-02-14T10:50:18.565221096+00:00 kernel.cc:1046] Use fast generic engine\n"
     ]
    },
    {
     "name": "stdout",
     "output_type": "stream",
     "text": [
      "i:47\n"
     ]
    },
    {
     "name": "stderr",
     "output_type": "stream",
     "text": [
      "[INFO 2024-02-14T10:50:20.101386432+00:00 kernel.cc:1214] Loading model from path /tmp/tmpi0os77qd/model/ with prefix 1d132230e92949dd\n",
      "[INFO 2024-02-14T10:50:20.115930661+00:00 kernel.cc:1046] Use fast generic engine\n"
     ]
    },
    {
     "name": "stdout",
     "output_type": "stream",
     "text": [
      "i:48\n"
     ]
    },
    {
     "name": "stderr",
     "output_type": "stream",
     "text": [
      "[INFO 2024-02-14T10:50:21.261456153+00:00 kernel.cc:1214] Loading model from path /tmp/tmp8l6zy_7x/model/ with prefix 229af04f8dd64dab\n",
      "[INFO 2024-02-14T10:50:21.266360665+00:00 kernel.cc:1046] Use fast generic engine\n"
     ]
    },
    {
     "name": "stdout",
     "output_type": "stream",
     "text": [
      "i:49\n"
     ]
    },
    {
     "name": "stderr",
     "output_type": "stream",
     "text": [
      "[INFO 2024-02-14T10:50:22.538801447+00:00 kernel.cc:1214] Loading model from path /tmp/tmp_51jpl6f/model/ with prefix 325054f479674042\n",
      "[INFO 2024-02-14T10:50:22.54709795+00:00 kernel.cc:1046] Use fast generic engine\n"
     ]
    },
    {
     "name": "stdout",
     "output_type": "stream",
     "text": [
      "i:50\n"
     ]
    },
    {
     "name": "stderr",
     "output_type": "stream",
     "text": [
      "[INFO 2024-02-14T10:50:24.055332503+00:00 kernel.cc:1214] Loading model from path /tmp/tmpevegh4ku/model/ with prefix 9e084917212a45ef\n",
      "[INFO 2024-02-14T10:50:24.068752765+00:00 abstract_model.cc:1311] Engine \"GradientBoostedTreesQuickScorerExtended\" built\n",
      "[INFO 2024-02-14T10:50:24.068809542+00:00 kernel.cc:1046] Use fast generic engine\n"
     ]
    },
    {
     "name": "stdout",
     "output_type": "stream",
     "text": [
      "i:51\n"
     ]
    },
    {
     "name": "stderr",
     "output_type": "stream",
     "text": [
      "[INFO 2024-02-14T10:50:26.043709505+00:00 kernel.cc:1214] Loading model from path /tmp/tmp2fm7mkz4/model/ with prefix ef5229b840124767\n",
      "[INFO 2024-02-14T10:50:26.063729571+00:00 kernel.cc:1046] Use fast generic engine\n"
     ]
    },
    {
     "name": "stdout",
     "output_type": "stream",
     "text": [
      "i:52\n"
     ]
    },
    {
     "name": "stderr",
     "output_type": "stream",
     "text": [
      "[INFO 2024-02-14T10:50:27.47729731+00:00 kernel.cc:1214] Loading model from path /tmp/tmp9tlq7u8_/model/ with prefix c50a9940c7ae4bb0\n",
      "[INFO 2024-02-14T10:50:27.4862288+00:00 kernel.cc:1046] Use fast generic engine\n"
     ]
    },
    {
     "name": "stdout",
     "output_type": "stream",
     "text": [
      "i:53\n"
     ]
    },
    {
     "name": "stderr",
     "output_type": "stream",
     "text": [
      "[INFO 2024-02-14T10:50:28.805269813+00:00 kernel.cc:1214] Loading model from path /tmp/tmpj34aygio/model/ with prefix d6313eea30ee4c1e\n",
      "[INFO 2024-02-14T10:50:28.813946582+00:00 kernel.cc:1046] Use fast generic engine\n"
     ]
    },
    {
     "name": "stdout",
     "output_type": "stream",
     "text": [
      "i:54\n"
     ]
    },
    {
     "name": "stderr",
     "output_type": "stream",
     "text": [
      "[INFO 2024-02-14T10:50:30.006095005+00:00 kernel.cc:1214] Loading model from path /tmp/tmp1e8wvrws/model/ with prefix cf529b858c824773\n",
      "[INFO 2024-02-14T10:50:30.010000801+00:00 kernel.cc:1046] Use fast generic engine\n"
     ]
    },
    {
     "name": "stdout",
     "output_type": "stream",
     "text": [
      "i:55\n"
     ]
    },
    {
     "name": "stderr",
     "output_type": "stream",
     "text": [
      "[INFO 2024-02-14T10:50:31.589358567+00:00 kernel.cc:1214] Loading model from path /tmp/tmp42yd1mx_/model/ with prefix 4f80339ef96e4819\n",
      "[INFO 2024-02-14T10:50:31.605828709+00:00 kernel.cc:1046] Use fast generic engine\n"
     ]
    },
    {
     "name": "stdout",
     "output_type": "stream",
     "text": [
      "i:56\n"
     ]
    },
    {
     "name": "stderr",
     "output_type": "stream",
     "text": [
      "[INFO 2024-02-14T10:50:33.021213709+00:00 kernel.cc:1214] Loading model from path /tmp/tmpdjr5ng4x/model/ with prefix fcb5459bbf234899\n",
      "[INFO 2024-02-14T10:50:33.034946067+00:00 kernel.cc:1046] Use fast generic engine\n"
     ]
    },
    {
     "name": "stdout",
     "output_type": "stream",
     "text": [
      "i:57\n"
     ]
    },
    {
     "name": "stderr",
     "output_type": "stream",
     "text": [
      "[INFO 2024-02-14T10:50:34.259148171+00:00 kernel.cc:1214] Loading model from path /tmp/tmpc6aq5rug/model/ with prefix 75067ffa4701447e\n",
      "[INFO 2024-02-14T10:50:34.263786518+00:00 abstract_model.cc:1311] Engine \"GradientBoostedTreesQuickScorerExtended\" built\n",
      "[INFO 2024-02-14T10:50:34.263855096+00:00 kernel.cc:1046] Use fast generic engine\n"
     ]
    },
    {
     "name": "stdout",
     "output_type": "stream",
     "text": [
      "i:58\n"
     ]
    },
    {
     "name": "stderr",
     "output_type": "stream",
     "text": [
      "[INFO 2024-02-14T10:50:36.422348349+00:00 kernel.cc:1214] Loading model from path /tmp/tmpa9ge22bo/model/ with prefix 4044b1966f724790\n",
      "[INFO 2024-02-14T10:50:36.432672133+00:00 kernel.cc:1046] Use fast generic engine\n"
     ]
    },
    {
     "name": "stdout",
     "output_type": "stream",
     "text": [
      "i:59\n"
     ]
    },
    {
     "name": "stderr",
     "output_type": "stream",
     "text": [
      "[INFO 2024-02-14T10:50:37.990752389+00:00 kernel.cc:1214] Loading model from path /tmp/tmpsl708he_/model/ with prefix a9a0cff8bf684735\n",
      "[INFO 2024-02-14T10:50:38.005879771+00:00 kernel.cc:1046] Use fast generic engine\n"
     ]
    },
    {
     "name": "stdout",
     "output_type": "stream",
     "text": [
      "i:60\n"
     ]
    },
    {
     "name": "stderr",
     "output_type": "stream",
     "text": [
      "[INFO 2024-02-14T10:50:39.521864272+00:00 kernel.cc:1214] Loading model from path /tmp/tmp7uvy8sfd/model/ with prefix b317eb52523847a2\n",
      "[INFO 2024-02-14T10:50:39.533468005+00:00 kernel.cc:1046] Use fast generic engine\n"
     ]
    },
    {
     "name": "stdout",
     "output_type": "stream",
     "text": [
      "i:61\n"
     ]
    },
    {
     "name": "stderr",
     "output_type": "stream",
     "text": [
      "[INFO 2024-02-14T10:50:40.791817078+00:00 kernel.cc:1214] Loading model from path /tmp/tmp1x72fo79/model/ with prefix c8eddf72e9e94a7d\n",
      "[INFO 2024-02-14T10:50:40.797151939+00:00 kernel.cc:1046] Use fast generic engine\n"
     ]
    },
    {
     "name": "stdout",
     "output_type": "stream",
     "text": [
      "i:62\n"
     ]
    },
    {
     "name": "stderr",
     "output_type": "stream",
     "text": [
      "[INFO 2024-02-14T10:50:43.285480996+00:00 kernel.cc:1214] Loading model from path /tmp/tmph_xhou9d/model/ with prefix ac18430a88e04faa\n",
      "[INFO 2024-02-14T10:50:43.314191628+00:00 kernel.cc:1046] Use fast generic engine\n"
     ]
    },
    {
     "name": "stdout",
     "output_type": "stream",
     "text": [
      "i:63\n"
     ]
    },
    {
     "name": "stderr",
     "output_type": "stream",
     "text": [
      "[INFO 2024-02-14T10:50:44.775003887+00:00 kernel.cc:1214] Loading model from path /tmp/tmpu7qh_qy1/model/ with prefix e07c15643e1c40bc\n",
      "[INFO 2024-02-14T10:50:44.785116055+00:00 abstract_model.cc:1311] Engine \"GradientBoostedTreesQuickScorerExtended\" built\n",
      "[INFO 2024-02-14T10:50:44.785163354+00:00 kernel.cc:1046] Use fast generic engine\n"
     ]
    },
    {
     "name": "stdout",
     "output_type": "stream",
     "text": [
      "i:64\n"
     ]
    },
    {
     "name": "stderr",
     "output_type": "stream",
     "text": [
      "[INFO 2024-02-14T10:50:46.575042115+00:00 kernel.cc:1214] Loading model from path /tmp/tmpxn9wo61f/model/ with prefix e59dc6cc32184b10\n",
      "[INFO 2024-02-14T10:50:46.583714954+00:00 kernel.cc:1046] Use fast generic engine\n"
     ]
    },
    {
     "name": "stdout",
     "output_type": "stream",
     "text": [
      "i:65\n"
     ]
    },
    {
     "name": "stderr",
     "output_type": "stream",
     "text": [
      "[INFO 2024-02-14T10:50:47.82452708+00:00 kernel.cc:1214] Loading model from path /tmp/tmp9zngowqs/model/ with prefix 3fbea1eb30bb4820\n",
      "[INFO 2024-02-14T10:50:47.83030395+00:00 kernel.cc:1046] Use fast generic engine\n"
     ]
    },
    {
     "name": "stdout",
     "output_type": "stream",
     "text": [
      "i:66\n"
     ]
    },
    {
     "name": "stderr",
     "output_type": "stream",
     "text": [
      "[INFO 2024-02-14T10:50:49.045099392+00:00 kernel.cc:1214] Loading model from path /tmp/tmprow_zp7r/model/ with prefix 152d97fedbdb4591\n",
      "[INFO 2024-02-14T10:50:49.052089283+00:00 kernel.cc:1046] Use fast generic engine\n"
     ]
    },
    {
     "name": "stdout",
     "output_type": "stream",
     "text": [
      "i:67\n"
     ]
    },
    {
     "name": "stderr",
     "output_type": "stream",
     "text": [
      "[INFO 2024-02-14T10:50:50.74450969+00:00 kernel.cc:1214] Loading model from path /tmp/tmp279_3i5t/model/ with prefix 17a9315606c748ec\n",
      "[INFO 2024-02-14T10:50:50.764922928+00:00 kernel.cc:1046] Use fast generic engine\n"
     ]
    },
    {
     "name": "stdout",
     "output_type": "stream",
     "text": [
      "i:68\n"
     ]
    },
    {
     "name": "stderr",
     "output_type": "stream",
     "text": [
      "[INFO 2024-02-14T10:50:52.180919028+00:00 kernel.cc:1214] Loading model from path /tmp/tmps98qvztg/model/ with prefix 8cba04fc561f4ef3\n",
      "[INFO 2024-02-14T10:50:52.193591748+00:00 kernel.cc:1046] Use fast generic engine\n"
     ]
    },
    {
     "name": "stdout",
     "output_type": "stream",
     "text": [
      "i:69\n"
     ]
    },
    {
     "name": "stderr",
     "output_type": "stream",
     "text": [
      "[INFO 2024-02-14T10:50:53.457333957+00:00 kernel.cc:1214] Loading model from path /tmp/tmpyofrjjz_/model/ with prefix 30278bf342624bc3\n",
      "[INFO 2024-02-14T10:50:53.464534481+00:00 kernel.cc:1046] Use fast generic engine\n"
     ]
    },
    {
     "name": "stdout",
     "output_type": "stream",
     "text": [
      "i:70\n"
     ]
    },
    {
     "name": "stderr",
     "output_type": "stream",
     "text": [
      "[INFO 2024-02-14T10:50:54.840640444+00:00 kernel.cc:1214] Loading model from path /tmp/tmppe13dehu/model/ with prefix 7e668c97feac44d3\n",
      "[INFO 2024-02-14T10:50:54.850639326+00:00 abstract_model.cc:1311] Engine \"GradientBoostedTreesQuickScorerExtended\" built\n",
      "[INFO 2024-02-14T10:50:54.850698041+00:00 kernel.cc:1046] Use fast generic engine\n"
     ]
    },
    {
     "name": "stdout",
     "output_type": "stream",
     "text": [
      "i:71\n"
     ]
    },
    {
     "name": "stderr",
     "output_type": "stream",
     "text": [
      "[INFO 2024-02-14T10:50:56.224099646+00:00 kernel.cc:1214] Loading model from path /tmp/tmp2dsrqqfa/model/ with prefix 831c764d167e4720\n",
      "[INFO 2024-02-14T10:50:56.233031396+00:00 kernel.cc:1046] Use fast generic engine\n"
     ]
    },
    {
     "name": "stdout",
     "output_type": "stream",
     "text": [
      "i:72\n"
     ]
    },
    {
     "name": "stderr",
     "output_type": "stream",
     "text": [
      "[INFO 2024-02-14T10:50:57.939365367+00:00 kernel.cc:1214] Loading model from path /tmp/tmp_6y2ykgn/model/ with prefix cc933a671cee43f9\n",
      "[INFO 2024-02-14T10:50:57.957359105+00:00 kernel.cc:1046] Use fast generic engine\n"
     ]
    },
    {
     "name": "stdout",
     "output_type": "stream",
     "text": [
      "i:73\n"
     ]
    },
    {
     "name": "stderr",
     "output_type": "stream",
     "text": [
      "[INFO 2024-02-14T10:50:59.207330843+00:00 kernel.cc:1214] Loading model from path /tmp/tmpc1zrtttz/model/ with prefix 96bda8b0fbd84593\n",
      "[INFO 2024-02-14T10:50:59.215262543+00:00 kernel.cc:1046] Use fast generic engine\n"
     ]
    },
    {
     "name": "stdout",
     "output_type": "stream",
     "text": [
      "i:74\n"
     ]
    },
    {
     "name": "stderr",
     "output_type": "stream",
     "text": [
      "[INFO 2024-02-14T10:51:00.693072697+00:00 kernel.cc:1214] Loading model from path /tmp/tmpji9ukpn5/model/ with prefix ce6ab60c349d416d\n",
      "[INFO 2024-02-14T10:51:00.706275514+00:00 kernel.cc:1046] Use fast generic engine\n"
     ]
    },
    {
     "name": "stdout",
     "output_type": "stream",
     "text": [
      "i:75\n"
     ]
    },
    {
     "name": "stderr",
     "output_type": "stream",
     "text": [
      "[INFO 2024-02-14T10:51:02.086518807+00:00 kernel.cc:1214] Loading model from path /tmp/tmpaawh_go0/model/ with prefix 19825612c3bc4d22\n",
      "[INFO 2024-02-14T10:51:02.096171176+00:00 kernel.cc:1046] Use fast generic engine\n"
     ]
    },
    {
     "name": "stdout",
     "output_type": "stream",
     "text": [
      "i:76\n"
     ]
    },
    {
     "name": "stderr",
     "output_type": "stream",
     "text": [
      "[INFO 2024-02-14T10:51:03.755334618+00:00 kernel.cc:1214] Loading model from path /tmp/tmp8li29xjp/model/ with prefix 8880117f79ab4604\n",
      "[INFO 2024-02-14T10:51:03.759864073+00:00 kernel.cc:1046] Use fast generic engine\n"
     ]
    },
    {
     "name": "stdout",
     "output_type": "stream",
     "text": [
      "i:77\n"
     ]
    },
    {
     "name": "stderr",
     "output_type": "stream",
     "text": [
      "[INFO 2024-02-14T10:51:05.591371355+00:00 kernel.cc:1214] Loading model from path /tmp/tmp0flzg29r/model/ with prefix 227c80ad8bc94d8e\n",
      "[INFO 2024-02-14T10:51:05.59720311+00:00 abstract_model.cc:1311] Engine \"GradientBoostedTreesQuickScorerExtended\" built\n",
      "[INFO 2024-02-14T10:51:05.597269141+00:00 kernel.cc:1046] Use fast generic engine\n"
     ]
    },
    {
     "name": "stdout",
     "output_type": "stream",
     "text": [
      "i:78\n"
     ]
    },
    {
     "name": "stderr",
     "output_type": "stream",
     "text": [
      "[INFO 2024-02-14T10:51:06.918187952+00:00 kernel.cc:1214] Loading model from path /tmp/tmpg_gm2izo/model/ with prefix 23bdc8467bb94cbc\n",
      "[INFO 2024-02-14T10:51:06.925558338+00:00 kernel.cc:1046] Use fast generic engine\n"
     ]
    },
    {
     "name": "stdout",
     "output_type": "stream",
     "text": [
      "i:79\n"
     ]
    },
    {
     "name": "stderr",
     "output_type": "stream",
     "text": [
      "[INFO 2024-02-14T10:51:08.266968929+00:00 kernel.cc:1214] Loading model from path /tmp/tmpfkxmiowb/model/ with prefix 602b56401f324dab\n",
      "[INFO 2024-02-14T10:51:08.275163139+00:00 kernel.cc:1046] Use fast generic engine\n"
     ]
    },
    {
     "name": "stdout",
     "output_type": "stream",
     "text": [
      "i:80\n"
     ]
    },
    {
     "name": "stderr",
     "output_type": "stream",
     "text": [
      "[INFO 2024-02-14T10:51:09.64006996+00:00 kernel.cc:1214] Loading model from path /tmp/tmpdkijrilp/model/ with prefix ae6d1521054e4d95\n",
      "[INFO 2024-02-14T10:51:09.65111572+00:00 kernel.cc:1046] Use fast generic engine\n"
     ]
    },
    {
     "name": "stdout",
     "output_type": "stream",
     "text": [
      "i:81\n"
     ]
    },
    {
     "name": "stderr",
     "output_type": "stream",
     "text": [
      "[INFO 2024-02-14T10:51:11.148094814+00:00 kernel.cc:1214] Loading model from path /tmp/tmp9wmo6gh8/model/ with prefix a3c8d97859d44197\n",
      "[INFO 2024-02-14T10:51:11.160253937+00:00 kernel.cc:1046] Use fast generic engine\n"
     ]
    },
    {
     "name": "stdout",
     "output_type": "stream",
     "text": [
      "i:82\n"
     ]
    },
    {
     "name": "stderr",
     "output_type": "stream",
     "text": [
      "[INFO 2024-02-14T10:51:12.545498052+00:00 kernel.cc:1214] Loading model from path /tmp/tmp4crbrs9i/model/ with prefix fce437b3da4b4184\n",
      "[INFO 2024-02-14T10:51:12.556447276+00:00 kernel.cc:1046] Use fast generic engine\n"
     ]
    },
    {
     "name": "stdout",
     "output_type": "stream",
     "text": [
      "i:83\n"
     ]
    },
    {
     "name": "stderr",
     "output_type": "stream",
     "text": [
      "[INFO 2024-02-14T10:51:13.937190883+00:00 kernel.cc:1214] Loading model from path /tmp/tmpagha6y3c/model/ with prefix 78806b785106430b\n",
      "[INFO 2024-02-14T10:51:13.947346078+00:00 kernel.cc:1046] Use fast generic engine\n"
     ]
    },
    {
     "name": "stdout",
     "output_type": "stream",
     "text": [
      "i:84\n"
     ]
    },
    {
     "name": "stderr",
     "output_type": "stream",
     "text": [
      "[INFO 2024-02-14T10:51:15.914197774+00:00 kernel.cc:1214] Loading model from path /tmp/tmpc19o18js/model/ with prefix fccf029d4ddd4226\n",
      "[INFO 2024-02-14T10:51:15.931068247+00:00 abstract_model.cc:1311] Engine \"GradientBoostedTreesQuickScorerExtended\" built\n",
      "[INFO 2024-02-14T10:51:15.93113584+00:00 kernel.cc:1046] Use fast generic engine\n"
     ]
    },
    {
     "name": "stdout",
     "output_type": "stream",
     "text": [
      "i:85\n"
     ]
    },
    {
     "name": "stderr",
     "output_type": "stream",
     "text": [
      "[INFO 2024-02-14T10:51:17.212468809+00:00 kernel.cc:1214] Loading model from path /tmp/tmpvez8gma_/model/ with prefix 31eb2a33b0f842cc\n",
      "[INFO 2024-02-14T10:51:17.219541841+00:00 kernel.cc:1046] Use fast generic engine\n"
     ]
    },
    {
     "name": "stdout",
     "output_type": "stream",
     "text": [
      "i:86\n"
     ]
    },
    {
     "name": "stderr",
     "output_type": "stream",
     "text": [
      "[INFO 2024-02-14T10:51:20.089396488+00:00 kernel.cc:1214] Loading model from path /tmp/tmp0nufkr0g/model/ with prefix 5fe1de1bb34e4f9c\n",
      "[INFO 2024-02-14T10:51:20.11317903+00:00 kernel.cc:1046] Use fast generic engine\n"
     ]
    },
    {
     "name": "stdout",
     "output_type": "stream",
     "text": [
      "i:87\n"
     ]
    },
    {
     "name": "stderr",
     "output_type": "stream",
     "text": [
      "[INFO 2024-02-14T10:51:21.90419228+00:00 kernel.cc:1214] Loading model from path /tmp/tmpzlatr8ia/model/ with prefix 68e84594ce0f4289\n",
      "[INFO 2024-02-14T10:51:21.927792512+00:00 kernel.cc:1046] Use fast generic engine\n"
     ]
    },
    {
     "name": "stdout",
     "output_type": "stream",
     "text": [
      "i:88\n"
     ]
    },
    {
     "name": "stderr",
     "output_type": "stream",
     "text": [
      "[INFO 2024-02-14T10:51:23.49147738+00:00 kernel.cc:1214] Loading model from path /tmp/tmpuom0cdcs/model/ with prefix 70e3e2e658694a7d\n",
      "[INFO 2024-02-14T10:51:23.505836953+00:00 kernel.cc:1046] Use fast generic engine\n"
     ]
    },
    {
     "name": "stdout",
     "output_type": "stream",
     "text": [
      "i:89\n"
     ]
    },
    {
     "name": "stderr",
     "output_type": "stream",
     "text": [
      "[INFO 2024-02-14T10:51:24.788318562+00:00 kernel.cc:1214] Loading model from path /tmp/tmp2xh4wv1q/model/ with prefix 2332771d44a943ec\n",
      "[INFO 2024-02-14T10:51:24.794136098+00:00 kernel.cc:1046] Use fast generic engine\n"
     ]
    },
    {
     "name": "stdout",
     "output_type": "stream",
     "text": [
      "i:90\n"
     ]
    },
    {
     "name": "stderr",
     "output_type": "stream",
     "text": [
      "[INFO 2024-02-14T10:51:26.197146168+00:00 kernel.cc:1214] Loading model from path /tmp/tmp5i6a3jqn/model/ with prefix bd75d7efe65546dd\n",
      "[INFO 2024-02-14T10:51:26.208467178+00:00 abstract_model.cc:1311] Engine \"GradientBoostedTreesQuickScorerExtended\" built\n",
      "[INFO 2024-02-14T10:51:26.208521112+00:00 kernel.cc:1046] Use fast generic engine\n"
     ]
    },
    {
     "name": "stdout",
     "output_type": "stream",
     "text": [
      "i:91\n"
     ]
    },
    {
     "name": "stderr",
     "output_type": "stream",
     "text": [
      "[INFO 2024-02-14T10:51:27.988430168+00:00 kernel.cc:1214] Loading model from path /tmp/tmp6r1tsxpl/model/ with prefix b52b73b0ae524a20\n",
      "[INFO 2024-02-14T10:51:27.995895436+00:00 kernel.cc:1046] Use fast generic engine\n"
     ]
    },
    {
     "name": "stdout",
     "output_type": "stream",
     "text": [
      "i:92\n"
     ]
    },
    {
     "name": "stderr",
     "output_type": "stream",
     "text": [
      "[INFO 2024-02-14T10:51:30.154758318+00:00 kernel.cc:1214] Loading model from path /tmp/tmpjns4um8p/model/ with prefix f40be848bba342c3\n",
      "[INFO 2024-02-14T10:51:30.175215414+00:00 kernel.cc:1046] Use fast generic engine\n"
     ]
    },
    {
     "name": "stdout",
     "output_type": "stream",
     "text": [
      "i:93\n"
     ]
    },
    {
     "name": "stderr",
     "output_type": "stream",
     "text": [
      "[INFO 2024-02-14T10:51:31.628188777+00:00 kernel.cc:1214] Loading model from path /tmp/tmpf0h40trt/model/ with prefix 4aa9ce82b46c4662\n",
      "[INFO 2024-02-14T10:51:31.640123323+00:00 kernel.cc:1046] Use fast generic engine\n"
     ]
    },
    {
     "name": "stdout",
     "output_type": "stream",
     "text": [
      "i:94\n"
     ]
    },
    {
     "name": "stderr",
     "output_type": "stream",
     "text": [
      "[INFO 2024-02-14T10:51:33.329470422+00:00 kernel.cc:1214] Loading model from path /tmp/tmpggp1covw/model/ with prefix e050fed3e724456d\n",
      "[INFO 2024-02-14T10:51:33.33690949+00:00 kernel.cc:1046] Use fast generic engine\n"
     ]
    },
    {
     "name": "stdout",
     "output_type": "stream",
     "text": [
      "i:95\n"
     ]
    },
    {
     "name": "stderr",
     "output_type": "stream",
     "text": [
      "[INFO 2024-02-14T10:51:34.601966104+00:00 kernel.cc:1214] Loading model from path /tmp/tmpzyo4257l/model/ with prefix b41be58e89a04047\n",
      "[INFO 2024-02-14T10:51:34.611407163+00:00 kernel.cc:1046] Use fast generic engine\n"
     ]
    },
    {
     "name": "stdout",
     "output_type": "stream",
     "text": [
      "i:96\n"
     ]
    },
    {
     "name": "stderr",
     "output_type": "stream",
     "text": [
      "[INFO 2024-02-14T10:51:35.978215167+00:00 kernel.cc:1214] Loading model from path /tmp/tmpe4afi2a_/model/ with prefix e6927ba18da84a00\n",
      "[INFO 2024-02-14T10:51:35.990075937+00:00 kernel.cc:1046] Use fast generic engine\n"
     ]
    },
    {
     "name": "stdout",
     "output_type": "stream",
     "text": [
      "i:97\n"
     ]
    },
    {
     "name": "stderr",
     "output_type": "stream",
     "text": [
      "[INFO 2024-02-14T10:51:37.124538344+00:00 kernel.cc:1214] Loading model from path /tmp/tmp1jb_2ban/model/ with prefix adffcf6e4d0d414b\n",
      "[INFO 2024-02-14T10:51:37.130175936+00:00 abstract_model.cc:1311] Engine \"GradientBoostedTreesQuickScorerExtended\" built\n",
      "[INFO 2024-02-14T10:51:37.130218122+00:00 kernel.cc:1046] Use fast generic engine\n"
     ]
    },
    {
     "name": "stdout",
     "output_type": "stream",
     "text": [
      "i:98\n"
     ]
    },
    {
     "name": "stderr",
     "output_type": "stream",
     "text": [
      "[INFO 2024-02-14T10:51:38.456230137+00:00 kernel.cc:1214] Loading model from path /tmp/tmp4qeisvip/model/ with prefix 437eff3c1a604e77\n",
      "[INFO 2024-02-14T10:51:38.465339153+00:00 kernel.cc:1046] Use fast generic engine\n"
     ]
    },
    {
     "name": "stdout",
     "output_type": "stream",
     "text": [
      "i:99\n"
     ]
    },
    {
     "name": "stderr",
     "output_type": "stream",
     "text": [
      "[INFO 2024-02-14T10:51:40.046047361+00:00 kernel.cc:1214] Loading model from path /tmp/tmpub64682d/model/ with prefix 10ad4c1037d04526\n",
      "[INFO 2024-02-14T10:51:40.061438386+00:00 kernel.cc:1046] Use fast generic engine\n"
     ]
    },
    {
     "name": "stdout",
     "output_type": "stream",
     "text": [
      "Submission exported to /kaggle/working/submission.csv\n"
     ]
    }
   ],
   "source": [
    "predictions = None\n",
    "num_predictions = 0\n",
    "\n",
    "for i in range(100):\n",
    "    print(f\"i:{i}\")\n",
    "    # Possible models: GradientBoostedTreesModel or RandomForestModel\n",
    "    model = tfdf.keras.GradientBoostedTreesModel(\n",
    "        verbose=0, # Very few logs\n",
    "        features=[tfdf.keras.FeatureUsage(name=n) for n in input_features],\n",
    "        exclude_non_specified_features=True, # Only use the features in \"features\"\n",
    "\n",
    "        #min_examples=1,\n",
    "        #categorical_algorithm=\"RANDOM\",\n",
    "        ##max_depth=4,\n",
    "        #shrinkage=0.05,\n",
    "        ##num_candidate_attributes_ratio=0.2,\n",
    "        #split_axis=\"SPARSE_OBLIQUE\",\n",
    "        #sparse_oblique_normalization=\"MIN_MAX\",\n",
    "        #sparse_oblique_num_projections_exponent=2.0,\n",
    "        #num_trees=2000,\n",
    "        ##validation_ratio=0.0,\n",
    "        random_seed=i,\n",
    "        honest=True,\n",
    "    )\n",
    "    model.fit(train_ds)\n",
    "    \n",
    "    sub_predictions = model.predict(serving_ds, verbose=0)[:,0]\n",
    "    if predictions is None:\n",
    "        predictions = sub_predictions\n",
    "    else:\n",
    "        predictions += sub_predictions\n",
    "    num_predictions += 1\n",
    "\n",
    "predictions/=num_predictions\n",
    "\n",
    "kaggle_predictions = pd.DataFrame({\n",
    "        \"PassengerId\": serving_df[\"PassengerId\"],\n",
    "        \"Survived\": (predictions >= 0.5).astype(int)\n",
    "    })\n",
    "\n",
    "make_submission(kaggle_predictions)"
   ]
  },
  {
   "cell_type": "markdown",
   "id": "8e52a273",
   "metadata": {
    "papermill": {
     "duration": 0.032464,
     "end_time": "2024-02-14T10:51:40.627310",
     "exception": false,
     "start_time": "2024-02-14T10:51:40.594846",
     "status": "completed"
    },
    "tags": []
   },
   "source": [
    "# What is next\n",
    "\n",
    "If you want to learn more about TensorFlow Decision Forests and its advanced features, you can follow the official documentation [here](https://www.tensorflow.org/decision_forests) "
   ]
  }
 ],
 "metadata": {
  "kaggle": {
   "accelerator": "none",
   "dataSources": [
    {
     "databundleVersionId": 26502,
     "sourceId": 3136,
     "sourceType": "competition"
    }
   ],
   "dockerImageVersionId": 30458,
   "isGpuEnabled": false,
   "isInternetEnabled": true,
   "language": "python",
   "sourceType": "notebook"
  },
  "kernelspec": {
   "display_name": "Python 3",
   "language": "python",
   "name": "python3"
  },
  "language_info": {
   "codemirror_mode": {
    "name": "ipython",
    "version": 3
   },
   "file_extension": ".py",
   "mimetype": "text/x-python",
   "name": "python",
   "nbconvert_exporter": "python",
   "pygments_lexer": "ipython3",
   "version": "3.7.12"
  },
  "papermill": {
   "default_parameters": {},
   "duration": 343.059632,
   "end_time": "2024-02-14T10:51:44.160669",
   "environment_variables": {},
   "exception": null,
   "input_path": "__notebook__.ipynb",
   "output_path": "__notebook__.ipynb",
   "parameters": {},
   "start_time": "2024-02-14T10:46:01.101037",
   "version": "2.4.0"
  }
 },
 "nbformat": 4,
 "nbformat_minor": 5
}
