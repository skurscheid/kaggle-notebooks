{
 "cells": [
  {
   "cell_type": "markdown",
   "id": "521edf9a",
   "metadata": {
    "papermill": {
     "duration": 0.009836,
     "end_time": "2024-02-11T15:36:53.033859",
     "exception": false,
     "start_time": "2024-02-11T15:36:53.024023",
     "status": "completed"
    },
    "tags": []
   },
   "source": [
    "# Titanic competition with TensorFlow Decision Forests\n",
    "\n",
    "This notebook will take you through the steps needed to train a baseline Gradient Boosted Trees Model using TensorFlow Decision Forests and creating a submission on the Titanic competition. \n",
    "\n",
    "This notebook shows:\n",
    "\n",
    "1. How to do some basic pre-processing. For example, the passenger names will be tokenized, and ticket names will be splitted in parts.\n",
    "1. How to train a Gradient Boosted Trees (GBT) with default parameters\n",
    "1. How to train a GBT with improved default parameters\n",
    "1. How to tune the parameters of a GBTs\n",
    "1. How to train and ensemble many GBTs"
   ]
  },
  {
   "cell_type": "markdown",
   "id": "fdce5ff2",
   "metadata": {
    "papermill": {
     "duration": 0.007829,
     "end_time": "2024-02-11T15:36:53.050295",
     "exception": false,
     "start_time": "2024-02-11T15:36:53.042466",
     "status": "completed"
    },
    "tags": []
   },
   "source": [
    "# Imports dependencies"
   ]
  },
  {
   "cell_type": "code",
   "execution_count": 1,
   "id": "c78ded28",
   "metadata": {
    "execution": {
     "iopub.execute_input": "2024-02-11T15:36:53.071232Z",
     "iopub.status.busy": "2024-02-11T15:36:53.070188Z",
     "iopub.status.idle": "2024-02-11T15:37:03.243970Z",
     "shell.execute_reply": "2024-02-11T15:37:03.241719Z"
    },
    "papermill": {
     "duration": 10.189001,
     "end_time": "2024-02-11T15:37:03.248070",
     "exception": false,
     "start_time": "2024-02-11T15:36:53.059069",
     "status": "completed"
    },
    "tags": []
   },
   "outputs": [
    {
     "name": "stdout",
     "output_type": "stream",
     "text": [
      "Found TF-DF 1.2.0\n"
     ]
    }
   ],
   "source": [
    "import numpy as np\n",
    "import pandas as pd\n",
    "import os\n",
    "\n",
    "import tensorflow as tf\n",
    "import tensorflow_decision_forests as tfdf\n",
    "\n",
    "print(f\"Found TF-DF {tfdf.__version__}\")"
   ]
  },
  {
   "cell_type": "markdown",
   "id": "5a8f3ef1",
   "metadata": {
    "papermill": {
     "duration": 0.008176,
     "end_time": "2024-02-11T15:37:03.264852",
     "exception": false,
     "start_time": "2024-02-11T15:37:03.256676",
     "status": "completed"
    },
    "tags": []
   },
   "source": [
    "# Load dataset"
   ]
  },
  {
   "cell_type": "code",
   "execution_count": 2,
   "id": "21725081",
   "metadata": {
    "execution": {
     "iopub.execute_input": "2024-02-11T15:37:03.285640Z",
     "iopub.status.busy": "2024-02-11T15:37:03.283472Z",
     "iopub.status.idle": "2024-02-11T15:37:03.364303Z",
     "shell.execute_reply": "2024-02-11T15:37:03.362681Z"
    },
    "papermill": {
     "duration": 0.094515,
     "end_time": "2024-02-11T15:37:03.367612",
     "exception": false,
     "start_time": "2024-02-11T15:37:03.273097",
     "status": "completed"
    },
    "tags": []
   },
   "outputs": [
    {
     "data": {
      "text/html": [
       "<div>\n",
       "<style scoped>\n",
       "    .dataframe tbody tr th:only-of-type {\n",
       "        vertical-align: middle;\n",
       "    }\n",
       "\n",
       "    .dataframe tbody tr th {\n",
       "        vertical-align: top;\n",
       "    }\n",
       "\n",
       "    .dataframe thead th {\n",
       "        text-align: right;\n",
       "    }\n",
       "</style>\n",
       "<table border=\"1\" class=\"dataframe\">\n",
       "  <thead>\n",
       "    <tr style=\"text-align: right;\">\n",
       "      <th></th>\n",
       "      <th>PassengerId</th>\n",
       "      <th>Survived</th>\n",
       "      <th>Pclass</th>\n",
       "      <th>Name</th>\n",
       "      <th>Sex</th>\n",
       "      <th>Age</th>\n",
       "      <th>SibSp</th>\n",
       "      <th>Parch</th>\n",
       "      <th>Ticket</th>\n",
       "      <th>Fare</th>\n",
       "      <th>Cabin</th>\n",
       "      <th>Embarked</th>\n",
       "    </tr>\n",
       "  </thead>\n",
       "  <tbody>\n",
       "    <tr>\n",
       "      <th>0</th>\n",
       "      <td>1</td>\n",
       "      <td>0</td>\n",
       "      <td>3</td>\n",
       "      <td>Braund, Mr. Owen Harris</td>\n",
       "      <td>male</td>\n",
       "      <td>22.0</td>\n",
       "      <td>1</td>\n",
       "      <td>0</td>\n",
       "      <td>A/5 21171</td>\n",
       "      <td>7.2500</td>\n",
       "      <td>NaN</td>\n",
       "      <td>S</td>\n",
       "    </tr>\n",
       "    <tr>\n",
       "      <th>1</th>\n",
       "      <td>2</td>\n",
       "      <td>1</td>\n",
       "      <td>1</td>\n",
       "      <td>Cumings, Mrs. John Bradley (Florence Briggs Th...</td>\n",
       "      <td>female</td>\n",
       "      <td>38.0</td>\n",
       "      <td>1</td>\n",
       "      <td>0</td>\n",
       "      <td>PC 17599</td>\n",
       "      <td>71.2833</td>\n",
       "      <td>C85</td>\n",
       "      <td>C</td>\n",
       "    </tr>\n",
       "    <tr>\n",
       "      <th>2</th>\n",
       "      <td>3</td>\n",
       "      <td>1</td>\n",
       "      <td>3</td>\n",
       "      <td>Heikkinen, Miss. Laina</td>\n",
       "      <td>female</td>\n",
       "      <td>26.0</td>\n",
       "      <td>0</td>\n",
       "      <td>0</td>\n",
       "      <td>STON/O2. 3101282</td>\n",
       "      <td>7.9250</td>\n",
       "      <td>NaN</td>\n",
       "      <td>S</td>\n",
       "    </tr>\n",
       "    <tr>\n",
       "      <th>3</th>\n",
       "      <td>4</td>\n",
       "      <td>1</td>\n",
       "      <td>1</td>\n",
       "      <td>Futrelle, Mrs. Jacques Heath (Lily May Peel)</td>\n",
       "      <td>female</td>\n",
       "      <td>35.0</td>\n",
       "      <td>1</td>\n",
       "      <td>0</td>\n",
       "      <td>113803</td>\n",
       "      <td>53.1000</td>\n",
       "      <td>C123</td>\n",
       "      <td>S</td>\n",
       "    </tr>\n",
       "    <tr>\n",
       "      <th>4</th>\n",
       "      <td>5</td>\n",
       "      <td>0</td>\n",
       "      <td>3</td>\n",
       "      <td>Allen, Mr. William Henry</td>\n",
       "      <td>male</td>\n",
       "      <td>35.0</td>\n",
       "      <td>0</td>\n",
       "      <td>0</td>\n",
       "      <td>373450</td>\n",
       "      <td>8.0500</td>\n",
       "      <td>NaN</td>\n",
       "      <td>S</td>\n",
       "    </tr>\n",
       "    <tr>\n",
       "      <th>5</th>\n",
       "      <td>6</td>\n",
       "      <td>0</td>\n",
       "      <td>3</td>\n",
       "      <td>Moran, Mr. James</td>\n",
       "      <td>male</td>\n",
       "      <td>NaN</td>\n",
       "      <td>0</td>\n",
       "      <td>0</td>\n",
       "      <td>330877</td>\n",
       "      <td>8.4583</td>\n",
       "      <td>NaN</td>\n",
       "      <td>Q</td>\n",
       "    </tr>\n",
       "    <tr>\n",
       "      <th>6</th>\n",
       "      <td>7</td>\n",
       "      <td>0</td>\n",
       "      <td>1</td>\n",
       "      <td>McCarthy, Mr. Timothy J</td>\n",
       "      <td>male</td>\n",
       "      <td>54.0</td>\n",
       "      <td>0</td>\n",
       "      <td>0</td>\n",
       "      <td>17463</td>\n",
       "      <td>51.8625</td>\n",
       "      <td>E46</td>\n",
       "      <td>S</td>\n",
       "    </tr>\n",
       "    <tr>\n",
       "      <th>7</th>\n",
       "      <td>8</td>\n",
       "      <td>0</td>\n",
       "      <td>3</td>\n",
       "      <td>Palsson, Master. Gosta Leonard</td>\n",
       "      <td>male</td>\n",
       "      <td>2.0</td>\n",
       "      <td>3</td>\n",
       "      <td>1</td>\n",
       "      <td>349909</td>\n",
       "      <td>21.0750</td>\n",
       "      <td>NaN</td>\n",
       "      <td>S</td>\n",
       "    </tr>\n",
       "    <tr>\n",
       "      <th>8</th>\n",
       "      <td>9</td>\n",
       "      <td>1</td>\n",
       "      <td>3</td>\n",
       "      <td>Johnson, Mrs. Oscar W (Elisabeth Vilhelmina Berg)</td>\n",
       "      <td>female</td>\n",
       "      <td>27.0</td>\n",
       "      <td>0</td>\n",
       "      <td>2</td>\n",
       "      <td>347742</td>\n",
       "      <td>11.1333</td>\n",
       "      <td>NaN</td>\n",
       "      <td>S</td>\n",
       "    </tr>\n",
       "    <tr>\n",
       "      <th>9</th>\n",
       "      <td>10</td>\n",
       "      <td>1</td>\n",
       "      <td>2</td>\n",
       "      <td>Nasser, Mrs. Nicholas (Adele Achem)</td>\n",
       "      <td>female</td>\n",
       "      <td>14.0</td>\n",
       "      <td>1</td>\n",
       "      <td>0</td>\n",
       "      <td>237736</td>\n",
       "      <td>30.0708</td>\n",
       "      <td>NaN</td>\n",
       "      <td>C</td>\n",
       "    </tr>\n",
       "  </tbody>\n",
       "</table>\n",
       "</div>"
      ],
      "text/plain": [
       "   PassengerId  Survived  Pclass  \\\n",
       "0            1         0       3   \n",
       "1            2         1       1   \n",
       "2            3         1       3   \n",
       "3            4         1       1   \n",
       "4            5         0       3   \n",
       "5            6         0       3   \n",
       "6            7         0       1   \n",
       "7            8         0       3   \n",
       "8            9         1       3   \n",
       "9           10         1       2   \n",
       "\n",
       "                                                Name     Sex   Age  SibSp  \\\n",
       "0                            Braund, Mr. Owen Harris    male  22.0      1   \n",
       "1  Cumings, Mrs. John Bradley (Florence Briggs Th...  female  38.0      1   \n",
       "2                             Heikkinen, Miss. Laina  female  26.0      0   \n",
       "3       Futrelle, Mrs. Jacques Heath (Lily May Peel)  female  35.0      1   \n",
       "4                           Allen, Mr. William Henry    male  35.0      0   \n",
       "5                                   Moran, Mr. James    male   NaN      0   \n",
       "6                            McCarthy, Mr. Timothy J    male  54.0      0   \n",
       "7                     Palsson, Master. Gosta Leonard    male   2.0      3   \n",
       "8  Johnson, Mrs. Oscar W (Elisabeth Vilhelmina Berg)  female  27.0      0   \n",
       "9                Nasser, Mrs. Nicholas (Adele Achem)  female  14.0      1   \n",
       "\n",
       "   Parch            Ticket     Fare Cabin Embarked  \n",
       "0      0         A/5 21171   7.2500   NaN        S  \n",
       "1      0          PC 17599  71.2833   C85        C  \n",
       "2      0  STON/O2. 3101282   7.9250   NaN        S  \n",
       "3      0            113803  53.1000  C123        S  \n",
       "4      0            373450   8.0500   NaN        S  \n",
       "5      0            330877   8.4583   NaN        Q  \n",
       "6      0             17463  51.8625   E46        S  \n",
       "7      1            349909  21.0750   NaN        S  \n",
       "8      2            347742  11.1333   NaN        S  \n",
       "9      0            237736  30.0708   NaN        C  "
      ]
     },
     "execution_count": 2,
     "metadata": {},
     "output_type": "execute_result"
    }
   ],
   "source": [
    "train_df = pd.read_csv(\"/kaggle/input/titanic/train.csv\")\n",
    "serving_df = pd.read_csv(\"/kaggle/input/titanic/test.csv\")\n",
    "\n",
    "train_df.head(10)"
   ]
  },
  {
   "cell_type": "markdown",
   "id": "4c158811",
   "metadata": {
    "papermill": {
     "duration": 0.008512,
     "end_time": "2024-02-11T15:37:03.385103",
     "exception": false,
     "start_time": "2024-02-11T15:37:03.376591",
     "status": "completed"
    },
    "tags": []
   },
   "source": [
    "# Prepare dataset\n",
    "\n",
    "We will apply the following transformations on the dataset.\n",
    "\n",
    "1. Tokenize the names. For example, \"Braund, Mr. Owen Harris\" will become [\"Braund\", \"Mr.\", \"Owen\", \"Harris\"].\n",
    "2. Extract any prefix in the ticket. For example ticket \"STON/O2. 3101282\" will become \"STON/O2.\" and 3101282."
   ]
  },
  {
   "cell_type": "code",
   "execution_count": 3,
   "id": "ec1464a3",
   "metadata": {
    "execution": {
     "iopub.execute_input": "2024-02-11T15:37:03.405558Z",
     "iopub.status.busy": "2024-02-11T15:37:03.405134Z",
     "iopub.status.idle": "2024-02-11T15:37:03.450875Z",
     "shell.execute_reply": "2024-02-11T15:37:03.449609Z"
    },
    "papermill": {
     "duration": 0.059638,
     "end_time": "2024-02-11T15:37:03.454020",
     "exception": false,
     "start_time": "2024-02-11T15:37:03.394382",
     "status": "completed"
    },
    "tags": []
   },
   "outputs": [
    {
     "data": {
      "text/html": [
       "<div>\n",
       "<style scoped>\n",
       "    .dataframe tbody tr th:only-of-type {\n",
       "        vertical-align: middle;\n",
       "    }\n",
       "\n",
       "    .dataframe tbody tr th {\n",
       "        vertical-align: top;\n",
       "    }\n",
       "\n",
       "    .dataframe thead th {\n",
       "        text-align: right;\n",
       "    }\n",
       "</style>\n",
       "<table border=\"1\" class=\"dataframe\">\n",
       "  <thead>\n",
       "    <tr style=\"text-align: right;\">\n",
       "      <th></th>\n",
       "      <th>PassengerId</th>\n",
       "      <th>Survived</th>\n",
       "      <th>Pclass</th>\n",
       "      <th>Name</th>\n",
       "      <th>Sex</th>\n",
       "      <th>Age</th>\n",
       "      <th>SibSp</th>\n",
       "      <th>Parch</th>\n",
       "      <th>Ticket</th>\n",
       "      <th>Fare</th>\n",
       "      <th>Cabin</th>\n",
       "      <th>Embarked</th>\n",
       "      <th>Ticket_number</th>\n",
       "      <th>Ticket_item</th>\n",
       "    </tr>\n",
       "  </thead>\n",
       "  <tbody>\n",
       "    <tr>\n",
       "      <th>0</th>\n",
       "      <td>1</td>\n",
       "      <td>0</td>\n",
       "      <td>3</td>\n",
       "      <td>Braund Mr Owen Harris</td>\n",
       "      <td>male</td>\n",
       "      <td>22.0</td>\n",
       "      <td>1</td>\n",
       "      <td>0</td>\n",
       "      <td>A/5 21171</td>\n",
       "      <td>7.2500</td>\n",
       "      <td>NaN</td>\n",
       "      <td>S</td>\n",
       "      <td>21171</td>\n",
       "      <td>A/5</td>\n",
       "    </tr>\n",
       "    <tr>\n",
       "      <th>1</th>\n",
       "      <td>2</td>\n",
       "      <td>1</td>\n",
       "      <td>1</td>\n",
       "      <td>Cumings Mrs John Bradley Florence Briggs Thayer</td>\n",
       "      <td>female</td>\n",
       "      <td>38.0</td>\n",
       "      <td>1</td>\n",
       "      <td>0</td>\n",
       "      <td>PC 17599</td>\n",
       "      <td>71.2833</td>\n",
       "      <td>C85</td>\n",
       "      <td>C</td>\n",
       "      <td>17599</td>\n",
       "      <td>PC</td>\n",
       "    </tr>\n",
       "    <tr>\n",
       "      <th>2</th>\n",
       "      <td>3</td>\n",
       "      <td>1</td>\n",
       "      <td>3</td>\n",
       "      <td>Heikkinen Miss Laina</td>\n",
       "      <td>female</td>\n",
       "      <td>26.0</td>\n",
       "      <td>0</td>\n",
       "      <td>0</td>\n",
       "      <td>STON/O2. 3101282</td>\n",
       "      <td>7.9250</td>\n",
       "      <td>NaN</td>\n",
       "      <td>S</td>\n",
       "      <td>3101282</td>\n",
       "      <td>STON/O2.</td>\n",
       "    </tr>\n",
       "    <tr>\n",
       "      <th>3</th>\n",
       "      <td>4</td>\n",
       "      <td>1</td>\n",
       "      <td>1</td>\n",
       "      <td>Futrelle Mrs Jacques Heath Lily May Peel</td>\n",
       "      <td>female</td>\n",
       "      <td>35.0</td>\n",
       "      <td>1</td>\n",
       "      <td>0</td>\n",
       "      <td>113803</td>\n",
       "      <td>53.1000</td>\n",
       "      <td>C123</td>\n",
       "      <td>S</td>\n",
       "      <td>113803</td>\n",
       "      <td>NONE</td>\n",
       "    </tr>\n",
       "    <tr>\n",
       "      <th>4</th>\n",
       "      <td>5</td>\n",
       "      <td>0</td>\n",
       "      <td>3</td>\n",
       "      <td>Allen Mr William Henry</td>\n",
       "      <td>male</td>\n",
       "      <td>35.0</td>\n",
       "      <td>0</td>\n",
       "      <td>0</td>\n",
       "      <td>373450</td>\n",
       "      <td>8.0500</td>\n",
       "      <td>NaN</td>\n",
       "      <td>S</td>\n",
       "      <td>373450</td>\n",
       "      <td>NONE</td>\n",
       "    </tr>\n",
       "  </tbody>\n",
       "</table>\n",
       "</div>"
      ],
      "text/plain": [
       "   PassengerId  Survived  Pclass  \\\n",
       "0            1         0       3   \n",
       "1            2         1       1   \n",
       "2            3         1       3   \n",
       "3            4         1       1   \n",
       "4            5         0       3   \n",
       "\n",
       "                                              Name     Sex   Age  SibSp  \\\n",
       "0                            Braund Mr Owen Harris    male  22.0      1   \n",
       "1  Cumings Mrs John Bradley Florence Briggs Thayer  female  38.0      1   \n",
       "2                             Heikkinen Miss Laina  female  26.0      0   \n",
       "3         Futrelle Mrs Jacques Heath Lily May Peel  female  35.0      1   \n",
       "4                           Allen Mr William Henry    male  35.0      0   \n",
       "\n",
       "   Parch            Ticket     Fare Cabin Embarked Ticket_number Ticket_item  \n",
       "0      0         A/5 21171   7.2500   NaN        S         21171         A/5  \n",
       "1      0          PC 17599  71.2833   C85        C         17599          PC  \n",
       "2      0  STON/O2. 3101282   7.9250   NaN        S       3101282    STON/O2.  \n",
       "3      0            113803  53.1000  C123        S        113803        NONE  \n",
       "4      0            373450   8.0500   NaN        S        373450        NONE  "
      ]
     },
     "execution_count": 3,
     "metadata": {},
     "output_type": "execute_result"
    }
   ],
   "source": [
    "def preprocess(df):\n",
    "    df = df.copy()\n",
    "    \n",
    "    def normalize_name(x):\n",
    "        return \" \".join([v.strip(\",()[].\\\"'\") for v in x.split(\" \")])\n",
    "    \n",
    "    # takes the last item of the ticket array; should always give an integer\n",
    "    def ticket_number(x):\n",
    "        return x.split(\" \")[-1]\n",
    "    \n",
    "    # creates a new string from the remaining ticket array\n",
    "    # concatenates if necessary\n",
    "    # make sure to not return empty strings, but rather NONE\n",
    "    def ticket_item(x):\n",
    "        items = x.split(\" \")\n",
    "        if len(items) == 1:\n",
    "            return \"NONE\"\n",
    "        return \"_\".join(items[0:-1])\n",
    "    \n",
    "    df[\"Name\"] = df[\"Name\"].apply(normalize_name)\n",
    "    df[\"Ticket_number\"] = df[\"Ticket\"].apply(ticket_number)\n",
    "    df[\"Ticket_item\"] = df[\"Ticket\"].apply(ticket_item)                     \n",
    "    return df\n",
    "    \n",
    "preprocessed_train_df = preprocess(train_df)\n",
    "preprocessed_serving_df = preprocess(serving_df)\n",
    "\n",
    "preprocessed_train_df.head(5)"
   ]
  },
  {
   "cell_type": "markdown",
   "id": "6ff8597a",
   "metadata": {
    "papermill": {
     "duration": 0.008989,
     "end_time": "2024-02-11T15:37:03.472122",
     "exception": false,
     "start_time": "2024-02-11T15:37:03.463133",
     "status": "completed"
    },
    "tags": []
   },
   "source": [
    "Let's keep the list of the input features of the model. Notably, we don't want to train our model on the \"PassengerId\" and \"Ticket\" features."
   ]
  },
  {
   "cell_type": "code",
   "execution_count": 4,
   "id": "d309fa31",
   "metadata": {
    "execution": {
     "iopub.execute_input": "2024-02-11T15:37:03.492745Z",
     "iopub.status.busy": "2024-02-11T15:37:03.492242Z",
     "iopub.status.idle": "2024-02-11T15:37:03.499370Z",
     "shell.execute_reply": "2024-02-11T15:37:03.498109Z"
    },
    "papermill": {
     "duration": 0.020858,
     "end_time": "2024-02-11T15:37:03.502209",
     "exception": false,
     "start_time": "2024-02-11T15:37:03.481351",
     "status": "completed"
    },
    "tags": []
   },
   "outputs": [
    {
     "name": "stdout",
     "output_type": "stream",
     "text": [
      "Input features: ['Pclass', 'Name', 'Sex', 'Age', 'SibSp', 'Parch', 'Fare', 'Cabin', 'Embarked', 'Ticket_number', 'Ticket_item']\n"
     ]
    }
   ],
   "source": [
    "input_features = list(preprocessed_train_df.columns)\n",
    "input_features.remove(\"Ticket\")\n",
    "input_features.remove(\"PassengerId\")\n",
    "input_features.remove(\"Survived\")\n",
    "#input_features.remove(\"Ticket_number\")\n",
    "\n",
    "print(f\"Input features: {input_features}\")"
   ]
  },
  {
   "cell_type": "markdown",
   "id": "c0248d56",
   "metadata": {
    "papermill": {
     "duration": 0.010065,
     "end_time": "2024-02-11T15:37:03.522308",
     "exception": false,
     "start_time": "2024-02-11T15:37:03.512243",
     "status": "completed"
    },
    "tags": []
   },
   "source": [
    "# Convert Pandas dataset to TensorFlow Dataset"
   ]
  },
  {
   "cell_type": "code",
   "execution_count": 5,
   "id": "5ec0e427",
   "metadata": {
    "execution": {
     "iopub.execute_input": "2024-02-11T15:37:03.544495Z",
     "iopub.status.busy": "2024-02-11T15:37:03.543952Z",
     "iopub.status.idle": "2024-02-11T15:37:03.921647Z",
     "shell.execute_reply": "2024-02-11T15:37:03.919891Z"
    },
    "papermill": {
     "duration": 0.393913,
     "end_time": "2024-02-11T15:37:03.925535",
     "exception": false,
     "start_time": "2024-02-11T15:37:03.531622",
     "status": "completed"
    },
    "tags": []
   },
   "outputs": [],
   "source": [
    "def tokenize_names(features, labels=None):\n",
    "    \"\"\"Divide the names into tokens. TF-DF can consume text tokens natively.\"\"\"\n",
    "    features[\"Name\"] =  tf.strings.split(features[\"Name\"])\n",
    "    return features, labels\n",
    "\n",
    "train_ds = tfdf.keras.pd_dataframe_to_tf_dataset(preprocessed_train_df,label=\"Survived\").map(tokenize_names)\n",
    "serving_ds = tfdf.keras.pd_dataframe_to_tf_dataset(preprocessed_serving_df).map(tokenize_names)"
   ]
  },
  {
   "cell_type": "markdown",
   "id": "ecfdad5f",
   "metadata": {
    "papermill": {
     "duration": 0.009307,
     "end_time": "2024-02-11T15:37:03.944654",
     "exception": false,
     "start_time": "2024-02-11T15:37:03.935347",
     "status": "completed"
    },
    "tags": []
   },
   "source": [
    "# Train model with default parameters\n",
    "\n",
    "### Train model\n",
    "\n",
    "First, we are training a GradientBoostedTreesModel model with the default parameters."
   ]
  },
  {
   "cell_type": "code",
   "execution_count": 6,
   "id": "54ffa15b",
   "metadata": {
    "execution": {
     "iopub.execute_input": "2024-02-11T15:37:03.966582Z",
     "iopub.status.busy": "2024-02-11T15:37:03.965321Z",
     "iopub.status.idle": "2024-02-11T15:37:17.095096Z",
     "shell.execute_reply": "2024-02-11T15:37:17.093637Z"
    },
    "papermill": {
     "duration": 13.143704,
     "end_time": "2024-02-11T15:37:17.097834",
     "exception": false,
     "start_time": "2024-02-11T15:37:03.954130",
     "status": "completed"
    },
    "tags": []
   },
   "outputs": [
    {
     "name": "stdout",
     "output_type": "stream",
     "text": [
      "Use 4 thread(s) for training\n",
      "Use /tmp/tmp7fom6wac as temporary training directory\n",
      "Reading training dataset...\n",
      "Training tensor examples:\n",
      "Features: {'PassengerId': <tf.Tensor 'data_7:0' shape=(None,) dtype=int64>, 'Pclass': <tf.Tensor 'data_8:0' shape=(None,) dtype=int64>, 'Name': tf.RaggedTensor(values=Tensor(\"data_4:0\", shape=(None,), dtype=string), row_splits=Tensor(\"data_5:0\", shape=(None,), dtype=int64)), 'Sex': <tf.Tensor 'data_9:0' shape=(None,) dtype=string>, 'Age': <tf.Tensor 'data:0' shape=(None,) dtype=float64>, 'SibSp': <tf.Tensor 'data_10:0' shape=(None,) dtype=int64>, 'Parch': <tf.Tensor 'data_6:0' shape=(None,) dtype=int64>, 'Ticket': <tf.Tensor 'data_11:0' shape=(None,) dtype=string>, 'Fare': <tf.Tensor 'data_3:0' shape=(None,) dtype=float64>, 'Cabin': <tf.Tensor 'data_1:0' shape=(None,) dtype=string>, 'Embarked': <tf.Tensor 'data_2:0' shape=(None,) dtype=string>, 'Ticket_number': <tf.Tensor 'data_13:0' shape=(None,) dtype=string>, 'Ticket_item': <tf.Tensor 'data_12:0' shape=(None,) dtype=string>}\n",
      "Label: Tensor(\"data_14:0\", shape=(None,), dtype=int64)\n",
      "Weights: None\n",
      "Normalized tensor features:\n",
      " {'Pclass': SemanticTensor(semantic=<Semantic.NUMERICAL: 1>, tensor=<tf.Tensor 'Cast:0' shape=(None,) dtype=float32>), 'Name': SemanticTensor(semantic=<Semantic.CATEGORICAL_SET: 4>, tensor=tf.RaggedTensor(values=Tensor(\"data_4:0\", shape=(None,), dtype=string), row_splits=Tensor(\"data_5:0\", shape=(None,), dtype=int64))), 'Sex': SemanticTensor(semantic=<Semantic.CATEGORICAL: 2>, tensor=<tf.Tensor 'data_9:0' shape=(None,) dtype=string>), 'Age': SemanticTensor(semantic=<Semantic.NUMERICAL: 1>, tensor=<tf.Tensor 'Cast_1:0' shape=(None,) dtype=float32>), 'SibSp': SemanticTensor(semantic=<Semantic.NUMERICAL: 1>, tensor=<tf.Tensor 'Cast_2:0' shape=(None,) dtype=float32>), 'Parch': SemanticTensor(semantic=<Semantic.NUMERICAL: 1>, tensor=<tf.Tensor 'Cast_3:0' shape=(None,) dtype=float32>), 'Fare': SemanticTensor(semantic=<Semantic.NUMERICAL: 1>, tensor=<tf.Tensor 'Cast_4:0' shape=(None,) dtype=float32>), 'Cabin': SemanticTensor(semantic=<Semantic.CATEGORICAL: 2>, tensor=<tf.Tensor 'data_1:0' shape=(None,) dtype=string>), 'Embarked': SemanticTensor(semantic=<Semantic.CATEGORICAL: 2>, tensor=<tf.Tensor 'data_2:0' shape=(None,) dtype=string>), 'Ticket_number': SemanticTensor(semantic=<Semantic.CATEGORICAL: 2>, tensor=<tf.Tensor 'data_13:0' shape=(None,) dtype=string>), 'Ticket_item': SemanticTensor(semantic=<Semantic.CATEGORICAL: 2>, tensor=<tf.Tensor 'data_12:0' shape=(None,) dtype=string>)}\n",
      "Training dataset read in 0:00:08.708903. Found 891 examples.\n",
      "Training model...\n",
      "Standard output detected as not visible to the user e.g. running in a notebook. Creating a training log redirection. If training gets stuck, try calling tfdf.keras.set_training_logs_redirection(False).\n"
     ]
    },
    {
     "name": "stderr",
     "output_type": "stream",
     "text": [
      "[INFO 2024-02-11T15:37:12.777787206+00:00 kernel.cc:756] Start Yggdrasil model training\n",
      "[INFO 2024-02-11T15:37:12.778862706+00:00 kernel.cc:757] Collect training examples\n",
      "[INFO 2024-02-11T15:37:12.781899162+00:00 kernel.cc:388] Number of batches: 1\n",
      "[INFO 2024-02-11T15:37:12.781930909+00:00 kernel.cc:389] Number of examples: 891\n",
      "[INFO 2024-02-11T15:37:12.783584709+00:00 data_spec_inference.cc:303] 147 item(s) have been pruned (i.e. they are considered out of dictionary) for the column Cabin (0 item(s) left) because min_value_count=5 and max_number_of_unique_values=2000\n",
      "[INFO 2024-02-11T15:37:12.784316381+00:00 data_spec_inference.cc:303] 1441 item(s) have been pruned (i.e. they are considered out of dictionary) for the column Name (85 item(s) left) because min_value_count=5 and max_number_of_unique_values=2000\n",
      "[INFO 2024-02-11T15:37:12.784722133+00:00 data_spec_inference.cc:303] 28 item(s) have been pruned (i.e. they are considered out of dictionary) for the column Ticket_item (16 item(s) left) because min_value_count=5 and max_number_of_unique_values=2000\n",
      "[INFO 2024-02-11T15:37:12.78508234+00:00 data_spec_inference.cc:303] 671 item(s) have been pruned (i.e. they are considered out of dictionary) for the column Ticket_number (8 item(s) left) because min_value_count=5 and max_number_of_unique_values=2000\n",
      "[INFO 2024-02-11T15:37:12.785899908+00:00 kernel.cc:774] Training dataset:\n",
      "Number of records: 891\n",
      "Number of columns: 12\n",
      "\n",
      "Number of columns by type:\n",
      "\tCATEGORICAL: 6 (50%)\n",
      "\tNUMERICAL: 5 (41.6667%)\n",
      "\tCATEGORICAL_SET: 1 (8.33333%)\n",
      "\n",
      "Columns:\n",
      "\n",
      "CATEGORICAL: 6 (50%)\n",
      "\t1: \"Cabin\" CATEGORICAL num-nas:687 (77.1044%) has-dict vocab-size:1 num-oods:147 (72.0588%)\n",
      "\t2: \"Embarked\" CATEGORICAL num-nas:2 (0.224467%) has-dict vocab-size:4 zero-ood-items most-frequent:\"S\" 644 (72.4409%)\n",
      "\t7: \"Sex\" CATEGORICAL has-dict vocab-size:3 zero-ood-items most-frequent:\"male\" 577 (64.7587%)\n",
      "\t9: \"Ticket_item\" CATEGORICAL has-dict vocab-size:17 num-oods:28 (3.14254%) most-frequent:\"NONE\" 665 (74.6352%)\n",
      "\t10: \"Ticket_number\" CATEGORICAL has-dict vocab-size:9 num-oods:671 (75.3086%) most-frequent:\"<OOD>\" 671 (75.3086%)\n",
      "\t11: \"__LABEL\" CATEGORICAL integerized vocab-size:3 no-ood-item\n",
      "\n",
      "NUMERICAL: 5 (41.6667%)\n",
      "\t0: \"Age\" NUMERICAL num-nas:177 (19.8653%) mean:29.6991 min:0.42 max:80 sd:14.5163\n",
      "\t3: \"Fare\" NUMERICAL mean:32.2042 min:0 max:512.329 sd:49.6655\n",
      "\t5: \"Parch\" NUMERICAL mean:0.381594 min:0 max:6 sd:0.805605\n",
      "\t6: \"Pclass\" NUMERICAL mean:2.30864 min:1 max:3 sd:0.835602\n",
      "\t8: \"SibSp\" NUMERICAL mean:0.523008 min:0 max:8 sd:1.10212\n",
      "\n",
      "CATEGORICAL_SET: 1 (8.33333%)\n",
      "\t4: \"Name\" CATEGORICAL_SET has-dict vocab-size:86 num-oods:1441 (161.728%) most-frequent:\"<OOD>\" 1441 (161.728%)\n",
      "\n",
      "Terminology:\n",
      "\tnas: Number of non-available (i.e. missing) values.\n",
      "\tood: Out of dictionary.\n",
      "\tmanually-defined: Attribute which type is manually defined by the user i.e. the type was not automatically inferred.\n",
      "\ttokenized: The attribute value is obtained through tokenization.\n",
      "\thas-dict: The attribute is attached to a string dictionary e.g. a categorical attribute stored as a string.\n",
      "\tvocab-size: Number of unique values.\n",
      "\n",
      "[INFO 2024-02-11T15:37:12.78944908+00:00 kernel.cc:790] Configure learner\n",
      "[INFO 2024-02-11T15:37:12.792114945+00:00 kernel.cc:804] Training config:\n",
      "learner: \"GRADIENT_BOOSTED_TREES\"\n",
      "features: \"^Age$\"\n",
      "features: \"^Cabin$\"\n",
      "features: \"^Embarked$\"\n",
      "features: \"^Fare$\"\n",
      "features: \"^Name$\"\n",
      "features: \"^Parch$\"\n",
      "features: \"^Pclass$\"\n",
      "features: \"^Sex$\"\n",
      "features: \"^SibSp$\"\n",
      "features: \"^Ticket_item$\"\n",
      "features: \"^Ticket_number$\"\n",
      "label: \"^__LABEL$\"\n",
      "task: CLASSIFICATION\n",
      "random_seed: 1234\n",
      "metadata {\n",
      "  framework: \"TF Keras\"\n",
      "}\n",
      "pure_serving_model: false\n",
      "[yggdrasil_decision_forests.model.gradient_boosted_trees.proto.gradient_boosted_trees_config] {\n",
      "  num_trees: 300\n",
      "  decision_tree {\n",
      "    max_depth: 6\n",
      "    min_examples: 5\n",
      "    in_split_min_examples_check: true\n",
      "    keep_non_leaf_label_distribution: true\n",
      "    num_candidate_attributes: -1\n",
      "    missing_value_policy: GLOBAL_IMPUTATION\n",
      "    allow_na_conditions: false\n",
      "    categorical_set_greedy_forward {\n",
      "      sampling: 0.1\n",
      "      max_num_items: -1\n",
      "      min_item_frequency: 1\n",
      "    }\n",
      "    growing_strategy_local {\n",
      "    }\n",
      "    categorical {\n",
      "      cart {\n",
      "      }\n",
      "    }\n",
      "    axis_aligned_split {\n",
      "    }\n",
      "    internal {\n",
      "      sorting_strategy: PRESORTED\n",
      "    }\n",
      "    uplift {\n",
      "      min_examples_in_treatment: 5\n",
      "      split_score: KULLBACK_LEIBLER\n",
      "    }\n",
      "  }\n",
      "  shrinkage: 0.1\n",
      "  loss: DEFAULT\n",
      "  validation_set_ratio: 0.1\n",
      "  validation_interval_in_trees: 1\n",
      "  early_stopping: VALIDATION_LOSS_INCREASE\n",
      "  early_stopping_num_trees_look_ahead: 30\n",
      "  l2_regularization: 0\n",
      "  lambda_loss: 1\n",
      "  mart {\n",
      "  }\n",
      "  adapt_subsample_for_maximum_training_duration: false\n",
      "  l1_regularization: 0\n",
      "  use_hessian_gain: false\n",
      "  l2_regularization_categorical: 1\n",
      "  stochastic_gradient_boosting {\n",
      "    ratio: 1\n",
      "  }\n",
      "  apply_link_function: true\n",
      "  compute_permutation_variable_importance: false\n",
      "  binary_focal_loss_options {\n",
      "    misprediction_exponent: 2\n",
      "    positive_sample_coefficient: 0.5\n",
      "  }\n",
      "  early_stopping_initial_iteration: 10\n",
      "}\n",
      "\n",
      "[INFO 2024-02-11T15:37:12.79410722+00:00 kernel.cc:807] Deployment config:\n",
      "cache_path: \"/tmp/tmp7fom6wac/working_cache\"\n",
      "num_threads: 4\n",
      "try_resume_training: true\n",
      "\n",
      "[INFO 2024-02-11T15:37:12.794739233+00:00 kernel.cc:868] Train model\n",
      "[INFO 2024-02-11T15:37:13.153993339+00:00 early_stopping.cc:53] Early stop of the training because the validation loss does not decrease anymore. Best valid-loss: 0.860894\n",
      "[INFO 2024-02-11T15:37:13.160403969+00:00 kernel.cc:905] Export model in log directory: /tmp/tmp7fom6wac with prefix 9bbbd07e5f6f4110\n",
      "[INFO 2024-02-11T15:37:13.162317204+00:00 kernel.cc:923] Save model in resources\n",
      "[INFO 2024-02-11T15:37:13.170220969+00:00 abstract_model.cc:849] Model self evaluation:\n",
      "Task: CLASSIFICATION\n",
      "Label: __LABEL\n",
      "Loss (BINOMIAL_LOG_LIKELIHOOD): 0.860894\n",
      "\n",
      "Accuracy: 0.826087  CI95[W][0 1]\n",
      "ErrorRate: : 0.173913\n",
      "\n",
      "\n",
      "Confusion Table:\n",
      "truth\\prediction\n",
      "   0   1   2\n",
      "0  0   0   0\n",
      "1  0  47   3\n",
      "2  0  13  29\n",
      "Total: 92\n",
      "\n",
      "One vs other classes:\n",
      "\n",
      "[INFO 2024-02-11T15:37:13.206314753+00:00 kernel.cc:1214] Loading model from path /tmp/tmp7fom6wac/model/ with prefix 9bbbd07e5f6f4110\n",
      "[INFO 2024-02-11T15:37:13.218093988+00:00 abstract_model.cc:1311] Engine \"GradientBoostedTreesQuickScorerExtended\" built\n",
      "[INFO 2024-02-11T15:37:13.218213534+00:00 kernel.cc:1046] Use fast generic engine\n"
     ]
    },
    {
     "name": "stdout",
     "output_type": "stream",
     "text": [
      "Model trained in 0:00:00.458762\n",
      "Compiling model...\n",
      "WARNING: AutoGraph could not transform <function simple_ml_inference_op_with_handle at 0x7c614e1594d0> and will run it as-is.\n",
      "Please report this to the TensorFlow team. When filing the bug, set the verbosity to 10 (on Linux, `export AUTOGRAPH_VERBOSITY=10`) and attach the full output.\n",
      "Cause: could not get source code\n",
      "To silence this warning, decorate the function with @tf.autograph.experimental.do_not_convert\n",
      "Model compiled.\n",
      "Accuracy: 0.8260869383811951 Loss:0.8608942627906799\n"
     ]
    }
   ],
   "source": [
    "model = tfdf.keras.GradientBoostedTreesModel(\n",
    "    # let's increase verbosity to get some insights\n",
    "    verbose=5, # increased to 5\n",
    "    features=[tfdf.keras.FeatureUsage(name=n) for n in input_features],\n",
    "    exclude_non_specified_features=True, # Only use the features in \"features\"\n",
    "    random_seed=1234,\n",
    ")\n",
    "model.fit(train_ds)\n",
    "\n",
    "self_evaluation = model.make_inspector().evaluation()\n",
    "print(f\"Accuracy: {self_evaluation.accuracy} Loss:{self_evaluation.loss}\")"
   ]
  },
  {
   "cell_type": "markdown",
   "id": "80245a84",
   "metadata": {
    "papermill": {
     "duration": 0.012097,
     "end_time": "2024-02-11T15:37:17.123148",
     "exception": false,
     "start_time": "2024-02-11T15:37:17.111051",
     "status": "completed"
    },
    "tags": []
   },
   "source": [
    "# Train model with improved default parameters\n",
    "\n",
    "Now you'll use some specific parameters when creating the GBT model"
   ]
  },
  {
   "cell_type": "code",
   "execution_count": 7,
   "id": "d4e81cb9",
   "metadata": {
    "execution": {
     "iopub.execute_input": "2024-02-11T15:37:17.149938Z",
     "iopub.status.busy": "2024-02-11T15:37:17.149230Z",
     "iopub.status.idle": "2024-02-11T15:37:18.985671Z",
     "shell.execute_reply": "2024-02-11T15:37:18.983744Z"
    },
    "papermill": {
     "duration": 1.853529,
     "end_time": "2024-02-11T15:37:18.988802",
     "exception": false,
     "start_time": "2024-02-11T15:37:17.135273",
     "status": "completed"
    },
    "tags": []
   },
   "outputs": [
    {
     "name": "stdout",
     "output_type": "stream",
     "text": [
      "Resolve hyper-parameter template \"benchmark_rank1@v1\" to \"benchmark_rank1@v1\" -> {'growing_strategy': 'BEST_FIRST_GLOBAL', 'categorical_algorithm': 'RANDOM', 'split_axis': 'SPARSE_OBLIQUE', 'sparse_oblique_normalization': 'MIN_MAX', 'sparse_oblique_num_projections_exponent': 1.0}.\n",
      "Use 4 thread(s) for training\n",
      "Use /tmp/tmpcr6seog2 as temporary training directory\n",
      "Reading training dataset...\n",
      "Training tensor examples:\n",
      "Features: {'PassengerId': <tf.Tensor 'data_7:0' shape=(None,) dtype=int64>, 'Pclass': <tf.Tensor 'data_8:0' shape=(None,) dtype=int64>, 'Name': tf.RaggedTensor(values=Tensor(\"data_4:0\", shape=(None,), dtype=string), row_splits=Tensor(\"data_5:0\", shape=(None,), dtype=int64)), 'Sex': <tf.Tensor 'data_9:0' shape=(None,) dtype=string>, 'Age': <tf.Tensor 'data:0' shape=(None,) dtype=float64>, 'SibSp': <tf.Tensor 'data_10:0' shape=(None,) dtype=int64>, 'Parch': <tf.Tensor 'data_6:0' shape=(None,) dtype=int64>, 'Ticket': <tf.Tensor 'data_11:0' shape=(None,) dtype=string>, 'Fare': <tf.Tensor 'data_3:0' shape=(None,) dtype=float64>, 'Cabin': <tf.Tensor 'data_1:0' shape=(None,) dtype=string>, 'Embarked': <tf.Tensor 'data_2:0' shape=(None,) dtype=string>, 'Ticket_number': <tf.Tensor 'data_13:0' shape=(None,) dtype=string>, 'Ticket_item': <tf.Tensor 'data_12:0' shape=(None,) dtype=string>}\n",
      "Label: Tensor(\"data_14:0\", shape=(None,), dtype=int64)\n",
      "Weights: None\n",
      "Normalized tensor features:\n",
      " {'Pclass': SemanticTensor(semantic=<Semantic.NUMERICAL: 1>, tensor=<tf.Tensor 'Cast:0' shape=(None,) dtype=float32>), 'Name': SemanticTensor(semantic=<Semantic.CATEGORICAL_SET: 4>, tensor=tf.RaggedTensor(values=Tensor(\"data_4:0\", shape=(None,), dtype=string), row_splits=Tensor(\"data_5:0\", shape=(None,), dtype=int64))), 'Sex': SemanticTensor(semantic=<Semantic.CATEGORICAL: 2>, tensor=<tf.Tensor 'data_9:0' shape=(None,) dtype=string>), 'Age': SemanticTensor(semantic=<Semantic.NUMERICAL: 1>, tensor=<tf.Tensor 'Cast_1:0' shape=(None,) dtype=float32>), 'SibSp': SemanticTensor(semantic=<Semantic.NUMERICAL: 1>, tensor=<tf.Tensor 'Cast_2:0' shape=(None,) dtype=float32>), 'Parch': SemanticTensor(semantic=<Semantic.NUMERICAL: 1>, tensor=<tf.Tensor 'Cast_3:0' shape=(None,) dtype=float32>), 'Fare': SemanticTensor(semantic=<Semantic.NUMERICAL: 1>, tensor=<tf.Tensor 'Cast_4:0' shape=(None,) dtype=float32>), 'Cabin': SemanticTensor(semantic=<Semantic.CATEGORICAL: 2>, tensor=<tf.Tensor 'data_1:0' shape=(None,) dtype=string>), 'Embarked': SemanticTensor(semantic=<Semantic.CATEGORICAL: 2>, tensor=<tf.Tensor 'data_2:0' shape=(None,) dtype=string>), 'Ticket_number': SemanticTensor(semantic=<Semantic.CATEGORICAL: 2>, tensor=<tf.Tensor 'data_13:0' shape=(None,) dtype=string>), 'Ticket_item': SemanticTensor(semantic=<Semantic.CATEGORICAL: 2>, tensor=<tf.Tensor 'data_12:0' shape=(None,) dtype=string>)}\n",
      "Training dataset read in 0:00:00.353195. Found 891 examples.\n",
      "Training model...\n"
     ]
    },
    {
     "name": "stderr",
     "output_type": "stream",
     "text": [
      "[INFO 2024-02-11T15:37:17.542154173+00:00 kernel.cc:756] Start Yggdrasil model training\n",
      "[INFO 2024-02-11T15:37:17.542204069+00:00 kernel.cc:757] Collect training examples\n",
      "[INFO 2024-02-11T15:37:17.542533953+00:00 kernel.cc:388] Number of batches: 1\n",
      "[INFO 2024-02-11T15:37:17.542552942+00:00 kernel.cc:389] Number of examples: 891\n",
      "[INFO 2024-02-11T15:37:17.543869269+00:00 data_spec_inference.cc:303] 147 item(s) have been pruned (i.e. they are considered out of dictionary) for the column Cabin (0 item(s) left) because min_value_count=5 and max_number_of_unique_values=2000\n",
      "[INFO 2024-02-11T15:37:17.544638637+00:00 data_spec_inference.cc:303] 1441 item(s) have been pruned (i.e. they are considered out of dictionary) for the column Name (85 item(s) left) because min_value_count=5 and max_number_of_unique_values=2000\n",
      "[INFO 2024-02-11T15:37:17.544941959+00:00 data_spec_inference.cc:303] 28 item(s) have been pruned (i.e. they are considered out of dictionary) for the column Ticket_item (16 item(s) left) because min_value_count=5 and max_number_of_unique_values=2000\n",
      "[INFO 2024-02-11T15:37:17.545205485+00:00 data_spec_inference.cc:303] 671 item(s) have been pruned (i.e. they are considered out of dictionary) for the column Ticket_number (8 item(s) left) because min_value_count=5 and max_number_of_unique_values=2000\n",
      "[INFO 2024-02-11T15:37:17.545816456+00:00 kernel.cc:774] Training dataset:\n",
      "Number of records: 891\n",
      "Number of columns: 12\n",
      "\n",
      "Number of columns by type:\n",
      "\tCATEGORICAL: 6 (50%)\n",
      "\tNUMERICAL: 5 (41.6667%)\n",
      "\tCATEGORICAL_SET: 1 (8.33333%)\n",
      "\n",
      "Columns:\n",
      "\n",
      "CATEGORICAL: 6 (50%)\n",
      "\t1: \"Cabin\" CATEGORICAL num-nas:687 (77.1044%) has-dict vocab-size:1 num-oods:147 (72.0588%)\n",
      "\t2: \"Embarked\" CATEGORICAL num-nas:2 (0.224467%) has-dict vocab-size:4 zero-ood-items most-frequent:\"S\" 644 (72.4409%)\n",
      "\t7: \"Sex\" CATEGORICAL has-dict vocab-size:3 zero-ood-items most-frequent:\"male\" 577 (64.7587%)\n",
      "\t9: \"Ticket_item\" CATEGORICAL has-dict vocab-size:17 num-oods:28 (3.14254%) most-frequent:\"NONE\" 665 (74.6352%)\n",
      "\t10: \"Ticket_number\" CATEGORICAL has-dict vocab-size:9 num-oods:671 (75.3086%) most-frequent:\"<OOD>\" 671 (75.3086%)\n",
      "\t11: \"__LABEL\" CATEGORICAL integerized vocab-size:3 no-ood-item\n",
      "\n",
      "NUMERICAL: 5 (41.6667%)\n",
      "\t0: \"Age\" NUMERICAL num-nas:177 (19.8653%) mean:29.6991 min:0.42 max:80 sd:14.5163\n",
      "\t3: \"Fare\" NUMERICAL mean:32.2042 min:0 max:512.329 sd:49.6655\n",
      "\t5: \"Parch\" NUMERICAL mean:0.381594 min:0 max:6 sd:0.805605\n",
      "\t6: \"Pclass\" NUMERICAL mean:2.30864 min:1 max:3 sd:0.835602\n",
      "\t8: \"SibSp\" NUMERICAL mean:0.523008 min:0 max:8 sd:1.10212\n",
      "\n",
      "CATEGORICAL_SET: 1 (8.33333%)\n",
      "\t4: \"Name\" CATEGORICAL_SET has-dict vocab-size:86 num-oods:1441 (161.728%) most-frequent:\"<OOD>\" 1441 (161.728%)\n",
      "\n",
      "Terminology:\n",
      "\tnas: Number of non-available (i.e. missing) values.\n",
      "\tood: Out of dictionary.\n",
      "\tmanually-defined: Attribute which type is manually defined by the user i.e. the type was not automatically inferred.\n",
      "\ttokenized: The attribute value is obtained through tokenization.\n",
      "\thas-dict: The attribute is attached to a string dictionary e.g. a categorical attribute stored as a string.\n",
      "\tvocab-size: Number of unique values.\n",
      "\n",
      "[INFO 2024-02-11T15:37:17.545880735+00:00 kernel.cc:790] Configure learner\n",
      "[INFO 2024-02-11T15:37:17.546245078+00:00 kernel.cc:804] Training config:\n",
      "learner: \"GRADIENT_BOOSTED_TREES\"\n",
      "features: \"^Age$\"\n",
      "features: \"^Cabin$\"\n",
      "features: \"^Embarked$\"\n",
      "features: \"^Fare$\"\n",
      "features: \"^Name$\"\n",
      "features: \"^Parch$\"\n",
      "features: \"^Pclass$\"\n",
      "features: \"^Sex$\"\n",
      "features: \"^SibSp$\"\n",
      "features: \"^Ticket_item$\"\n",
      "features: \"^Ticket_number$\"\n",
      "label: \"^__LABEL$\"\n",
      "task: CLASSIFICATION\n",
      "random_seed: 1234\n",
      "metadata {\n",
      "  framework: \"TF Keras\"\n",
      "}\n",
      "pure_serving_model: false\n",
      "[yggdrasil_decision_forests.model.gradient_boosted_trees.proto.gradient_boosted_trees_config] {\n",
      "  num_trees: 2000\n",
      "  decision_tree {\n",
      "    max_depth: 6\n",
      "    min_examples: 1\n",
      "    in_split_min_examples_check: true\n",
      "    keep_non_leaf_label_distribution: true\n",
      "    num_candidate_attributes: -1\n",
      "    missing_value_policy: GLOBAL_IMPUTATION\n",
      "    allow_na_conditions: false\n",
      "    categorical_set_greedy_forward {\n",
      "      sampling: 0.1\n",
      "      max_num_items: -1\n",
      "      min_item_frequency: 1\n",
      "    }\n",
      "    growing_strategy_best_first_global {\n",
      "    }\n",
      "    categorical {\n",
      "      random {\n",
      "      }\n",
      "    }\n",
      "    sparse_oblique_split {\n",
      "      num_projections_exponent: 2\n",
      "      normalization: MIN_MAX\n",
      "    }\n",
      "    internal {\n",
      "      sorting_strategy: PRESORTED\n",
      "    }\n",
      "    uplift {\n",
      "      min_examples_in_treatment: 5\n",
      "      split_score: KULLBACK_LEIBLER\n",
      "    }\n",
      "  }\n",
      "  shrinkage: 0.05\n",
      "  loss: DEFAULT\n",
      "  validation_set_ratio: 0.1\n",
      "  validation_interval_in_trees: 1\n",
      "  early_stopping: VALIDATION_LOSS_INCREASE\n",
      "  early_stopping_num_trees_look_ahead: 30\n",
      "  l2_regularization: 0\n",
      "  lambda_loss: 1\n",
      "  mart {\n",
      "  }\n",
      "  adapt_subsample_for_maximum_training_duration: false\n",
      "  l1_regularization: 0\n",
      "  use_hessian_gain: false\n",
      "  l2_regularization_categorical: 1\n",
      "  stochastic_gradient_boosting {\n",
      "    ratio: 1\n",
      "  }\n",
      "  apply_link_function: true\n",
      "  compute_permutation_variable_importance: true\n",
      "  binary_focal_loss_options {\n",
      "    misprediction_exponent: 2\n",
      "    positive_sample_coefficient: 0.5\n",
      "  }\n",
      "  early_stopping_initial_iteration: 10\n",
      "}\n",
      "\n",
      "[INFO 2024-02-11T15:37:17.546401873+00:00 kernel.cc:807] Deployment config:\n",
      "cache_path: \"/tmp/tmpcr6seog2/working_cache\"\n",
      "num_threads: 4\n",
      "try_resume_training: true\n",
      "\n",
      "[INFO 2024-02-11T15:37:17.546627846+00:00 kernel.cc:868] Train model\n",
      "[INFO 2024-02-11T15:37:18.528211036+00:00 early_stopping.cc:53] Early stop of the training because the validation loss does not decrease anymore. Best valid-loss: 1.05021\n",
      "[INFO 2024-02-11T15:37:18.539177328+00:00 decision_forest.cc:661] Model loaded with 42 root(s), 2562 node(s), and 10 input feature(s).\n",
      "[INFO 2024-02-11T15:37:18.539259553+00:00 abstract_model.cc:1311] Engine \"GradientBoostedTreesGeneric\" built\n",
      "[INFO 2024-02-11T15:37:18.541709084+00:00 feature_importance.cc:192] Running 12 features on 4 threads with 1 rounds\n",
      "[INFO 2024-02-11T15:37:18.545412015+00:00 decision_forest.cc:661] Model loaded with 42 root(s), 2562 node(s), and 10 input feature(s).\n",
      "[INFO 2024-02-11T15:37:18.546085701+00:00 decision_forest.cc:661] Model loaded with 42 root(s), 2562 node(s), and 10 input feature(s).\n",
      "[INFO 2024-02-11T15:37:18.549779851+00:00 decision_forest.cc:661] Model loaded with 42 root(s), 2562 node(s), and 10 input feature(s).\n",
      "[INFO 2024-02-11T15:37:18.550628629+00:00 decision_forest.cc:661] Model loaded with 42 root(s), 2562 node(s), and 10 input feature(s).\n",
      "[INFO 2024-02-11T15:37:18.553994808+00:00 decision_forest.cc:661] Model loaded with 42 root(s), 2562 node(s), and 10 input feature(s).\n",
      "[INFO 2024-02-11T15:37:18.554955134+00:00 decision_forest.cc:661] Model loaded with 42 root(s), 2562 node(s), and 10 input feature(s).\n",
      "[INFO 2024-02-11T15:37:18.558292199+00:00 decision_forest.cc:661] Model loaded with 42 root(s), 2562 node(s), and 10 input feature(s).\n",
      "[INFO 2024-02-11T15:37:18.559077694+00:00 decision_forest.cc:661] Model loaded with 42 root(s), 2562 node(s), and 10 input feature(s).\n",
      "[INFO 2024-02-11T15:37:18.559711152+00:00 decision_forest.cc:661] Model loaded with 42 root(s), 2562 node(s), and 10 input feature(s).\n",
      "[INFO 2024-02-11T15:37:18.559956349+00:00 decision_forest.cc:661] Model loaded with 42 root(s), 2562 node(s), and 10 input feature(s).\n",
      "[INFO 2024-02-11T15:37:18.562555746+00:00 decision_forest.cc:661] Model loaded with 42 root(s), 2562 node(s), and 10 input feature(s).\n",
      "[INFO 2024-02-11T15:37:18.565586779+00:00 kernel.cc:905] Export model in log directory: /tmp/tmpcr6seog2 with prefix a0aa459c3e19485e\n",
      "[INFO 2024-02-11T15:37:18.571225977+00:00 kernel.cc:923] Save model in resources\n",
      "[INFO 2024-02-11T15:37:18.575515613+00:00 abstract_model.cc:849] Model self evaluation:\n",
      "Task: CLASSIFICATION\n",
      "Label: __LABEL\n",
      "Loss (BINOMIAL_LOG_LIKELIHOOD): 1.05021\n",
      "\n",
      "Accuracy: 0.73913  CI95[W][0 1]\n",
      "ErrorRate: : 0.26087\n",
      "\n",
      "\n",
      "Confusion Table:\n",
      "truth\\prediction\n",
      "   0   1   2\n",
      "0  0   0   0\n",
      "1  0  42   8\n",
      "2  0  16  26\n",
      "Total: 92\n",
      "\n",
      "One vs other classes:\n",
      "\n",
      "[INFO 2024-02-11T15:37:18.596185876+00:00 kernel.cc:1214] Loading model from path /tmp/tmpcr6seog2/model/ with prefix a0aa459c3e19485e\n",
      "[INFO 2024-02-11T15:37:18.608881458+00:00 decision_forest.cc:661] Model loaded with 42 root(s), 2562 node(s), and 10 input feature(s).\n",
      "[INFO 2024-02-11T15:37:18.608958901+00:00 kernel.cc:1046] Use fast generic engine\n"
     ]
    },
    {
     "name": "stdout",
     "output_type": "stream",
     "text": [
      "Model trained in 0:00:01.080661\n",
      "Compiling model...\n",
      "Model compiled.\n",
      "Accuracy: 0.739130437374115 Loss:1.0502052307128906\n"
     ]
    }
   ],
   "source": [
    "model = tfdf.keras.GradientBoostedTreesModel(\n",
    "    verbose=5, # Very few logs\n",
    "    features=[tfdf.keras.FeatureUsage(name=n) for n in input_features],\n",
    "    exclude_non_specified_features=True, # Only use the features in \"features\"\n",
    "    \n",
    "    #num_trees=2000,\n",
    "    \n",
    "    # Only for GBT.\n",
    "    # A bit slower, but great to understand the model.\n",
    "    compute_permutation_variable_importance=True,\n",
    "    \n",
    "    # Change the default hyper-parameters\n",
    "    hyperparameter_template=\"benchmark_rank1@v1\",\n",
    "    \n",
    "    #num_trees=1000,\n",
    "    #tuner=tuner,\n",
    "    \n",
    "    min_examples=1,\n",
    "    categorical_algorithm=\"RANDOM\",\n",
    "    #max_depth=4,\n",
    "    shrinkage=0.05,\n",
    "    #num_candidate_attributes_ratio=0.2,\n",
    "    split_axis=\"SPARSE_OBLIQUE\",\n",
    "    sparse_oblique_normalization=\"MIN_MAX\",\n",
    "    sparse_oblique_num_projections_exponent=2.0,\n",
    "    num_trees=2000,\n",
    "    #validation_ratio=0.0,\n",
    "    random_seed=1234,\n",
    "    \n",
    ")\n",
    "model.fit(train_ds)\n",
    "\n",
    "self_evaluation = model.make_inspector().evaluation()\n",
    "print(f\"Accuracy: {self_evaluation.accuracy} Loss:{self_evaluation.loss}\")"
   ]
  },
  {
   "cell_type": "markdown",
   "id": "5714470e",
   "metadata": {
    "papermill": {
     "duration": 0.015263,
     "end_time": "2024-02-11T15:37:19.020055",
     "exception": false,
     "start_time": "2024-02-11T15:37:19.004792",
     "status": "completed"
    },
    "tags": []
   },
   "source": [
    "Let's look at the model and you can also notice the information about variable importance that the model figured out"
   ]
  },
  {
   "cell_type": "code",
   "execution_count": 8,
   "id": "1ec4adf6",
   "metadata": {
    "execution": {
     "iopub.execute_input": "2024-02-11T15:37:19.053561Z",
     "iopub.status.busy": "2024-02-11T15:37:19.052835Z",
     "iopub.status.idle": "2024-02-11T15:37:19.070693Z",
     "shell.execute_reply": "2024-02-11T15:37:19.068927Z"
    },
    "papermill": {
     "duration": 0.038867,
     "end_time": "2024-02-11T15:37:19.074642",
     "exception": false,
     "start_time": "2024-02-11T15:37:19.035775",
     "status": "completed"
    },
    "tags": []
   },
   "outputs": [
    {
     "name": "stdout",
     "output_type": "stream",
     "text": [
      "Model: \"gradient_boosted_trees_model_1\"\n",
      "_________________________________________________________________\n",
      " Layer (type)                Output Shape              Param #   \n",
      "=================================================================\n",
      "=================================================================\n",
      "Total params: 1\n",
      "Trainable params: 0\n",
      "Non-trainable params: 1\n",
      "_________________________________________________________________\n",
      "Type: \"GRADIENT_BOOSTED_TREES\"\n",
      "Task: CLASSIFICATION\n",
      "Label: \"__LABEL\"\n",
      "\n",
      "Input Features (11):\n",
      "\tAge\n",
      "\tCabin\n",
      "\tEmbarked\n",
      "\tFare\n",
      "\tName\n",
      "\tParch\n",
      "\tPclass\n",
      "\tSex\n",
      "\tSibSp\n",
      "\tTicket_item\n",
      "\tTicket_number\n",
      "\n",
      "No weights\n",
      "\n",
      "Variable Importance: INV_MEAN_MIN_DEPTH:\n",
      "    1.           \"Sex\"  0.611555 ################\n",
      "    2.           \"Age\"  0.343173 ######\n",
      "    3.          \"Fare\"  0.275439 ####\n",
      "    4.          \"Name\"  0.189713 #\n",
      "    5.        \"Pclass\"  0.172931 \n",
      "    6.   \"Ticket_item\"  0.169311 \n",
      "    7. \"Ticket_number\"  0.165249 \n",
      "    8.         \"Parch\"  0.164456 \n",
      "    9.      \"Embarked\"  0.163076 \n",
      "   10.         \"SibSp\"  0.158163 \n",
      "\n",
      "Variable Importance: MEAN_DECREASE_IN_ACCURACY:\n",
      "    1.           \"Sex\"  0.141304 ################\n",
      "    2.        \"Pclass\"  0.021739 ####\n",
      "    3.         \"Cabin\"  0.000000 ##\n",
      "    4.          \"Name\"  0.000000 ##\n",
      "    5. \"Ticket_number\"  0.000000 ##\n",
      "    6.         \"Parch\" -0.010870 #\n",
      "    7.   \"Ticket_item\" -0.010870 #\n",
      "    8.           \"Age\" -0.021739 \n",
      "    9.      \"Embarked\" -0.021739 \n",
      "   10.          \"Fare\" -0.021739 \n",
      "   11.         \"SibSp\" -0.021739 \n",
      "\n",
      "Variable Importance: MEAN_DECREASE_IN_AP_2_VS_OTHERS:\n",
      "    1.           \"Sex\"  0.234834 ################\n",
      "    2.        \"Pclass\"  0.072860 #####\n",
      "    3.          \"Fare\"  0.043001 ####\n",
      "    4.          \"Name\"  0.006890 #\n",
      "    5.   \"Ticket_item\"  0.004001 #\n",
      "    6.      \"Embarked\"  0.002263 #\n",
      "    7.           \"Age\"  0.001948 #\n",
      "    8. \"Ticket_number\"  0.001245 #\n",
      "    9.         \"Cabin\"  0.000773 #\n",
      "   10.         \"Parch\" -0.006976 \n",
      "   11.         \"SibSp\" -0.022359 \n",
      "\n",
      "Variable Importance: MEAN_DECREASE_IN_AUC_2_VS_OTHERS:\n",
      "    1.           \"Sex\"  0.124048 ################\n",
      "    2.          \"Fare\"  0.054286 #######\n",
      "    3.        \"Pclass\"  0.046429 ######\n",
      "    4.           \"Age\"  0.017143 ##\n",
      "    5.      \"Embarked\"  0.015238 ##\n",
      "    6.         \"Cabin\"  0.000952 \n",
      "    7. \"Ticket_number\"  0.000476 \n",
      "    8.   \"Ticket_item\" -0.000476 \n",
      "    9.         \"SibSp\" -0.001190 \n",
      "   10.          \"Name\" -0.001667 \n",
      "   11.         \"Parch\" -0.003333 \n",
      "\n",
      "Variable Importance: MEAN_DECREASE_IN_PRAUC_2_VS_OTHERS:\n",
      "    1.           \"Sex\"  0.227836 ################\n",
      "    2.        \"Pclass\"  0.070522 #####\n",
      "    3.          \"Fare\"  0.042147 ####\n",
      "    4.          \"Name\"  0.006690 #\n",
      "    5.   \"Ticket_item\"  0.004048 #\n",
      "    6.      \"Embarked\"  0.002131 #\n",
      "    7.           \"Age\"  0.001843 #\n",
      "    8. \"Ticket_number\"  0.001214 #\n",
      "    9.         \"Cabin\"  0.000768 #\n",
      "   10.         \"Parch\" -0.006841 #\n",
      "   11.         \"SibSp\" -0.022524 \n",
      "\n",
      "Variable Importance: NUM_AS_ROOT:\n",
      "    1.  \"Sex\" 37.000000 ################\n",
      "    2. \"Name\"  5.000000 \n",
      "\n",
      "Variable Importance: NUM_NODES:\n",
      "    1.           \"Age\" 587.000000 ################\n",
      "    2.          \"Fare\" 381.000000 ##########\n",
      "    3.          \"Name\" 92.000000 ##\n",
      "    4.   \"Ticket_item\" 62.000000 #\n",
      "    5.           \"Sex\" 40.000000 #\n",
      "    6.         \"Parch\" 36.000000 \n",
      "    7. \"Ticket_number\" 23.000000 \n",
      "    8.      \"Embarked\" 22.000000 \n",
      "    9.        \"Pclass\" 15.000000 \n",
      "   10.         \"SibSp\"  2.000000 \n",
      "\n",
      "Variable Importance: SUM_SCORE:\n",
      "    1.           \"Sex\" 522.801941 ################\n",
      "    2.           \"Age\" 447.179479 #############\n",
      "    3.          \"Fare\" 355.389805 ##########\n",
      "    4.          \"Name\" 69.770576 ##\n",
      "    5.        \"Pclass\" 35.931115 #\n",
      "    6.   \"Ticket_item\" 29.751246 \n",
      "    7.         \"Parch\" 22.243409 \n",
      "    8. \"Ticket_number\" 19.027313 \n",
      "    9.      \"Embarked\" 11.896268 \n",
      "   10.         \"SibSp\"  0.098062 \n",
      "\n",
      "\n",
      "\n",
      "Loss: BINOMIAL_LOG_LIKELIHOOD\n",
      "Validation loss value: 1.05021\n",
      "Number of trees per iteration: 1\n",
      "Node format: NOT_SET\n",
      "Number of trees: 42\n",
      "Total number of nodes: 2562\n",
      "\n",
      "Number of nodes by tree:\n",
      "Count: 42 Average: 61 StdDev: 0\n",
      "Min: 61 Max: 61 Ignored: 0\n",
      "----------------------------------------------\n",
      "[ 61, 61] 42 100.00% 100.00% ##########\n",
      "\n",
      "Depth by leafs:\n",
      "Count: 1302 Average: 5.32565 StdDev: 0.925788\n",
      "Min: 2 Max: 6 Ignored: 0\n",
      "----------------------------------------------\n",
      "[ 2, 3)   3   0.23%   0.23%\n",
      "[ 3, 4)  78   5.99%   6.22% #\n",
      "[ 4, 5) 163  12.52%  18.74% ##\n",
      "[ 5, 6) 306  23.50%  42.24% ####\n",
      "[ 6, 6] 752  57.76% 100.00% ##########\n",
      "\n",
      "Number of training obs by leaf:\n",
      "Count: 1302 Average: 0 StdDev: 0\n",
      "Min: 0 Max: 0 Ignored: 0\n",
      "----------------------------------------------\n",
      "[ 0, 0] 1302 100.00% 100.00% ##########\n",
      "\n",
      "Attribute in nodes:\n",
      "\t587 : Age [NUMERICAL]\n",
      "\t381 : Fare [NUMERICAL]\n",
      "\t92 : Name [CATEGORICAL_SET]\n",
      "\t62 : Ticket_item [CATEGORICAL]\n",
      "\t40 : Sex [CATEGORICAL]\n",
      "\t36 : Parch [NUMERICAL]\n",
      "\t23 : Ticket_number [CATEGORICAL]\n",
      "\t22 : Embarked [CATEGORICAL]\n",
      "\t15 : Pclass [NUMERICAL]\n",
      "\t2 : SibSp [NUMERICAL]\n",
      "\n",
      "Attribute in nodes with depth <= 0:\n",
      "\t37 : Sex [CATEGORICAL]\n",
      "\t5 : Name [CATEGORICAL_SET]\n",
      "\n",
      "Attribute in nodes with depth <= 1:\n",
      "\t41 : Age [NUMERICAL]\n",
      "\t37 : Sex [CATEGORICAL]\n",
      "\t29 : Fare [NUMERICAL]\n",
      "\t11 : Pclass [NUMERICAL]\n",
      "\t5 : Name [CATEGORICAL_SET]\n",
      "\t2 : Ticket_number [CATEGORICAL]\n",
      "\t1 : Parch [NUMERICAL]\n",
      "\n",
      "Attribute in nodes with depth <= 2:\n",
      "\t121 : Age [NUMERICAL]\n",
      "\t80 : Fare [NUMERICAL]\n",
      "\t37 : Sex [CATEGORICAL]\n",
      "\t19 : Name [CATEGORICAL_SET]\n",
      "\t11 : Pclass [NUMERICAL]\n",
      "\t8 : Ticket_item [CATEGORICAL]\n",
      "\t7 : Parch [NUMERICAL]\n",
      "\t6 : Ticket_number [CATEGORICAL]\n",
      "\t2 : Embarked [CATEGORICAL]\n",
      "\n",
      "Attribute in nodes with depth <= 3:\n",
      "\t239 : Age [NUMERICAL]\n",
      "\t166 : Fare [NUMERICAL]\n",
      "\t37 : Sex [CATEGORICAL]\n",
      "\t33 : Name [CATEGORICAL_SET]\n",
      "\t19 : Ticket_item [CATEGORICAL]\n",
      "\t17 : Parch [NUMERICAL]\n",
      "\t14 : Ticket_number [CATEGORICAL]\n",
      "\t11 : Pclass [NUMERICAL]\n",
      "\t7 : Embarked [CATEGORICAL]\n",
      "\n",
      "Attribute in nodes with depth <= 5:\n",
      "\t587 : Age [NUMERICAL]\n",
      "\t381 : Fare [NUMERICAL]\n",
      "\t92 : Name [CATEGORICAL_SET]\n",
      "\t62 : Ticket_item [CATEGORICAL]\n",
      "\t40 : Sex [CATEGORICAL]\n",
      "\t36 : Parch [NUMERICAL]\n",
      "\t23 : Ticket_number [CATEGORICAL]\n",
      "\t22 : Embarked [CATEGORICAL]\n",
      "\t15 : Pclass [NUMERICAL]\n",
      "\t2 : SibSp [NUMERICAL]\n",
      "\n",
      "Condition type in nodes:\n",
      "\t1021 : ObliqueCondition\n",
      "\t165 : ContainsBitmapCondition\n",
      "\t74 : ContainsCondition\n",
      "Condition type in nodes with depth <= 0:\n",
      "\t41 : ContainsBitmapCondition\n",
      "\t1 : ContainsCondition\n",
      "Condition type in nodes with depth <= 1:\n",
      "\t82 : ObliqueCondition\n",
      "\t43 : ContainsBitmapCondition\n",
      "\t1 : ContainsCondition\n",
      "Condition type in nodes with depth <= 2:\n",
      "\t219 : ObliqueCondition\n",
      "\t60 : ContainsBitmapCondition\n",
      "\t12 : ContainsCondition\n",
      "Condition type in nodes with depth <= 3:\n",
      "\t433 : ObliqueCondition\n",
      "\t85 : ContainsBitmapCondition\n",
      "\t25 : ContainsCondition\n",
      "Condition type in nodes with depth <= 5:\n",
      "\t1021 : ObliqueCondition\n",
      "\t165 : ContainsBitmapCondition\n",
      "\t74 : ContainsCondition\n",
      "\n",
      "Training logs:\n",
      "Number of iteration to final model: 42\n",
      "\tIter:1 train-loss:1.261200 valid-loss:1.366915  train-accuracy:0.624531 valid-accuracy:0.543478\n",
      "\tIter:2 train-loss:1.203236 valid-loss:1.331314  train-accuracy:0.624531 valid-accuracy:0.543478\n",
      "\tIter:3 train-loss:1.152296 valid-loss:1.300096  train-accuracy:0.624531 valid-accuracy:0.543478\n",
      "\tIter:4 train-loss:1.103903 valid-loss:1.275920  train-accuracy:0.624531 valid-accuracy:0.543478\n",
      "\tIter:5 train-loss:1.061592 valid-loss:1.254156  train-accuracy:0.816020 valid-accuracy:0.728261\n",
      "\tIter:6 train-loss:1.021464 valid-loss:1.228286  train-accuracy:0.843554 valid-accuracy:0.717391\n",
      "\tIter:16 train-loss:0.749953 valid-loss:1.101772  train-accuracy:0.921151 valid-accuracy:0.728261\n",
      "\tIter:26 train-loss:0.593136 valid-loss:1.061535  train-accuracy:0.934919 valid-accuracy:0.750000\n",
      "\tIter:36 train-loss:0.490701 valid-loss:1.057855  train-accuracy:0.941176 valid-accuracy:0.728261\n",
      "\tIter:46 train-loss:0.416346 valid-loss:1.054336  train-accuracy:0.948686 valid-accuracy:0.750000\n",
      "\tIter:56 train-loss:0.361065 valid-loss:1.066538  train-accuracy:0.954944 valid-accuracy:0.750000\n",
      "\tIter:66 train-loss:0.321980 valid-loss:1.082563  train-accuracy:0.959950 valid-accuracy:0.739130\n",
      "\n"
     ]
    }
   ],
   "source": [
    "model.summary()"
   ]
  },
  {
   "cell_type": "markdown",
   "id": "0e1ae568",
   "metadata": {
    "papermill": {
     "duration": 0.016982,
     "end_time": "2024-02-11T15:37:19.108364",
     "exception": false,
     "start_time": "2024-02-11T15:37:19.091382",
     "status": "completed"
    },
    "tags": []
   },
   "source": [
    "# Make predictions"
   ]
  },
  {
   "cell_type": "code",
   "execution_count": 9,
   "id": "3aafe7c9",
   "metadata": {
    "execution": {
     "iopub.execute_input": "2024-02-11T15:37:19.143736Z",
     "iopub.status.busy": "2024-02-11T15:37:19.143232Z",
     "iopub.status.idle": "2024-02-11T15:37:20.442410Z",
     "shell.execute_reply": "2024-02-11T15:37:20.440581Z"
    },
    "papermill": {
     "duration": 1.320408,
     "end_time": "2024-02-11T15:37:20.445669",
     "exception": false,
     "start_time": "2024-02-11T15:37:19.125261",
     "status": "completed"
    },
    "tags": []
   },
   "outputs": [
    {
     "name": "stdout",
     "output_type": "stream",
     "text": [
      "Submission exported to /kaggle/working/submission.csv\n",
      "PassengerId,Survived\r\n",
      "892,0\r\n",
      "893,0\r\n",
      "894,0\r\n",
      "895,0\r\n",
      "896,0\r\n",
      "897,0\r\n",
      "898,0\r\n",
      "899,0\r\n",
      "900,1\r\n"
     ]
    }
   ],
   "source": [
    "def prediction_to_kaggle_format(model, threshold=0.5):\n",
    "    proba_survive = model.predict(serving_ds, verbose=0)[:,0]\n",
    "    return pd.DataFrame({\n",
    "        \"PassengerId\": serving_df[\"PassengerId\"],\n",
    "        \"Survived\": (proba_survive >= threshold).astype(int)\n",
    "    })\n",
    "\n",
    "def make_submission(kaggle_predictions):\n",
    "    path=\"/kaggle/working/submission.csv\"\n",
    "    kaggle_predictions.to_csv(path, index=False)\n",
    "    print(f\"Submission exported to {path}\")\n",
    "    \n",
    "kaggle_predictions = prediction_to_kaggle_format(model)\n",
    "make_submission(kaggle_predictions)\n",
    "!head /kaggle/working/submission.csv"
   ]
  },
  {
   "cell_type": "markdown",
   "id": "07e5356d",
   "metadata": {
    "papermill": {
     "duration": 0.01584,
     "end_time": "2024-02-11T15:37:20.477669",
     "exception": false,
     "start_time": "2024-02-11T15:37:20.461829",
     "status": "completed"
    },
    "tags": []
   },
   "source": [
    "# Training a model with hyperparameter tunning\n",
    "\n",
    "Hyper-parameter tuning is enabled by specifying the tuner constructor argument of the model. The tuner object contains all the configuration of the tuner (search space, optimizer, trial and objective).\n"
   ]
  },
  {
   "cell_type": "code",
   "execution_count": 10,
   "id": "6ccdcc55",
   "metadata": {
    "execution": {
     "iopub.execute_input": "2024-02-11T15:37:20.512482Z",
     "iopub.status.busy": "2024-02-11T15:37:20.512019Z",
     "iopub.status.idle": "2024-02-11T15:39:25.335615Z",
     "shell.execute_reply": "2024-02-11T15:39:25.333954Z"
    },
    "papermill": {
     "duration": 124.845094,
     "end_time": "2024-02-11T15:39:25.338676",
     "exception": false,
     "start_time": "2024-02-11T15:37:20.493582",
     "status": "completed"
    },
    "tags": []
   },
   "outputs": [
    {
     "name": "stdout",
     "output_type": "stream",
     "text": [
      "Use /tmp/tmpma4kmp0n as temporary training directory\n"
     ]
    },
    {
     "name": "stderr",
     "output_type": "stream",
     "text": [
      "[INFO 2024-02-11T15:39:24.866517238+00:00 kernel.cc:1214] Loading model from path /tmp/tmpma4kmp0n/model/ with prefix 866ad786969d4bcf\n",
      "[INFO 2024-02-11T15:39:24.882952787+00:00 decision_forest.cc:661] Model loaded with 19 root(s), 589 node(s), and 12 input feature(s).\n",
      "[INFO 2024-02-11T15:39:24.883180819+00:00 abstract_model.cc:1311] Engine \"GradientBoostedTreesGeneric\" built\n",
      "[INFO 2024-02-11T15:39:24.883275884+00:00 kernel.cc:1046] Use fast generic engine\n"
     ]
    },
    {
     "name": "stdout",
     "output_type": "stream",
     "text": [
      "Accuracy: 0.9178082346916199 Loss:0.6503586769104004\n"
     ]
    }
   ],
   "source": [
    "tuner = tfdf.tuner.RandomSearch(num_trials=1000)\n",
    "tuner.choice(\"min_examples\", [2, 5, 7, 10])\n",
    "tuner.choice(\"categorical_algorithm\", [\"CART\", \"RANDOM\"])\n",
    "\n",
    "local_search_space = tuner.choice(\"growing_strategy\", [\"LOCAL\"])\n",
    "local_search_space.choice(\"max_depth\", [3, 4, 5, 6, 8])\n",
    "\n",
    "global_search_space = tuner.choice(\"growing_strategy\", [\"BEST_FIRST_GLOBAL\"], merge=True)\n",
    "global_search_space.choice(\"max_num_nodes\", [16, 32, 64, 128, 256])\n",
    "\n",
    "#tuner.choice(\"use_hessian_gain\", [True, False])\n",
    "tuner.choice(\"shrinkage\", [0.02, 0.05, 0.10, 0.15])\n",
    "tuner.choice(\"num_candidate_attributes_ratio\", [0.2, 0.5, 0.9, 1.0])\n",
    "\n",
    "\n",
    "tuner.choice(\"split_axis\", [\"AXIS_ALIGNED\"])\n",
    "oblique_space = tuner.choice(\"split_axis\", [\"SPARSE_OBLIQUE\"], merge=True)\n",
    "oblique_space.choice(\"sparse_oblique_normalization\",\n",
    "                     [\"NONE\", \"STANDARD_DEVIATION\", \"MIN_MAX\"])\n",
    "oblique_space.choice(\"sparse_oblique_weights\", [\"BINARY\", \"CONTINUOUS\"])\n",
    "oblique_space.choice(\"sparse_oblique_num_projections_exponent\", [1.0, 1.5])\n",
    "\n",
    "# Tune the model. Notice the `tuner=tuner`.\n",
    "tuned_model = tfdf.keras.GradientBoostedTreesModel(tuner=tuner)\n",
    "tuned_model.fit(train_ds, verbose=0)\n",
    "\n",
    "tuned_self_evaluation = tuned_model.make_inspector().evaluation()\n",
    "print(f\"Accuracy: {tuned_self_evaluation.accuracy} Loss:{tuned_self_evaluation.loss}\")"
   ]
  },
  {
   "cell_type": "markdown",
   "id": "72ace502",
   "metadata": {
    "papermill": {
     "duration": 0.016284,
     "end_time": "2024-02-11T15:39:25.371773",
     "exception": false,
     "start_time": "2024-02-11T15:39:25.355489",
     "status": "completed"
    },
    "tags": []
   },
   "source": [
    "In the last line in the cell above, you can see the accuracy is higher than previously with default parameters and parameters set by hand.\n",
    "\n",
    "This is the main idea behing hyperparameter tuning.\n",
    "\n",
    "For more information you can follow this tutorial: [Automated hyper-parameter tuning](https://www.tensorflow.org/decision_forests/tutorials/automatic_tuning_colab)"
   ]
  },
  {
   "cell_type": "markdown",
   "id": "3e02216d",
   "metadata": {
    "papermill": {
     "duration": 0.016334,
     "end_time": "2024-02-11T15:39:25.404429",
     "exception": false,
     "start_time": "2024-02-11T15:39:25.388095",
     "status": "completed"
    },
    "tags": []
   },
   "source": [
    "# Making an ensemble\n",
    "\n",
    "Here you'll create 100 models with different seeds and combine their results\n",
    "\n",
    "This approach removes a little bit the random aspects related to creating ML models\n",
    "\n",
    "In the GBT creation is used the `honest` parameter. It will use different training examples to infer the structure and the leaf values. This regularization technique trades examples for bias estimates."
   ]
  },
  {
   "cell_type": "code",
   "execution_count": 11,
   "id": "81fe79cd",
   "metadata": {
    "execution": {
     "iopub.execute_input": "2024-02-11T15:39:25.439650Z",
     "iopub.status.busy": "2024-02-11T15:39:25.439184Z",
     "iopub.status.idle": "2024-02-11T15:41:54.993331Z",
     "shell.execute_reply": "2024-02-11T15:41:54.991553Z"
    },
    "papermill": {
     "duration": 149.575736,
     "end_time": "2024-02-11T15:41:54.996542",
     "exception": false,
     "start_time": "2024-02-11T15:39:25.420806",
     "status": "completed"
    },
    "tags": []
   },
   "outputs": [
    {
     "name": "stdout",
     "output_type": "stream",
     "text": [
      "i:0\n"
     ]
    },
    {
     "name": "stderr",
     "output_type": "stream",
     "text": [
      "[INFO 2024-02-11T15:39:26.069007646+00:00 kernel.cc:1214] Loading model from path /tmp/tmpqcs3xslq/model/ with prefix bf8bafb2d0194f17\n",
      "[INFO 2024-02-11T15:39:26.073981825+00:00 kernel.cc:1046] Use fast generic engine\n"
     ]
    },
    {
     "name": "stdout",
     "output_type": "stream",
     "text": [
      "i:1\n"
     ]
    },
    {
     "name": "stderr",
     "output_type": "stream",
     "text": [
      "[INFO 2024-02-11T15:39:27.662971015+00:00 kernel.cc:1214] Loading model from path /tmp/tmpqa0xlf_3/model/ with prefix 145bb9b3fb7d4409\n",
      "[INFO 2024-02-11T15:39:27.684182599+00:00 kernel.cc:1046] Use fast generic engine\n"
     ]
    },
    {
     "name": "stdout",
     "output_type": "stream",
     "text": [
      "i:2\n"
     ]
    },
    {
     "name": "stderr",
     "output_type": "stream",
     "text": [
      "[INFO 2024-02-11T15:39:28.795795034+00:00 kernel.cc:1214] Loading model from path /tmp/tmpoal2_xk9/model/ with prefix 6783cafbb4b942f7\n",
      "[INFO 2024-02-11T15:39:28.80042415+00:00 kernel.cc:1046] Use fast generic engine\n"
     ]
    },
    {
     "name": "stdout",
     "output_type": "stream",
     "text": [
      "i:3\n"
     ]
    },
    {
     "name": "stderr",
     "output_type": "stream",
     "text": [
      "[INFO 2024-02-11T15:39:30.609290768+00:00 kernel.cc:1214] Loading model from path /tmp/tmpiywzq4ej/model/ with prefix b31b5b7ce01443df\n",
      "[INFO 2024-02-11T15:39:30.637795312+00:00 kernel.cc:1046] Use fast generic engine\n"
     ]
    },
    {
     "name": "stdout",
     "output_type": "stream",
     "text": [
      "i:4\n"
     ]
    },
    {
     "name": "stderr",
     "output_type": "stream",
     "text": [
      "[INFO 2024-02-11T15:39:31.811194071+00:00 kernel.cc:1214] Loading model from path /tmp/tmpsztfiewc/model/ with prefix 2c7512b5db024836\n",
      "[INFO 2024-02-11T15:39:31.817396416+00:00 kernel.cc:1046] Use fast generic engine\n"
     ]
    },
    {
     "name": "stdout",
     "output_type": "stream",
     "text": [
      "i:5\n"
     ]
    },
    {
     "name": "stderr",
     "output_type": "stream",
     "text": [
      "[INFO 2024-02-11T15:39:32.951511671+00:00 kernel.cc:1214] Loading model from path /tmp/tmph7r2do0p/model/ with prefix f960898f549a4019\n",
      "[INFO 2024-02-11T15:39:32.955126456+00:00 kernel.cc:1046] Use fast generic engine\n"
     ]
    },
    {
     "name": "stdout",
     "output_type": "stream",
     "text": [
      "i:6\n"
     ]
    },
    {
     "name": "stderr",
     "output_type": "stream",
     "text": [
      "[INFO 2024-02-11T15:39:34.1632732+00:00 kernel.cc:1214] Loading model from path /tmp/tmpb3rygh3y/model/ with prefix 348fc0e891ab4438\n",
      "[INFO 2024-02-11T15:39:34.171381428+00:00 kernel.cc:1046] Use fast generic engine\n"
     ]
    },
    {
     "name": "stdout",
     "output_type": "stream",
     "text": [
      "i:7\n"
     ]
    },
    {
     "name": "stderr",
     "output_type": "stream",
     "text": [
      "[INFO 2024-02-11T15:39:35.826586877+00:00 kernel.cc:1214] Loading model from path /tmp/tmp0caj16ap/model/ with prefix ca0b807cd47a44b9\n",
      "[INFO 2024-02-11T15:39:35.84856761+00:00 abstract_model.cc:1311] Engine \"GradientBoostedTreesQuickScorerExtended\" built\n",
      "[INFO 2024-02-11T15:39:35.848642312+00:00 kernel.cc:1046] Use fast generic engine\n"
     ]
    },
    {
     "name": "stdout",
     "output_type": "stream",
     "text": [
      "i:8\n"
     ]
    },
    {
     "name": "stderr",
     "output_type": "stream",
     "text": [
      "[INFO 2024-02-11T15:39:37.104787384+00:00 kernel.cc:1214] Loading model from path /tmp/tmpkzyf4gow/model/ with prefix 366775e081f4443a\n",
      "[INFO 2024-02-11T15:39:37.115021151+00:00 kernel.cc:1046] Use fast generic engine\n"
     ]
    },
    {
     "name": "stdout",
     "output_type": "stream",
     "text": [
      "i:9\n"
     ]
    },
    {
     "name": "stderr",
     "output_type": "stream",
     "text": [
      "[INFO 2024-02-11T15:39:39.019333972+00:00 kernel.cc:1214] Loading model from path /tmp/tmpfkm7tol2/model/ with prefix e39f3971fc2b4347\n",
      "[INFO 2024-02-11T15:39:39.035441311+00:00 kernel.cc:1046] Use fast generic engine\n"
     ]
    },
    {
     "name": "stdout",
     "output_type": "stream",
     "text": [
      "i:10\n"
     ]
    },
    {
     "name": "stderr",
     "output_type": "stream",
     "text": [
      "[INFO 2024-02-11T15:39:40.496538304+00:00 kernel.cc:1214] Loading model from path /tmp/tmp19kybikq/model/ with prefix 146643e77e414d82\n",
      "[INFO 2024-02-11T15:39:40.502910271+00:00 kernel.cc:1046] Use fast generic engine\n"
     ]
    },
    {
     "name": "stdout",
     "output_type": "stream",
     "text": [
      "i:11\n"
     ]
    },
    {
     "name": "stderr",
     "output_type": "stream",
     "text": [
      "[INFO 2024-02-11T15:39:42.610406151+00:00 kernel.cc:1214] Loading model from path /tmp/tmpnxbrvpuj/model/ with prefix b32006f3538a47fb\n",
      "[INFO 2024-02-11T15:39:42.629298892+00:00 kernel.cc:1046] Use fast generic engine\n"
     ]
    },
    {
     "name": "stdout",
     "output_type": "stream",
     "text": [
      "i:12\n"
     ]
    },
    {
     "name": "stderr",
     "output_type": "stream",
     "text": [
      "[INFO 2024-02-11T15:39:43.877675019+00:00 kernel.cc:1214] Loading model from path /tmp/tmp9olk3ncd/model/ with prefix 9529dc1c0ee14354\n",
      "[INFO 2024-02-11T15:39:43.884460209+00:00 kernel.cc:1046] Use fast generic engine\n"
     ]
    },
    {
     "name": "stdout",
     "output_type": "stream",
     "text": [
      "i:13\n"
     ]
    },
    {
     "name": "stderr",
     "output_type": "stream",
     "text": [
      "[INFO 2024-02-11T15:39:45.292520582+00:00 kernel.cc:1214] Loading model from path /tmp/tmpiji42eva/model/ with prefix 09a5e4fea3c148b5\n",
      "[INFO 2024-02-11T15:39:45.304623939+00:00 kernel.cc:1046] Use fast generic engine\n"
     ]
    },
    {
     "name": "stdout",
     "output_type": "stream",
     "text": [
      "i:14\n"
     ]
    },
    {
     "name": "stderr",
     "output_type": "stream",
     "text": [
      "[INFO 2024-02-11T15:39:46.847296352+00:00 kernel.cc:1214] Loading model from path /tmp/tmp7o2t03r2/model/ with prefix 3a0d5d2335be42d0\n",
      "[INFO 2024-02-11T15:39:46.853994554+00:00 abstract_model.cc:1311] Engine \"GradientBoostedTreesQuickScorerExtended\" built\n",
      "[INFO 2024-02-11T15:39:46.854052218+00:00 kernel.cc:1046] Use fast generic engine\n"
     ]
    },
    {
     "name": "stdout",
     "output_type": "stream",
     "text": [
      "i:15\n"
     ]
    },
    {
     "name": "stderr",
     "output_type": "stream",
     "text": [
      "[INFO 2024-02-11T15:39:48.069152146+00:00 kernel.cc:1214] Loading model from path /tmp/tmpqqr5uyhj/model/ with prefix b7436ea015b2434c\n",
      "[INFO 2024-02-11T15:39:48.077552156+00:00 kernel.cc:1046] Use fast generic engine\n"
     ]
    },
    {
     "name": "stdout",
     "output_type": "stream",
     "text": [
      "i:16\n"
     ]
    },
    {
     "name": "stderr",
     "output_type": "stream",
     "text": [
      "[INFO 2024-02-11T15:39:49.473044853+00:00 kernel.cc:1214] Loading model from path /tmp/tmpd8lfdr9l/model/ with prefix a3b2dd9559a54af6\n",
      "[INFO 2024-02-11T15:39:49.487259107+00:00 kernel.cc:1046] Use fast generic engine\n"
     ]
    },
    {
     "name": "stdout",
     "output_type": "stream",
     "text": [
      "i:17\n"
     ]
    },
    {
     "name": "stderr",
     "output_type": "stream",
     "text": [
      "[INFO 2024-02-11T15:39:50.901247222+00:00 kernel.cc:1214] Loading model from path /tmp/tmp5err71w2/model/ with prefix ad41777078bd4105\n",
      "[INFO 2024-02-11T15:39:50.915738108+00:00 kernel.cc:1046] Use fast generic engine\n"
     ]
    },
    {
     "name": "stdout",
     "output_type": "stream",
     "text": [
      "i:18\n"
     ]
    },
    {
     "name": "stderr",
     "output_type": "stream",
     "text": [
      "[INFO 2024-02-11T15:39:52.283643012+00:00 kernel.cc:1214] Loading model from path /tmp/tmpm5v52tg8/model/ with prefix f012e56cc26740a2\n",
      "[INFO 2024-02-11T15:39:52.29678304+00:00 kernel.cc:1046] Use fast generic engine\n"
     ]
    },
    {
     "name": "stdout",
     "output_type": "stream",
     "text": [
      "i:19\n"
     ]
    },
    {
     "name": "stderr",
     "output_type": "stream",
     "text": [
      "[INFO 2024-02-11T15:39:53.901884028+00:00 kernel.cc:1214] Loading model from path /tmp/tmpy2acfmt3/model/ with prefix b6267022eb1a4191\n",
      "[INFO 2024-02-11T15:39:53.921806543+00:00 kernel.cc:1046] Use fast generic engine\n"
     ]
    },
    {
     "name": "stdout",
     "output_type": "stream",
     "text": [
      "i:20\n"
     ]
    },
    {
     "name": "stderr",
     "output_type": "stream",
     "text": [
      "[INFO 2024-02-11T15:39:55.405406709+00:00 kernel.cc:1214] Loading model from path /tmp/tmpwrvya21g/model/ with prefix 02e9cc542bc047f8\n",
      "[INFO 2024-02-11T15:39:55.422988772+00:00 kernel.cc:1046] Use fast generic engine\n"
     ]
    },
    {
     "name": "stdout",
     "output_type": "stream",
     "text": [
      "i:21\n"
     ]
    },
    {
     "name": "stderr",
     "output_type": "stream",
     "text": [
      "[INFO 2024-02-11T15:39:56.570044498+00:00 kernel.cc:1214] Loading model from path /tmp/tmpd1pjwup_/model/ with prefix f5a9b00449cc4239\n",
      "[INFO 2024-02-11T15:39:56.575559275+00:00 kernel.cc:1046] Use fast generic engine\n"
     ]
    },
    {
     "name": "stdout",
     "output_type": "stream",
     "text": [
      "i:22\n"
     ]
    },
    {
     "name": "stderr",
     "output_type": "stream",
     "text": [
      "[INFO 2024-02-11T15:39:57.751737451+00:00 kernel.cc:1214] Loading model from path /tmp/tmp3ys671k2/model/ with prefix 6617ebdc138d483e\n",
      "[INFO 2024-02-11T15:39:57.758235358+00:00 abstract_model.cc:1311] Engine \"GradientBoostedTreesQuickScorerExtended\" built\n",
      "[INFO 2024-02-11T15:39:57.758300566+00:00 kernel.cc:1046] Use fast generic engine\n"
     ]
    },
    {
     "name": "stdout",
     "output_type": "stream",
     "text": [
      "i:23\n"
     ]
    },
    {
     "name": "stderr",
     "output_type": "stream",
     "text": [
      "[INFO 2024-02-11T15:39:59.029399607+00:00 kernel.cc:1214] Loading model from path /tmp/tmpq4tul_2u/model/ with prefix 0d8029b1586c4581\n",
      "[INFO 2024-02-11T15:39:59.039536987+00:00 kernel.cc:1046] Use fast generic engine\n"
     ]
    },
    {
     "name": "stdout",
     "output_type": "stream",
     "text": [
      "i:24\n"
     ]
    },
    {
     "name": "stderr",
     "output_type": "stream",
     "text": [
      "[INFO 2024-02-11T15:40:00.244182077+00:00 kernel.cc:1214] Loading model from path /tmp/tmp39yei687/model/ with prefix e7720a78d0d149b4\n",
      "[INFO 2024-02-11T15:40:00.250699996+00:00 kernel.cc:1046] Use fast generic engine\n"
     ]
    },
    {
     "name": "stdout",
     "output_type": "stream",
     "text": [
      "i:25\n"
     ]
    },
    {
     "name": "stderr",
     "output_type": "stream",
     "text": [
      "[INFO 2024-02-11T15:40:01.645517186+00:00 kernel.cc:1214] Loading model from path /tmp/tmp2r27nnvy/model/ with prefix bb8427ba6e5f46d2\n",
      "[INFO 2024-02-11T15:40:01.658312334+00:00 kernel.cc:1046] Use fast generic engine\n"
     ]
    },
    {
     "name": "stdout",
     "output_type": "stream",
     "text": [
      "i:26\n"
     ]
    },
    {
     "name": "stderr",
     "output_type": "stream",
     "text": [
      "[INFO 2024-02-11T15:40:02.948241808+00:00 kernel.cc:1214] Loading model from path /tmp/tmpl_5939ym/model/ with prefix 2948772fe56d49e0\n",
      "[INFO 2024-02-11T15:40:02.959130878+00:00 kernel.cc:1046] Use fast generic engine\n"
     ]
    },
    {
     "name": "stdout",
     "output_type": "stream",
     "text": [
      "i:27\n"
     ]
    },
    {
     "name": "stderr",
     "output_type": "stream",
     "text": [
      "[INFO 2024-02-11T15:40:04.653627103+00:00 kernel.cc:1214] Loading model from path /tmp/tmpn84hh9ie/model/ with prefix 6ee95b3aa3bd4004\n",
      "[INFO 2024-02-11T15:40:04.6610177+00:00 kernel.cc:1046] Use fast generic engine\n"
     ]
    },
    {
     "name": "stdout",
     "output_type": "stream",
     "text": [
      "i:28\n"
     ]
    },
    {
     "name": "stderr",
     "output_type": "stream",
     "text": [
      "[INFO 2024-02-11T15:40:05.815892826+00:00 kernel.cc:1214] Loading model from path /tmp/tmp2ry97yuj/model/ with prefix ced5fec8ea694b1e\n",
      "[INFO 2024-02-11T15:40:05.821787582+00:00 kernel.cc:1046] Use fast generic engine\n"
     ]
    },
    {
     "name": "stdout",
     "output_type": "stream",
     "text": [
      "i:29\n"
     ]
    },
    {
     "name": "stderr",
     "output_type": "stream",
     "text": [
      "[INFO 2024-02-11T15:40:07.247968319+00:00 kernel.cc:1214] Loading model from path /tmp/tmp1p9rt9uh/model/ with prefix 9bf7a36aca6b4fbb\n",
      "[INFO 2024-02-11T15:40:07.262302724+00:00 kernel.cc:1046] Use fast generic engine\n"
     ]
    },
    {
     "name": "stdout",
     "output_type": "stream",
     "text": [
      "i:30\n"
     ]
    },
    {
     "name": "stderr",
     "output_type": "stream",
     "text": [
      "[INFO 2024-02-11T15:40:09.093396563+00:00 kernel.cc:1214] Loading model from path /tmp/tmpfq0gl8y4/model/ with prefix 8e655a68cadc4883\n",
      "[INFO 2024-02-11T15:40:09.12308234+00:00 abstract_model.cc:1311] Engine \"GradientBoostedTreesQuickScorerExtended\" built\n",
      "[INFO 2024-02-11T15:40:09.123163858+00:00 kernel.cc:1046] Use fast generic engine\n"
     ]
    },
    {
     "name": "stdout",
     "output_type": "stream",
     "text": [
      "i:31\n"
     ]
    },
    {
     "name": "stderr",
     "output_type": "stream",
     "text": [
      "[INFO 2024-02-11T15:40:10.405094129+00:00 kernel.cc:1214] Loading model from path /tmp/tmp8b3tt1rq/model/ with prefix 1c30641072b14417\n",
      "[INFO 2024-02-11T15:40:10.415611535+00:00 kernel.cc:1046] Use fast generic engine\n"
     ]
    },
    {
     "name": "stdout",
     "output_type": "stream",
     "text": [
      "i:32\n"
     ]
    },
    {
     "name": "stderr",
     "output_type": "stream",
     "text": [
      "[INFO 2024-02-11T15:40:11.594118794+00:00 kernel.cc:1214] Loading model from path /tmp/tmpi7gcf38q/model/ with prefix f4fa994d55cd41bf\n",
      "[INFO 2024-02-11T15:40:11.600290739+00:00 kernel.cc:1046] Use fast generic engine\n"
     ]
    },
    {
     "name": "stdout",
     "output_type": "stream",
     "text": [
      "i:33\n"
     ]
    },
    {
     "name": "stderr",
     "output_type": "stream",
     "text": [
      "[INFO 2024-02-11T15:40:13.016287394+00:00 kernel.cc:1214] Loading model from path /tmp/tmpm9hz3mdb/model/ with prefix c661b4b6f32f4604\n",
      "[INFO 2024-02-11T15:40:13.030407706+00:00 kernel.cc:1046] Use fast generic engine\n"
     ]
    },
    {
     "name": "stdout",
     "output_type": "stream",
     "text": [
      "i:34\n"
     ]
    },
    {
     "name": "stderr",
     "output_type": "stream",
     "text": [
      "[INFO 2024-02-11T15:40:15.209065095+00:00 kernel.cc:1214] Loading model from path /tmp/tmpzybe8l6s/model/ with prefix 1146d54412164e74\n",
      "[INFO 2024-02-11T15:40:15.220766148+00:00 kernel.cc:1046] Use fast generic engine\n"
     ]
    },
    {
     "name": "stdout",
     "output_type": "stream",
     "text": [
      "i:35\n"
     ]
    },
    {
     "name": "stderr",
     "output_type": "stream",
     "text": [
      "[INFO 2024-02-11T15:40:16.543766426+00:00 kernel.cc:1214] Loading model from path /tmp/tmpj9m0d9mf/model/ with prefix 4ae4cd1ae3014e62\n",
      "[INFO 2024-02-11T15:40:16.553199812+00:00 kernel.cc:1046] Use fast generic engine\n"
     ]
    },
    {
     "name": "stdout",
     "output_type": "stream",
     "text": [
      "i:36\n"
     ]
    },
    {
     "name": "stderr",
     "output_type": "stream",
     "text": [
      "[INFO 2024-02-11T15:40:18.049716614+00:00 kernel.cc:1214] Loading model from path /tmp/tmp9qyrvdk0/model/ with prefix ae7cc18ff6b641e1\n",
      "[INFO 2024-02-11T15:40:18.066156586+00:00 kernel.cc:1046] Use fast generic engine\n"
     ]
    },
    {
     "name": "stdout",
     "output_type": "stream",
     "text": [
      "i:37\n"
     ]
    },
    {
     "name": "stderr",
     "output_type": "stream",
     "text": [
      "[INFO 2024-02-11T15:40:19.364240608+00:00 kernel.cc:1214] Loading model from path /tmp/tmpsx393c0i/model/ with prefix 8369bf2c7968423e\n",
      "[INFO 2024-02-11T15:40:19.374119372+00:00 abstract_model.cc:1311] Engine \"GradientBoostedTreesQuickScorerExtended\" built\n",
      "[INFO 2024-02-11T15:40:19.374186693+00:00 kernel.cc:1046] Use fast generic engine\n"
     ]
    },
    {
     "name": "stdout",
     "output_type": "stream",
     "text": [
      "i:38\n"
     ]
    },
    {
     "name": "stderr",
     "output_type": "stream",
     "text": [
      "[INFO 2024-02-11T15:40:20.766171339+00:00 kernel.cc:1214] Loading model from path /tmp/tmpglqirf9h/model/ with prefix 60e35d7193b64f65\n",
      "[INFO 2024-02-11T15:40:20.78068494+00:00 kernel.cc:1046] Use fast generic engine\n"
     ]
    },
    {
     "name": "stdout",
     "output_type": "stream",
     "text": [
      "i:39\n"
     ]
    },
    {
     "name": "stderr",
     "output_type": "stream",
     "text": [
      "[INFO 2024-02-11T15:40:22.196276377+00:00 kernel.cc:1214] Loading model from path /tmp/tmped6cvv15/model/ with prefix e9989403369c4c64\n",
      "[INFO 2024-02-11T15:40:22.210502645+00:00 kernel.cc:1046] Use fast generic engine\n"
     ]
    },
    {
     "name": "stdout",
     "output_type": "stream",
     "text": [
      "i:40\n"
     ]
    },
    {
     "name": "stderr",
     "output_type": "stream",
     "text": [
      "[INFO 2024-02-11T15:40:23.351077086+00:00 kernel.cc:1214] Loading model from path /tmp/tmppe2pnfke/model/ with prefix 3578f293b6194650\n",
      "[INFO 2024-02-11T15:40:23.356387264+00:00 kernel.cc:1046] Use fast generic engine\n"
     ]
    },
    {
     "name": "stdout",
     "output_type": "stream",
     "text": [
      "i:41\n"
     ]
    },
    {
     "name": "stderr",
     "output_type": "stream",
     "text": [
      "[INFO 2024-02-11T15:40:24.85961336+00:00 kernel.cc:1214] Loading model from path /tmp/tmpsc__5a44/model/ with prefix 83f0e5d8fdf54fea\n",
      "[INFO 2024-02-11T15:40:24.877149229+00:00 kernel.cc:1046] Use fast generic engine\n"
     ]
    },
    {
     "name": "stdout",
     "output_type": "stream",
     "text": [
      "i:42\n"
     ]
    },
    {
     "name": "stderr",
     "output_type": "stream",
     "text": [
      "[INFO 2024-02-11T15:40:26.415619612+00:00 kernel.cc:1214] Loading model from path /tmp/tmpzgt3_3j8/model/ with prefix cd1e9c6865d1417a\n",
      "[INFO 2024-02-11T15:40:26.425885752+00:00 kernel.cc:1046] Use fast generic engine\n"
     ]
    },
    {
     "name": "stdout",
     "output_type": "stream",
     "text": [
      "i:43\n"
     ]
    },
    {
     "name": "stderr",
     "output_type": "stream",
     "text": [
      "[INFO 2024-02-11T15:40:27.993133643+00:00 kernel.cc:1214] Loading model from path /tmp/tmpu_iyt0uj/model/ with prefix d33901240daa472f\n",
      "[INFO 2024-02-11T15:40:28.01200931+00:00 kernel.cc:1046] Use fast generic engine\n"
     ]
    },
    {
     "name": "stdout",
     "output_type": "stream",
     "text": [
      "i:44\n"
     ]
    },
    {
     "name": "stderr",
     "output_type": "stream",
     "text": [
      "[INFO 2024-02-11T15:40:29.299321112+00:00 kernel.cc:1214] Loading model from path /tmp/tmph0e27bwv/model/ with prefix 991eaae0b646489b\n",
      "[INFO 2024-02-11T15:40:29.309652179+00:00 kernel.cc:1046] Use fast generic engine\n"
     ]
    },
    {
     "name": "stdout",
     "output_type": "stream",
     "text": [
      "i:45\n"
     ]
    },
    {
     "name": "stderr",
     "output_type": "stream",
     "text": [
      "[INFO 2024-02-11T15:40:30.883349072+00:00 kernel.cc:1214] Loading model from path /tmp/tmp5jto24ct/model/ with prefix b4b613fc8e3f48e1\n",
      "[INFO 2024-02-11T15:40:30.887197448+00:00 abstract_model.cc:1311] Engine \"GradientBoostedTreesQuickScorerExtended\" built\n",
      "[INFO 2024-02-11T15:40:30.887245319+00:00 kernel.cc:1046] Use fast generic engine\n"
     ]
    },
    {
     "name": "stdout",
     "output_type": "stream",
     "text": [
      "i:46\n"
     ]
    },
    {
     "name": "stderr",
     "output_type": "stream",
     "text": [
      "[INFO 2024-02-11T15:40:32.352464974+00:00 kernel.cc:1214] Loading model from path /tmp/tmphmkawmzi/model/ with prefix 9a493b902ee54e2b\n",
      "[INFO 2024-02-11T15:40:32.368325599+00:00 kernel.cc:1046] Use fast generic engine\n"
     ]
    },
    {
     "name": "stdout",
     "output_type": "stream",
     "text": [
      "i:47\n"
     ]
    },
    {
     "name": "stderr",
     "output_type": "stream",
     "text": [
      "[INFO 2024-02-11T15:40:33.820641868+00:00 kernel.cc:1214] Loading model from path /tmp/tmpvpfvox9l/model/ with prefix c3ff69b7ec5d457c\n",
      "[INFO 2024-02-11T15:40:33.834645727+00:00 kernel.cc:1046] Use fast generic engine\n"
     ]
    },
    {
     "name": "stdout",
     "output_type": "stream",
     "text": [
      "i:48\n"
     ]
    },
    {
     "name": "stderr",
     "output_type": "stream",
     "text": [
      "[INFO 2024-02-11T15:40:35.101419416+00:00 kernel.cc:1214] Loading model from path /tmp/tmp_8jgyvwr/model/ with prefix 004f1694399043d1\n",
      "[INFO 2024-02-11T15:40:35.106663665+00:00 kernel.cc:1046] Use fast generic engine\n"
     ]
    },
    {
     "name": "stdout",
     "output_type": "stream",
     "text": [
      "i:49\n"
     ]
    },
    {
     "name": "stderr",
     "output_type": "stream",
     "text": [
      "[INFO 2024-02-11T15:40:36.342772106+00:00 kernel.cc:1214] Loading model from path /tmp/tmp_ivlhwi5/model/ with prefix d3d87d090659435c\n",
      "[INFO 2024-02-11T15:40:36.350964857+00:00 kernel.cc:1046] Use fast generic engine\n"
     ]
    },
    {
     "name": "stdout",
     "output_type": "stream",
     "text": [
      "i:50\n"
     ]
    },
    {
     "name": "stderr",
     "output_type": "stream",
     "text": [
      "[INFO 2024-02-11T15:40:37.745537849+00:00 kernel.cc:1214] Loading model from path /tmp/tmpf_32sh0c/model/ with prefix b22812497bea45b0\n",
      "[INFO 2024-02-11T15:40:37.758809626+00:00 kernel.cc:1046] Use fast generic engine\n"
     ]
    },
    {
     "name": "stdout",
     "output_type": "stream",
     "text": [
      "i:51\n"
     ]
    },
    {
     "name": "stderr",
     "output_type": "stream",
     "text": [
      "[INFO 2024-02-11T15:40:39.644852923+00:00 kernel.cc:1214] Loading model from path /tmp/tmpqcytw9hw/model/ with prefix b11aa1db53054ef2\n",
      "[INFO 2024-02-11T15:40:39.661566983+00:00 kernel.cc:1046] Use fast generic engine\n"
     ]
    },
    {
     "name": "stdout",
     "output_type": "stream",
     "text": [
      "i:52\n"
     ]
    },
    {
     "name": "stderr",
     "output_type": "stream",
     "text": [
      "[INFO 2024-02-11T15:40:40.926882459+00:00 kernel.cc:1214] Loading model from path /tmp/tmph1mo991f/model/ with prefix 1ccde45989ee44bc\n",
      "[INFO 2024-02-11T15:40:40.93525309+00:00 abstract_model.cc:1311] Engine \"GradientBoostedTreesQuickScorerExtended\" built\n",
      "[INFO 2024-02-11T15:40:40.935297725+00:00 kernel.cc:1046] Use fast generic engine\n"
     ]
    },
    {
     "name": "stdout",
     "output_type": "stream",
     "text": [
      "i:53\n"
     ]
    },
    {
     "name": "stderr",
     "output_type": "stream",
     "text": [
      "[INFO 2024-02-11T15:40:42.186526768+00:00 kernel.cc:1214] Loading model from path /tmp/tmpfqzn480g/model/ with prefix 22c9974ae9554e6a\n",
      "[INFO 2024-02-11T15:40:42.195119153+00:00 kernel.cc:1046] Use fast generic engine\n"
     ]
    },
    {
     "name": "stdout",
     "output_type": "stream",
     "text": [
      "i:54\n"
     ]
    },
    {
     "name": "stderr",
     "output_type": "stream",
     "text": [
      "[INFO 2024-02-11T15:40:43.835155392+00:00 kernel.cc:1214] Loading model from path /tmp/tmpt6q71gh3/model/ with prefix 2df04d5309fb4528\n",
      "[INFO 2024-02-11T15:40:43.83881725+00:00 kernel.cc:1046] Use fast generic engine\n"
     ]
    },
    {
     "name": "stdout",
     "output_type": "stream",
     "text": [
      "i:55\n"
     ]
    },
    {
     "name": "stderr",
     "output_type": "stream",
     "text": [
      "[INFO 2024-02-11T15:40:45.337418142+00:00 kernel.cc:1214] Loading model from path /tmp/tmp0k_ne7b0/model/ with prefix c32a0ca451bb4ec7\n",
      "[INFO 2024-02-11T15:40:45.354283381+00:00 kernel.cc:1046] Use fast generic engine\n"
     ]
    },
    {
     "name": "stdout",
     "output_type": "stream",
     "text": [
      "i:56\n"
     ]
    },
    {
     "name": "stderr",
     "output_type": "stream",
     "text": [
      "[INFO 2024-02-11T15:40:46.734482402+00:00 kernel.cc:1214] Loading model from path /tmp/tmp11o2afdc/model/ with prefix 030b410bfc0a4c37\n",
      "[INFO 2024-02-11T15:40:46.746200992+00:00 kernel.cc:1046] Use fast generic engine\n"
     ]
    },
    {
     "name": "stdout",
     "output_type": "stream",
     "text": [
      "i:57\n"
     ]
    },
    {
     "name": "stderr",
     "output_type": "stream",
     "text": [
      "[INFO 2024-02-11T15:40:47.879864479+00:00 kernel.cc:1214] Loading model from path /tmp/tmpuu2gmny0/model/ with prefix 823bec62ba5d4bee\n",
      "[INFO 2024-02-11T15:40:47.885916077+00:00 kernel.cc:1046] Use fast generic engine\n"
     ]
    },
    {
     "name": "stdout",
     "output_type": "stream",
     "text": [
      "i:58\n"
     ]
    },
    {
     "name": "stderr",
     "output_type": "stream",
     "text": [
      "[INFO 2024-02-11T15:40:49.696668067+00:00 kernel.cc:1214] Loading model from path /tmp/tmp2y4sssr1/model/ with prefix b859059ed1db42ba\n",
      "[INFO 2024-02-11T15:40:49.703820939+00:00 kernel.cc:1046] Use fast generic engine\n"
     ]
    },
    {
     "name": "stdout",
     "output_type": "stream",
     "text": [
      "i:59\n"
     ]
    },
    {
     "name": "stderr",
     "output_type": "stream",
     "text": [
      "[INFO 2024-02-11T15:40:51.572461439+00:00 kernel.cc:1214] Loading model from path /tmp/tmpd57xu425/model/ with prefix fc3d45fa81564659\n",
      "[INFO 2024-02-11T15:40:51.582844245+00:00 abstract_model.cc:1311] Engine \"GradientBoostedTreesQuickScorerExtended\" built\n",
      "[INFO 2024-02-11T15:40:51.582895726+00:00 kernel.cc:1046] Use fast generic engine\n"
     ]
    },
    {
     "name": "stdout",
     "output_type": "stream",
     "text": [
      "i:60\n"
     ]
    },
    {
     "name": "stderr",
     "output_type": "stream",
     "text": [
      "[INFO 2024-02-11T15:40:54.03381381+00:00 kernel.cc:1214] Loading model from path /tmp/tmphtfxx2ns/model/ with prefix 5338182995d84210\n",
      "[INFO 2024-02-11T15:40:54.046473527+00:00 kernel.cc:1046] Use fast generic engine\n"
     ]
    },
    {
     "name": "stdout",
     "output_type": "stream",
     "text": [
      "i:61\n"
     ]
    },
    {
     "name": "stderr",
     "output_type": "stream",
     "text": [
      "[INFO 2024-02-11T15:40:55.356550181+00:00 kernel.cc:1214] Loading model from path /tmp/tmp_4g7mqcj/model/ with prefix 273811729d484b5a\n",
      "[INFO 2024-02-11T15:40:55.362501305+00:00 kernel.cc:1046] Use fast generic engine\n"
     ]
    },
    {
     "name": "stdout",
     "output_type": "stream",
     "text": [
      "i:62\n"
     ]
    },
    {
     "name": "stderr",
     "output_type": "stream",
     "text": [
      "[INFO 2024-02-11T15:40:57.29654629+00:00 kernel.cc:1214] Loading model from path /tmp/tmpoida6djb/model/ with prefix c9a7323efbe24337\n",
      "[INFO 2024-02-11T15:40:57.327087185+00:00 kernel.cc:1046] Use fast generic engine\n"
     ]
    },
    {
     "name": "stdout",
     "output_type": "stream",
     "text": [
      "i:63\n"
     ]
    },
    {
     "name": "stderr",
     "output_type": "stream",
     "text": [
      "[INFO 2024-02-11T15:40:59.830848416+00:00 kernel.cc:1214] Loading model from path /tmp/tmpmueazmb7/model/ with prefix abdaa9c081fe4c84\n",
      "[INFO 2024-02-11T15:40:59.841314087+00:00 kernel.cc:1046] Use fast generic engine\n"
     ]
    },
    {
     "name": "stdout",
     "output_type": "stream",
     "text": [
      "i:64\n"
     ]
    },
    {
     "name": "stderr",
     "output_type": "stream",
     "text": [
      "[INFO 2024-02-11T15:41:01.128039713+00:00 kernel.cc:1214] Loading model from path /tmp/tmpxxt3nn3m/model/ with prefix a0becaf0ef064a11\n",
      "[INFO 2024-02-11T15:41:01.137041388+00:00 kernel.cc:1046] Use fast generic engine\n"
     ]
    },
    {
     "name": "stdout",
     "output_type": "stream",
     "text": [
      "i:65\n"
     ]
    },
    {
     "name": "stderr",
     "output_type": "stream",
     "text": [
      "[INFO 2024-02-11T15:41:02.323385336+00:00 kernel.cc:1214] Loading model from path /tmp/tmpbrh0nsno/model/ with prefix 9ce1338aec5543b2\n",
      "[INFO 2024-02-11T15:41:02.32930335+00:00 abstract_model.cc:1311] Engine \"GradientBoostedTreesQuickScorerExtended\" built\n",
      "[INFO 2024-02-11T15:41:02.329364802+00:00 kernel.cc:1046] Use fast generic engine\n"
     ]
    },
    {
     "name": "stdout",
     "output_type": "stream",
     "text": [
      "i:66\n"
     ]
    },
    {
     "name": "stderr",
     "output_type": "stream",
     "text": [
      "[INFO 2024-02-11T15:41:03.544387122+00:00 kernel.cc:1214] Loading model from path /tmp/tmpjfox9d4w/model/ with prefix ea56a44d6ca648f8\n",
      "[INFO 2024-02-11T15:41:03.551677296+00:00 kernel.cc:1046] Use fast generic engine\n"
     ]
    },
    {
     "name": "stdout",
     "output_type": "stream",
     "text": [
      "i:67\n"
     ]
    },
    {
     "name": "stderr",
     "output_type": "stream",
     "text": [
      "[INFO 2024-02-11T15:41:05.21479499+00:00 kernel.cc:1214] Loading model from path /tmp/tmpmc5_q_bd/model/ with prefix 2519520d57f6443b\n",
      "[INFO 2024-02-11T15:41:05.23553841+00:00 kernel.cc:1046] Use fast generic engine\n"
     ]
    },
    {
     "name": "stdout",
     "output_type": "stream",
     "text": [
      "i:68\n"
     ]
    },
    {
     "name": "stderr",
     "output_type": "stream",
     "text": [
      "[INFO 2024-02-11T15:41:06.73526948+00:00 kernel.cc:1214] Loading model from path /tmp/tmpuivrqdxa/model/ with prefix 73df991612e4420a\n",
      "[INFO 2024-02-11T15:41:06.748634942+00:00 kernel.cc:1046] Use fast generic engine\n"
     ]
    },
    {
     "name": "stdout",
     "output_type": "stream",
     "text": [
      "i:69\n"
     ]
    },
    {
     "name": "stderr",
     "output_type": "stream",
     "text": [
      "[INFO 2024-02-11T15:41:08.259203797+00:00 kernel.cc:1214] Loading model from path /tmp/tmpvi7t6fel/model/ with prefix d3167e0584404da6\n",
      "[INFO 2024-02-11T15:41:08.26639721+00:00 kernel.cc:1046] Use fast generic engine\n"
     ]
    },
    {
     "name": "stdout",
     "output_type": "stream",
     "text": [
      "i:70\n"
     ]
    },
    {
     "name": "stderr",
     "output_type": "stream",
     "text": [
      "[INFO 2024-02-11T15:41:09.552988372+00:00 kernel.cc:1214] Loading model from path /tmp/tmpiz43gq3_/model/ with prefix af447c7527074e00\n",
      "[INFO 2024-02-11T15:41:09.563496588+00:00 kernel.cc:1046] Use fast generic engine\n"
     ]
    },
    {
     "name": "stdout",
     "output_type": "stream",
     "text": [
      "i:71\n"
     ]
    },
    {
     "name": "stderr",
     "output_type": "stream",
     "text": [
      "[INFO 2024-02-11T15:41:11.289729293+00:00 kernel.cc:1214] Loading model from path /tmp/tmp_wtm5gf1/model/ with prefix e7cb3f7efc254830\n",
      "[INFO 2024-02-11T15:41:11.298182098+00:00 kernel.cc:1046] Use fast generic engine\n"
     ]
    },
    {
     "name": "stdout",
     "output_type": "stream",
     "text": [
      "i:72\n"
     ]
    },
    {
     "name": "stderr",
     "output_type": "stream",
     "text": [
      "[INFO 2024-02-11T15:41:13.307625169+00:00 kernel.cc:1214] Loading model from path /tmp/tmptg4p_j_e/model/ with prefix 92b602410b374df6\n",
      "[INFO 2024-02-11T15:41:13.324101027+00:00 abstract_model.cc:1311] Engine \"GradientBoostedTreesQuickScorerExtended\" built\n",
      "[INFO 2024-02-11T15:41:13.324152896+00:00 kernel.cc:1046] Use fast generic engine\n"
     ]
    },
    {
     "name": "stdout",
     "output_type": "stream",
     "text": [
      "i:73\n"
     ]
    },
    {
     "name": "stderr",
     "output_type": "stream",
     "text": [
      "[INFO 2024-02-11T15:41:14.596142922+00:00 kernel.cc:1214] Loading model from path /tmp/tmpcqxjrm4j/model/ with prefix 7c532f6886264920\n",
      "[INFO 2024-02-11T15:41:14.604174232+00:00 kernel.cc:1046] Use fast generic engine\n"
     ]
    },
    {
     "name": "stdout",
     "output_type": "stream",
     "text": [
      "i:74\n"
     ]
    },
    {
     "name": "stderr",
     "output_type": "stream",
     "text": [
      "[INFO 2024-02-11T15:41:16.015075229+00:00 kernel.cc:1214] Loading model from path /tmp/tmp6cf2oycv/model/ with prefix d87ac26cdfe940e7\n",
      "[INFO 2024-02-11T15:41:16.028283824+00:00 kernel.cc:1046] Use fast generic engine\n"
     ]
    },
    {
     "name": "stdout",
     "output_type": "stream",
     "text": [
      "i:75\n"
     ]
    },
    {
     "name": "stderr",
     "output_type": "stream",
     "text": [
      "[INFO 2024-02-11T15:41:17.388368924+00:00 kernel.cc:1214] Loading model from path /tmp/tmpsohqtouh/model/ with prefix 00e4342966ad4ba4\n",
      "[INFO 2024-02-11T15:41:17.397503901+00:00 kernel.cc:1046] Use fast generic engine\n"
     ]
    },
    {
     "name": "stdout",
     "output_type": "stream",
     "text": [
      "i:76\n"
     ]
    },
    {
     "name": "stderr",
     "output_type": "stream",
     "text": [
      "[INFO 2024-02-11T15:41:18.577949379+00:00 kernel.cc:1214] Loading model from path /tmp/tmpezt_l7dc/model/ with prefix 55f92d6a5701440f\n",
      "[INFO 2024-02-11T15:41:18.582306097+00:00 kernel.cc:1046] Use fast generic engine\n"
     ]
    },
    {
     "name": "stdout",
     "output_type": "stream",
     "text": [
      "i:77\n"
     ]
    },
    {
     "name": "stderr",
     "output_type": "stream",
     "text": [
      "[INFO 2024-02-11T15:41:19.731131868+00:00 kernel.cc:1214] Loading model from path /tmp/tmpzd2120_o/model/ with prefix 3c6766c261634606\n",
      "[INFO 2024-02-11T15:41:19.736253764+00:00 kernel.cc:1046] Use fast generic engine\n"
     ]
    },
    {
     "name": "stdout",
     "output_type": "stream",
     "text": [
      "i:78\n"
     ]
    },
    {
     "name": "stderr",
     "output_type": "stream",
     "text": [
      "[INFO 2024-02-11T15:41:20.966215311+00:00 kernel.cc:1214] Loading model from path /tmp/tmpllhr7t21/model/ with prefix ecdb5f531046473e\n",
      "[INFO 2024-02-11T15:41:20.973682504+00:00 kernel.cc:1046] Use fast generic engine\n"
     ]
    },
    {
     "name": "stdout",
     "output_type": "stream",
     "text": [
      "i:79\n"
     ]
    },
    {
     "name": "stderr",
     "output_type": "stream",
     "text": [
      "[INFO 2024-02-11T15:41:22.791501489+00:00 kernel.cc:1214] Loading model from path /tmp/tmpy1h3p5lh/model/ with prefix 62751ec184a547a0\n",
      "[INFO 2024-02-11T15:41:22.799391423+00:00 kernel.cc:1046] Use fast generic engine\n"
     ]
    },
    {
     "name": "stdout",
     "output_type": "stream",
     "text": [
      "i:80\n"
     ]
    },
    {
     "name": "stderr",
     "output_type": "stream",
     "text": [
      "[INFO 2024-02-11T15:41:24.15928139+00:00 kernel.cc:1214] Loading model from path /tmp/tmpxxowpi3y/model/ with prefix cf7bb87ba8694741\n",
      "[INFO 2024-02-11T15:41:24.169981172+00:00 abstract_model.cc:1311] Engine \"GradientBoostedTreesQuickScorerExtended\" built\n",
      "[INFO 2024-02-11T15:41:24.17002794+00:00 kernel.cc:1046] Use fast generic engine\n"
     ]
    },
    {
     "name": "stdout",
     "output_type": "stream",
     "text": [
      "i:81\n"
     ]
    },
    {
     "name": "stderr",
     "output_type": "stream",
     "text": [
      "[INFO 2024-02-11T15:41:25.981020708+00:00 kernel.cc:1214] Loading model from path /tmp/tmpq6o3eyrn/model/ with prefix e8094652ef264350\n",
      "[INFO 2024-02-11T15:41:25.993147313+00:00 kernel.cc:1046] Use fast generic engine\n"
     ]
    },
    {
     "name": "stdout",
     "output_type": "stream",
     "text": [
      "i:82\n"
     ]
    },
    {
     "name": "stderr",
     "output_type": "stream",
     "text": [
      "[INFO 2024-02-11T15:41:27.319808989+00:00 kernel.cc:1214] Loading model from path /tmp/tmpfxtxa6_5/model/ with prefix 9d5dfd74d7df4cc8\n",
      "[INFO 2024-02-11T15:41:27.330210711+00:00 kernel.cc:1046] Use fast generic engine\n"
     ]
    },
    {
     "name": "stdout",
     "output_type": "stream",
     "text": [
      "i:83\n"
     ]
    },
    {
     "name": "stderr",
     "output_type": "stream",
     "text": [
      "[INFO 2024-02-11T15:41:29.081757968+00:00 kernel.cc:1214] Loading model from path /tmp/tmpz5eur_nw/model/ with prefix c0ee4a4defb54ab3\n",
      "[INFO 2024-02-11T15:41:29.091804166+00:00 kernel.cc:1046] Use fast generic engine\n"
     ]
    },
    {
     "name": "stdout",
     "output_type": "stream",
     "text": [
      "i:84\n"
     ]
    },
    {
     "name": "stderr",
     "output_type": "stream",
     "text": [
      "[INFO 2024-02-11T15:41:30.625146872+00:00 kernel.cc:1214] Loading model from path /tmp/tmpc_zxalmg/model/ with prefix c4c69f2748e84302\n",
      "[INFO 2024-02-11T15:41:30.642643005+00:00 kernel.cc:1046] Use fast generic engine\n"
     ]
    },
    {
     "name": "stdout",
     "output_type": "stream",
     "text": [
      "i:85\n"
     ]
    },
    {
     "name": "stderr",
     "output_type": "stream",
     "text": [
      "[INFO 2024-02-11T15:41:31.857587465+00:00 kernel.cc:1214] Loading model from path /tmp/tmpy0oi13bw/model/ with prefix ca46731373a54194\n",
      "[INFO 2024-02-11T15:41:31.864924645+00:00 kernel.cc:1046] Use fast generic engine\n"
     ]
    },
    {
     "name": "stdout",
     "output_type": "stream",
     "text": [
      "i:86\n"
     ]
    },
    {
     "name": "stderr",
     "output_type": "stream",
     "text": [
      "[INFO 2024-02-11T15:41:33.419298822+00:00 kernel.cc:1214] Loading model from path /tmp/tmpzdh13hi_/model/ with prefix 7549352d84564025\n",
      "[INFO 2024-02-11T15:41:33.436557012+00:00 kernel.cc:1046] Use fast generic engine\n"
     ]
    },
    {
     "name": "stdout",
     "output_type": "stream",
     "text": [
      "i:87\n"
     ]
    },
    {
     "name": "stderr",
     "output_type": "stream",
     "text": [
      "[INFO 2024-02-11T15:41:36.117623752+00:00 kernel.cc:1214] Loading model from path /tmp/tmpaqw1wd97/model/ with prefix 1ea752a13e1f40a1\n",
      "[INFO 2024-02-11T15:41:36.145587113+00:00 abstract_model.cc:1311] Engine \"GradientBoostedTreesQuickScorerExtended\" built\n",
      "[INFO 2024-02-11T15:41:36.145662139+00:00 kernel.cc:1046] Use fast generic engine\n"
     ]
    },
    {
     "name": "stdout",
     "output_type": "stream",
     "text": [
      "i:88\n"
     ]
    },
    {
     "name": "stderr",
     "output_type": "stream",
     "text": [
      "[INFO 2024-02-11T15:41:37.691333211+00:00 kernel.cc:1214] Loading model from path /tmp/tmp5tvdly8x/model/ with prefix fcbf1c48bbaa4d3a\n",
      "[INFO 2024-02-11T15:41:37.707504791+00:00 kernel.cc:1046] Use fast generic engine\n"
     ]
    },
    {
     "name": "stdout",
     "output_type": "stream",
     "text": [
      "i:89\n"
     ]
    },
    {
     "name": "stderr",
     "output_type": "stream",
     "text": [
      "[INFO 2024-02-11T15:41:39.338869232+00:00 kernel.cc:1214] Loading model from path /tmp/tmpf_pqv8gu/model/ with prefix 58f062fc5d6e45a4\n",
      "[INFO 2024-02-11T15:41:39.345090379+00:00 kernel.cc:1046] Use fast generic engine\n"
     ]
    },
    {
     "name": "stdout",
     "output_type": "stream",
     "text": [
      "i:90\n"
     ]
    },
    {
     "name": "stderr",
     "output_type": "stream",
     "text": [
      "[INFO 2024-02-11T15:41:41.313295868+00:00 kernel.cc:1214] Loading model from path /tmp/tmp8uk8vfvz/model/ with prefix 45a538c05d494a2f\n",
      "[INFO 2024-02-11T15:41:41.325429628+00:00 kernel.cc:1046] Use fast generic engine\n"
     ]
    },
    {
     "name": "stdout",
     "output_type": "stream",
     "text": [
      "i:91\n"
     ]
    },
    {
     "name": "stderr",
     "output_type": "stream",
     "text": [
      "[INFO 2024-02-11T15:41:42.978062134+00:00 kernel.cc:1214] Loading model from path /tmp/tmp_r2gk98g/model/ with prefix ffd68505623046e8\n",
      "[INFO 2024-02-11T15:41:42.985975949+00:00 kernel.cc:1046] Use fast generic engine\n"
     ]
    },
    {
     "name": "stdout",
     "output_type": "stream",
     "text": [
      "i:92\n"
     ]
    },
    {
     "name": "stderr",
     "output_type": "stream",
     "text": [
      "[INFO 2024-02-11T15:41:44.651338362+00:00 kernel.cc:1214] Loading model from path /tmp/tmpyhag4bkt/model/ with prefix dbfb2fedfde84517\n",
      "[INFO 2024-02-11T15:41:44.671305671+00:00 kernel.cc:1046] Use fast generic engine\n"
     ]
    },
    {
     "name": "stdout",
     "output_type": "stream",
     "text": [
      "i:93\n"
     ]
    },
    {
     "name": "stderr",
     "output_type": "stream",
     "text": [
      "[INFO 2024-02-11T15:41:46.043036517+00:00 kernel.cc:1214] Loading model from path /tmp/tmpenjevhze/model/ with prefix 5d49f6444a5e4c63\n",
      "[INFO 2024-02-11T15:41:46.054301392+00:00 kernel.cc:1046] Use fast generic engine\n"
     ]
    },
    {
     "name": "stdout",
     "output_type": "stream",
     "text": [
      "i:94\n"
     ]
    },
    {
     "name": "stderr",
     "output_type": "stream",
     "text": [
      "[INFO 2024-02-11T15:41:47.293810975+00:00 kernel.cc:1214] Loading model from path /tmp/tmp5n6u4l1p/model/ with prefix 196727f0ae0c4612\n",
      "[INFO 2024-02-11T15:41:47.301435875+00:00 abstract_model.cc:1311] Engine \"GradientBoostedTreesQuickScorerExtended\" built\n",
      "[INFO 2024-02-11T15:41:47.301496939+00:00 kernel.cc:1046] Use fast generic engine\n"
     ]
    },
    {
     "name": "stdout",
     "output_type": "stream",
     "text": [
      "i:95\n"
     ]
    },
    {
     "name": "stderr",
     "output_type": "stream",
     "text": [
      "[INFO 2024-02-11T15:41:48.661096205+00:00 kernel.cc:1214] Loading model from path /tmp/tmp636_dfqo/model/ with prefix d56d9607e04d491e\n",
      "[INFO 2024-02-11T15:41:48.670367444+00:00 kernel.cc:1046] Use fast generic engine\n"
     ]
    },
    {
     "name": "stdout",
     "output_type": "stream",
     "text": [
      "i:96\n"
     ]
    },
    {
     "name": "stderr",
     "output_type": "stream",
     "text": [
      "[INFO 2024-02-11T15:41:50.491327693+00:00 kernel.cc:1214] Loading model from path /tmp/tmpcbqvt433/model/ with prefix f9a08ab10f2645d3\n",
      "[INFO 2024-02-11T15:41:50.502276262+00:00 kernel.cc:1046] Use fast generic engine\n"
     ]
    },
    {
     "name": "stdout",
     "output_type": "stream",
     "text": [
      "i:97\n"
     ]
    },
    {
     "name": "stderr",
     "output_type": "stream",
     "text": [
      "[INFO 2024-02-11T15:41:51.657178439+00:00 kernel.cc:1214] Loading model from path /tmp/tmpgbu8ytwo/model/ with prefix f63bf4825a234a1e\n",
      "[INFO 2024-02-11T15:41:51.662890401+00:00 kernel.cc:1046] Use fast generic engine\n"
     ]
    },
    {
     "name": "stdout",
     "output_type": "stream",
     "text": [
      "i:98\n"
     ]
    },
    {
     "name": "stderr",
     "output_type": "stream",
     "text": [
      "[INFO 2024-02-11T15:41:52.919322852+00:00 kernel.cc:1214] Loading model from path /tmp/tmphg48jt03/model/ with prefix 3b840570ceaf48ef\n",
      "[INFO 2024-02-11T15:41:52.927944506+00:00 kernel.cc:1046] Use fast generic engine\n"
     ]
    },
    {
     "name": "stdout",
     "output_type": "stream",
     "text": [
      "i:99\n"
     ]
    },
    {
     "name": "stderr",
     "output_type": "stream",
     "text": [
      "[INFO 2024-02-11T15:41:54.482689544+00:00 kernel.cc:1214] Loading model from path /tmp/tmpufvqcxxv/model/ with prefix 52ff2b47e8344201\n",
      "[INFO 2024-02-11T15:41:54.498360266+00:00 kernel.cc:1046] Use fast generic engine\n"
     ]
    },
    {
     "name": "stdout",
     "output_type": "stream",
     "text": [
      "Submission exported to /kaggle/working/submission.csv\n"
     ]
    }
   ],
   "source": [
    "predictions = None\n",
    "num_predictions = 0\n",
    "\n",
    "for i in range(100):\n",
    "    print(f\"i:{i}\")\n",
    "    # Possible models: GradientBoostedTreesModel or RandomForestModel\n",
    "    model = tfdf.keras.GradientBoostedTreesModel(\n",
    "        verbose=0, # Very few logs\n",
    "        features=[tfdf.keras.FeatureUsage(name=n) for n in input_features],\n",
    "        exclude_non_specified_features=True, # Only use the features in \"features\"\n",
    "\n",
    "        #min_examples=1,\n",
    "        #categorical_algorithm=\"RANDOM\",\n",
    "        ##max_depth=4,\n",
    "        #shrinkage=0.05,\n",
    "        ##num_candidate_attributes_ratio=0.2,\n",
    "        #split_axis=\"SPARSE_OBLIQUE\",\n",
    "        #sparse_oblique_normalization=\"MIN_MAX\",\n",
    "        #sparse_oblique_num_projections_exponent=2.0,\n",
    "        #num_trees=2000,\n",
    "        ##validation_ratio=0.0,\n",
    "        random_seed=i,\n",
    "        honest=True,\n",
    "    )\n",
    "    model.fit(train_ds)\n",
    "    \n",
    "    sub_predictions = model.predict(serving_ds, verbose=0)[:,0]\n",
    "    if predictions is None:\n",
    "        predictions = sub_predictions\n",
    "    else:\n",
    "        predictions += sub_predictions\n",
    "    num_predictions += 1\n",
    "\n",
    "predictions/=num_predictions\n",
    "\n",
    "kaggle_predictions = pd.DataFrame({\n",
    "        \"PassengerId\": serving_df[\"PassengerId\"],\n",
    "        \"Survived\": (predictions >= 0.5).astype(int)\n",
    "    })\n",
    "\n",
    "make_submission(kaggle_predictions)"
   ]
  },
  {
   "cell_type": "markdown",
   "id": "f54138e9",
   "metadata": {
    "papermill": {
     "duration": 0.034124,
     "end_time": "2024-02-11T15:41:55.065812",
     "exception": false,
     "start_time": "2024-02-11T15:41:55.031688",
     "status": "completed"
    },
    "tags": []
   },
   "source": [
    "# What is next\n",
    "\n",
    "If you want to learn more about TensorFlow Decision Forests and its advanced features, you can follow the official documentation [here](https://www.tensorflow.org/decision_forests) "
   ]
  }
 ],
 "metadata": {
  "kaggle": {
   "accelerator": "none",
   "dataSources": [
    {
     "databundleVersionId": 26502,
     "sourceId": 3136,
     "sourceType": "competition"
    }
   ],
   "dockerImageVersionId": 30458,
   "isGpuEnabled": false,
   "isInternetEnabled": true,
   "language": "python",
   "sourceType": "notebook"
  },
  "kernelspec": {
   "display_name": "Python 3",
   "language": "python",
   "name": "python3"
  },
  "language_info": {
   "codemirror_mode": {
    "name": "ipython",
    "version": 3
   },
   "file_extension": ".py",
   "mimetype": "text/x-python",
   "name": "python",
   "nbconvert_exporter": "python",
   "pygments_lexer": "ipython3",
   "version": "3.7.12"
  },
  "papermill": {
   "default_parameters": {},
   "duration": 318.847295,
   "end_time": "2024-02-11T15:41:57.894478",
   "environment_variables": {},
   "exception": null,
   "input_path": "__notebook__.ipynb",
   "output_path": "__notebook__.ipynb",
   "parameters": {},
   "start_time": "2024-02-11T15:36:39.047183",
   "version": "2.4.0"
  }
 },
 "nbformat": 4,
 "nbformat_minor": 5
}
