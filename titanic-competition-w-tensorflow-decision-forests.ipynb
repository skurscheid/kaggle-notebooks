{
 "cells": [
  {
   "cell_type": "markdown",
   "id": "e49c512e",
   "metadata": {
    "papermill": {
     "duration": 0.01118,
     "end_time": "2024-02-14T14:54:38.331170",
     "exception": false,
     "start_time": "2024-02-14T14:54:38.319990",
     "status": "completed"
    },
    "tags": []
   },
   "source": [
    "# Titanic competition with TensorFlow Decision Forests\n",
    "\n",
    "This notebook will take you through the steps needed to train a baseline Gradient Boosted Trees Model using TensorFlow Decision Forests and creating a submission on the Titanic competition. \n",
    "\n",
    "This notebook shows:\n",
    "\n",
    "1. How to do some basic pre-processing. For example, the passenger names will be tokenized, and ticket names will be splitted in parts.\n",
    "1. How to train a Gradient Boosted Trees (GBT) with default parameters\n",
    "1. How to train a GBT with improved default parameters\n",
    "1. How to tune the parameters of a GBTs\n",
    "1. How to train and ensemble many GBTs"
   ]
  },
  {
   "cell_type": "markdown",
   "id": "c9393a4a",
   "metadata": {
    "papermill": {
     "duration": 0.008802,
     "end_time": "2024-02-14T14:54:38.349719",
     "exception": false,
     "start_time": "2024-02-14T14:54:38.340917",
     "status": "completed"
    },
    "tags": []
   },
   "source": [
    "# Imports dependencies"
   ]
  },
  {
   "cell_type": "code",
   "execution_count": 1,
   "id": "8a97cf68",
   "metadata": {
    "execution": {
     "iopub.execute_input": "2024-02-14T14:54:38.371267Z",
     "iopub.status.busy": "2024-02-14T14:54:38.370799Z",
     "iopub.status.idle": "2024-02-14T14:54:49.000063Z",
     "shell.execute_reply": "2024-02-14T14:54:48.998318Z"
    },
    "papermill": {
     "duration": 10.644323,
     "end_time": "2024-02-14T14:54:49.003801",
     "exception": false,
     "start_time": "2024-02-14T14:54:38.359478",
     "status": "completed"
    },
    "tags": []
   },
   "outputs": [
    {
     "name": "stdout",
     "output_type": "stream",
     "text": [
      "Found TF-DF 1.2.0\n"
     ]
    }
   ],
   "source": [
    "import numpy as np\n",
    "import pandas as pd\n",
    "import os\n",
    "\n",
    "import tensorflow as tf\n",
    "import tensorflow_decision_forests as tfdf\n",
    "\n",
    "print(f\"Found TF-DF {tfdf.__version__}\")"
   ]
  },
  {
   "cell_type": "markdown",
   "id": "7c8c7c04",
   "metadata": {
    "papermill": {
     "duration": 0.008993,
     "end_time": "2024-02-14T14:54:49.022689",
     "exception": false,
     "start_time": "2024-02-14T14:54:49.013696",
     "status": "completed"
    },
    "tags": []
   },
   "source": [
    "# Load dataset"
   ]
  },
  {
   "cell_type": "code",
   "execution_count": 2,
   "id": "a2cf61b4",
   "metadata": {
    "execution": {
     "iopub.execute_input": "2024-02-14T14:54:49.044598Z",
     "iopub.status.busy": "2024-02-14T14:54:49.043796Z",
     "iopub.status.idle": "2024-02-14T14:54:49.115268Z",
     "shell.execute_reply": "2024-02-14T14:54:49.113103Z"
    },
    "papermill": {
     "duration": 0.087057,
     "end_time": "2024-02-14T14:54:49.118970",
     "exception": false,
     "start_time": "2024-02-14T14:54:49.031913",
     "status": "completed"
    },
    "tags": []
   },
   "outputs": [
    {
     "data": {
      "text/html": [
       "<div>\n",
       "<style scoped>\n",
       "    .dataframe tbody tr th:only-of-type {\n",
       "        vertical-align: middle;\n",
       "    }\n",
       "\n",
       "    .dataframe tbody tr th {\n",
       "        vertical-align: top;\n",
       "    }\n",
       "\n",
       "    .dataframe thead th {\n",
       "        text-align: right;\n",
       "    }\n",
       "</style>\n",
       "<table border=\"1\" class=\"dataframe\">\n",
       "  <thead>\n",
       "    <tr style=\"text-align: right;\">\n",
       "      <th></th>\n",
       "      <th>PassengerId</th>\n",
       "      <th>Survived</th>\n",
       "      <th>Pclass</th>\n",
       "      <th>Name</th>\n",
       "      <th>Sex</th>\n",
       "      <th>Age</th>\n",
       "      <th>SibSp</th>\n",
       "      <th>Parch</th>\n",
       "      <th>Ticket</th>\n",
       "      <th>Fare</th>\n",
       "      <th>Cabin</th>\n",
       "      <th>Embarked</th>\n",
       "    </tr>\n",
       "  </thead>\n",
       "  <tbody>\n",
       "    <tr>\n",
       "      <th>0</th>\n",
       "      <td>1</td>\n",
       "      <td>0</td>\n",
       "      <td>3</td>\n",
       "      <td>Braund, Mr. Owen Harris</td>\n",
       "      <td>male</td>\n",
       "      <td>22.0</td>\n",
       "      <td>1</td>\n",
       "      <td>0</td>\n",
       "      <td>A/5 21171</td>\n",
       "      <td>7.2500</td>\n",
       "      <td>NaN</td>\n",
       "      <td>S</td>\n",
       "    </tr>\n",
       "    <tr>\n",
       "      <th>1</th>\n",
       "      <td>2</td>\n",
       "      <td>1</td>\n",
       "      <td>1</td>\n",
       "      <td>Cumings, Mrs. John Bradley (Florence Briggs Th...</td>\n",
       "      <td>female</td>\n",
       "      <td>38.0</td>\n",
       "      <td>1</td>\n",
       "      <td>0</td>\n",
       "      <td>PC 17599</td>\n",
       "      <td>71.2833</td>\n",
       "      <td>C85</td>\n",
       "      <td>C</td>\n",
       "    </tr>\n",
       "    <tr>\n",
       "      <th>2</th>\n",
       "      <td>3</td>\n",
       "      <td>1</td>\n",
       "      <td>3</td>\n",
       "      <td>Heikkinen, Miss. Laina</td>\n",
       "      <td>female</td>\n",
       "      <td>26.0</td>\n",
       "      <td>0</td>\n",
       "      <td>0</td>\n",
       "      <td>STON/O2. 3101282</td>\n",
       "      <td>7.9250</td>\n",
       "      <td>NaN</td>\n",
       "      <td>S</td>\n",
       "    </tr>\n",
       "    <tr>\n",
       "      <th>3</th>\n",
       "      <td>4</td>\n",
       "      <td>1</td>\n",
       "      <td>1</td>\n",
       "      <td>Futrelle, Mrs. Jacques Heath (Lily May Peel)</td>\n",
       "      <td>female</td>\n",
       "      <td>35.0</td>\n",
       "      <td>1</td>\n",
       "      <td>0</td>\n",
       "      <td>113803</td>\n",
       "      <td>53.1000</td>\n",
       "      <td>C123</td>\n",
       "      <td>S</td>\n",
       "    </tr>\n",
       "    <tr>\n",
       "      <th>4</th>\n",
       "      <td>5</td>\n",
       "      <td>0</td>\n",
       "      <td>3</td>\n",
       "      <td>Allen, Mr. William Henry</td>\n",
       "      <td>male</td>\n",
       "      <td>35.0</td>\n",
       "      <td>0</td>\n",
       "      <td>0</td>\n",
       "      <td>373450</td>\n",
       "      <td>8.0500</td>\n",
       "      <td>NaN</td>\n",
       "      <td>S</td>\n",
       "    </tr>\n",
       "    <tr>\n",
       "      <th>5</th>\n",
       "      <td>6</td>\n",
       "      <td>0</td>\n",
       "      <td>3</td>\n",
       "      <td>Moran, Mr. James</td>\n",
       "      <td>male</td>\n",
       "      <td>NaN</td>\n",
       "      <td>0</td>\n",
       "      <td>0</td>\n",
       "      <td>330877</td>\n",
       "      <td>8.4583</td>\n",
       "      <td>NaN</td>\n",
       "      <td>Q</td>\n",
       "    </tr>\n",
       "    <tr>\n",
       "      <th>6</th>\n",
       "      <td>7</td>\n",
       "      <td>0</td>\n",
       "      <td>1</td>\n",
       "      <td>McCarthy, Mr. Timothy J</td>\n",
       "      <td>male</td>\n",
       "      <td>54.0</td>\n",
       "      <td>0</td>\n",
       "      <td>0</td>\n",
       "      <td>17463</td>\n",
       "      <td>51.8625</td>\n",
       "      <td>E46</td>\n",
       "      <td>S</td>\n",
       "    </tr>\n",
       "    <tr>\n",
       "      <th>7</th>\n",
       "      <td>8</td>\n",
       "      <td>0</td>\n",
       "      <td>3</td>\n",
       "      <td>Palsson, Master. Gosta Leonard</td>\n",
       "      <td>male</td>\n",
       "      <td>2.0</td>\n",
       "      <td>3</td>\n",
       "      <td>1</td>\n",
       "      <td>349909</td>\n",
       "      <td>21.0750</td>\n",
       "      <td>NaN</td>\n",
       "      <td>S</td>\n",
       "    </tr>\n",
       "    <tr>\n",
       "      <th>8</th>\n",
       "      <td>9</td>\n",
       "      <td>1</td>\n",
       "      <td>3</td>\n",
       "      <td>Johnson, Mrs. Oscar W (Elisabeth Vilhelmina Berg)</td>\n",
       "      <td>female</td>\n",
       "      <td>27.0</td>\n",
       "      <td>0</td>\n",
       "      <td>2</td>\n",
       "      <td>347742</td>\n",
       "      <td>11.1333</td>\n",
       "      <td>NaN</td>\n",
       "      <td>S</td>\n",
       "    </tr>\n",
       "    <tr>\n",
       "      <th>9</th>\n",
       "      <td>10</td>\n",
       "      <td>1</td>\n",
       "      <td>2</td>\n",
       "      <td>Nasser, Mrs. Nicholas (Adele Achem)</td>\n",
       "      <td>female</td>\n",
       "      <td>14.0</td>\n",
       "      <td>1</td>\n",
       "      <td>0</td>\n",
       "      <td>237736</td>\n",
       "      <td>30.0708</td>\n",
       "      <td>NaN</td>\n",
       "      <td>C</td>\n",
       "    </tr>\n",
       "  </tbody>\n",
       "</table>\n",
       "</div>"
      ],
      "text/plain": [
       "   PassengerId  Survived  Pclass  \\\n",
       "0            1         0       3   \n",
       "1            2         1       1   \n",
       "2            3         1       3   \n",
       "3            4         1       1   \n",
       "4            5         0       3   \n",
       "5            6         0       3   \n",
       "6            7         0       1   \n",
       "7            8         0       3   \n",
       "8            9         1       3   \n",
       "9           10         1       2   \n",
       "\n",
       "                                                Name     Sex   Age  SibSp  \\\n",
       "0                            Braund, Mr. Owen Harris    male  22.0      1   \n",
       "1  Cumings, Mrs. John Bradley (Florence Briggs Th...  female  38.0      1   \n",
       "2                             Heikkinen, Miss. Laina  female  26.0      0   \n",
       "3       Futrelle, Mrs. Jacques Heath (Lily May Peel)  female  35.0      1   \n",
       "4                           Allen, Mr. William Henry    male  35.0      0   \n",
       "5                                   Moran, Mr. James    male   NaN      0   \n",
       "6                            McCarthy, Mr. Timothy J    male  54.0      0   \n",
       "7                     Palsson, Master. Gosta Leonard    male   2.0      3   \n",
       "8  Johnson, Mrs. Oscar W (Elisabeth Vilhelmina Berg)  female  27.0      0   \n",
       "9                Nasser, Mrs. Nicholas (Adele Achem)  female  14.0      1   \n",
       "\n",
       "   Parch            Ticket     Fare Cabin Embarked  \n",
       "0      0         A/5 21171   7.2500   NaN        S  \n",
       "1      0          PC 17599  71.2833   C85        C  \n",
       "2      0  STON/O2. 3101282   7.9250   NaN        S  \n",
       "3      0            113803  53.1000  C123        S  \n",
       "4      0            373450   8.0500   NaN        S  \n",
       "5      0            330877   8.4583   NaN        Q  \n",
       "6      0             17463  51.8625   E46        S  \n",
       "7      1            349909  21.0750   NaN        S  \n",
       "8      2            347742  11.1333   NaN        S  \n",
       "9      0            237736  30.0708   NaN        C  "
      ]
     },
     "execution_count": 2,
     "metadata": {},
     "output_type": "execute_result"
    }
   ],
   "source": [
    "train_df = pd.read_csv(\"/kaggle/input/titanic/train.csv\")\n",
    "serving_df = pd.read_csv(\"/kaggle/input/titanic/test.csv\")\n",
    "\n",
    "train_df.head(10)"
   ]
  },
  {
   "cell_type": "markdown",
   "id": "edbab29d",
   "metadata": {
    "papermill": {
     "duration": 0.009106,
     "end_time": "2024-02-14T14:54:49.137786",
     "exception": false,
     "start_time": "2024-02-14T14:54:49.128680",
     "status": "completed"
    },
    "tags": []
   },
   "source": [
    "# Prepare dataset\n",
    "\n",
    "We will apply the following transformations on the dataset.\n",
    "\n",
    "1. Tokenize the names. For example, \"Braund, Mr. Owen Harris\" will become [\"Braund\", \"Mr.\", \"Owen\", \"Harris\"].\n",
    "2. Extract any prefix in the ticket. For example ticket \"STON/O2. 3101282\" will become \"STON/O2.\" and 3101282."
   ]
  },
  {
   "cell_type": "code",
   "execution_count": 3,
   "id": "deb5ef7b",
   "metadata": {
    "execution": {
     "iopub.execute_input": "2024-02-14T14:54:49.161356Z",
     "iopub.status.busy": "2024-02-14T14:54:49.160864Z",
     "iopub.status.idle": "2024-02-14T14:54:49.204958Z",
     "shell.execute_reply": "2024-02-14T14:54:49.203324Z"
    },
    "papermill": {
     "duration": 0.060016,
     "end_time": "2024-02-14T14:54:49.208728",
     "exception": false,
     "start_time": "2024-02-14T14:54:49.148712",
     "status": "completed"
    },
    "tags": []
   },
   "outputs": [
    {
     "data": {
      "text/html": [
       "<div>\n",
       "<style scoped>\n",
       "    .dataframe tbody tr th:only-of-type {\n",
       "        vertical-align: middle;\n",
       "    }\n",
       "\n",
       "    .dataframe tbody tr th {\n",
       "        vertical-align: top;\n",
       "    }\n",
       "\n",
       "    .dataframe thead th {\n",
       "        text-align: right;\n",
       "    }\n",
       "</style>\n",
       "<table border=\"1\" class=\"dataframe\">\n",
       "  <thead>\n",
       "    <tr style=\"text-align: right;\">\n",
       "      <th></th>\n",
       "      <th>PassengerId</th>\n",
       "      <th>Survived</th>\n",
       "      <th>Pclass</th>\n",
       "      <th>Name</th>\n",
       "      <th>Sex</th>\n",
       "      <th>Age</th>\n",
       "      <th>SibSp</th>\n",
       "      <th>Parch</th>\n",
       "      <th>Ticket</th>\n",
       "      <th>Fare</th>\n",
       "      <th>Cabin</th>\n",
       "      <th>Embarked</th>\n",
       "      <th>Ticket_number</th>\n",
       "      <th>Ticket_item</th>\n",
       "    </tr>\n",
       "  </thead>\n",
       "  <tbody>\n",
       "    <tr>\n",
       "      <th>0</th>\n",
       "      <td>1</td>\n",
       "      <td>0</td>\n",
       "      <td>3</td>\n",
       "      <td>Braund Mr Owen Harris</td>\n",
       "      <td>male</td>\n",
       "      <td>22.0</td>\n",
       "      <td>1</td>\n",
       "      <td>0</td>\n",
       "      <td>A/5 21171</td>\n",
       "      <td>7.2500</td>\n",
       "      <td>NaN</td>\n",
       "      <td>S</td>\n",
       "      <td>21171</td>\n",
       "      <td>A/5</td>\n",
       "    </tr>\n",
       "    <tr>\n",
       "      <th>1</th>\n",
       "      <td>2</td>\n",
       "      <td>1</td>\n",
       "      <td>1</td>\n",
       "      <td>Cumings Mrs John Bradley Florence Briggs Thayer</td>\n",
       "      <td>female</td>\n",
       "      <td>38.0</td>\n",
       "      <td>1</td>\n",
       "      <td>0</td>\n",
       "      <td>PC 17599</td>\n",
       "      <td>71.2833</td>\n",
       "      <td>C85</td>\n",
       "      <td>C</td>\n",
       "      <td>17599</td>\n",
       "      <td>PC</td>\n",
       "    </tr>\n",
       "    <tr>\n",
       "      <th>2</th>\n",
       "      <td>3</td>\n",
       "      <td>1</td>\n",
       "      <td>3</td>\n",
       "      <td>Heikkinen Miss Laina</td>\n",
       "      <td>female</td>\n",
       "      <td>26.0</td>\n",
       "      <td>0</td>\n",
       "      <td>0</td>\n",
       "      <td>STON/O2. 3101282</td>\n",
       "      <td>7.9250</td>\n",
       "      <td>NaN</td>\n",
       "      <td>S</td>\n",
       "      <td>3101282</td>\n",
       "      <td>STON/O2.</td>\n",
       "    </tr>\n",
       "    <tr>\n",
       "      <th>3</th>\n",
       "      <td>4</td>\n",
       "      <td>1</td>\n",
       "      <td>1</td>\n",
       "      <td>Futrelle Mrs Jacques Heath Lily May Peel</td>\n",
       "      <td>female</td>\n",
       "      <td>35.0</td>\n",
       "      <td>1</td>\n",
       "      <td>0</td>\n",
       "      <td>113803</td>\n",
       "      <td>53.1000</td>\n",
       "      <td>C123</td>\n",
       "      <td>S</td>\n",
       "      <td>113803</td>\n",
       "      <td>NONE</td>\n",
       "    </tr>\n",
       "    <tr>\n",
       "      <th>4</th>\n",
       "      <td>5</td>\n",
       "      <td>0</td>\n",
       "      <td>3</td>\n",
       "      <td>Allen Mr William Henry</td>\n",
       "      <td>male</td>\n",
       "      <td>35.0</td>\n",
       "      <td>0</td>\n",
       "      <td>0</td>\n",
       "      <td>373450</td>\n",
       "      <td>8.0500</td>\n",
       "      <td>NaN</td>\n",
       "      <td>S</td>\n",
       "      <td>373450</td>\n",
       "      <td>NONE</td>\n",
       "    </tr>\n",
       "  </tbody>\n",
       "</table>\n",
       "</div>"
      ],
      "text/plain": [
       "   PassengerId  Survived  Pclass  \\\n",
       "0            1         0       3   \n",
       "1            2         1       1   \n",
       "2            3         1       3   \n",
       "3            4         1       1   \n",
       "4            5         0       3   \n",
       "\n",
       "                                              Name     Sex   Age  SibSp  \\\n",
       "0                            Braund Mr Owen Harris    male  22.0      1   \n",
       "1  Cumings Mrs John Bradley Florence Briggs Thayer  female  38.0      1   \n",
       "2                             Heikkinen Miss Laina  female  26.0      0   \n",
       "3         Futrelle Mrs Jacques Heath Lily May Peel  female  35.0      1   \n",
       "4                           Allen Mr William Henry    male  35.0      0   \n",
       "\n",
       "   Parch            Ticket     Fare Cabin Embarked Ticket_number Ticket_item  \n",
       "0      0         A/5 21171   7.2500   NaN        S         21171         A/5  \n",
       "1      0          PC 17599  71.2833   C85        C         17599          PC  \n",
       "2      0  STON/O2. 3101282   7.9250   NaN        S       3101282    STON/O2.  \n",
       "3      0            113803  53.1000  C123        S        113803        NONE  \n",
       "4      0            373450   8.0500   NaN        S        373450        NONE  "
      ]
     },
     "execution_count": 3,
     "metadata": {},
     "output_type": "execute_result"
    }
   ],
   "source": [
    "def preprocess(df):\n",
    "    df = df.copy()\n",
    "    \n",
    "    def normalize_name(x):\n",
    "        return \" \".join([v.strip(\",()[].\\\"'\") for v in x.split(\" \")])\n",
    "    \n",
    "    # takes the last item of the ticket array; should always give an integer\n",
    "    def ticket_number(x):\n",
    "        return x.split(\" \")[-1]\n",
    "    \n",
    "    # creates a new string from the remaining ticket array\n",
    "    # concatenates if necessary\n",
    "    # make sure to not return empty strings, but rather NONE\n",
    "    def ticket_item(x):\n",
    "        items = x.split(\" \")\n",
    "        if len(items) == 1:\n",
    "            return \"NONE\"\n",
    "        return \"_\".join(items[0:-1])\n",
    "    \n",
    "    df[\"Name\"] = df[\"Name\"].apply(normalize_name)\n",
    "    df[\"Ticket_number\"] = df[\"Ticket\"].apply(ticket_number)\n",
    "    df[\"Ticket_item\"] = df[\"Ticket\"].apply(ticket_item)                     \n",
    "    return df\n",
    "    \n",
    "preprocessed_train_df = preprocess(train_df)\n",
    "preprocessed_serving_df = preprocess(serving_df)\n",
    "\n",
    "preprocessed_train_df.head(5)"
   ]
  },
  {
   "cell_type": "markdown",
   "id": "eaa9c274",
   "metadata": {
    "papermill": {
     "duration": 0.01117,
     "end_time": "2024-02-14T14:54:49.230330",
     "exception": false,
     "start_time": "2024-02-14T14:54:49.219160",
     "status": "completed"
    },
    "tags": []
   },
   "source": [
    "Let's keep the list of the input features of the model. Notably, we don't want to train our model on the \"PassengerId\" and \"Ticket\" features."
   ]
  },
  {
   "cell_type": "code",
   "execution_count": 4,
   "id": "3fe42b65",
   "metadata": {
    "execution": {
     "iopub.execute_input": "2024-02-14T14:54:49.255904Z",
     "iopub.status.busy": "2024-02-14T14:54:49.255464Z",
     "iopub.status.idle": "2024-02-14T14:54:49.264256Z",
     "shell.execute_reply": "2024-02-14T14:54:49.262559Z"
    },
    "papermill": {
     "duration": 0.025178,
     "end_time": "2024-02-14T14:54:49.267652",
     "exception": false,
     "start_time": "2024-02-14T14:54:49.242474",
     "status": "completed"
    },
    "tags": []
   },
   "outputs": [
    {
     "name": "stdout",
     "output_type": "stream",
     "text": [
      "Input features: ['Pclass', 'Name', 'Sex', 'Age', 'SibSp', 'Parch', 'Fare', 'Cabin', 'Embarked', 'Ticket_item']\n"
     ]
    }
   ],
   "source": [
    "input_features = list(preprocessed_train_df.columns)\n",
    "input_features.remove(\"Ticket\")\n",
    "input_features.remove(\"PassengerId\")\n",
    "input_features.remove(\"Survived\") # this is the outcome\n",
    "input_features.remove(\"Ticket_number\")\n",
    "\n",
    "print(f\"Input features: {input_features}\")"
   ]
  },
  {
   "cell_type": "markdown",
   "id": "1716194a",
   "metadata": {
    "papermill": {
     "duration": 0.010738,
     "end_time": "2024-02-14T14:54:49.290650",
     "exception": false,
     "start_time": "2024-02-14T14:54:49.279912",
     "status": "completed"
    },
    "tags": []
   },
   "source": [
    "# Convert Pandas dataset to TensorFlow Dataset"
   ]
  },
  {
   "cell_type": "code",
   "execution_count": 5,
   "id": "80fef582",
   "metadata": {
    "execution": {
     "iopub.execute_input": "2024-02-14T14:54:49.315117Z",
     "iopub.status.busy": "2024-02-14T14:54:49.314663Z",
     "iopub.status.idle": "2024-02-14T14:54:49.707868Z",
     "shell.execute_reply": "2024-02-14T14:54:49.705730Z"
    },
    "papermill": {
     "duration": 0.409615,
     "end_time": "2024-02-14T14:54:49.711588",
     "exception": false,
     "start_time": "2024-02-14T14:54:49.301973",
     "status": "completed"
    },
    "tags": []
   },
   "outputs": [],
   "source": [
    "def tokenize_names(features, labels=None):\n",
    "    \"\"\"Divide the names into tokens. TF-DF can consume text tokens natively.\"\"\"\n",
    "    features[\"Name\"] =  tf.strings.split(features[\"Name\"])\n",
    "    return features, labels\n",
    "\n",
    "train_ds = tfdf.keras.pd_dataframe_to_tf_dataset(preprocessed_train_df,label=\"Survived\").map(tokenize_names)\n",
    "serving_ds = tfdf.keras.pd_dataframe_to_tf_dataset(preprocessed_serving_df).map(tokenize_names)"
   ]
  },
  {
   "cell_type": "markdown",
   "id": "7dbfc2b1",
   "metadata": {
    "papermill": {
     "duration": 0.009206,
     "end_time": "2024-02-14T14:54:49.732019",
     "exception": false,
     "start_time": "2024-02-14T14:54:49.722813",
     "status": "completed"
    },
    "tags": []
   },
   "source": [
    "# Train model with default parameters\n",
    "\n",
    "### Train model\n",
    "\n",
    "First, we are training a GradientBoostedTreesModel model with the default parameters."
   ]
  },
  {
   "cell_type": "code",
   "execution_count": 6,
   "id": "41703654",
   "metadata": {
    "execution": {
     "iopub.execute_input": "2024-02-14T14:54:49.754437Z",
     "iopub.status.busy": "2024-02-14T14:54:49.753841Z",
     "iopub.status.idle": "2024-02-14T14:55:02.629268Z",
     "shell.execute_reply": "2024-02-14T14:55:02.627216Z"
    },
    "papermill": {
     "duration": 12.891471,
     "end_time": "2024-02-14T14:55:02.633322",
     "exception": false,
     "start_time": "2024-02-14T14:54:49.741851",
     "status": "completed"
    },
    "tags": []
   },
   "outputs": [
    {
     "name": "stderr",
     "output_type": "stream",
     "text": [
      "[INFO 2024-02-14T14:54:58.722471923+00:00 kernel.cc:1214] Loading model from path /tmp/tmpy9ffdvup/model/ with prefix 4ab2dec8ead04109\n",
      "[INFO 2024-02-14T14:54:58.732441497+00:00 abstract_model.cc:1311] Engine \"GradientBoostedTreesQuickScorerExtended\" built\n",
      "[INFO 2024-02-14T14:54:58.732665116+00:00 kernel.cc:1046] Use fast generic engine\n"
     ]
    },
    {
     "name": "stdout",
     "output_type": "stream",
     "text": [
      "WARNING: AutoGraph could not transform <function simple_ml_inference_op_with_handle at 0x7c760555d4d0> and will run it as-is.\n",
      "Please report this to the TensorFlow team. When filing the bug, set the verbosity to 10 (on Linux, `export AUTOGRAPH_VERBOSITY=10`) and attach the full output.\n",
      "Cause: could not get source code\n",
      "To silence this warning, decorate the function with @tf.autograph.experimental.do_not_convert\n",
      "Accuracy: 0.8152173757553101 Loss:0.8657673597335815\n"
     ]
    }
   ],
   "source": [
    "model = tfdf.keras.GradientBoostedTreesModel(\n",
    "    # let's increase verbosity to get some insights\n",
    "    verbose=0, # increased to 5\n",
    "    features=[tfdf.keras.FeatureUsage(name=n) for n in input_features],\n",
    "    exclude_non_specified_features=True, # Only use the features in \"features\"\n",
    "    random_seed=1234,\n",
    ")\n",
    "model.fit(train_ds)\n",
    "\n",
    "self_evaluation = model.make_inspector().evaluation()\n",
    "print(f\"Accuracy: {self_evaluation.accuracy} Loss:{self_evaluation.loss}\")"
   ]
  },
  {
   "cell_type": "markdown",
   "id": "748ef433",
   "metadata": {
    "papermill": {
     "duration": 0.010359,
     "end_time": "2024-02-14T14:55:02.654447",
     "exception": false,
     "start_time": "2024-02-14T14:55:02.644088",
     "status": "completed"
    },
    "tags": []
   },
   "source": [
    "# Train model with improved default parameters\n",
    "\n",
    "Now you'll use some specific parameters when creating the GBT model"
   ]
  },
  {
   "cell_type": "code",
   "execution_count": 7,
   "id": "a6fec66e",
   "metadata": {
    "execution": {
     "iopub.execute_input": "2024-02-14T14:55:02.680423Z",
     "iopub.status.busy": "2024-02-14T14:55:02.679881Z",
     "iopub.status.idle": "2024-02-14T14:55:03.820355Z",
     "shell.execute_reply": "2024-02-14T14:55:03.818727Z"
    },
    "papermill": {
     "duration": 1.15955,
     "end_time": "2024-02-14T14:55:03.824599",
     "exception": false,
     "start_time": "2024-02-14T14:55:02.665049",
     "status": "completed"
    },
    "tags": []
   },
   "outputs": [
    {
     "name": "stdout",
     "output_type": "stream",
     "text": [
      "Resolve hyper-parameter template \"benchmark_rank1@v1\" to \"benchmark_rank1@v1\" -> {'growing_strategy': 'BEST_FIRST_GLOBAL', 'categorical_algorithm': 'RANDOM', 'split_axis': 'SPARSE_OBLIQUE', 'sparse_oblique_normalization': 'MIN_MAX', 'sparse_oblique_num_projections_exponent': 1.0}.\n",
      "Use /tmp/tmplv10a9oj as temporary training directory\n",
      "Reading training dataset...\n",
      "Training dataset read in 0:00:00.316976. Found 891 examples.\n",
      "Training model...\n",
      "Model trained in 0:00:00.360884\n",
      "Compiling model...\n"
     ]
    },
    {
     "name": "stderr",
     "output_type": "stream",
     "text": [
      "[INFO 2024-02-14T14:55:03.364733908+00:00 decision_forest.cc:661] Model loaded with 12 root(s), 356 node(s), and 9 input feature(s).\n",
      "[INFO 2024-02-14T14:55:03.36738903+00:00 decision_forest.cc:661] Model loaded with 12 root(s), 356 node(s), and 9 input feature(s).\n",
      "[INFO 2024-02-14T14:55:03.367668445+00:00 [INFO decision_forest.cc:2024-02-14T14:55:03.367711472+00:00661] Model loaded with  12 root(s), decision_forest.cc:661] Model loaded with 12 root(s), 356 node(s), and 9 input feature(s).356 node(s), and 9 input feature(s).\n",
      "\n",
      "[INFO 2024-02-14T14:55:03.368701837+00:00 decision_forest.cc:661] Model loaded with 12 root(s), 356 node(s), and 9 input feature(s).\n",
      "[INFO 2024-02-14T14:55:03.368911215+00:00 decision_forest.cc:661] Model loaded with 12 root(s), 356 node(s), and 9 input feature(s).\n",
      "[INFO 2024-02-14T14:55:03.36896939+00:00 decision_forest.cc:661] Model loaded with 12 root(s), 356 node(s), and 9 input feature(s).\n",
      "[[[[INFOINFO  INFO 2024-02-14T14:55:03.370020821+00:002024-02-14T14:55:03.370027013+00:00 2024-02-14T14:55:03.370039908+00:00 decision_forest.ccINFO decision_forest.cc:2024-02-14T14:55:03.370067824+00:00 decision_forest.cc: decision_forest.cc:661] Model loaded with 12 root(s), 356 node(s), and 9 input feature(s).\n",
      "661] Model loaded with 12 root(s), 356 node(s), and 9 input feature(s).\n",
      "661] Model loaded with 12 root(s), 356 node(s), and 9 input feature(s).\n",
      ":661] Model loaded with 12 root(s), 356 node(s), and 9 input feature(s).\n",
      "[INFO 2024-02-14T14:55:03.39274293+00:00 kernel.cc:1214] Loading model from path /tmp/tmplv10a9oj/model/ with prefix f5672aaf247847d9\n",
      "[INFO 2024-02-14T14:55:03.395253526+00:00 decision_forest.cc:661] Model loaded with 12 root(s), 356 node(s), and 9 input feature(s).\n",
      "[INFO 2024-02-14T14:55:03.395292859+00:00 kernel.cc:1046] Use fast generic engine\n"
     ]
    },
    {
     "name": "stdout",
     "output_type": "stream",
     "text": [
      "Model compiled.\n",
      "Accuracy: 0.782608687877655 Loss:0.958136260509491\n"
     ]
    }
   ],
   "source": [
    "model = tfdf.keras.GradientBoostedTreesModel(\n",
    "    verbose=1, # Very few logs\n",
    "    features=[tfdf.keras.FeatureUsage(name=n) for n in input_features],\n",
    "    exclude_non_specified_features=True, # Only use the features in \"features\"\n",
    "    \n",
    "    #num_trees=2000,\n",
    "    \n",
    "    # Only for GBT.\n",
    "    # A bit slower, but great to understand the model.\n",
    "    compute_permutation_variable_importance=True,\n",
    "    \n",
    "    # Change the default hyper-parameters\n",
    "    hyperparameter_template=\"benchmark_rank1@v1\",\n",
    "    \n",
    "    #num_trees=1000,\n",
    "    #tuner=tuner,\n",
    "    \n",
    "    min_examples=1,\n",
    "    categorical_algorithm=\"RANDOM\",\n",
    "    max_depth=4, #original disabled\n",
    "    shrinkage=0.2, #from 0.05)\n",
    "    #num_candidate_attributes_ratio=0.2,\n",
    "    split_axis=\"SPARSE_OBLIQUE\",\n",
    "    sparse_oblique_normalization=\"MIN_MAX\",\n",
    "    sparse_oblique_num_projections_exponent=2.0,\n",
    "    num_trees=1400, # increase to 4000 from 2000 -> worse accuracy\n",
    "    #validation_ratio=0.0,\n",
    "    random_seed=1234,\n",
    "    \n",
    ")\n",
    "model.fit(train_ds)\n",
    "\n",
    "self_evaluation = model.make_inspector().evaluation()\n",
    "print(f\"Accuracy: {self_evaluation.accuracy} Loss:{self_evaluation.loss}\")"
   ]
  },
  {
   "cell_type": "markdown",
   "id": "b65e5db7",
   "metadata": {
    "papermill": {
     "duration": 0.011432,
     "end_time": "2024-02-14T14:55:03.848346",
     "exception": false,
     "start_time": "2024-02-14T14:55:03.836914",
     "status": "completed"
    },
    "tags": []
   },
   "source": [
    "Let's look at the model and you can also notice the information about variable importance that the model figured out"
   ]
  },
  {
   "cell_type": "code",
   "execution_count": 8,
   "id": "b37f104d",
   "metadata": {
    "execution": {
     "iopub.execute_input": "2024-02-14T14:55:03.877500Z",
     "iopub.status.busy": "2024-02-14T14:55:03.875838Z",
     "iopub.status.idle": "2024-02-14T14:55:03.897618Z",
     "shell.execute_reply": "2024-02-14T14:55:03.895722Z"
    },
    "papermill": {
     "duration": 0.042751,
     "end_time": "2024-02-14T14:55:03.904286",
     "exception": false,
     "start_time": "2024-02-14T14:55:03.861535",
     "status": "completed"
    },
    "tags": []
   },
   "outputs": [
    {
     "name": "stdout",
     "output_type": "stream",
     "text": [
      "Model: \"gradient_boosted_trees_model_1\"\n",
      "_________________________________________________________________\n",
      " Layer (type)                Output Shape              Param #   \n",
      "=================================================================\n",
      "=================================================================\n",
      "Total params: 1\n",
      "Trainable params: 0\n",
      "Non-trainable params: 1\n",
      "_________________________________________________________________\n",
      "Type: \"GRADIENT_BOOSTED_TREES\"\n",
      "Task: CLASSIFICATION\n",
      "Label: \"__LABEL\"\n",
      "\n",
      "Input Features (10):\n",
      "\tAge\n",
      "\tCabin\n",
      "\tEmbarked\n",
      "\tFare\n",
      "\tName\n",
      "\tParch\n",
      "\tPclass\n",
      "\tSex\n",
      "\tSibSp\n",
      "\tTicket_item\n",
      "\n",
      "No weights\n",
      "\n",
      "Variable Importance: INV_MEAN_MIN_DEPTH:\n",
      "    1.         \"Sex\"  0.470588 ################\n",
      "    2.         \"Age\"  0.350255 ########\n",
      "    3.        \"Fare\"  0.333764 #######\n",
      "    4.        \"Name\"  0.242640 ##\n",
      "    5. \"Ticket_item\"  0.214788 \n",
      "    6.    \"Embarked\"  0.205660 \n",
      "    7.       \"Parch\"  0.204874 \n",
      "\n",
      "Variable Importance: MEAN_DECREASE_IN_ACCURACY:\n",
      "    1.         \"Sex\"  0.152174 ################\n",
      "    2.        \"Fare\"  0.119565 #############\n",
      "    3.        \"Name\"  0.032609 #####\n",
      "    4.       \"Parch\"  0.010870 ###\n",
      "    5.       \"Cabin\"  0.000000 ##\n",
      "    6.    \"Embarked\"  0.000000 ##\n",
      "    7. \"Ticket_item\"  0.000000 ##\n",
      "    8.         \"Age\" -0.010870 #\n",
      "    9.      \"Pclass\" -0.021739 \n",
      "   10.       \"SibSp\" -0.032609 \n",
      "\n",
      "Variable Importance: MEAN_DECREASE_IN_AP_2_VS_OTHERS:\n",
      "    1.         \"Sex\"  0.286403 ################\n",
      "    2.        \"Fare\"  0.136449 ########\n",
      "    3.      \"Pclass\"  0.080005 #####\n",
      "    4.        \"Name\"  0.045330 ###\n",
      "    5.       \"Parch\"  0.000069 #\n",
      "    6.       \"Cabin\"  0.000000 #\n",
      "    7.         \"Age\" -0.000065 #\n",
      "    8.    \"Embarked\" -0.005282 \n",
      "    9. \"Ticket_item\" -0.006922 \n",
      "   10.       \"SibSp\" -0.021518 \n",
      "\n",
      "Variable Importance: MEAN_DECREASE_IN_AUC_2_VS_OTHERS:\n",
      "    1.         \"Sex\"  0.165238 ################\n",
      "    2.        \"Fare\"  0.112381 ###########\n",
      "    3.        \"Name\"  0.031429 ####\n",
      "    4.      \"Pclass\"  0.028095 ####\n",
      "    5.       \"Parch\"  0.003333 #\n",
      "    6. \"Ticket_item\"  0.000000 #\n",
      "    7.       \"Cabin\"  0.000000 #\n",
      "    8.         \"Age\" -0.005714 #\n",
      "    9.    \"Embarked\" -0.015714 \n",
      "   10.       \"SibSp\" -0.019048 \n",
      "\n",
      "Variable Importance: MEAN_DECREASE_IN_PRAUC_2_VS_OTHERS:\n",
      "    1.         \"Sex\"  0.271181 ################\n",
      "    2.        \"Fare\"  0.129387 ########\n",
      "    3.      \"Pclass\"  0.075957 #####\n",
      "    4.        \"Name\"  0.042682 ###\n",
      "    5.         \"Age\"  0.002348 #\n",
      "    6.       \"Parch\"  0.000269 #\n",
      "    7.       \"Cabin\"  0.000000 #\n",
      "    8.    \"Embarked\" -0.005482 \n",
      "    9. \"Ticket_item\" -0.006680 \n",
      "   10.       \"SibSp\" -0.020399 \n",
      "\n",
      "Variable Importance: NUM_AS_ROOT:\n",
      "    1.  \"Sex\"  8.000000 ################\n",
      "    2.  \"Age\"  2.000000 \n",
      "    3. \"Name\"  2.000000 \n",
      "\n",
      "Variable Importance: NUM_NODES:\n",
      "    1.         \"Age\" 74.000000 ################\n",
      "    2.        \"Fare\" 58.000000 ############\n",
      "    3.        \"Name\" 11.000000 #\n",
      "    4.         \"Sex\" 11.000000 #\n",
      "    5. \"Ticket_item\"  8.000000 #\n",
      "    6.       \"Parch\"  7.000000 \n",
      "    7.    \"Embarked\"  3.000000 \n",
      "\n",
      "Variable Importance: SUM_SCORE:\n",
      "    1.         \"Sex\" 145.225888 ################\n",
      "    2.        \"Fare\" 97.198895 ##########\n",
      "    3.         \"Age\" 91.034607 #########\n",
      "    4.        \"Name\" 11.280206 #\n",
      "    5. \"Ticket_item\"  5.380567 \n",
      "    6.    \"Embarked\"  2.124751 \n",
      "    7.       \"Parch\"  1.567167 \n",
      "\n",
      "\n",
      "\n",
      "Loss: BINOMIAL_LOG_LIKELIHOOD\n",
      "Validation loss value: 0.958136\n",
      "Number of trees per iteration: 1\n",
      "Node format: NOT_SET\n",
      "Number of trees: 12\n",
      "Total number of nodes: 356\n",
      "\n",
      "Number of nodes by tree:\n",
      "Count: 12 Average: 29.6667 StdDev: 2.35702\n",
      "Min: 23 Max: 31 Ignored: 0\n",
      "----------------------------------------------\n",
      "[ 23, 24) 1   8.33%   8.33% #\n",
      "[ 24, 25) 0   0.00%   8.33%\n",
      "[ 25, 26) 0   0.00%   8.33%\n",
      "[ 26, 27) 0   0.00%   8.33%\n",
      "[ 27, 28) 1   8.33%  16.67% #\n",
      "[ 28, 29) 0   0.00%  16.67%\n",
      "[ 29, 30) 2  16.67%  33.33% ###\n",
      "[ 30, 31) 0   0.00%  33.33%\n",
      "[ 31, 31] 8  66.67% 100.00% ##########\n",
      "\n",
      "Depth by leafs:\n",
      "Count: 184 Average: 3.96196 StdDev: 0.217866\n",
      "Min: 2 Max: 4 Ignored: 0\n",
      "----------------------------------------------\n",
      "[ 2, 3)   1   0.54%   0.54%\n",
      "[ 3, 4)   5   2.72%   3.26%\n",
      "[ 4, 4] 178  96.74% 100.00% ##########\n",
      "\n",
      "Number of training obs by leaf:\n",
      "Count: 184 Average: 0 StdDev: 0\n",
      "Min: 0 Max: 0 Ignored: 0\n",
      "----------------------------------------------\n",
      "[ 0, 0] 184 100.00% 100.00% ##########\n",
      "\n",
      "Attribute in nodes:\n",
      "\t74 : Age [NUMERICAL]\n",
      "\t58 : Fare [NUMERICAL]\n",
      "\t11 : Sex [CATEGORICAL]\n",
      "\t11 : Name [CATEGORICAL_SET]\n",
      "\t8 : Ticket_item [CATEGORICAL]\n",
      "\t7 : Parch [NUMERICAL]\n",
      "\t3 : Embarked [CATEGORICAL]\n",
      "\n",
      "Attribute in nodes with depth <= 0:\n",
      "\t8 : Sex [CATEGORICAL]\n",
      "\t2 : Name [CATEGORICAL_SET]\n",
      "\t2 : Age [NUMERICAL]\n",
      "\n",
      "Attribute in nodes with depth <= 1:\n",
      "\t13 : Fare [NUMERICAL]\n",
      "\t11 : Age [NUMERICAL]\n",
      "\t9 : Sex [CATEGORICAL]\n",
      "\t2 : Name [CATEGORICAL_SET]\n",
      "\t1 : Ticket_item [CATEGORICAL]\n",
      "\n",
      "Attribute in nodes with depth <= 2:\n",
      "\t31 : Age [NUMERICAL]\n",
      "\t30 : Fare [NUMERICAL]\n",
      "\t11 : Sex [CATEGORICAL]\n",
      "\t5 : Name [CATEGORICAL_SET]\n",
      "\t4 : Ticket_item [CATEGORICAL]\n",
      "\t2 : Embarked [CATEGORICAL]\n",
      "\n",
      "Attribute in nodes with depth <= 3:\n",
      "\t74 : Age [NUMERICAL]\n",
      "\t58 : Fare [NUMERICAL]\n",
      "\t11 : Sex [CATEGORICAL]\n",
      "\t11 : Name [CATEGORICAL_SET]\n",
      "\t8 : Ticket_item [CATEGORICAL]\n",
      "\t7 : Parch [NUMERICAL]\n",
      "\t3 : Embarked [CATEGORICAL]\n",
      "\n",
      "Attribute in nodes with depth <= 5:\n",
      "\t74 : Age [NUMERICAL]\n",
      "\t58 : Fare [NUMERICAL]\n",
      "\t11 : Sex [CATEGORICAL]\n",
      "\t11 : Name [CATEGORICAL_SET]\n",
      "\t8 : Ticket_item [CATEGORICAL]\n",
      "\t7 : Parch [NUMERICAL]\n",
      "\t3 : Embarked [CATEGORICAL]\n",
      "\n",
      "Condition type in nodes:\n",
      "\t139 : ObliqueCondition\n",
      "\t25 : ContainsBitmapCondition\n",
      "\t8 : ContainsCondition\n",
      "Condition type in nodes with depth <= 0:\n",
      "\t10 : ContainsBitmapCondition\n",
      "\t2 : ObliqueCondition\n",
      "Condition type in nodes with depth <= 1:\n",
      "\t24 : ObliqueCondition\n",
      "\t12 : ContainsBitmapCondition\n",
      "Condition type in nodes with depth <= 2:\n",
      "\t61 : ObliqueCondition\n",
      "\t20 : ContainsBitmapCondition\n",
      "\t2 : ContainsCondition\n",
      "Condition type in nodes with depth <= 3:\n",
      "\t139 : ObliqueCondition\n",
      "\t25 : ContainsBitmapCondition\n",
      "\t8 : ContainsCondition\n",
      "Condition type in nodes with depth <= 5:\n",
      "\t139 : ObliqueCondition\n",
      "\t25 : ContainsBitmapCondition\n",
      "\t8 : ContainsCondition\n",
      "\n",
      "Training logs:\n",
      "Number of iteration to final model: 12\n",
      "\tIter:1 train-loss:1.128866 valid-loss:1.239830  train-accuracy:0.659574 valid-accuracy:0.521739\n",
      "\tIter:2 train-loss:0.996811 valid-loss:1.131924  train-accuracy:0.829787 valid-accuracy:0.750000\n",
      "\tIter:3 train-loss:0.900082 valid-loss:1.092579  train-accuracy:0.877347 valid-accuracy:0.760870\n",
      "\tIter:4 train-loss:0.833375 valid-loss:1.053206  train-accuracy:0.887359 valid-accuracy:0.771739\n",
      "\tIter:5 train-loss:0.775296 valid-loss:1.032054  train-accuracy:0.893617 valid-accuracy:0.760870\n",
      "\tIter:6 train-loss:0.728563 valid-loss:1.020676  train-accuracy:0.898623 valid-accuracy:0.804348\n",
      "\tIter:16 train-loss:0.517841 valid-loss:0.980745  train-accuracy:0.919900 valid-accuracy:0.782609\n",
      "\tIter:26 train-loss:0.412187 valid-loss:1.041390  train-accuracy:0.941176 valid-accuracy:0.771739\n",
      "\tIter:36 train-loss:0.343027 valid-loss:1.076503  train-accuracy:0.963705 valid-accuracy:0.782609\n",
      "\n"
     ]
    }
   ],
   "source": [
    "model.summary()"
   ]
  },
  {
   "cell_type": "markdown",
   "id": "ce7edcc0",
   "metadata": {
    "papermill": {
     "duration": 0.013147,
     "end_time": "2024-02-14T14:55:03.931850",
     "exception": false,
     "start_time": "2024-02-14T14:55:03.918703",
     "status": "completed"
    },
    "tags": []
   },
   "source": [
    "# Make predictions"
   ]
  },
  {
   "cell_type": "code",
   "execution_count": 9,
   "id": "40b03f9e",
   "metadata": {
    "execution": {
     "iopub.execute_input": "2024-02-14T14:55:03.962738Z",
     "iopub.status.busy": "2024-02-14T14:55:03.961661Z",
     "iopub.status.idle": "2024-02-14T14:55:05.271175Z",
     "shell.execute_reply": "2024-02-14T14:55:05.269072Z"
    },
    "papermill": {
     "duration": 1.329948,
     "end_time": "2024-02-14T14:55:05.274688",
     "exception": false,
     "start_time": "2024-02-14T14:55:03.944740",
     "status": "completed"
    },
    "tags": []
   },
   "outputs": [
    {
     "name": "stdout",
     "output_type": "stream",
     "text": [
      "Submission exported to /kaggle/working/submission.csv\n",
      "PassengerId,Survived\r\n",
      "892,0\r\n",
      "893,0\r\n",
      "894,0\r\n",
      "895,0\r\n",
      "896,0\r\n",
      "897,0\r\n",
      "898,0\r\n",
      "899,0\r\n",
      "900,1\r\n"
     ]
    }
   ],
   "source": [
    "def prediction_to_kaggle_format(model, threshold=0.5):\n",
    "    proba_survive = model.predict(serving_ds, verbose=0)[:,0]\n",
    "    return pd.DataFrame({\n",
    "        \"PassengerId\": serving_df[\"PassengerId\"],\n",
    "        \"Survived\": (proba_survive >= threshold).astype(int)\n",
    "    })\n",
    "\n",
    "def make_submission(kaggle_predictions):\n",
    "    path=\"/kaggle/working/submission.csv\"\n",
    "    kaggle_predictions.to_csv(path, index=False)\n",
    "    print(f\"Submission exported to {path}\")\n",
    "    \n",
    "kaggle_predictions = prediction_to_kaggle_format(model)\n",
    "make_submission(kaggle_predictions)\n",
    "!head /kaggle/working/submission.csv"
   ]
  },
  {
   "cell_type": "markdown",
   "id": "5827a315",
   "metadata": {
    "papermill": {
     "duration": 0.011793,
     "end_time": "2024-02-14T14:55:05.299270",
     "exception": false,
     "start_time": "2024-02-14T14:55:05.287477",
     "status": "completed"
    },
    "tags": []
   },
   "source": [
    "# Training a model with hyperparameter tunning\n",
    "\n",
    "Hyper-parameter tuning is enabled by specifying the tuner constructor argument of the model. The tuner object contains all the configuration of the tuner (search space, optimizer, trial and objective).\n"
   ]
  },
  {
   "cell_type": "code",
   "execution_count": 10,
   "id": "93f273d4",
   "metadata": {
    "execution": {
     "iopub.execute_input": "2024-02-14T14:55:05.326686Z",
     "iopub.status.busy": "2024-02-14T14:55:05.326036Z",
     "iopub.status.idle": "2024-02-14T14:57:00.852724Z",
     "shell.execute_reply": "2024-02-14T14:57:00.850994Z"
    },
    "papermill": {
     "duration": 115.544579,
     "end_time": "2024-02-14T14:57:00.855928",
     "exception": false,
     "start_time": "2024-02-14T14:55:05.311349",
     "status": "completed"
    },
    "tags": []
   },
   "outputs": [
    {
     "name": "stdout",
     "output_type": "stream",
     "text": [
      "Use /tmp/tmpgnreeysa as temporary training directory\n",
      "Reading training dataset...\n",
      "Training dataset read in 0:00:00.454619. Found 891 examples.\n",
      "Training model...\n",
      "Model trained in 0:01:54.560601\n",
      "Compiling model...\n"
     ]
    },
    {
     "name": "stderr",
     "output_type": "stream",
     "text": [
      "[INFO 2024-02-14T14:57:00.370535027+00:00 kernel.cc:1214] Loading model from path /tmp/tmpgnreeysa/model/ with prefix 88ec59f00d304709\n",
      "[INFO 2024-02-14T14:57:00.389175195+00:00 decision_forest.cc:661] Model loaded with 16 root(s), 452 node(s), and 12 input feature(s).\n",
      "[INFO 2024-02-14T14:57:00.389236212+00:00 abstract_model.cc:1311] Engine \"GradientBoostedTreesGeneric\" built\n",
      "[INFO 2024-02-14T14:57:00.389270176+00:00 kernel.cc:1046] Use fast generic engine\n"
     ]
    },
    {
     "name": "stdout",
     "output_type": "stream",
     "text": [
      "Model compiled.\n",
      "Accuracy: 0.8767123222351074 Loss:0.6485145092010498\n"
     ]
    }
   ],
   "source": [
    "tuner = tfdf.tuner.RandomSearch(num_trials=1000)\n",
    "tuner.choice(\"min_examples\", [2, 5, 7, 10])\n",
    "tuner.choice(\"categorical_algorithm\", [\"CART\", \"RANDOM\"])\n",
    "\n",
    "local_search_space = tuner.choice(\"growing_strategy\", [\"LOCAL\"])\n",
    "local_search_space.choice(\"max_depth\", [3, 4, 5, 6, 8])\n",
    "\n",
    "global_search_space = tuner.choice(\"growing_strategy\", [\"BEST_FIRST_GLOBAL\"], merge=True)\n",
    "global_search_space.choice(\"max_num_nodes\", [16, 32, 64, 128, 256])\n",
    "\n",
    "#tuner.choice(\"use_hessian_gain\", [True, False])\n",
    "tuner.choice(\"shrinkage\", [0.02, 0.05, 0.10, 0.15, 0.2])\n",
    "tuner.choice(\"num_candidate_attributes_ratio\", [0.2, 0.5, 0.9, 1.0])\n",
    "\n",
    "\n",
    "tuner.choice(\"split_axis\", [\"AXIS_ALIGNED\"])\n",
    "oblique_space = tuner.choice(\"split_axis\", [\"SPARSE_OBLIQUE\"], merge=True)\n",
    "oblique_space.choice(\"sparse_oblique_normalization\",\n",
    "                     [\"NONE\", \"STANDARD_DEVIATION\", \"MIN_MAX\"])\n",
    "oblique_space.choice(\"sparse_oblique_weights\", [\"BINARY\", \"CONTINUOUS\"])\n",
    "oblique_space.choice(\"sparse_oblique_num_projections_exponent\", [1.0, 1.5])\n",
    "\n",
    "# Tune the model. Notice the `tuner=tuner`.\n",
    "tuned_model = tfdf.keras.GradientBoostedTreesModel(tuner=tuner)\n",
    "tuned_model.fit(train_ds, verbose=1)\n",
    "\n",
    "tuned_self_evaluation = tuned_model.make_inspector().evaluation()\n",
    "print(f\"Accuracy: {tuned_self_evaluation.accuracy} Loss:{tuned_self_evaluation.loss}\")"
   ]
  },
  {
   "cell_type": "markdown",
   "id": "b02690e0",
   "metadata": {
    "papermill": {
     "duration": 0.012357,
     "end_time": "2024-02-14T14:57:00.881208",
     "exception": false,
     "start_time": "2024-02-14T14:57:00.868851",
     "status": "completed"
    },
    "tags": []
   },
   "source": [
    "In the last line in the cell above, you can see the accuracy is higher than previously with default parameters and parameters set by hand.\n",
    "\n",
    "This is the main idea behing hyperparameter tuning.\n",
    "\n",
    "For more information you can follow this tutorial: [Automated hyper-parameter tuning](https://www.tensorflow.org/decision_forests/tutorials/automatic_tuning_colab)"
   ]
  },
  {
   "cell_type": "code",
   "execution_count": 11,
   "id": "151ba343",
   "metadata": {
    "execution": {
     "iopub.execute_input": "2024-02-14T14:57:00.910296Z",
     "iopub.status.busy": "2024-02-14T14:57:00.908648Z",
     "iopub.status.idle": "2024-02-14T14:57:00.917935Z",
     "shell.execute_reply": "2024-02-14T14:57:00.916815Z"
    },
    "papermill": {
     "duration": 0.026701,
     "end_time": "2024-02-14T14:57:00.920645",
     "exception": false,
     "start_time": "2024-02-14T14:57:00.893944",
     "status": "completed"
    },
    "tags": []
   },
   "outputs": [
    {
     "data": {
      "text/plain": [
       "<tensorflow_decision_forests.keras.GradientBoostedTreesModel at 0x7c7600108410>"
      ]
     },
     "execution_count": 11,
     "metadata": {},
     "output_type": "execute_result"
    }
   ],
   "source": [
    "tuned_model"
   ]
  },
  {
   "cell_type": "markdown",
   "id": "0f820989",
   "metadata": {
    "papermill": {
     "duration": 0.012939,
     "end_time": "2024-02-14T14:57:00.946859",
     "exception": false,
     "start_time": "2024-02-14T14:57:00.933920",
     "status": "completed"
    },
    "tags": []
   },
   "source": [
    "# Making an ensemble\n",
    "\n",
    "Here you'll create 100 models with different seeds and combine their results\n",
    "\n",
    "This approach removes a little bit the random aspects related to creating ML models\n",
    "\n",
    "In the GBT creation is used the `honest` parameter. It will use different training examples to infer the structure and the leaf values. This regularization technique trades examples for bias estimates."
   ]
  },
  {
   "cell_type": "code",
   "execution_count": 12,
   "id": "b986f252",
   "metadata": {
    "execution": {
     "iopub.execute_input": "2024-02-14T14:57:00.976158Z",
     "iopub.status.busy": "2024-02-14T14:57:00.974816Z",
     "iopub.status.idle": "2024-02-14T18:20:44.504595Z",
     "shell.execute_reply": "2024-02-14T18:20:44.502690Z"
    },
    "papermill": {
     "duration": 12223.548415,
     "end_time": "2024-02-14T18:20:44.508240",
     "exception": false,
     "start_time": "2024-02-14T14:57:00.959825",
     "status": "completed"
    },
    "tags": []
   },
   "outputs": [
    {
     "name": "stdout",
     "output_type": "stream",
     "text": [
      "i:0\n",
      "Reading training dataset...\n",
      "Training dataset read in 0:00:00.053579. Found 891 examples.\n",
      "Training model...\n",
      "Model trained in 0:01:55.199081\n",
      "Compiling model...\n"
     ]
    },
    {
     "name": "stderr",
     "output_type": "stream",
     "text": [
      "[INFO 2024-02-14T14:58:56.221642833+00:00 kernel.cc:1214] Loading model from path /tmp/tmpgnreeysa/model/ with prefix 88ec59f00d304709\n",
      "[INFO 2024-02-14T14:58:56.234293927+00:00 decision_forest.cc:661] Model loaded with 16 root(s), 452 node(s), and 12 input feature(s).\n",
      "[INFO 2024-02-14T14:58:56.234340362+00:00 abstract_model.cc:1311] Engine \"GradientBoostedTreesGeneric\" built\n",
      "[INFO 2024-02-14T14:58:56.234382391+00:00 kernel.cc:1046] Use fast generic engine\n"
     ]
    },
    {
     "name": "stdout",
     "output_type": "stream",
     "text": [
      "Model compiled.\n",
      "i:1\n",
      "Reading training dataset...\n",
      "Training dataset read in 0:00:00.053041. Found 891 examples.\n",
      "Training model...\n",
      "Model trained in 0:01:54.765929\n",
      "Compiling model...\n"
     ]
    },
    {
     "name": "stderr",
     "output_type": "stream",
     "text": [
      "[INFO 2024-02-14T15:00:51.512074042+00:00 kernel.cc:1214] Loading model from path /tmp/tmpgnreeysa/model/ with prefix 88ec59f00d304709\n",
      "[INFO 2024-02-14T15:00:51.525891121+00:00 decision_forest.cc:661] Model loaded with 16 root(s), 452 node(s), and 12 input feature(s).\n",
      "[INFO 2024-02-14T15:00:51.525936824+00:00 abstract_model.cc:1311] Engine \"GradientBoostedTreesGeneric\" built\n",
      "[INFO 2024-02-14T15:00:51.525967105+00:00 kernel.cc:1046] Use fast generic engine\n"
     ]
    },
    {
     "name": "stdout",
     "output_type": "stream",
     "text": [
      "Model compiled.\n",
      "i:2\n",
      "Reading training dataset...\n",
      "Training dataset read in 0:00:00.046016. Found 891 examples.\n",
      "Training model...\n",
      "Model trained in 0:01:55.406412\n",
      "Compiling model...\n"
     ]
    },
    {
     "name": "stderr",
     "output_type": "stream",
     "text": [
      "[INFO 2024-02-14T15:02:47.473490571+00:00 kernel.cc:1214] Loading model from path /tmp/tmpgnreeysa/model/ with prefix 88ec59f00d304709\n",
      "[INFO 2024-02-14T15:02:47.491223074+00:00 decision_forest.cc:661] Model loaded with 16 root(s), 452 node(s), and 12 input feature(s).\n",
      "[INFO 2024-02-14T15:02:47.491310707+00:00 abstract_model.cc:1311] Engine \"GradientBoostedTreesGeneric\" built\n",
      "[INFO 2024-02-14T15:02:47.491357657+00:00 kernel.cc:1046] Use fast generic engine\n"
     ]
    },
    {
     "name": "stdout",
     "output_type": "stream",
     "text": [
      "Model compiled.\n",
      "i:3\n",
      "Reading training dataset...\n",
      "Training dataset read in 0:00:00.052002. Found 891 examples.\n",
      "Training model...\n",
      "Model trained in 0:01:54.368175\n",
      "Compiling model...\n"
     ]
    },
    {
     "name": "stderr",
     "output_type": "stream",
     "text": [
      "[INFO 2024-02-14T15:04:42.411551535+00:00 kernel.cc:1214] Loading model from path /tmp/tmpgnreeysa/model/ with prefix 88ec59f00d304709\n",
      "[INFO 2024-02-14T15:04:42.425736394+00:00 decision_forest.cc:661] Model loaded with 16 root(s), 452 node(s), and 12 input feature(s).\n",
      "[INFO 2024-02-14T15:04:42.425787063+00:00 abstract_model.cc:1311] Engine \"GradientBoostedTreesGeneric\" built\n",
      "[INFO 2024-02-14T15:04:42.425815352+00:00 kernel.cc:1046] Use fast generic engine\n"
     ]
    },
    {
     "name": "stdout",
     "output_type": "stream",
     "text": [
      "Model compiled.\n",
      "i:4\n",
      "Reading training dataset...\n",
      "Training dataset read in 0:00:00.059098. Found 891 examples.\n",
      "Training model...\n",
      "Model trained in 0:01:54.676376\n",
      "Compiling model...\n"
     ]
    },
    {
     "name": "stderr",
     "output_type": "stream",
     "text": [
      "[INFO 2024-02-14T15:06:37.754560948+00:00 kernel.cc:1214] Loading model from path /tmp/tmpgnreeysa/model/ with prefix 88ec59f00d304709\n",
      "[INFO 2024-02-14T15:06:37.770933944+00:00 decision_forest.cc:661] Model loaded with 16 root(s), 452 node(s), and 12 input feature(s).\n",
      "[INFO 2024-02-14T15:06:37.771342084+00:00 abstract_model.cc:1311] Engine \"GradientBoostedTreesGeneric\" built\n",
      "[INFO 2024-02-14T15:06:37.771416725+00:00 kernel.cc:1046] Use fast generic engine\n"
     ]
    },
    {
     "name": "stdout",
     "output_type": "stream",
     "text": [
      "Model compiled.\n",
      "i:5\n",
      "Reading training dataset...\n",
      "Training dataset read in 0:00:00.059435. Found 891 examples.\n",
      "Training model...\n",
      "Model trained in 0:01:55.198442\n",
      "Compiling model...\n"
     ]
    },
    {
     "name": "stderr",
     "output_type": "stream",
     "text": [
      "[INFO 2024-02-14T15:08:33.57219101+00:00 kernel.cc:1214] Loading model from path /tmp/tmpgnreeysa/model/ with prefix 88ec59f00d304709\n",
      "[INFO 2024-02-14T15:08:33.589582794+00:00 decision_forest.cc:661] Model loaded with 16 root(s), 452 node(s), and 12 input feature(s).\n",
      "[INFO 2024-02-14T15:08:33.589673028+00:00 abstract_model.cc:1311] Engine \"GradientBoostedTreesGeneric\" built\n",
      "[INFO 2024-02-14T15:08:33.589720137+00:00 kernel.cc:1046] Use fast generic engine\n"
     ]
    },
    {
     "name": "stdout",
     "output_type": "stream",
     "text": [
      "Model compiled.\n",
      "i:6\n",
      "Reading training dataset...\n",
      "Training dataset read in 0:00:00.053260. Found 891 examples.\n",
      "Training model...\n",
      "Model trained in 0:01:54.649598\n",
      "Compiling model...\n"
     ]
    },
    {
     "name": "stderr",
     "output_type": "stream",
     "text": [
      "[INFO 2024-02-14T15:10:28.867904297+00:00 kernel.cc:1214] Loading model from path /tmp/tmpgnreeysa/model/ with prefix 88ec59f00d304709\n",
      "[INFO 2024-02-14T15:10:28.880400356+00:00 decision_forest.cc:661] Model loaded with 16 root(s), 452 node(s), and 12 input feature(s).\n",
      "[INFO 2024-02-14T15:10:28.880468484+00:00 abstract_model.cc:1311] Engine \"GradientBoostedTreesGeneric\" built\n",
      "[INFO 2024-02-14T15:10:28.880509376+00:00 kernel.cc:1046] Use fast generic engine\n"
     ]
    },
    {
     "name": "stdout",
     "output_type": "stream",
     "text": [
      "Model compiled.\n",
      "i:7\n",
      "Reading training dataset...\n",
      "Training dataset read in 0:00:00.043039. Found 891 examples.\n",
      "Training model...\n",
      "Model trained in 0:01:54.898678\n",
      "Compiling model...\n"
     ]
    },
    {
     "name": "stderr",
     "output_type": "stream",
     "text": [
      "[INFO 2024-02-14T15:12:24.297143651+00:00 kernel.cc:1214] Loading model from path /tmp/tmpgnreeysa/model/ with prefix 88ec59f00d304709\n",
      "[INFO 2024-02-14T15:12:24.308986427+00:00 decision_forest.cc:661] Model loaded with 16 root(s), 452 node(s), and 12 input feature(s).\n",
      "[INFO 2024-02-14T15:12:24.309032021+00:00 abstract_model.cc:1311] Engine \"GradientBoostedTreesGeneric\" built\n",
      "[INFO 2024-02-14T15:12:24.309058139+00:00 kernel.cc:1046] Use fast generic engine\n"
     ]
    },
    {
     "name": "stdout",
     "output_type": "stream",
     "text": [
      "Model compiled.\n",
      "i:8\n",
      "Reading training dataset...\n",
      "Training dataset read in 0:00:00.044644. Found 891 examples.\n",
      "Training model...\n",
      "Model trained in 0:01:54.904614\n",
      "Compiling model...\n"
     ]
    },
    {
     "name": "stderr",
     "output_type": "stream",
     "text": [
      "[INFO 2024-02-14T15:14:46.419253815+00:00 kernel.cc:1214] Loading model from path /tmp/tmpgnreeysa/model/ with prefix 88ec59f00d304709\n",
      "[INFO 2024-02-14T15:14:46.432907279+00:00 decision_forest.cc:661] Model loaded with 16 root(s), 452 node(s), and 12 input feature(s).\n",
      "[INFO 2024-02-14T15:14:46.432953827+00:00 abstract_model.cc:1311] Engine \"GradientBoostedTreesGeneric\" built\n",
      "[INFO 2024-02-14T15:14:46.432979814+00:00 kernel.cc:1046] Use fast generic engine\n"
     ]
    },
    {
     "name": "stdout",
     "output_type": "stream",
     "text": [
      "Model compiled.\n",
      "i:9\n",
      "Reading training dataset...\n",
      "Training dataset read in 0:00:00.046581. Found 891 examples.\n",
      "Training model...\n",
      "Model trained in 0:01:54.234527\n",
      "Compiling model...\n"
     ]
    },
    {
     "name": "stderr",
     "output_type": "stream",
     "text": [
      "[INFO 2024-02-14T15:17:07.86915184+00:00 kernel.cc:1214] Loading model from path /tmp/tmpgnreeysa/model/ with prefix 88ec59f00d304709\n",
      "[INFO 2024-02-14T15:17:07.88567918+00:00 decision_forest.cc:661] Model loaded with 16 root(s), 452 node(s), and 12 input feature(s).\n",
      "[INFO 2024-02-14T15:17:07.885742627+00:00 abstract_model.cc:1311] Engine \"GradientBoostedTreesGeneric\" built\n",
      "[INFO 2024-02-14T15:17:07.88577481+00:00 kernel.cc:1046] Use fast generic engine\n"
     ]
    },
    {
     "name": "stdout",
     "output_type": "stream",
     "text": [
      "Model compiled.\n",
      "i:10\n",
      "Reading training dataset...\n",
      "Training dataset read in 0:00:00.051104. Found 891 examples.\n",
      "Training model...\n",
      "Model trained in 0:01:55.230778\n",
      "Compiling model...\n"
     ]
    },
    {
     "name": "stderr",
     "output_type": "stream",
     "text": [
      "[INFO 2024-02-14T15:19:03.686136146+00:00 kernel.cc:1214] Loading model from path /tmp/tmpgnreeysa/model/ with prefix 88ec59f00d304709\n",
      "[INFO 2024-02-14T15:19:03.700557754+00:00 decision_forest.cc:661] Model loaded with 16 root(s), 452 node(s), and 12 input feature(s).\n",
      "[INFO 2024-02-14T15:19:03.700620994+00:00 abstract_model.cc:1311] Engine \"GradientBoostedTreesGeneric\" built\n",
      "[INFO 2024-02-14T15:19:03.700651935+00:00 kernel.cc:1046] Use fast generic engine\n"
     ]
    },
    {
     "name": "stdout",
     "output_type": "stream",
     "text": [
      "Model compiled.\n",
      "i:11\n",
      "Reading training dataset...\n",
      "Training dataset read in 0:00:00.051646. Found 891 examples.\n",
      "Training model...\n",
      "Model trained in 0:01:54.612725\n",
      "Compiling model...\n"
     ]
    },
    {
     "name": "stderr",
     "output_type": "stream",
     "text": [
      "[INFO 2024-02-14T15:21:25.191676895+00:00 kernel.cc:1214] Loading model from path /tmp/tmpgnreeysa/model/ with prefix 88ec59f00d304709\n",
      "[INFO 2024-02-14T15:21:25.206497456+00:00 decision_forest.cc:661] Model loaded with 16 root(s), 452 node(s), and 12 input feature(s).\n",
      "[INFO 2024-02-14T15:21:25.206580766+00:00 abstract_model.cc:1311] Engine \"GradientBoostedTreesGeneric\" built\n",
      "[INFO 2024-02-14T15:21:25.206625904+00:00 kernel.cc:1046] Use fast generic engine\n"
     ]
    },
    {
     "name": "stdout",
     "output_type": "stream",
     "text": [
      "Model compiled.\n",
      "i:12\n",
      "Reading training dataset...\n",
      "Training dataset read in 0:00:00.049821. Found 891 examples.\n",
      "Training model...\n",
      "Model trained in 0:01:55.156260\n",
      "Compiling model...\n"
     ]
    },
    {
     "name": "stderr",
     "output_type": "stream",
     "text": [
      "[INFO 2024-02-14T15:23:20.9651545+00:00 kernel.cc:1214] Loading model from path /tmp/tmpgnreeysa/model/ with prefix 88ec59f00d304709\n",
      "[INFO 2024-02-14T15:23:20.981718325+00:00 decision_forest.cc:661] Model loaded with 16 root(s), 452 node(s), and 12 input feature(s).\n",
      "[INFO 2024-02-14T15:23:20.981798958+00:00 abstract_model.cc:1311] Engine \"GradientBoostedTreesGeneric\" built\n",
      "[INFO 2024-02-14T15:23:20.981844082+00:00 kernel.cc:1046] Use fast generic engine\n"
     ]
    },
    {
     "name": "stdout",
     "output_type": "stream",
     "text": [
      "Model compiled.\n",
      "i:13\n",
      "Reading training dataset...\n",
      "Training dataset read in 0:00:00.042811. Found 891 examples.\n",
      "Training model...\n",
      "Model trained in 0:01:54.859570\n",
      "Compiling model...\n"
     ]
    },
    {
     "name": "stderr",
     "output_type": "stream",
     "text": [
      "[INFO 2024-02-14T15:25:16.444323323+00:00 kernel.cc:1214] Loading model from path /tmp/tmpgnreeysa/model/ with prefix 88ec59f00d304709\n",
      "[INFO 2024-02-14T15:25:16.457564762+00:00 decision_forest.cc:661] Model loaded with 16 root(s), 452 node(s), and 12 input feature(s).\n",
      "[INFO 2024-02-14T15:25:16.457611303+00:00 abstract_model.cc:1311] Engine \"GradientBoostedTreesGeneric\" built\n",
      "[INFO 2024-02-14T15:25:16.457642537+00:00 kernel.cc:1046] Use fast generic engine\n"
     ]
    },
    {
     "name": "stdout",
     "output_type": "stream",
     "text": [
      "Model compiled.\n",
      "i:14\n",
      "Reading training dataset...\n",
      "Training dataset read in 0:00:00.049486. Found 891 examples.\n",
      "Training model...\n",
      "Model trained in 0:01:55.318636\n",
      "Compiling model...\n"
     ]
    },
    {
     "name": "stderr",
     "output_type": "stream",
     "text": [
      "[INFO 2024-02-14T15:27:12.313687248+00:00 kernel.cc:1214] Loading model from path /tmp/tmpgnreeysa/model/ with prefix 88ec59f00d304709\n",
      "[INFO 2024-02-14T15:27:12.325834236+00:00 decision_forest.cc:661] Model loaded with 16 root(s), 452 node(s), and 12 input feature(s).\n",
      "[INFO 2024-02-14T15:27:12.325879306+00:00 abstract_model.cc:1311] Engine \"GradientBoostedTreesGeneric\" built\n",
      "[INFO 2024-02-14T15:27:12.325910389+00:00 kernel.cc:1046] Use fast generic engine\n"
     ]
    },
    {
     "name": "stdout",
     "output_type": "stream",
     "text": [
      "Model compiled.\n",
      "i:15\n",
      "Reading training dataset...\n",
      "Training dataset read in 0:00:00.054214. Found 891 examples.\n",
      "Training model...\n",
      "Model trained in 0:01:54.488427\n",
      "Compiling model...\n"
     ]
    },
    {
     "name": "stderr",
     "output_type": "stream",
     "text": [
      "[INFO 2024-02-14T15:29:07.405442856+00:00 kernel.cc:1214] Loading model from path /tmp/tmpgnreeysa/model/ with prefix 88ec59f00d304709\n",
      "[INFO 2024-02-14T15:29:07.420528336+00:00 decision_forest.cc:661] Model loaded with 16 root(s), 452 node(s), and 12 input feature(s).\n",
      "[INFO 2024-02-14T15:29:07.420614411+00:00 abstract_model.cc:1311] Engine \"GradientBoostedTreesGeneric\" built\n",
      "[INFO 2024-02-14T15:29:07.420658746+00:00 kernel.cc:1046] Use fast generic engine\n"
     ]
    },
    {
     "name": "stdout",
     "output_type": "stream",
     "text": [
      "Model compiled.\n",
      "i:16\n",
      "Reading training dataset...\n",
      "Training dataset read in 0:00:00.050837. Found 891 examples.\n",
      "Training model...\n",
      "Model trained in 0:01:55.687544\n",
      "Compiling model...\n"
     ]
    },
    {
     "name": "stderr",
     "output_type": "stream",
     "text": [
      "[INFO 2024-02-14T15:31:03.633279694+00:00 kernel.cc:1214] Loading model from path /tmp/tmpgnreeysa/model/ with prefix 88ec59f00d304709\n",
      "[INFO 2024-02-14T15:31:03.64927248+00:00 decision_forest.cc:661] Model loaded with 16 root(s), 452 node(s), and 12 input feature(s).\n",
      "[INFO 2024-02-14T15:31:03.649334812+00:00 abstract_model.cc:1311] Engine \"GradientBoostedTreesGeneric\" built\n",
      "[INFO 2024-02-14T15:31:03.649364452+00:00 kernel.cc:1046] Use fast generic engine\n"
     ]
    },
    {
     "name": "stdout",
     "output_type": "stream",
     "text": [
      "Model compiled.\n",
      "i:17\n",
      "Reading training dataset...\n",
      "Training dataset read in 0:00:00.043444. Found 891 examples.\n",
      "Training model...\n",
      "Model trained in 0:01:54.466108\n",
      "Compiling model...\n"
     ]
    },
    {
     "name": "stderr",
     "output_type": "stream",
     "text": [
      "[INFO 2024-02-14T15:33:24.501543316+00:00 kernel.cc:1214] Loading model from path /tmp/tmpgnreeysa/model/ with prefix 88ec59f00d304709\n",
      "[INFO 2024-02-14T15:33:24.515531135+00:00 decision_forest.cc:661] Model loaded with 16 root(s), 452 node(s), and 12 input feature(s).\n",
      "[INFO 2024-02-14T15:33:24.515579667+00:00 abstract_model.cc:1311] Engine \"GradientBoostedTreesGeneric\" built\n",
      "[INFO 2024-02-14T15:33:24.515607078+00:00 kernel.cc:1046] Use fast generic engine\n"
     ]
    },
    {
     "name": "stdout",
     "output_type": "stream",
     "text": [
      "Model compiled.\n",
      "i:18\n",
      "Reading training dataset...\n",
      "Training dataset read in 0:00:00.046894. Found 891 examples.\n",
      "Training model...\n",
      "Model trained in 0:01:55.457293\n",
      "Compiling model...\n"
     ]
    },
    {
     "name": "stderr",
     "output_type": "stream",
     "text": [
      "[INFO 2024-02-14T15:35:20.51670376+00:00 kernel.cc:1214] Loading model from path /tmp/tmpgnreeysa/model/ with prefix 88ec59f00d304709\n",
      "[INFO 2024-02-14T15:35:20.529439407+00:00 decision_forest.cc:661] Model loaded with 16 root(s), 452 node(s), and 12 input feature(s).\n",
      "[INFO 2024-02-14T15:35:20.529505134+00:00 abstract_model.cc:1311] Engine \"GradientBoostedTreesGeneric\" built\n",
      "[INFO 2024-02-14T15:35:20.529543594+00:00 kernel.cc:1046] Use fast generic engine\n"
     ]
    },
    {
     "name": "stdout",
     "output_type": "stream",
     "text": [
      "Model compiled.\n",
      "i:19\n",
      "Reading training dataset...\n",
      "Training dataset read in 0:00:00.053739. Found 891 examples.\n",
      "Training model...\n",
      "Model trained in 0:01:55.010661\n",
      "Compiling model...\n"
     ]
    },
    {
     "name": "stderr",
     "output_type": "stream",
     "text": [
      "[INFO 2024-02-14T15:37:16.102021429+00:00 kernel.cc:1214] Loading model from path /tmp/tmpgnreeysa/model/ with prefix 88ec59f00d304709\n",
      "[INFO 2024-02-14T15:37:16.115003165+00:00 decision_forest.cc:661] Model loaded with 16 root(s), 452 node(s), and 12 input feature(s).\n",
      "[INFO 2024-02-14T15:37:16.115055454+00:00 abstract_model.cc:1311] Engine \"GradientBoostedTreesGeneric\" built\n",
      "[INFO 2024-02-14T15:37:16.115084904+00:00 kernel.cc:1046] Use fast generic engine\n"
     ]
    },
    {
     "name": "stdout",
     "output_type": "stream",
     "text": [
      "Model compiled.\n",
      "i:20\n",
      "Reading training dataset...\n",
      "Training dataset read in 0:00:00.043922. Found 891 examples.\n",
      "Training model...\n",
      "Model trained in 0:01:55.828144\n",
      "Compiling model...\n"
     ]
    },
    {
     "name": "stderr",
     "output_type": "stream",
     "text": [
      "[INFO 2024-02-14T15:39:39.019651886+00:00 kernel.cc:1214] Loading model from path /tmp/tmpgnreeysa/model/ with prefix 88ec59f00d304709\n",
      "[INFO 2024-02-14T15:39:39.032417073+00:00 decision_forest.cc:661] Model loaded with 16 root(s), 452 node(s), and 12 input feature(s).\n",
      "[INFO 2024-02-14T15:39:39.032479895+00:00 abstract_model.cc:1311] Engine \"GradientBoostedTreesGeneric\" built\n",
      "[INFO 2024-02-14T15:39:39.032518055+00:00 kernel.cc:1046] Use fast generic engine\n"
     ]
    },
    {
     "name": "stdout",
     "output_type": "stream",
     "text": [
      "Model compiled.\n",
      "i:21\n",
      "Reading training dataset...\n",
      "Training dataset read in 0:00:00.053647. Found 891 examples.\n",
      "Training model...\n",
      "Model trained in 0:01:55.462888\n",
      "Compiling model...\n"
     ]
    },
    {
     "name": "stderr",
     "output_type": "stream",
     "text": [
      "[INFO 2024-02-14T15:41:35.188985042+00:00 kernel.cc:1214] Loading model from path /tmp/tmpgnreeysa/model/ with prefix 88ec59f00d304709\n",
      "[INFO 2024-02-14T15:41:35.20663759+00:00 decision_forest.cc:661] Model loaded with 16 root(s), 452 node(s), and 12 input feature(s).\n",
      "[INFO 2024-02-14T15:41:35.20672295+00:00 abstract_model.cc:1311] Engine \"GradientBoostedTreesGeneric\" built\n",
      "[INFO 2024-02-14T15:41:35.206774828+00:00 kernel.cc:1046] Use fast generic engine\n"
     ]
    },
    {
     "name": "stdout",
     "output_type": "stream",
     "text": [
      "Model compiled.\n",
      "i:22\n",
      "Reading training dataset...\n",
      "Training dataset read in 0:00:00.056463. Found 891 examples.\n",
      "Training model...\n",
      "Model trained in 0:01:55.490319\n",
      "Compiling model...\n"
     ]
    },
    {
     "name": "stderr",
     "output_type": "stream",
     "text": [
      "[INFO 2024-02-14T15:43:57.32454215+00:00 kernel.cc:1214] Loading model from path /tmp/tmpgnreeysa/model/ with prefix 88ec59f00d304709\n",
      "[INFO 2024-02-14T15:43:57.337255206+00:00 decision_forest.cc:661] Model loaded with 16 root(s), 452 node(s), and 12 input feature(s).\n",
      "[INFO 2024-02-14T15:43:57.337331966+00:00 abstract_model.cc:1311] Engine \"GradientBoostedTreesGeneric\" built\n",
      "[INFO 2024-02-14T15:43:57.337391813+00:00 kernel.cc:1046] Use fast generic engine\n"
     ]
    },
    {
     "name": "stdout",
     "output_type": "stream",
     "text": [
      "Model compiled.\n",
      "i:23\n",
      "Reading training dataset...\n",
      "Training dataset read in 0:00:00.050941. Found 891 examples.\n",
      "Training model...\n",
      "Model trained in 0:01:55.115729\n",
      "Compiling model...\n"
     ]
    },
    {
     "name": "stderr",
     "output_type": "stream",
     "text": [
      "[INFO 2024-02-14T15:45:53.027505081+00:00 kernel.cc:1214] Loading model from path /tmp/tmpgnreeysa/model/ with prefix 88ec59f00d304709\n",
      "[INFO 2024-02-14T15:45:53.040124865+00:00 decision_forest.cc:661] Model loaded with 16 root(s), 452 node(s), and 12 input feature(s).\n",
      "[INFO 2024-02-14T15:45:53.040177992+00:00 abstract_model.cc:1311] Engine \"GradientBoostedTreesGeneric\" built\n",
      "[INFO 2024-02-14T15:45:53.040212165+00:00 kernel.cc:1046] Use fast generic engine\n"
     ]
    },
    {
     "name": "stdout",
     "output_type": "stream",
     "text": [
      "Model compiled.\n",
      "i:24\n",
      "Reading training dataset...\n",
      "Training dataset read in 0:00:00.053223. Found 891 examples.\n",
      "Training model...\n",
      "Model trained in 0:01:56.127709\n",
      "Compiling model...\n"
     ]
    },
    {
     "name": "stderr",
     "output_type": "stream",
     "text": [
      "[INFO 2024-02-14T15:47:49.790480586+00:00 kernel.cc:1214] Loading model from path /tmp/tmpgnreeysa/model/ with prefix 88ec59f00d304709\n",
      "[INFO 2024-02-14T15:47:49.804991899+00:00 decision_forest.cc:661] Model loaded with 16 root(s), 452 node(s), and 12 input feature(s).\n",
      "[INFO 2024-02-14T15:47:49.805087193+00:00 abstract_model.cc:1311] Engine \"GradientBoostedTreesGeneric\" built\n",
      "[INFO 2024-02-14T15:47:49.805134918+00:00 kernel.cc:1046] Use fast generic engine\n"
     ]
    },
    {
     "name": "stdout",
     "output_type": "stream",
     "text": [
      "Model compiled.\n",
      "i:25\n",
      "Reading training dataset...\n",
      "Training dataset read in 0:00:00.044927. Found 891 examples.\n",
      "Training model...\n",
      "Model trained in 0:01:54.702522\n",
      "Compiling model...\n"
     ]
    },
    {
     "name": "stderr",
     "output_type": "stream",
     "text": [
      "[INFO 2024-02-14T15:49:45.093271706+00:00 kernel.cc:1214] Loading model from path /tmp/tmpgnreeysa/model/ with prefix 88ec59f00d304709\n",
      "[INFO 2024-02-14T15:49:45.108920958+00:00 decision_forest.cc:661] Model loaded with 16 root(s), 452 node(s), and 12 input feature(s).\n",
      "[INFO 2024-02-14T15:49:45.108987522+00:00 abstract_model.cc:1311] Engine \"GradientBoostedTreesGeneric\" built\n",
      "[INFO 2024-02-14T15:49:45.109036479+00:00 kernel.cc:1046] Use fast generic engine\n"
     ]
    },
    {
     "name": "stdout",
     "output_type": "stream",
     "text": [
      "Model compiled.\n",
      "i:26\n",
      "Reading training dataset...\n",
      "Training dataset read in 0:00:00.052389. Found 891 examples.\n",
      "Training model...\n",
      "Model trained in 0:01:55.544082\n",
      "Compiling model...\n"
     ]
    },
    {
     "name": "stderr",
     "output_type": "stream",
     "text": [
      "[INFO 2024-02-14T15:51:41.194129286+00:00 kernel.cc:1214] Loading model from path /tmp/tmpgnreeysa/model/ with prefix 88ec59f00d304709\n",
      "[INFO 2024-02-14T15:51:41.206685116+00:00 decision_forest.cc:661] Model loaded with 16 root(s), 452 node(s), and 12 input feature(s).\n",
      "[INFO 2024-02-14T15:51:41.206732373+00:00 abstract_model.cc:1311] Engine \"GradientBoostedTreesGeneric\" built\n",
      "[INFO 2024-02-14T15:51:41.206766349+00:00 kernel.cc:1046] Use fast generic engine\n"
     ]
    },
    {
     "name": "stdout",
     "output_type": "stream",
     "text": [
      "Model compiled.\n",
      "i:27\n",
      "Reading training dataset...\n",
      "Training dataset read in 0:00:00.044545. Found 891 examples.\n",
      "Training model...\n",
      "Model trained in 0:01:54.414442\n",
      "Compiling model...\n"
     ]
    },
    {
     "name": "stderr",
     "output_type": "stream",
     "text": [
      "[INFO 2024-02-14T15:53:36.16224072+00:00 kernel.cc:1214] Loading model from path /tmp/tmpgnreeysa/model/ with prefix 88ec59f00d304709\n",
      "[INFO 2024-02-14T15:53:36.17398061+00:00 decision_forest.cc:661] Model loaded with 16 root(s), 452 node(s), and 12 input feature(s).\n",
      "[INFO 2024-02-14T15:53:36.17402824+00:00 abstract_model.cc:1311] Engine \"GradientBoostedTreesGeneric\" built\n",
      "[INFO 2024-02-14T15:53:36.174054565+00:00 kernel.cc:1046] Use fast generic engine\n"
     ]
    },
    {
     "name": "stdout",
     "output_type": "stream",
     "text": [
      "Model compiled.\n",
      "i:28\n",
      "Reading training dataset...\n",
      "Training dataset read in 0:00:00.042847. Found 891 examples.\n",
      "Training model...\n",
      "Model trained in 0:01:55.352615\n",
      "Compiling model...\n"
     ]
    },
    {
     "name": "stderr",
     "output_type": "stream",
     "text": [
      "[INFO 2024-02-14T15:55:32.071749565+00:00 kernel.cc:1214] Loading model from path /tmp/tmpgnreeysa/model/ with prefix 88ec59f00d304709\n",
      "[INFO 2024-02-14T15:55:32.085209262+00:00 decision_forest.cc:661] Model loaded with 16 root(s), 452 node(s), and 12 input feature(s).\n",
      "[INFO 2024-02-14T15:55:32.085254647+00:00 abstract_model.cc:1311] Engine \"GradientBoostedTreesGeneric\" built\n",
      "[INFO 2024-02-14T15:55:32.085280998+00:00 kernel.cc:1046] Use fast generic engine\n"
     ]
    },
    {
     "name": "stdout",
     "output_type": "stream",
     "text": [
      "Model compiled.\n",
      "i:29\n",
      "Reading training dataset...\n",
      "Training dataset read in 0:00:00.048177. Found 891 examples.\n",
      "Training model...\n",
      "Model trained in 0:01:54.945536\n",
      "Compiling model...\n"
     ]
    },
    {
     "name": "stderr",
     "output_type": "stream",
     "text": [
      "[INFO 2024-02-14T15:57:27.754625855+00:00 kernel.cc:1214] Loading model from path /tmp/tmpgnreeysa/model/ with prefix 88ec59f00d304709\n",
      "[INFO 2024-02-14T15:57:27.774844643+00:00 decision_forest.cc:661] Model loaded with 16 root(s), 452 node(s), and 12 input feature(s).\n",
      "[INFO 2024-02-14T15:57:27.774906989+00:00 abstract_model.cc:1311] Engine \"GradientBoostedTreesGeneric\" built\n",
      "[INFO 2024-02-14T15:57:27.77494123+00:00 kernel.cc:1046] Use fast generic engine\n"
     ]
    },
    {
     "name": "stdout",
     "output_type": "stream",
     "text": [
      "Model compiled.\n",
      "i:30\n",
      "Reading training dataset...\n",
      "Training dataset read in 0:00:00.046986. Found 891 examples.\n",
      "Training model...\n",
      "Model trained in 0:01:55.431201\n",
      "Compiling model...\n"
     ]
    },
    {
     "name": "stderr",
     "output_type": "stream",
     "text": [
      "[INFO 2024-02-14T15:59:23.824168342+00:00 kernel.cc:1214] Loading model from path /tmp/tmpgnreeysa/model/ with prefix 88ec59f00d304709\n",
      "[INFO 2024-02-14T15:59:23.839605619+00:00 decision_forest.cc:661] Model loaded with 16 root(s), 452 node(s), and 12 input feature(s).\n",
      "[INFO 2024-02-14T15:59:23.839738289+00:00 abstract_model.cc:1311] Engine \"GradientBoostedTreesGeneric\" built\n",
      "[INFO 2024-02-14T15:59:23.83977843+00:00 kernel.cc:1046] Use fast generic engine\n"
     ]
    },
    {
     "name": "stdout",
     "output_type": "stream",
     "text": [
      "Model compiled.\n",
      "i:31\n",
      "Reading training dataset...\n",
      "Training dataset read in 0:00:00.045262. Found 891 examples.\n",
      "Training model...\n",
      "Model trained in 0:01:55.412776\n",
      "Compiling model...\n"
     ]
    },
    {
     "name": "stderr",
     "output_type": "stream",
     "text": [
      "[INFO 2024-02-14T16:01:19.836921776+00:00 kernel.cc:1214] Loading model from path /tmp/tmpgnreeysa/model/ with prefix 88ec59f00d304709\n",
      "[INFO 2024-02-14T16:01:19.852341547+00:00 decision_forest.cc:661] Model loaded with 16 root(s), 452 node(s), and 12 input feature(s).\n",
      "[INFO 2024-02-14T16:01:19.852416101+00:00 abstract_model.cc:1311] Engine \"GradientBoostedTreesGeneric\" built\n",
      "[INFO 2024-02-14T16:01:19.852448728+00:00 kernel.cc:1046] Use fast generic engine\n"
     ]
    },
    {
     "name": "stdout",
     "output_type": "stream",
     "text": [
      "Model compiled.\n",
      "i:32\n",
      "Reading training dataset...\n",
      "Training dataset read in 0:00:00.049604. Found 891 examples.\n",
      "Training model...\n",
      "Model trained in 0:01:55.565011\n",
      "Compiling model...\n"
     ]
    },
    {
     "name": "stderr",
     "output_type": "stream",
     "text": [
      "[INFO 2024-02-14T16:03:42.123028175+00:00 kernel.cc:1214] Loading model from path /tmp/tmpgnreeysa/model/ with prefix 88ec59f00d304709\n",
      "[INFO 2024-02-14T16:03:42.136402785+00:00 decision_forest.cc:661] Model loaded with 16 root(s), 452 node(s), and 12 input feature(s).\n",
      "[INFO 2024-02-14T16:03:42.136469431+00:00 abstract_model.cc:1311] Engine \"GradientBoostedTreesGeneric\" built\n",
      "[INFO 2024-02-14T16:03:42.136517266+00:00 kernel.cc:1046] Use fast generic engine\n"
     ]
    },
    {
     "name": "stdout",
     "output_type": "stream",
     "text": [
      "Model compiled.\n",
      "i:33\n",
      "Reading training dataset...\n",
      "Training dataset read in 0:00:00.059602. Found 891 examples.\n",
      "Training model...\n",
      "Model trained in 0:01:54.644152\n",
      "Compiling model...\n"
     ]
    },
    {
     "name": "stderr",
     "output_type": "stream",
     "text": [
      "[INFO 2024-02-14T16:05:37.448414304+00:00 kernel.cc:1214] Loading model from path /tmp/tmpgnreeysa/model/ with prefix 88ec59f00d304709\n",
      "[INFO 2024-02-14T16:05:37.464472893+00:00 decision_forest.cc:661] Model loaded with 16 root(s), 452 node(s), and 12 input feature(s).\n",
      "[INFO 2024-02-14T16:05:37.464520268+00:00 abstract_model.cc:1311] Engine \"GradientBoostedTreesGeneric\" built\n",
      "[INFO 2024-02-14T16:05:37.464551378+00:00 kernel.cc:1046] Use fast generic engine\n"
     ]
    },
    {
     "name": "stdout",
     "output_type": "stream",
     "text": [
      "Model compiled.\n",
      "i:34\n",
      "Reading training dataset...\n",
      "Training dataset read in 0:00:00.053388. Found 891 examples.\n",
      "Training model...\n",
      "Model trained in 0:01:55.290181\n",
      "Compiling model...\n"
     ]
    },
    {
     "name": "stderr",
     "output_type": "stream",
     "text": [
      "[INFO 2024-02-14T16:07:33.393925574+00:00 kernel.cc:1214] Loading model from path /tmp/tmpgnreeysa/model/ with prefix 88ec59f00d304709\n",
      "[INFO 2024-02-14T16:07:33.406330612+00:00 decision_forest.cc:661] Model loaded with 16 root(s), 452 node(s), and 12 input feature(s).\n",
      "[INFO 2024-02-14T16:07:33.406389982+00:00 abstract_model.cc:1311] Engine \"GradientBoostedTreesGeneric\" built\n",
      "[INFO 2024-02-14T16:07:33.406416951+00:00 kernel.cc:1046] Use fast generic engine\n"
     ]
    },
    {
     "name": "stdout",
     "output_type": "stream",
     "text": [
      "Model compiled.\n",
      "i:35\n",
      "Reading training dataset...\n",
      "Training dataset read in 0:00:00.044273. Found 891 examples.\n",
      "Training model...\n",
      "Model trained in 0:01:54.664134\n",
      "Compiling model...\n"
     ]
    },
    {
     "name": "stderr",
     "output_type": "stream",
     "text": [
      "[INFO 2024-02-14T16:09:28.623252815+00:00 kernel.cc:1214] Loading model from path /tmp/tmpgnreeysa/model/ with prefix 88ec59f00d304709\n",
      "[INFO 2024-02-14T16:09:28.637965685+00:00 decision_forest.cc:661] Model loaded with 16 root(s), 452 node(s), and 12 input feature(s).\n",
      "[INFO 2024-02-14T16:09:28.638027957+00:00 abstract_model.cc:1311] Engine \"GradientBoostedTreesGeneric\" built\n",
      "[INFO 2024-02-14T16:09:28.638065348+00:00 kernel.cc:1046] Use fast generic engine\n"
     ]
    },
    {
     "name": "stdout",
     "output_type": "stream",
     "text": [
      "Model compiled.\n",
      "i:36\n",
      "Reading training dataset...\n",
      "Training dataset read in 0:00:00.043703. Found 891 examples.\n",
      "Training model...\n",
      "Model trained in 0:01:55.272342\n",
      "Compiling model...\n"
     ]
    },
    {
     "name": "stderr",
     "output_type": "stream",
     "text": [
      "[INFO 2024-02-14T16:11:51.356612955+00:00 kernel.cc:1214] Loading model from path /tmp/tmpgnreeysa/model/ with prefix 88ec59f00d304709\n",
      "[INFO 2024-02-14T16:11:51.370928047+00:00 decision_forest.cc:661] Model loaded with 16 root(s), 452 node(s), and 12 input feature(s).\n",
      "[INFO 2024-02-14T16:11:51.371024056+00:00 abstract_model.cc:1311] Engine \"GradientBoostedTreesGeneric\" built\n",
      "[INFO 2024-02-14T16:11:51.371082376+00:00 kernel.cc:1046] Use fast generic engine\n"
     ]
    },
    {
     "name": "stdout",
     "output_type": "stream",
     "text": [
      "Model compiled.\n",
      "i:37\n",
      "Reading training dataset...\n",
      "Training dataset read in 0:00:00.058893. Found 891 examples.\n",
      "Training model...\n",
      "Model trained in 0:01:54.603656\n",
      "Compiling model...\n"
     ]
    },
    {
     "name": "stderr",
     "output_type": "stream",
     "text": [
      "[INFO 2024-02-14T16:13:46.590245907+00:00 kernel.cc:1214] Loading model from path /tmp/tmpgnreeysa/model/ with prefix 88ec59f00d304709\n",
      "[INFO 2024-02-14T16:13:46.60582138+00:00 decision_forest.cc:661] Model loaded with 16 root(s), 452 node(s), and 12 input feature(s).\n",
      "[INFO 2024-02-14T16:13:46.606180713+00:00 abstract_model.cc:1311] Engine \"GradientBoostedTreesGeneric\" built\n",
      "[INFO 2024-02-14T16:13:46.606511483+00:00 kernel.cc:1046] Use fast generic engine\n"
     ]
    },
    {
     "name": "stdout",
     "output_type": "stream",
     "text": [
      "Model compiled.\n",
      "i:38\n",
      "Reading training dataset...\n",
      "Training dataset read in 0:00:00.053183. Found 891 examples.\n",
      "Training model...\n",
      "Model trained in 0:01:55.400384\n",
      "Compiling model...\n"
     ]
    },
    {
     "name": "stderr",
     "output_type": "stream",
     "text": [
      "[INFO 2024-02-14T16:15:42.553084393+00:00 kernel.cc:1214] Loading model from path /tmp/tmpgnreeysa/model/ with prefix 88ec59f00d304709\n",
      "[INFO 2024-02-14T16:15:42.568938237+00:00 decision_forest.cc:661] Model loaded with 16 root(s), 452 node(s), and 12 input feature(s).\n",
      "[INFO 2024-02-14T16:15:42.569033006+00:00 abstract_model.cc:1311] Engine \"GradientBoostedTreesGeneric\" built\n",
      "[INFO 2024-02-14T16:15:42.569084608+00:00 kernel.cc:1046] Use fast generic engine\n"
     ]
    },
    {
     "name": "stdout",
     "output_type": "stream",
     "text": [
      "Model compiled.\n",
      "i:39\n",
      "Reading training dataset...\n",
      "Training dataset read in 0:00:00.043590. Found 891 examples.\n",
      "Training model...\n",
      "Model trained in 0:01:56.764585\n",
      "Compiling model...\n"
     ]
    },
    {
     "name": "stderr",
     "output_type": "stream",
     "text": [
      "[INFO 2024-02-14T16:17:39.990332208+00:00 kernel.cc:1214] Loading model from path /tmp/tmpgnreeysa/model/ with prefix 88ec59f00d304709\n",
      "[INFO 2024-02-14T16:17:40.004150019+00:00 decision_forest.cc:661] Model loaded with 16 root(s), 452 node(s), and 12 input feature(s).\n",
      "[INFO 2024-02-14T16:17:40.004470606+00:00 abstract_model.cc:1311] Engine \"GradientBoostedTreesGeneric\" built\n",
      "[INFO 2024-02-14T16:17:40.00452346+00:00 kernel.cc:1046] Use fast generic engine\n"
     ]
    },
    {
     "name": "stdout",
     "output_type": "stream",
     "text": [
      "Model compiled.\n",
      "i:40\n",
      "Reading training dataset...\n",
      "Training dataset read in 0:00:00.052144. Found 891 examples.\n",
      "Training model...\n",
      "Model trained in 0:01:56.185586\n",
      "Compiling model...\n"
     ]
    },
    {
     "name": "stderr",
     "output_type": "stream",
     "text": [
      "[INFO 2024-02-14T16:20:01.543663961+00:00 kernel.cc:1214] Loading model from path /tmp/tmpgnreeysa/model/ with prefix 88ec59f00d304709\n",
      "[INFO 2024-02-14T16:20:01.556601406+00:00 decision_forest.cc:661] Model loaded with 16 root(s), 452 node(s), and 12 input feature(s).\n",
      "[INFO 2024-02-14T16:20:01.556647806+00:00 abstract_model.cc:1311] Engine \"GradientBoostedTreesGeneric\" built\n",
      "[INFO 2024-02-14T16:20:01.556674586+00:00 kernel.cc:1046] Use fast generic engine\n"
     ]
    },
    {
     "name": "stdout",
     "output_type": "stream",
     "text": [
      "Model compiled.\n",
      "i:41\n",
      "Reading training dataset...\n",
      "Training dataset read in 0:00:00.059680. Found 891 examples.\n",
      "Training model...\n",
      "Model trained in 0:01:56.043312\n",
      "Compiling model...\n"
     ]
    },
    {
     "name": "stderr",
     "output_type": "stream",
     "text": [
      "[INFO 2024-02-14T16:21:58.227494497+00:00 kernel.cc:1214] Loading model from path /tmp/tmpgnreeysa/model/ with prefix 88ec59f00d304709\n",
      "[INFO 2024-02-14T16:21:58.244114292+00:00 decision_forest.cc:661] Model loaded with 16 root(s), 452 node(s), and 12 input feature(s).\n",
      "[INFO 2024-02-14T16:21:58.244439796+00:00 abstract_model.cc:1311] Engine \"GradientBoostedTreesGeneric\" built\n",
      "[INFO 2024-02-14T16:21:58.244472872+00:00 kernel.cc:1046] Use fast generic engine\n"
     ]
    },
    {
     "name": "stdout",
     "output_type": "stream",
     "text": [
      "Model compiled.\n",
      "i:42\n",
      "Reading training dataset...\n",
      "Training dataset read in 0:00:00.057848. Found 891 examples.\n",
      "Training model...\n",
      "Model trained in 0:01:53.882640\n",
      "Compiling model...\n"
     ]
    },
    {
     "name": "stderr",
     "output_type": "stream",
     "text": [
      "[INFO 2024-02-14T16:24:18.167853877+00:00 kernel.cc:1214] Loading model from path /tmp/tmpgnreeysa/model/ with prefix 88ec59f00d304709\n",
      "[INFO 2024-02-14T16:24:18.182441126+00:00 decision_forest.cc:661] Model loaded with 16 root(s), 452 node(s), and 12 input feature(s).\n",
      "[INFO 2024-02-14T16:24:18.182526961+00:00 abstract_model.cc:1311] Engine \"GradientBoostedTreesGeneric\" built\n",
      "[INFO 2024-02-14T16:24:18.1825765+00:00 kernel.cc:1046] Use fast generic engine\n"
     ]
    },
    {
     "name": "stdout",
     "output_type": "stream",
     "text": [
      "Model compiled.\n",
      "i:43\n",
      "Reading training dataset...\n",
      "Training dataset read in 0:00:00.044017. Found 891 examples.\n",
      "Training model...\n",
      "Model trained in 0:01:53.340014\n",
      "Compiling model...\n"
     ]
    },
    {
     "name": "stderr",
     "output_type": "stream",
     "text": [
      "[INFO 2024-02-14T16:26:12.138712621+00:00 kernel.cc:1214] Loading model from path /tmp/tmpgnreeysa/model/ with prefix 88ec59f00d304709\n",
      "[INFO 2024-02-14T16:26:12.153445689+00:00 decision_forest.cc:661] Model loaded with 16 root(s), 452 node(s), and 12 input feature(s).\n",
      "[INFO 2024-02-14T16:26:12.15350945+00:00 abstract_model.cc:1311] Engine \"GradientBoostedTreesGeneric\" built\n",
      "[INFO 2024-02-14T16:26:12.153540418+00:00 kernel.cc:1046] Use fast generic engine\n"
     ]
    },
    {
     "name": "stdout",
     "output_type": "stream",
     "text": [
      "Model compiled.\n",
      "i:44\n",
      "Reading training dataset...\n",
      "Training dataset read in 0:00:00.055606. Found 891 examples.\n",
      "Training model...\n",
      "Model trained in 0:01:55.567217\n",
      "Compiling model...\n"
     ]
    },
    {
     "name": "stderr",
     "output_type": "stream",
     "text": [
      "[INFO 2024-02-14T16:28:08.395108372+00:00 kernel.cc:1214] Loading model from path /tmp/tmpgnreeysa/model/ with prefix 88ec59f00d304709\n",
      "[INFO 2024-02-14T16:28:08.406540424+00:00 decision_forest.cc:661] Model loaded with 16 root(s), 452 node(s), and 12 input feature(s).\n",
      "[INFO 2024-02-14T16:28:08.406584821+00:00 abstract_model.cc:1311] Engine \"GradientBoostedTreesGeneric\" built\n",
      "[INFO 2024-02-14T16:28:08.406615204+00:00 kernel.cc:1046] Use fast generic engine\n"
     ]
    },
    {
     "name": "stdout",
     "output_type": "stream",
     "text": [
      "Model compiled.\n",
      "i:45\n",
      "Reading training dataset...\n",
      "Training dataset read in 0:00:00.057779. Found 891 examples.\n",
      "Training model...\n",
      "Model trained in 0:01:56.147130\n",
      "Compiling model...\n"
     ]
    },
    {
     "name": "stderr",
     "output_type": "stream",
     "text": [
      "[INFO 2024-02-14T16:30:31.068581002+00:00 kernel.cc:1214] Loading model from path /tmp/tmpgnreeysa/model/ with prefix 88ec59f00d304709\n",
      "[INFO 2024-02-14T16:30:31.091646102+00:00 decision_forest.cc:661] Model loaded with 16 root(s), 452 node(s), and 12 input feature(s).\n",
      "[INFO 2024-02-14T16:30:31.09171878+00:00 abstract_model.cc:1311] Engine \"GradientBoostedTreesGeneric\" built\n",
      "[INFO 2024-02-14T16:30:31.091753295+00:00 kernel.cc:1046] Use fast generic engine\n"
     ]
    },
    {
     "name": "stdout",
     "output_type": "stream",
     "text": [
      "Model compiled.\n",
      "i:46\n",
      "Reading training dataset...\n",
      "Training dataset read in 0:00:00.048511. Found 891 examples.\n",
      "Training model...\n",
      "Model trained in 0:01:56.430067\n",
      "Compiling model...\n"
     ]
    },
    {
     "name": "stderr",
     "output_type": "stream",
     "text": [
      "[INFO 2024-02-14T16:32:28.220354096+00:00 kernel.cc:1214] Loading model from path /tmp/tmpgnreeysa/model/ with prefix 88ec59f00d304709\n",
      "[INFO 2024-02-14T16:32:28.232925181+00:00 decision_forest.cc:661] Model loaded with 16 root(s), 452 node(s), and 12 input feature(s).\n",
      "[INFO 2024-02-14T16:32:28.232976171+00:00 abstract_model.cc:1311] Engine \"GradientBoostedTreesGeneric\" built\n",
      "[INFO 2024-02-14T16:32:28.233008619+00:00 kernel.cc:1046] Use fast generic engine\n"
     ]
    },
    {
     "name": "stdout",
     "output_type": "stream",
     "text": [
      "Model compiled.\n",
      "i:47\n",
      "Reading training dataset...\n",
      "Training dataset read in 0:00:00.052601. Found 891 examples.\n",
      "Training model...\n",
      "Model trained in 0:01:55.619427\n",
      "Compiling model...\n"
     ]
    },
    {
     "name": "stderr",
     "output_type": "stream",
     "text": [
      "[INFO 2024-02-14T16:34:24.445666571+00:00 kernel.cc:1214] Loading model from path /tmp/tmpgnreeysa/model/ with prefix 88ec59f00d304709\n",
      "[INFO 2024-02-14T16:34:24.457589505+00:00 decision_forest.cc:661] Model loaded with 16 root(s), 452 node(s), and 12 input feature(s).\n",
      "[INFO 2024-02-14T16:34:24.457638971+00:00 abstract_model.cc:1311] Engine \"GradientBoostedTreesGeneric\" built\n",
      "[INFO 2024-02-14T16:34:24.457667943+00:00 kernel.cc:1046] Use fast generic engine\n"
     ]
    },
    {
     "name": "stdout",
     "output_type": "stream",
     "text": [
      "Model compiled.\n",
      "i:48\n",
      "Reading training dataset...\n",
      "Training dataset read in 0:00:00.053945. Found 891 examples.\n",
      "Training model...\n",
      "Model trained in 0:01:54.838158\n",
      "Compiling model...\n"
     ]
    },
    {
     "name": "stderr",
     "output_type": "stream",
     "text": [
      "[INFO 2024-02-14T16:36:19.846238818+00:00 kernel.cc:1214] Loading model from path /tmp/tmpgnreeysa/model/ with prefix 88ec59f00d304709\n",
      "[INFO 2024-02-14T16:36:19.859748698+00:00 decision_forest.cc:661] Model loaded with 16 root(s), 452 node(s), and 12 input feature(s).\n",
      "[INFO 2024-02-14T16:36:19.859807367+00:00 abstract_model.cc:1311] Engine \"GradientBoostedTreesGeneric\" built\n",
      "[INFO 2024-02-14T16:36:19.859836387+00:00 kernel.cc:1046] Use fast generic engine\n"
     ]
    },
    {
     "name": "stdout",
     "output_type": "stream",
     "text": [
      "Model compiled.\n",
      "i:49\n",
      "Reading training dataset...\n",
      "Training dataset read in 0:00:00.046101. Found 891 examples.\n",
      "Training model...\n",
      "Model trained in 0:01:56.028670\n",
      "Compiling model...\n"
     ]
    },
    {
     "name": "stderr",
     "output_type": "stream",
     "text": [
      "[INFO 2024-02-14T16:38:16.495430009+00:00 kernel.cc:1214] Loading model from path /tmp/tmpgnreeysa/model/ with prefix 88ec59f00d304709\n",
      "[INFO 2024-02-14T16:38:16.518570616+00:00 decision_forest.cc:661] Model loaded with 16 root(s), 452 node(s), and 12 input feature(s).\n",
      "[INFO 2024-02-14T16:38:16.518639301+00:00 abstract_model.cc:1311] Engine \"GradientBoostedTreesGeneric\" built\n",
      "[INFO 2024-02-14T16:38:16.518671797+00:00 kernel.cc:1046] Use fast generic engine\n"
     ]
    },
    {
     "name": "stdout",
     "output_type": "stream",
     "text": [
      "Model compiled.\n",
      "i:50\n",
      "Reading training dataset...\n",
      "Training dataset read in 0:00:00.044240. Found 891 examples.\n",
      "Training model...\n",
      "Model trained in 0:01:55.405743\n",
      "Compiling model...\n"
     ]
    },
    {
     "name": "stderr",
     "output_type": "stream",
     "text": [
      "[INFO 2024-02-14T16:40:12.557142109+00:00 kernel.cc:1214] Loading model from path /tmp/tmpgnreeysa/model/ with prefix 88ec59f00d304709\n",
      "[INFO 2024-02-14T16:40:12.572561041+00:00 decision_forest.cc:661] Model loaded with 16 root(s), 452 node(s), and 12 input feature(s).\n",
      "[INFO 2024-02-14T16:40:12.572627514+00:00 abstract_model.cc:1311] Engine \"GradientBoostedTreesGeneric\" built\n",
      "[INFO 2024-02-14T16:40:12.572661453+00:00 kernel.cc:1046] Use fast generic engine\n"
     ]
    },
    {
     "name": "stdout",
     "output_type": "stream",
     "text": [
      "Model compiled.\n",
      "i:51\n",
      "Reading training dataset...\n",
      "Training dataset read in 0:00:00.044768. Found 891 examples.\n",
      "Training model...\n",
      "Model trained in 0:01:55.107812\n",
      "Compiling model...\n"
     ]
    },
    {
     "name": "stderr",
     "output_type": "stream",
     "text": [
      "[INFO 2024-02-14T16:42:34.354557593+00:00 kernel.cc:1214] Loading model from path /tmp/tmpgnreeysa/model/ with prefix 88ec59f00d304709\n",
      "[INFO 2024-02-14T16:42:34.369706543+00:00 decision_forest.cc:661] Model loaded with 16 root(s), 452 node(s), and 12 input feature(s).\n",
      "[INFO 2024-02-14T16:42:34.369776433+00:00 abstract_model.cc:1311] Engine \"GradientBoostedTreesGeneric\" built\n",
      "[INFO 2024-02-14T16:42:34.369809194+00:00 kernel.cc:1046] Use fast generic engine\n"
     ]
    },
    {
     "name": "stdout",
     "output_type": "stream",
     "text": [
      "Model compiled.\n",
      "i:52\n",
      "Reading training dataset...\n",
      "Training dataset read in 0:00:00.049385. Found 891 examples.\n",
      "Training model...\n",
      "Model trained in 0:01:54.827907\n",
      "Compiling model...\n"
     ]
    },
    {
     "name": "stderr",
     "output_type": "stream",
     "text": [
      "[INFO 2024-02-14T16:44:56.169849269+00:00 kernel.cc:1214] Loading model from path /tmp/tmpgnreeysa/model/ with prefix 88ec59f00d304709\n",
      "[INFO 2024-02-14T16:44:56.185233615+00:00 decision_forest.cc:661] Model loaded with 16 root(s), 452 node(s), and 12 input feature(s).\n",
      "[INFO 2024-02-14T16:44:56.185295042+00:00 abstract_model.cc:1311] Engine \"GradientBoostedTreesGeneric\" built\n",
      "[INFO 2024-02-14T16:44:56.185325204+00:00 kernel.cc:1046] Use fast generic engine\n"
     ]
    },
    {
     "name": "stdout",
     "output_type": "stream",
     "text": [
      "Model compiled.\n",
      "i:53\n",
      "Reading training dataset...\n",
      "Training dataset read in 0:00:00.044072. Found 891 examples.\n",
      "Training model...\n",
      "Model trained in 0:01:55.062332\n",
      "Compiling model...\n"
     ]
    },
    {
     "name": "stderr",
     "output_type": "stream",
     "text": [
      "[INFO 2024-02-14T16:46:51.895627246+00:00 kernel.cc:1214] Loading model from path /tmp/tmpgnreeysa/model/ with prefix 88ec59f00d304709\n",
      "[INFO 2024-02-14T16:46:51.917685712+00:00 decision_forest.cc:661] Model loaded with 16 root(s), 452 node(s), and 12 input feature(s).\n",
      "[INFO 2024-02-14T16:46:51.917755437+00:00 abstract_model.cc:1311] Engine \"GradientBoostedTreesGeneric\" built\n",
      "[INFO 2024-02-14T16:46:51.917790385+00:00 kernel.cc:1046] Use fast generic engine\n"
     ]
    },
    {
     "name": "stdout",
     "output_type": "stream",
     "text": [
      "Model compiled.\n",
      "i:54\n",
      "Reading training dataset...\n",
      "Training dataset read in 0:00:00.044095. Found 891 examples.\n",
      "Training model...\n",
      "Model trained in 0:01:54.067997\n",
      "Compiling model...\n"
     ]
    },
    {
     "name": "stderr",
     "output_type": "stream",
     "text": [
      "[INFO 2024-02-14T16:48:46.68108315+00:00 kernel.cc:1214] Loading model from path /tmp/tmpgnreeysa/model/ with prefix 88ec59f00d304709\n",
      "[INFO 2024-02-14T16:48:46.69360913+00:00 decision_forest.cc:661] Model loaded with 16 root(s), 452 node(s), and 12 input feature(s).\n",
      "[INFO 2024-02-14T16:48:46.693654873+00:00 abstract_model.cc:1311] Engine \"GradientBoostedTreesGeneric\" built\n",
      "[INFO 2024-02-14T16:48:46.693681794+00:00 kernel.cc:1046] Use fast generic engine\n"
     ]
    },
    {
     "name": "stdout",
     "output_type": "stream",
     "text": [
      "Model compiled.\n",
      "i:55\n",
      "Reading training dataset...\n",
      "Training dataset read in 0:00:00.052099. Found 891 examples.\n",
      "Training model...\n",
      "Model trained in 0:01:54.867855\n",
      "Compiling model...\n"
     ]
    },
    {
     "name": "stderr",
     "output_type": "stream",
     "text": [
      "[INFO 2024-02-14T16:50:42.096045653+00:00 kernel.cc:1214] Loading model from path /tmp/tmpgnreeysa/model/ with prefix 88ec59f00d304709\n",
      "[INFO 2024-02-14T16:50:42.110946843+00:00 decision_forest.cc:661] Model loaded with 16 root(s), 452 node(s), and 12 input feature(s).\n",
      "[INFO 2024-02-14T16:50:42.111030179+00:00 abstract_model.cc:1311] Engine \"GradientBoostedTreesGeneric\" built\n",
      "[INFO 2024-02-14T16:50:42.111078377+00:00 kernel.cc:1046] Use fast generic engine\n"
     ]
    },
    {
     "name": "stdout",
     "output_type": "stream",
     "text": [
      "Model compiled.\n",
      "i:56\n",
      "Reading training dataset...\n",
      "Training dataset read in 0:00:00.041980. Found 891 examples.\n",
      "Training model...\n",
      "Model trained in 0:01:53.909456\n",
      "Compiling model...\n"
     ]
    },
    {
     "name": "stderr",
     "output_type": "stream",
     "text": [
      "[INFO 2024-02-14T16:52:36.590215292+00:00 kernel.cc:1214] Loading model from path /tmp/tmpgnreeysa/model/ with prefix 88ec59f00d304709\n",
      "[INFO 2024-02-14T16:52:36.603667518+00:00 decision_forest.cc:661] Model loaded with 16 root(s), 452 node(s), and 12 input feature(s).\n",
      "[INFO 2024-02-14T16:52:36.603744715+00:00 abstract_model.cc:1311] Engine \"GradientBoostedTreesGeneric\" built\n",
      "[INFO 2024-02-14T16:52:36.60378874+00:00 kernel.cc:1046] Use fast generic engine\n"
     ]
    },
    {
     "name": "stdout",
     "output_type": "stream",
     "text": [
      "Model compiled.\n",
      "i:57\n",
      "Reading training dataset...\n",
      "Training dataset read in 0:00:00.044984. Found 891 examples.\n",
      "Training model...\n",
      "Model trained in 0:01:54.853126\n",
      "Compiling model...\n"
     ]
    },
    {
     "name": "stderr",
     "output_type": "stream",
     "text": [
      "[INFO 2024-02-14T16:54:32.147729677+00:00 kernel.cc:1214] Loading model from path /tmp/tmpgnreeysa/model/ with prefix 88ec59f00d304709\n",
      "[INFO 2024-02-14T16:54:32.164795816+00:00 decision_forest.cc:661] Model loaded with 16 root(s), 452 node(s), and 12 input feature(s).\n",
      "[INFO 2024-02-14T16:54:32.164857571+00:00 abstract_model.cc:1311] Engine \"GradientBoostedTreesGeneric\" built\n",
      "[INFO 2024-02-14T16:54:32.164898615+00:00 kernel.cc:1046] Use fast generic engine\n"
     ]
    },
    {
     "name": "stdout",
     "output_type": "stream",
     "text": [
      "Model compiled.\n",
      "i:58\n",
      "Reading training dataset...\n",
      "Training dataset read in 0:00:00.059116. Found 891 examples.\n",
      "Training model...\n",
      "Model trained in 0:01:52.818347\n",
      "Compiling model...\n"
     ]
    },
    {
     "name": "stderr",
     "output_type": "stream",
     "text": [
      "[INFO 2024-02-14T16:56:52.226973141+00:00 kernel.cc:1214] Loading model from path /tmp/tmpgnreeysa/model/ with prefix 88ec59f00d304709\n",
      "[INFO 2024-02-14T16:56:52.23949539+00:00 decision_forest.cc:661] Model loaded with 16 root(s), 452 node(s), and 12 input feature(s).\n",
      "[INFO 2024-02-14T16:56:52.239599243+00:00 abstract_model.cc:1311] Engine \"GradientBoostedTreesGeneric\" built\n",
      "[INFO 2024-02-14T16:56:52.239642689+00:00 kernel.cc:1046] Use fast generic engine\n"
     ]
    },
    {
     "name": "stdout",
     "output_type": "stream",
     "text": [
      "Model compiled.\n",
      "i:59\n",
      "Reading training dataset...\n",
      "Training dataset read in 0:00:00.044365. Found 891 examples.\n",
      "Training model...\n",
      "Model trained in 0:01:53.242060\n",
      "Compiling model...\n"
     ]
    },
    {
     "name": "stderr",
     "output_type": "stream",
     "text": [
      "[INFO 2024-02-14T16:59:14.749539258+00:00 kernel.cc:1214] Loading model from path /tmp/tmpgnreeysa/model/ with prefix 88ec59f00d304709\n",
      "[INFO 2024-02-14T16:59:14.763648008+00:00 decision_forest.cc:661] Model loaded with 16 root(s), 452 node(s), and 12 input feature(s).\n",
      "[INFO 2024-02-14T16:59:14.763730049+00:00 abstract_model.cc:1311] Engine \"GradientBoostedTreesGeneric\" built\n",
      "[INFO 2024-02-14T16:59:14.76377467+00:00 kernel.cc:1046] Use fast generic engine\n"
     ]
    },
    {
     "name": "stdout",
     "output_type": "stream",
     "text": [
      "Model compiled.\n",
      "i:60\n",
      "Reading training dataset...\n",
      "Training dataset read in 0:00:00.072130. Found 891 examples.\n",
      "Training model...\n",
      "Model trained in 0:01:55.856257\n",
      "Compiling model...\n"
     ]
    },
    {
     "name": "stderr",
     "output_type": "stream",
     "text": [
      "[INFO 2024-02-14T17:01:39.519625514+00:00 kernel.cc:1214] Loading model from path /tmp/tmpgnreeysa/model/ with prefix 88ec59f00d304709\n",
      "[INFO 2024-02-14T17:01:39.534791635+00:00 decision_forest.cc:661] Model loaded with 16 root(s), 452 node(s), and 12 input feature(s).\n",
      "[INFO 2024-02-14T17:01:39.534868165+00:00 abstract_model.cc:1311] Engine \"GradientBoostedTreesGeneric\" built\n",
      "[INFO 2024-02-14T17:01:39.534909149+00:00 kernel.cc:1046] Use fast generic engine\n"
     ]
    },
    {
     "name": "stdout",
     "output_type": "stream",
     "text": [
      "Model compiled.\n",
      "i:61\n",
      "Reading training dataset...\n",
      "Training dataset read in 0:00:00.056397. Found 891 examples.\n",
      "Training model...\n",
      "Model trained in 0:01:55.276259\n",
      "Compiling model...\n"
     ]
    },
    {
     "name": "stderr",
     "output_type": "stream",
     "text": [
      "[INFO 2024-02-14T17:03:35.441631516+00:00 kernel.cc:1214] Loading model from path /tmp/tmpgnreeysa/model/ with prefix 88ec59f00d304709\n",
      "[INFO 2024-02-14T17:03:35.465472653+00:00 decision_forest.cc:661] Model loaded with 16 root(s), 452 node(s), and 12 input feature(s).\n",
      "[INFO 2024-02-14T17:03:35.465543909+00:00 abstract_model.cc:1311] Engine \"GradientBoostedTreesGeneric\" built\n",
      "[INFO 2024-02-14T17:03:35.465579454+00:00 kernel.cc:1046] Use fast generic engine\n"
     ]
    },
    {
     "name": "stdout",
     "output_type": "stream",
     "text": [
      "Model compiled.\n",
      "i:62\n",
      "Reading training dataset...\n",
      "Training dataset read in 0:00:00.057473. Found 891 examples.\n",
      "Training model...\n",
      "Model trained in 0:01:54.656533\n",
      "Compiling model...\n"
     ]
    },
    {
     "name": "stderr",
     "output_type": "stream",
     "text": [
      "[INFO 2024-02-14T17:05:30.810562937+00:00 kernel.cc:1214] Loading model from path /tmp/tmpgnreeysa/model/ with prefix 88ec59f00d304709\n",
      "[INFO 2024-02-14T17:05:30.826810696+00:00 decision_forest.cc:661] Model loaded with 16 root(s), 452 node(s), and 12 input feature(s).\n",
      "[INFO 2024-02-14T17:05:30.826903423+00:00 abstract_model.cc:1311] Engine \"GradientBoostedTreesGeneric\" built\n",
      "[INFO 2024-02-14T17:05:30.826952432+00:00 kernel.cc:1046] Use fast generic engine\n"
     ]
    },
    {
     "name": "stdout",
     "output_type": "stream",
     "text": [
      "Model compiled.\n",
      "i:63\n",
      "Reading training dataset...\n",
      "Training dataset read in 0:00:00.043809. Found 891 examples.\n",
      "Training model...\n",
      "Model trained in 0:01:54.612598\n",
      "Compiling model...\n"
     ]
    },
    {
     "name": "stderr",
     "output_type": "stream",
     "text": [
      "[INFO 2024-02-14T17:07:26.07810063+00:00 kernel.cc:1214] Loading model from path /tmp/tmpgnreeysa/model/ with prefix 88ec59f00d304709\n",
      "[INFO 2024-02-14T17:07:26.090710064+00:00 decision_forest.cc:661] Model loaded with 16 root(s), 452 node(s), and 12 input feature(s).\n",
      "[INFO 2024-02-14T17:07:26.090760605+00:00 abstract_model.cc:1311] Engine \"GradientBoostedTreesGeneric\" built\n",
      "[INFO 2024-02-14T17:07:26.090789849+00:00 kernel.cc:1046] Use fast generic engine\n"
     ]
    },
    {
     "name": "stdout",
     "output_type": "stream",
     "text": [
      "Model compiled.\n",
      "i:64\n",
      "Reading training dataset...\n",
      "Training dataset read in 0:00:00.049644. Found 891 examples.\n",
      "Training model...\n",
      "Model trained in 0:01:54.771564\n",
      "Compiling model...\n"
     ]
    },
    {
     "name": "stderr",
     "output_type": "stream",
     "text": [
      "[INFO 2024-02-14T17:09:48.362323851+00:00 kernel.cc:1214] Loading model from path /tmp/tmpgnreeysa/model/ with prefix 88ec59f00d304709\n",
      "[INFO 2024-02-14T17:09:48.37578844+00:00 decision_forest.cc:661] Model loaded with 16 root(s), 452 node(s), and 12 input feature(s).\n",
      "[INFO 2024-02-14T17:09:48.375840641+00:00 abstract_model.cc:1311] Engine \"GradientBoostedTreesGeneric\" built\n",
      "[INFO 2024-02-14T17:09:48.375868662+00:00 kernel.cc:1046] Use fast generic engine\n"
     ]
    },
    {
     "name": "stdout",
     "output_type": "stream",
     "text": [
      "Model compiled.\n",
      "i:65\n",
      "Reading training dataset...\n",
      "Training dataset read in 0:00:00.045693. Found 891 examples.\n",
      "Training model...\n",
      "Model trained in 0:01:54.689593\n",
      "Compiling model...\n"
     ]
    },
    {
     "name": "stderr",
     "output_type": "stream",
     "text": [
      "[INFO 2024-02-14T17:11:43.731699992+00:00 kernel.cc:1214] Loading model from path /tmp/tmpgnreeysa/model/ with prefix 88ec59f00d304709\n",
      "[INFO 2024-02-14T17:11:43.748947793+00:00 decision_forest.cc:661] Model loaded with 16 root(s), 452 node(s), and 12 input feature(s).\n",
      "[INFO 2024-02-14T17:11:43.748998564+00:00 abstract_model.cc:1311] Engine \"GradientBoostedTreesGeneric\" built\n",
      "[INFO 2024-02-14T17:11:43.749027283+00:00 kernel.cc:1046] Use fast generic engine\n"
     ]
    },
    {
     "name": "stdout",
     "output_type": "stream",
     "text": [
      "Model compiled.\n",
      "i:66\n",
      "Reading training dataset...\n",
      "Training dataset read in 0:00:00.043175. Found 891 examples.\n",
      "Training model...\n",
      "Model trained in 0:01:54.047907\n",
      "Compiling model...\n"
     ]
    },
    {
     "name": "stderr",
     "output_type": "stream",
     "text": [
      "[INFO 2024-02-14T17:13:38.353568654+00:00 kernel.cc:1214] Loading model from path /tmp/tmpgnreeysa/model/ with prefix 88ec59f00d304709\n",
      "[INFO 2024-02-14T17:13:38.366315316+00:00 decision_forest.cc:661] Model loaded with 16 root(s), 452 node(s), and 12 input feature(s).\n",
      "[INFO 2024-02-14T17:13:38.366362056+00:00 abstract_model.cc:1311] Engine \"GradientBoostedTreesGeneric\" built\n",
      "[INFO 2024-02-14T17:13:38.366410979+00:00 kernel.cc:1046] Use fast generic engine\n"
     ]
    },
    {
     "name": "stdout",
     "output_type": "stream",
     "text": [
      "Model compiled.\n",
      "i:67\n",
      "Reading training dataset...\n",
      "Training dataset read in 0:00:00.052810. Found 891 examples.\n",
      "Training model...\n",
      "Model trained in 0:01:54.965524\n",
      "Compiling model...\n"
     ]
    },
    {
     "name": "stderr",
     "output_type": "stream",
     "text": [
      "[INFO 2024-02-14T17:15:33.900498533+00:00 kernel.cc:1214] Loading model from path /tmp/tmpgnreeysa/model/ with prefix 88ec59f00d304709\n",
      "[INFO 2024-02-14T17:15:33.914299594+00:00 decision_forest.cc:661] Model loaded with 16 root(s), 452 node(s), and 12 input feature(s).\n",
      "[INFO 2024-02-14T17:15:33.914394681+00:00 abstract_model.cc:1311] Engine \"GradientBoostedTreesGeneric\" built\n",
      "[INFO 2024-02-14T17:15:33.914448968+00:00 kernel.cc:1046] Use fast generic engine\n"
     ]
    },
    {
     "name": "stdout",
     "output_type": "stream",
     "text": [
      "Model compiled.\n",
      "i:68\n",
      "Reading training dataset...\n",
      "Training dataset read in 0:00:00.042911. Found 891 examples.\n",
      "Training model...\n",
      "Model trained in 0:01:54.859030\n",
      "Compiling model...\n"
     ]
    },
    {
     "name": "stderr",
     "output_type": "stream",
     "text": [
      "[INFO 2024-02-14T17:17:55.873914351+00:00 kernel.cc:1214] Loading model from path /tmp/tmpgnreeysa/model/ with prefix 88ec59f00d304709\n",
      "[INFO 2024-02-14T17:17:55.88824444+00:00 decision_forest.cc:661] Model loaded with 16 root(s), 452 node(s), and 12 input feature(s).\n",
      "[INFO 2024-02-14T17:17:55.888295322+00:00 abstract_model.cc:1311] Engine \"GradientBoostedTreesGeneric\" built\n",
      "[INFO 2024-02-14T17:17:55.888325219+00:00 kernel.cc:1046] Use fast generic engine\n"
     ]
    },
    {
     "name": "stdout",
     "output_type": "stream",
     "text": [
      "Model compiled.\n",
      "i:69\n",
      "Reading training dataset...\n",
      "Training dataset read in 0:00:00.054423. Found 891 examples.\n",
      "Training model...\n",
      "Model trained in 0:01:54.867228\n",
      "Compiling model...\n"
     ]
    },
    {
     "name": "stderr",
     "output_type": "stream",
     "text": [
      "[INFO 2024-02-14T17:19:51.481220668+00:00 kernel.cc:1214] Loading model from path /tmp/tmpgnreeysa/model/ with prefix 88ec59f00d304709\n",
      "[INFO 2024-02-14T17:19:51.50341664+00:00 decision_forest.cc:661] Model loaded with 16 root(s), 452 node(s), and 12 input feature(s).\n",
      "[INFO 2024-02-14T17:19:51.503508324+00:00 abstract_model.cc:1311] Engine \"GradientBoostedTreesGeneric\" built\n",
      "[INFO 2024-02-14T17:19:51.50355788+00:00 kernel.cc:1046] Use fast generic engine\n"
     ]
    },
    {
     "name": "stdout",
     "output_type": "stream",
     "text": [
      "Model compiled.\n",
      "i:70\n",
      "Reading training dataset...\n",
      "Training dataset read in 0:00:00.052599. Found 891 examples.\n",
      "Training model...\n",
      "Model trained in 0:01:55.135570\n",
      "Compiling model...\n"
     ]
    },
    {
     "name": "stderr",
     "output_type": "stream",
     "text": [
      "[INFO 2024-02-14T17:21:47.280494468+00:00 kernel.cc:1214] Loading model from path /tmp/tmpgnreeysa/model/ with prefix 88ec59f00d304709\n",
      "[INFO 2024-02-14T17:21:47.296119315+00:00 decision_forest.cc:661] Model loaded with 16 root(s), 452 node(s), and 12 input feature(s).\n",
      "[INFO 2024-02-14T17:21:47.296204614+00:00 abstract_model.cc:1311] Engine \"GradientBoostedTreesGeneric\" built\n",
      "[INFO 2024-02-14T17:21:47.296253862+00:00 kernel.cc:1046] Use fast generic engine\n"
     ]
    },
    {
     "name": "stdout",
     "output_type": "stream",
     "text": [
      "Model compiled.\n",
      "i:71\n",
      "Reading training dataset...\n",
      "Training dataset read in 0:00:00.048876. Found 891 examples.\n",
      "Training model...\n",
      "Model trained in 0:01:55.345662\n",
      "Compiling model...\n"
     ]
    },
    {
     "name": "stderr",
     "output_type": "stream",
     "text": [
      "[INFO 2024-02-14T17:23:43.30928244+00:00 kernel.cc:1214] Loading model from path /tmp/tmpgnreeysa/model/ with prefix 88ec59f00d304709\n",
      "[INFO 2024-02-14T17:23:43.321035926+00:00 decision_forest.cc:661] Model loaded with 16 root(s), 452 node(s), and 12 input feature(s).\n",
      "[INFO 2024-02-14T17:23:43.321080551+00:00 abstract_model.cc:1311] Engine \"GradientBoostedTreesGeneric\" built\n",
      "[INFO 2024-02-14T17:23:43.321110442+00:00 kernel.cc:1046] Use fast generic engine\n"
     ]
    },
    {
     "name": "stdout",
     "output_type": "stream",
     "text": [
      "Model compiled.\n",
      "i:72\n",
      "Reading training dataset...\n",
      "Training dataset read in 0:00:00.043220. Found 891 examples.\n",
      "Training model...\n",
      "Model trained in 0:01:54.206939\n",
      "Compiling model...\n"
     ]
    },
    {
     "name": "stderr",
     "output_type": "stream",
     "text": [
      "[INFO 2024-02-14T17:25:38.091356855+00:00 kernel.cc:1214] Loading model from path /tmp/tmpgnreeysa/model/ with prefix 88ec59f00d304709\n",
      "[INFO 2024-02-14T17:25:38.10489456+00:00 decision_forest.cc:661] Model loaded with 16 root(s), 452 node(s), and 12 input feature(s).\n",
      "[INFO 2024-02-14T17:25:38.104956108+00:00 abstract_model.cc:1311] Engine \"GradientBoostedTreesGeneric\" built\n",
      "[INFO 2024-02-14T17:25:38.104993189+00:00 kernel.cc:1046] Use fast generic engine\n"
     ]
    },
    {
     "name": "stdout",
     "output_type": "stream",
     "text": [
      "Model compiled.\n",
      "i:73\n",
      "Reading training dataset...\n",
      "Training dataset read in 0:00:00.043058. Found 891 examples.\n",
      "Training model...\n",
      "Model trained in 0:01:54.556412\n",
      "Compiling model...\n"
     ]
    },
    {
     "name": "stderr",
     "output_type": "stream",
     "text": [
      "[INFO 2024-02-14T17:27:33.233529237+00:00 kernel.cc:1214] Loading model from path /tmp/tmpgnreeysa/model/ with prefix 88ec59f00d304709\n",
      "[INFO 2024-02-14T17:27:33.254853416+00:00 decision_forest.cc:661] Model loaded with 16 root(s), 452 node(s), and 12 input feature(s).\n",
      "[INFO 2024-02-14T17:27:33.254913982+00:00 abstract_model.cc:1311] Engine \"GradientBoostedTreesGeneric\" built\n",
      "[INFO 2024-02-14T17:27:33.254948553+00:00 kernel.cc:1046] Use fast generic engine\n"
     ]
    },
    {
     "name": "stdout",
     "output_type": "stream",
     "text": [
      "Model compiled.\n",
      "i:74\n",
      "Reading training dataset...\n",
      "Training dataset read in 0:00:00.053942. Found 891 examples.\n",
      "Training model...\n",
      "Model trained in 0:01:54.774360\n",
      "Compiling model...\n"
     ]
    },
    {
     "name": "stderr",
     "output_type": "stream",
     "text": [
      "[INFO 2024-02-14T17:29:55.575179049+00:00 kernel.cc:1214] Loading model from path /tmp/tmpgnreeysa/model/ with prefix 88ec59f00d304709\n",
      "[INFO 2024-02-14T17:29:55.587757576+00:00 decision_forest.cc:661] Model loaded with 16 root(s), 452 node(s), and 12 input feature(s).\n",
      "[INFO 2024-02-14T17:29:55.587835534+00:00 abstract_model.cc:1311] Engine \"GradientBoostedTreesGeneric\" built\n",
      "[INFO 2024-02-14T17:29:55.587874655+00:00 kernel.cc:1046] Use fast generic engine\n"
     ]
    },
    {
     "name": "stdout",
     "output_type": "stream",
     "text": [
      "Model compiled.\n",
      "i:75\n",
      "Reading training dataset...\n",
      "Training dataset read in 0:00:00.046927. Found 891 examples.\n",
      "Training model...\n",
      "Model trained in 0:01:53.476172\n",
      "Compiling model...\n"
     ]
    },
    {
     "name": "stderr",
     "output_type": "stream",
     "text": [
      "[INFO 2024-02-14T17:31:49.653521346+00:00 kernel.cc:1214] Loading model from path /tmp/tmpgnreeysa/model/ with prefix 88ec59f00d304709\n",
      "[INFO 2024-02-14T17:31:49.66512257+00:00 decision_forest.cc:661] Model loaded with 16 root(s), 452 node(s), and 12 input feature(s).\n",
      "[INFO 2024-02-14T17:31:49.665183762+00:00 abstract_model.cc:1311] Engine \"GradientBoostedTreesGeneric\" built\n",
      "[INFO 2024-02-14T17:31:49.665221307+00:00 kernel.cc:1046] Use fast generic engine\n"
     ]
    },
    {
     "name": "stdout",
     "output_type": "stream",
     "text": [
      "Model compiled.\n",
      "i:76\n",
      "Reading training dataset...\n",
      "Training dataset read in 0:00:00.042437. Found 891 examples.\n",
      "Training model...\n",
      "Model trained in 0:01:52.970055\n",
      "Compiling model...\n"
     ]
    },
    {
     "name": "stderr",
     "output_type": "stream",
     "text": [
      "[INFO 2024-02-14T17:33:43.154760351+00:00 kernel.cc:1214] Loading model from path /tmp/tmpgnreeysa/model/ with prefix 88ec59f00d304709\n",
      "[INFO 2024-02-14T17:33:43.16839064+00:00 decision_forest.cc:661] Model loaded with 16 root(s), 452 node(s), and 12 input feature(s).\n",
      "[INFO 2024-02-14T17:33:43.168454316+00:00 abstract_model.cc:1311] Engine \"GradientBoostedTreesGeneric\" built\n",
      "[INFO 2024-02-14T17:33:43.168494616+00:00 kernel.cc:1046] Use fast generic engine\n"
     ]
    },
    {
     "name": "stdout",
     "output_type": "stream",
     "text": [
      "Model compiled.\n",
      "i:77\n",
      "Reading training dataset...\n",
      "Training dataset read in 0:00:00.054297. Found 891 examples.\n",
      "Training model...\n",
      "Model trained in 0:01:55.268587\n",
      "Compiling model...\n"
     ]
    },
    {
     "name": "stderr",
     "output_type": "stream",
     "text": [
      "[INFO 2024-02-14T17:36:07.590900851+00:00 kernel.cc:1214] Loading model from path /tmp/tmpgnreeysa/model/ with prefix 88ec59f00d304709\n",
      "[INFO 2024-02-14T17:36:07.612307352+00:00 decision_forest.cc:661] Model loaded with 16 root(s), 452 node(s), and 12 input feature(s).\n",
      "[INFO 2024-02-14T17:36:07.612520047+00:00 abstract_model.cc:1311] Engine \"GradientBoostedTreesGeneric\" built\n",
      "[INFO 2024-02-14T17:36:07.612589573+00:00 kernel.cc:1046] Use fast generic engine\n"
     ]
    },
    {
     "name": "stdout",
     "output_type": "stream",
     "text": [
      "Model compiled.\n",
      "i:78\n",
      "Reading training dataset...\n",
      "Training dataset read in 0:00:00.047404. Found 891 examples.\n",
      "Training model...\n",
      "Model trained in 0:01:55.175390\n",
      "Compiling model...\n"
     ]
    },
    {
     "name": "stderr",
     "output_type": "stream",
     "text": [
      "[INFO 2024-02-14T17:38:03.440605792+00:00 kernel.cc:1214] Loading model from path /tmp/tmpgnreeysa/model/ with prefix 88ec59f00d304709\n",
      "[INFO 2024-02-14T17:38:03.454137441+00:00 decision_forest.cc:661] Model loaded with 16 root(s), 452 node(s), and 12 input feature(s).\n",
      "[INFO 2024-02-14T17:38:03.454213487+00:00 abstract_model.cc:1311] Engine \"GradientBoostedTreesGeneric\" built\n",
      "[INFO 2024-02-14T17:38:03.454254627+00:00 kernel.cc:1046] Use fast generic engine\n"
     ]
    },
    {
     "name": "stdout",
     "output_type": "stream",
     "text": [
      "Model compiled.\n",
      "i:79\n",
      "Reading training dataset...\n",
      "Training dataset read in 0:00:00.044546. Found 891 examples.\n",
      "Training model...\n",
      "Model trained in 0:01:54.748310\n",
      "Compiling model...\n"
     ]
    },
    {
     "name": "stderr",
     "output_type": "stream",
     "text": [
      "[INFO 2024-02-14T17:39:58.8296387+00:00 kernel.cc:1214] Loading model from path /tmp/tmpgnreeysa/model/ with prefix 88ec59f00d304709\n",
      "[INFO 2024-02-14T17:39:58.845015314+00:00 decision_forest.cc:661] Model loaded with 16 root(s), 452 node(s), and 12 input feature(s).\n",
      "[INFO 2024-02-14T17:39:58.845077923+00:00 abstract_model.cc:1311] Engine \"GradientBoostedTreesGeneric\" built\n",
      "[INFO 2024-02-14T17:39:58.845112365+00:00 kernel.cc:1046] Use fast generic engine\n"
     ]
    },
    {
     "name": "stdout",
     "output_type": "stream",
     "text": [
      "Model compiled.\n",
      "i:80\n",
      "Reading training dataset...\n",
      "Training dataset read in 0:00:00.047952. Found 891 examples.\n",
      "Training model...\n",
      "Model trained in 0:01:54.685264\n",
      "Compiling model...\n"
     ]
    },
    {
     "name": "stderr",
     "output_type": "stream",
     "text": [
      "[INFO 2024-02-14T17:41:54.116542462+00:00 kernel.cc:1214] Loading model from path /tmp/tmpgnreeysa/model/ with prefix 88ec59f00d304709\n",
      "[INFO 2024-02-14T17:41:54.133108328+00:00 decision_forest.cc:661] Model loaded with 16 root(s), 452 node(s), and 12 input feature(s).\n",
      "[INFO 2024-02-14T17:41:54.133620646+00:00 abstract_model.cc:1311] Engine \"GradientBoostedTreesGeneric\" built\n",
      "[INFO 2024-02-14T17:41:54.133680037+00:00 kernel.cc:1046] Use fast generic engine\n"
     ]
    },
    {
     "name": "stdout",
     "output_type": "stream",
     "text": [
      "Model compiled.\n",
      "i:81\n",
      "Reading training dataset...\n",
      "Training dataset read in 0:00:00.054214. Found 891 examples.\n",
      "Training model...\n",
      "Model trained in 0:01:54.000853\n",
      "Compiling model...\n"
     ]
    },
    {
     "name": "stderr",
     "output_type": "stream",
     "text": [
      "[INFO 2024-02-14T17:43:48.781502766+00:00 kernel.cc:1214] Loading model from path /tmp/tmpgnreeysa/model/ with prefix 88ec59f00d304709\n",
      "[INFO 2024-02-14T17:43:48.797265494+00:00 decision_forest.cc:661] Model loaded with 16 root(s), 452 node(s), and 12 input feature(s).\n",
      "[INFO 2024-02-14T17:43:48.797314906+00:00 abstract_model.cc:1311] Engine \"GradientBoostedTreesGeneric\" built\n",
      "[INFO 2024-02-14T17:43:48.797342922+00:00 kernel.cc:1046] Use fast generic engine\n"
     ]
    },
    {
     "name": "stdout",
     "output_type": "stream",
     "text": [
      "Model compiled.\n",
      "i:82\n",
      "Reading training dataset...\n",
      "Training dataset read in 0:00:00.045045. Found 891 examples.\n",
      "Training model...\n",
      "Model trained in 0:01:55.518410\n",
      "Compiling model...\n"
     ]
    },
    {
     "name": "stderr",
     "output_type": "stream",
     "text": [
      "[INFO 2024-02-14T17:46:12.389103552+00:00 kernel.cc:1214] Loading model from path /tmp/tmpgnreeysa/model/ with prefix 88ec59f00d304709\n",
      "[INFO 2024-02-14T17:46:12.401444009+00:00 decision_forest.cc:661] Model loaded with 16 root(s), 452 node(s), and 12 input feature(s).\n",
      "[INFO 2024-02-14T17:46:12.401492758+00:00 abstract_model.cc:1311] Engine \"GradientBoostedTreesGeneric\" built\n",
      "[INFO 2024-02-14T17:46:12.401518803+00:00 kernel.cc:1046] Use fast generic engine\n"
     ]
    },
    {
     "name": "stdout",
     "output_type": "stream",
     "text": [
      "Model compiled.\n",
      "i:83\n",
      "Reading training dataset...\n",
      "Training dataset read in 0:00:00.068745. Found 891 examples.\n",
      "Training model...\n",
      "Model trained in 0:01:54.932156\n",
      "Compiling model...\n"
     ]
    },
    {
     "name": "stderr",
     "output_type": "stream",
     "text": [
      "[INFO 2024-02-14T17:48:33.926267312+00:00 kernel.cc:1214] Loading model from path /tmp/tmpgnreeysa/model/ with prefix 88ec59f00d304709\n",
      "[INFO 2024-02-14T17:48:33.942824656+00:00 decision_forest.cc:661] Model loaded with 16 root(s), 452 node(s), and 12 input feature(s).\n",
      "[INFO 2024-02-14T17:48:33.942895481+00:00 abstract_model.cc:1311] Engine \"GradientBoostedTreesGeneric\" built\n",
      "[INFO 2024-02-14T17:48:33.942935847+00:00 kernel.cc:1046] Use fast generic engine\n"
     ]
    },
    {
     "name": "stdout",
     "output_type": "stream",
     "text": [
      "Model compiled.\n",
      "i:84\n",
      "Reading training dataset...\n",
      "Training dataset read in 0:00:00.045079. Found 891 examples.\n",
      "Training model...\n",
      "Model trained in 0:01:55.422404\n",
      "Compiling model...\n"
     ]
    },
    {
     "name": "stderr",
     "output_type": "stream",
     "text": [
      "[INFO 2024-02-14T17:50:56.529068831+00:00 kernel.cc:1214] Loading model from path /tmp/tmpgnreeysa/model/ with prefix 88ec59f00d304709\n",
      "[INFO 2024-02-14T17:50:56.542338445+00:00 decision_forest.cc:661] Model loaded with 16 root(s), 452 node(s), and 12 input feature(s).\n",
      "[INFO 2024-02-14T17:50:56.542399741+00:00 abstract_model.cc:1311] Engine \"GradientBoostedTreesGeneric\" built\n",
      "[INFO 2024-02-14T17:50:56.542431875+00:00 kernel.cc:1046] Use fast generic engine\n"
     ]
    },
    {
     "name": "stdout",
     "output_type": "stream",
     "text": [
      "Model compiled.\n",
      "i:85\n",
      "Reading training dataset...\n",
      "Training dataset read in 0:00:00.051407. Found 891 examples.\n",
      "Training model...\n",
      "Model trained in 0:01:54.442277\n",
      "Compiling model...\n"
     ]
    },
    {
     "name": "stderr",
     "output_type": "stream",
     "text": [
      "[INFO 2024-02-14T17:52:51.676113891+00:00 kernel.cc:1214] Loading model from path /tmp/tmpgnreeysa/model/ with prefix 88ec59f00d304709\n",
      "[INFO 2024-02-14T17:52:51.693487524+00:00 decision_forest.cc:661] Model loaded with 16 root(s), 452 node(s), and 12 input feature(s).\n",
      "[INFO 2024-02-14T17:52:51.693533364+00:00 abstract_model.cc:1311] Engine \"GradientBoostedTreesGeneric\" built\n",
      "[INFO 2024-02-14T17:52:51.693566072+00:00 kernel.cc:1046] Use fast generic engine\n"
     ]
    },
    {
     "name": "stdout",
     "output_type": "stream",
     "text": [
      "Model compiled.\n",
      "i:86\n",
      "Reading training dataset...\n",
      "Training dataset read in 0:00:00.052392. Found 891 examples.\n",
      "Training model...\n",
      "Model trained in 0:01:54.589686\n",
      "Compiling model...\n"
     ]
    },
    {
     "name": "stderr",
     "output_type": "stream",
     "text": [
      "[INFO 2024-02-14T17:54:46.907743951+00:00 kernel.cc:1214] Loading model from path /tmp/tmpgnreeysa/model/ with prefix 88ec59f00d304709\n",
      "[INFO 2024-02-14T17:54:46.920420262+00:00 decision_forest.cc:661] Model loaded with 16 root(s), 452 node(s), and 12 input feature(s).\n",
      "[INFO 2024-02-14T17:54:46.920471889+00:00 abstract_model.cc:1311] Engine \"GradientBoostedTreesGeneric\" built\n",
      "[INFO 2024-02-14T17:54:46.920504449+00:00 kernel.cc:1046] Use fast generic engine\n"
     ]
    },
    {
     "name": "stdout",
     "output_type": "stream",
     "text": [
      "Model compiled.\n",
      "i:87\n",
      "Reading training dataset...\n",
      "Training dataset read in 0:00:00.047184. Found 891 examples.\n",
      "Training model...\n",
      "Model trained in 0:01:54.604871\n",
      "Compiling model...\n"
     ]
    },
    {
     "name": "stderr",
     "output_type": "stream",
     "text": [
      "[INFO 2024-02-14T17:56:42.15363294+00:00 kernel.cc:1214] Loading model from path /tmp/tmpgnreeysa/model/ with prefix 88ec59f00d304709\n",
      "[INFO 2024-02-14T17:56:42.165325655+00:00 decision_forest.cc:661] Model loaded with 16 root(s), 452 node(s), and 12 input feature(s).\n",
      "[INFO 2024-02-14T17:56:42.165388618+00:00 abstract_model.cc:1311] Engine \"GradientBoostedTreesGeneric\" built\n",
      "[INFO 2024-02-14T17:56:42.165420904+00:00 kernel.cc:1046] Use fast generic engine\n"
     ]
    },
    {
     "name": "stdout",
     "output_type": "stream",
     "text": [
      "Model compiled.\n",
      "i:88\n",
      "Reading training dataset...\n",
      "Training dataset read in 0:00:00.049890. Found 891 examples.\n",
      "Training model...\n",
      "Model trained in 0:01:54.517961\n",
      "Compiling model...\n"
     ]
    },
    {
     "name": "stderr",
     "output_type": "stream",
     "text": [
      "[INFO 2024-02-14T17:58:37.2951038+00:00 kernel.cc:1214] Loading model from path /tmp/tmpgnreeysa/model/ with prefix 88ec59f00d304709\n",
      "[INFO 2024-02-14T17:58:37.310564633+00:00 decision_forest.cc:661] Model loaded with 16 root(s), 452 node(s), and 12 input feature(s).\n",
      "[INFO 2024-02-14T17:58:37.310646559+00:00 abstract_model.cc:1311] Engine \"GradientBoostedTreesGeneric\" built\n",
      "[INFO 2024-02-14T17:58:37.310692442+00:00 kernel.cc:1046] Use fast generic engine\n"
     ]
    },
    {
     "name": "stdout",
     "output_type": "stream",
     "text": [
      "Model compiled.\n",
      "i:89\n",
      "Reading training dataset...\n",
      "Training dataset read in 0:00:00.053667. Found 891 examples.\n",
      "Training model...\n",
      "Model trained in 0:01:55.872211\n",
      "Compiling model...\n"
     ]
    },
    {
     "name": "stderr",
     "output_type": "stream",
     "text": [
      "[INFO 2024-02-14T18:00:33.885344832+00:00 kernel.cc:1214] Loading model from path /tmp/tmpgnreeysa/model/ with prefix 88ec59f00d304709\n",
      "[INFO 2024-02-14T18:00:33.921189799+00:00 decision_forest.cc:661] Model loaded with 16 root(s), 452 node(s), and 12 input feature(s).\n",
      "[INFO 2024-02-14T18:00:33.921264496+00:00 abstract_model.cc:1311] Engine \"GradientBoostedTreesGeneric\" built\n",
      "[INFO 2024-02-14T18:00:33.921310817+00:00 kernel.cc:1046] Use fast generic engine\n"
     ]
    },
    {
     "name": "stdout",
     "output_type": "stream",
     "text": [
      "Model compiled.\n",
      "i:90\n",
      "Reading training dataset...\n",
      "Training dataset read in 0:00:00.053964. Found 891 examples.\n",
      "Training model...\n",
      "Model trained in 0:01:55.001401\n",
      "Compiling model...\n"
     ]
    },
    {
     "name": "stderr",
     "output_type": "stream",
     "text": [
      "[INFO 2024-02-14T18:02:29.811082723+00:00 kernel.cc:1214] Loading model from path /tmp/tmpgnreeysa/model/ with prefix 88ec59f00d304709\n",
      "[INFO 2024-02-14T18:02:29.834206212+00:00 decision_forest.cc:661] Model loaded with 16 root(s), 452 node(s), and 12 input feature(s).\n",
      "[INFO 2024-02-14T18:02:29.834258627+00:00 abstract_model.cc:1311] Engine \"GradientBoostedTreesGeneric\" built\n",
      "[INFO 2024-02-14T18:02:29.834292257+00:00 kernel.cc:1046] Use fast generic engine\n"
     ]
    },
    {
     "name": "stdout",
     "output_type": "stream",
     "text": [
      "Model compiled.\n",
      "i:91\n",
      "Reading training dataset...\n",
      "Training dataset read in 0:00:00.047797. Found 891 examples.\n",
      "Training model...\n",
      "Model trained in 0:01:54.401039\n",
      "Compiling model...\n"
     ]
    },
    {
     "name": "stderr",
     "output_type": "stream",
     "text": [
      "[INFO 2024-02-14T18:04:24.893595927+00:00 kernel.cc:1214] Loading model from path /tmp/tmpgnreeysa/model/ with prefix 88ec59f00d304709\n",
      "[INFO 2024-02-14T18:04:24.913653622+00:00 decision_forest.cc:661] Model loaded with 16 root(s), 452 node(s), and 12 input feature(s).\n",
      "[INFO 2024-02-14T18:04:24.913703415+00:00 abstract_model.cc:1311] Engine \"GradientBoostedTreesGeneric\" built\n",
      "[INFO 2024-02-14T18:04:24.913735481+00:00 kernel.cc:1046] Use fast generic engine\n"
     ]
    },
    {
     "name": "stdout",
     "output_type": "stream",
     "text": [
      "Model compiled.\n",
      "i:92\n",
      "Reading training dataset...\n",
      "Training dataset read in 0:00:00.059821. Found 891 examples.\n",
      "Training model...\n",
      "Model trained in 0:01:55.650240\n",
      "Compiling model...\n"
     ]
    },
    {
     "name": "stderr",
     "output_type": "stream",
     "text": [
      "[INFO 2024-02-14T18:06:21.243229925+00:00 kernel.cc:1214] Loading model from path /tmp/tmpgnreeysa/model/ with prefix 88ec59f00d304709\n",
      "[INFO 2024-02-14T18:06:21.297603736+00:00 decision_forest.cc:661] Model loaded with 16 root(s), 452 node(s), and 12 input feature(s).\n",
      "[INFO 2024-02-14T18:06:21.297687876+00:00 abstract_model.cc:1311] Engine \"GradientBoostedTreesGeneric\" built\n",
      "[INFO 2024-02-14T18:06:21.297737265+00:00 kernel.cc:1046] Use fast generic engine\n"
     ]
    },
    {
     "name": "stdout",
     "output_type": "stream",
     "text": [
      "Model compiled.\n",
      "i:93\n",
      "Reading training dataset...\n",
      "Training dataset read in 0:00:00.061168. Found 891 examples.\n",
      "Training model...\n",
      "Model trained in 0:01:54.712372\n",
      "Compiling model...\n"
     ]
    },
    {
     "name": "stderr",
     "output_type": "stream",
     "text": [
      "[INFO 2024-02-14T18:08:16.85764595+00:00 kernel.cc:1214] Loading model from path /tmp/tmpgnreeysa/model/ with prefix 88ec59f00d304709\n",
      "[INFO 2024-02-14T18:08:16.885920767+00:00 decision_forest.cc:661] Model loaded with 16 root(s), 452 node(s), and 12 input feature(s).\n",
      "[INFO 2024-02-14T18:08:16.88598848+00:00 abstract_model.cc:1311] Engine \"GradientBoostedTreesGeneric\" built\n",
      "[INFO 2024-02-14T18:08:16.886021975+00:00 kernel.cc:1046] Use fast generic engine\n"
     ]
    },
    {
     "name": "stdout",
     "output_type": "stream",
     "text": [
      "Model compiled.\n",
      "i:94\n",
      "Reading training dataset...\n",
      "Training dataset read in 0:00:00.049627. Found 891 examples.\n",
      "Training model...\n",
      "Model trained in 0:01:54.600662\n",
      "Compiling model...\n"
     ]
    },
    {
     "name": "stderr",
     "output_type": "stream",
     "text": [
      "[INFO 2024-02-14T18:10:12.110537726+00:00 kernel.cc:1214] Loading model from path /tmp/tmpgnreeysa/model/ with prefix 88ec59f00d304709\n",
      "[INFO 2024-02-14T18:10:12.13381995+00:00 decision_forest.cc:661] Model loaded with 16 root(s), 452 node(s), and 12 input feature(s).\n",
      "[INFO 2024-02-14T18:10:12.133884342+00:00 abstract_model.cc:1311] Engine \"GradientBoostedTreesGeneric\" built\n",
      "[INFO 2024-02-14T18:10:12.133922639+00:00 kernel.cc:1046] Use fast generic engine\n"
     ]
    },
    {
     "name": "stdout",
     "output_type": "stream",
     "text": [
      "Model compiled.\n",
      "i:95\n",
      "Reading training dataset...\n",
      "Training dataset read in 0:00:00.059811. Found 891 examples.\n",
      "Training model...\n",
      "Model trained in 0:01:54.166135\n",
      "Compiling model...\n"
     ]
    },
    {
     "name": "stderr",
     "output_type": "stream",
     "text": [
      "[INFO 2024-02-14T18:12:33.845505158+00:00 kernel.cc:1214] Loading model from path /tmp/tmpgnreeysa/model/ with prefix 88ec59f00d304709\n",
      "[INFO 2024-02-14T18:12:33.867699623+00:00 decision_forest.cc:661] Model loaded with 16 root(s), 452 node(s), and 12 input feature(s).\n",
      "[INFO 2024-02-14T18:12:33.868035435+00:00 abstract_model.cc:1311] Engine \"GradientBoostedTreesGeneric\" built\n",
      "[INFO 2024-02-14T18:12:33.868269569+00:00 kernel.cc:1046] Use fast generic engine\n"
     ]
    },
    {
     "name": "stdout",
     "output_type": "stream",
     "text": [
      "Model compiled.\n",
      "i:96\n",
      "Reading training dataset...\n",
      "Training dataset read in 0:00:00.053984. Found 891 examples.\n",
      "Training model...\n",
      "Model trained in 0:01:55.232235\n",
      "Compiling model...\n"
     ]
    },
    {
     "name": "stderr",
     "output_type": "stream",
     "text": [
      "[INFO 2024-02-14T18:14:29.936214555+00:00 kernel.cc:1214] Loading model from path /tmp/tmpgnreeysa/model/ with prefix 88ec59f00d304709\n",
      "[INFO 2024-02-14T18:14:29.967143719+00:00 decision_forest.cc:661] Model loaded with 16 root(s), 452 node(s), and 12 input feature(s).\n",
      "[INFO 2024-02-14T18:14:29.967243352+00:00 abstract_model.cc:1311] Engine \"GradientBoostedTreesGeneric\" built\n",
      "[INFO 2024-02-14T18:14:29.967298811+00:00 kernel.cc:1046] Use fast generic engine\n"
     ]
    },
    {
     "name": "stdout",
     "output_type": "stream",
     "text": [
      "Model compiled.\n",
      "i:97\n",
      "Reading training dataset...\n",
      "Training dataset read in 0:00:00.048385. Found 891 examples.\n",
      "Training model...\n",
      "Model trained in 0:01:54.735432\n",
      "Compiling model...\n"
     ]
    },
    {
     "name": "stderr",
     "output_type": "stream",
     "text": [
      "[INFO 2024-02-14T18:16:51.547949616+00:00 kernel.cc:1214] Loading model from path /tmp/tmpgnreeysa/model/ with prefix 88ec59f00d304709\n",
      "[INFO 2024-02-14T18:16:51.56692204+00:00 decision_forest.cc:661] Model loaded with 16 root(s), 452 node(s), and 12 input feature(s).\n",
      "[INFO 2024-02-14T18:16:51.566974515+00:00 abstract_model.cc:1311] Engine \"GradientBoostedTreesGeneric\" built\n",
      "[INFO 2024-02-14T18:16:51.567003947+00:00 kernel.cc:1046] Use fast generic engine\n"
     ]
    },
    {
     "name": "stdout",
     "output_type": "stream",
     "text": [
      "Model compiled.\n",
      "i:98\n",
      "Reading training dataset...\n",
      "Training dataset read in 0:00:00.044291. Found 891 examples.\n",
      "Training model...\n",
      "Model trained in 0:01:55.698891\n",
      "Compiling model...\n"
     ]
    },
    {
     "name": "stderr",
     "output_type": "stream",
     "text": [
      "[INFO 2024-02-14T18:18:47.94526599+00:00 kernel.cc:1214] Loading model from path /tmp/tmpgnreeysa/model/ with prefix 88ec59f00d304709\n",
      "[INFO 2024-02-14T18:18:47.962042054+00:00 decision_forest.cc:661] Model loaded with 16 root(s), 452 node(s), and 12 input feature(s).\n",
      "[INFO 2024-02-14T18:18:47.962108648+00:00 abstract_model.cc:1311] Engine \"GradientBoostedTreesGeneric\" built\n",
      "[INFO 2024-02-14T18:18:47.962147369+00:00 kernel.cc:1046] Use fast generic engine\n"
     ]
    },
    {
     "name": "stdout",
     "output_type": "stream",
     "text": [
      "Model compiled.\n",
      "i:99\n",
      "Reading training dataset...\n",
      "Training dataset read in 0:00:00.058430. Found 891 examples.\n",
      "Training model...\n",
      "Model trained in 0:01:55.156858\n",
      "Compiling model...\n"
     ]
    },
    {
     "name": "stderr",
     "output_type": "stream",
     "text": [
      "[INFO 2024-02-14T18:20:43.728499241+00:00 kernel.cc:1214] Loading model from path /tmp/tmpgnreeysa/model/ with prefix 88ec59f00d304709\n",
      "[INFO 2024-02-14T18:20:43.77355532+00:00 decision_forest.cc:661] Model loaded with 16 root(s), 452 node(s), and 12 input feature(s).\n",
      "[INFO 2024-02-14T18:20:43.773624167+00:00 abstract_model.cc:1311] Engine \"GradientBoostedTreesGeneric\" built\n",
      "[INFO 2024-02-14T18:20:43.773660662+00:00 kernel.cc:1046] Use fast generic engine\n"
     ]
    },
    {
     "name": "stdout",
     "output_type": "stream",
     "text": [
      "Model compiled.\n",
      "Submission exported to /kaggle/working/submission.csv\n"
     ]
    }
   ],
   "source": [
    "predictions = None\n",
    "num_predictions = 0\n",
    "model = tuned_model # let's try this with the tuned model, seems odd that here it starts over without the tuned model?\n",
    "\n",
    "for i in range(100):\n",
    "    print(f\"i:{i}\")\n",
    "    # Possible models: GradientBoostedTreesModel or RandomForestModel\n",
    "    #model = tfdf.keras.GradientBoostedTreesModel(\n",
    "    #    verbose=0, # Very few logs\n",
    "    #    features=[tfdf.keras.FeatureUsage(name=n) for n in input_features],\n",
    "    #    exclude_non_specified_features=True, # Only use the features in \"features\"\n",
    "\n",
    "        #min_examples=1,\n",
    "        #categorical_algorithm=\"RANDOM\",\n",
    "        ##max_depth=4,\n",
    "        #shrinkage=0.05,\n",
    "        ##num_candidate_attributes_ratio=0.2,\n",
    "        #split_axis=\"SPARSE_OBLIQUE\",\n",
    "        #sparse_oblique_normalization=\"MIN_MAX\",\n",
    "        #sparse_oblique_num_projections_exponent=2.0,\n",
    "        #num_trees=2000,\n",
    "        ##validation_ratio=0.0,\n",
    "    #    random_seed=i,\n",
    "    #    honest=True,\n",
    "    #)\n",
    "    \n",
    "    model.fit(train_ds)\n",
    "    \n",
    "    sub_predictions = model.predict(serving_ds, verbose=0)[:,0]\n",
    "    if predictions is None:\n",
    "        predictions = sub_predictions\n",
    "    else:\n",
    "        predictions += sub_predictions\n",
    "    num_predictions += 1\n",
    "\n",
    "predictions/=num_predictions\n",
    "\n",
    "kaggle_predictions = pd.DataFrame({\n",
    "        \"PassengerId\": serving_df[\"PassengerId\"],\n",
    "        \"Survived\": (predictions >= 0.5).astype(int)\n",
    "    })\n",
    "\n",
    "make_submission(kaggle_predictions)"
   ]
  },
  {
   "cell_type": "markdown",
   "id": "eb638371",
   "metadata": {
    "papermill": {
     "duration": 0.087442,
     "end_time": "2024-02-14T18:20:44.684598",
     "exception": false,
     "start_time": "2024-02-14T18:20:44.597156",
     "status": "completed"
    },
    "tags": []
   },
   "source": []
  },
  {
   "cell_type": "markdown",
   "id": "d3d0ffc1",
   "metadata": {
    "papermill": {
     "duration": 0.08588,
     "end_time": "2024-02-14T18:20:44.858161",
     "exception": false,
     "start_time": "2024-02-14T18:20:44.772281",
     "status": "completed"
    },
    "tags": []
   },
   "source": [
    "# What is next\n",
    "\n",
    "If you want to learn more about TensorFlow Decision Forests and its advanced features, you can follow the official documentation [here](https://www.tensorflow.org/decision_forests) "
   ]
  }
 ],
 "metadata": {
  "kaggle": {
   "accelerator": "none",
   "dataSources": [
    {
     "databundleVersionId": 26502,
     "sourceId": 3136,
     "sourceType": "competition"
    }
   ],
   "dockerImageVersionId": 30458,
   "isGpuEnabled": false,
   "isInternetEnabled": true,
   "language": "python",
   "sourceType": "notebook"
  },
  "kernelspec": {
   "display_name": "Python 3",
   "language": "python",
   "name": "python3"
  },
  "language_info": {
   "codemirror_mode": {
    "name": "ipython",
    "version": 3
   },
   "file_extension": ".py",
   "mimetype": "text/x-python",
   "name": "python",
   "nbconvert_exporter": "python",
   "pygments_lexer": "ipython3",
   "version": "3.7.12"
  },
  "papermill": {
   "default_parameters": {},
   "duration": 12383.845433,
   "end_time": "2024-02-14T18:20:47.856452",
   "environment_variables": {},
   "exception": null,
   "input_path": "__notebook__.ipynb",
   "output_path": "__notebook__.ipynb",
   "parameters": {},
   "start_time": "2024-02-14T14:54:24.011019",
   "version": "2.4.0"
  }
 },
 "nbformat": 4,
 "nbformat_minor": 5
}
